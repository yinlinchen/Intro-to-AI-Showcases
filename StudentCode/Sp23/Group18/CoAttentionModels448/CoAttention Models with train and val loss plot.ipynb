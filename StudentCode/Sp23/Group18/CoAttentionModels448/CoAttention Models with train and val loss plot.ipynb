{
 "cells": [
  {
   "cell_type": "code",
   "execution_count": 1,
   "metadata": {},
   "outputs": [
    {
     "name": "stdout",
     "output_type": "stream",
     "text": [
      "Populating the interactive namespace from numpy and matplotlib\n"
     ]
    },
    {
     "name": "stderr",
     "output_type": "stream",
     "text": [
      "C:\\Users\\dhirajsrivastava\\Anaconda3\\lib\\site-packages\\IPython\\core\\magics\\pylab.py:159: UserWarning: pylab import has clobbered these variables: ['shuffle']\n",
      "`%matplotlib` prevents importing * from pylab and numpy\n",
      "  warn(\"pylab import has clobbered these variables: %s\"  % clobbered +\n"
     ]
    }
   ],
   "source": [
    "import pandas as pd\n",
    "import numpy as np\n",
    "import json\n",
    "import seaborn as sns\n",
    "import pickle\n",
    "import os\n",
    "import pandas as pd\n",
    "import numpy as np\n",
    "import tensorflow as tf\n",
    "import gc\n",
    "import time\n",
    "from sklearn.preprocessing import LabelBinarizer\n",
    "from tensorflow.keras.regularizers import l1,l2\n",
    "from tqdm import tqdm\n",
    "import heapq\n",
    "from sklearn.utils import shuffle\n",
    "%pylab inline\n",
    "import matplotlib.pyplot as plt\n",
    "import matplotlib.image as mpimg\n",
    "import math\n",
    "\n",
    "from sklearn.model_selection import train_test_split\n",
    "from tensorflow.keras.optimizers import Adam, RMSprop\n",
    "import bert\n"
   ]
  },
  {
   "cell_type": "code",
   "execution_count": 2,
   "metadata": {},
   "outputs": [],
   "source": [
    "train_images = 'train2014/train2014'\n",
    "val_images = 'val2014/val2014'"
   ]
  },
  {
   "cell_type": "code",
   "execution_count": 3,
   "metadata": {},
   "outputs": [],
   "source": [
    "data = pd.read_csv('train_data.csv')\n",
    "val_data = pd.read_csv('val_data.csv')"
   ]
  },
  {
   "cell_type": "code",
   "execution_count": 4,
   "metadata": {},
   "outputs": [],
   "source": [
    "data.dropna(inplace = True)\n",
    "val_data.dropna(inplace = True)"
   ]
  },
  {
   "cell_type": "code",
   "execution_count": 5,
   "metadata": {},
   "outputs": [],
   "source": [
    "contractions = { \n",
    "\"ain't\": \"am not\",\"aren't\": \"are not\",\"can't\": \"cannot\",\"can't've\": \"cannot have\",\"'cause\": \"because\",\"could've\": \"could have\",\"couldn't\": \"could not\",\n",
    "\"couldn't've\": \"could not have\",\"didn't\": \"did not\",\"doesn't\": \"does not\",\"don't\": \"do not\",\"hadn't\": \"had not\",\"hadn't've\": \"had not have\",\n",
    "\"hasn't\": \"has not\",\"haven't\": \"have not\",\"he'd\": \"he would\",\"he'd've\": \"he would have\",\"he'll\": \"he will\",\"he's\": \"he is\",\"how'd\": \"how did\",\n",
    "\"how'll\": \"how will\",\"how's\": \"how is\",\"i'd\": \"i would\",\"i'll\": \"i will\",\"i'm\": \"i am\",\"i've\": \"i have\",\"isn't\": \"is not\",\"it'd\": \"it would\",\n",
    "\"it'll\": \"it will\",\"it's\": \"it is\",\"let's\": \"let us\",\"ma'am\": \"madam\",\"mayn't\": \"may not\",\"might've\": \"might have\",\"mightn't\": \"might not\",\n",
    "\"must've\": \"must have\",\"mustn't\": \"must not\",\"needn't\": \"need not\",\"oughtn't\": \"ought not\",\"shan't\": \"shall not\",\"sha'n't\": \"shall not\",\"she'd\": \"she would\",\n",
    "\"she'll\": \"she will\",\"she's\": \"she is\",\"should've\": \"should have\",\"shouldn't\": \"should not\",\"that'd\": \"that would\",\"that's\": \"that is\",\"there'd\": \"there had\",\n",
    "\"there's\": \"there is\",\"they'd\": \"they would\",\"they'll\": \"they will\",\"they're\": \"they are\",\"they've\": \"they have\",\"wasn't\": \"was not\",\"we'd\": \"we would\",\n",
    "\"we'll\": \"we will\",\"we're\": \"we are\",\"we've\": \"we have\",\"weren't\": \"were not\",\"what'll\": \"what will\",\"what're\": \"what are\",\"what's\": \"what is\",\n",
    "\"what've\": \"what have\",\"where'd\": \"where did\",\"where's\": \"where is\",\"who'll\": \"who will\",\"who's\": \"who is\",\"won't\": \"will not\",\"wouldn't\": \"would not\",\n",
    "\"you'd\": \"you would\",\"you'll\": \"you will\",\"you're\": \"you are\"\n",
    "}\n",
    "\n",
    "def preprocess_text(text):\n",
    "    '''Given a text this function removes the punctuations and returns the remaining text string'''\n",
    "    new_text = \"\"\n",
    "    text = text.lower()\n",
    "    i = 0\n",
    "    for word in text.split():\n",
    "        if i==0:\n",
    "            new_text = contractions.get(word,word)\n",
    "        else:\n",
    "            new_text = new_text + \" \" + contractions.get(word,word)\n",
    "        i += 1\n",
    "    return new_text.replace(\"'s\", '')"
   ]
  },
  {
   "cell_type": "code",
   "execution_count": 6,
   "metadata": {},
   "outputs": [],
   "source": [
    "data['multiple_choice_answer'] = data['multiple_choice_answer'].apply(lambda x: preprocess_text(x))\n",
    "val_data['multiple_choice_answer'] = val_data['multiple_choice_answer'].apply(lambda x: preprocess_text(x))"
   ]
  },
  {
   "cell_type": "code",
   "execution_count": 7,
   "metadata": {},
   "outputs": [
    {
     "data": {
      "text/plain": [
       "(443749, 214349)"
      ]
     },
     "execution_count": 7,
     "metadata": {},
     "output_type": "execute_result"
    }
   ],
   "source": [
    "# X_train, X_val = train_test_split(data, test_size=0.2, random_state=42)\n",
    "X_train = data\n",
    "X_val = val_data\n",
    "len(X_train), len(X_val)"
   ]
  },
  {
   "cell_type": "code",
   "execution_count": 8,
   "metadata": {},
   "outputs": [],
   "source": [
    "img_width = 448\n",
    "img_height = 448\n",
    "\n",
    "BATCH_SIZE = 64\n",
    "BUFFER_SIZE = 300"
   ]
  },
  {
   "cell_type": "code",
   "execution_count": 9,
   "metadata": {},
   "outputs": [],
   "source": [
    "with open('train_image_dict.pickle', 'rb') as handle:\n",
    "    all_image_dict = pickle.load(handle)"
   ]
  },
  {
   "cell_type": "code",
   "execution_count": 10,
   "metadata": {},
   "outputs": [],
   "source": [
    "with open('val_image_dict.pickle', 'rb') as handle:\n",
    "    val_image_dict = pickle.load(handle)"
   ]
  },
  {
   "cell_type": "code",
   "execution_count": 11,
   "metadata": {},
   "outputs": [],
   "source": [
    "# Get keys\n",
    "oldkeys = list(all_image_dict.keys())\n",
    "# Change \"item\" to \"object\"\n",
    "newkeys = [s.replace('Train', 'train2014/train2014') for s in oldkeys]\n",
    "# Get values\n",
    "vals = list(all_image_dict.values())\n",
    "# Create new dictionary by iterating over both newkeys and vals\n",
    "all_image_dict = {k: v for k, v in zip(newkeys, vals)}"
   ]
  },
  {
   "cell_type": "code",
   "execution_count": 12,
   "metadata": {},
   "outputs": [],
   "source": [
    "# Get keys\n",
    "oldkeys = list(val_image_dict.keys())\n",
    "# Change \"item\" to \"object\"\n",
    "newkeys = [s.replace('Val', 'val2014/val2014') for s in oldkeys]\n",
    "# Get values\n",
    "vals = list(val_image_dict.values())\n",
    "# Create new dictionary by iterating over both newkeys and vals\n",
    "val_image_dict = {k: v for k, v in zip(newkeys, vals)}"
   ]
  },
  {
   "cell_type": "code",
   "execution_count": 13,
   "metadata": {},
   "outputs": [],
   "source": [
    "all_image_dict.update(val_image_dict)"
   ]
  },
  {
   "cell_type": "code",
   "execution_count": 14,
   "metadata": {},
   "outputs": [],
   "source": [
    "train_images = 'train2014/train2014'\n",
    "val_images = 'val2014/val2014'"
   ]
  },
  {
   "cell_type": "code",
   "execution_count": 15,
   "metadata": {},
   "outputs": [
    {
     "data": {
      "text/plain": [
       "(443749, 214349)"
      ]
     },
     "execution_count": 15,
     "metadata": {},
     "output_type": "execute_result"
    }
   ],
   "source": [
    "len(X_train), len(X_val)"
   ]
  },
  {
   "cell_type": "code",
   "execution_count": 16,
   "metadata": {},
   "outputs": [],
   "source": [
    "all_classes = X_train['multiple_choice_answer'].values\n",
    "class_frequency = {}\n",
    "\n",
    "for _cls in all_classes:\n",
    "    if(class_frequency.get(_cls,-1)>0):\n",
    "        class_frequency[_cls] += 1\n",
    "    else:\n",
    "        class_frequency[_cls] = 1"
   ]
  },
  {
   "cell_type": "code",
   "execution_count": 17,
   "metadata": {},
   "outputs": [
    {
     "data": {
      "image/png": "[encoded data removed]",
      "text/plain": [
       "<Figure size 432x288 with 1 Axes>"
      ]
     },
     "metadata": {
      "needs_background": "light"
     },
     "output_type": "display_data"
    }
   ],
   "source": [
    "sort_class_frequency = sorted(list(class_frequency.items()), key = lambda x: x[1],reverse=True)   \n",
    "\n",
    "plt.plot([x[1] for x in sort_class_frequency[:30]])\n",
    "i=np.arange(30)\n",
    "plt.title(\"Frequency of top 30 Classes\")\n",
    "plt.xlabel(\"Tags\")\n",
    "plt.ylabel(\"Counts\")\n",
    "plt.xticks(i,[x[0] for x in sort_class_frequency[:30]])\n",
    "plt.xticks(rotation=90)\n",
    "plt.show()"
   ]
  },
  {
   "cell_type": "code",
   "execution_count": 18,
   "metadata": {},
   "outputs": [],
   "source": [
    "common_tags = heapq.nlargest(1000, class_frequency, key = class_frequency.get)"
   ]
  },
  {
   "cell_type": "code",
   "execution_count": 19,
   "metadata": {},
   "outputs": [],
   "source": [
    "# take the top 1000 classes\n",
    "X_train['multiple_choice_answer'] =  X_train['multiple_choice_answer'].apply(lambda x: x if x in common_tags else '')\n",
    "\n",
    "# removing question which has empty tags\n",
    "X_train = X_train[X_train['multiple_choice_answer'].apply(lambda x: len(x)>0)]"
   ]
  },
  {
   "cell_type": "code",
   "execution_count": 20,
   "metadata": {},
   "outputs": [
    {
     "name": "stdout",
     "output_type": "stream",
     "text": [
      "Number of clasess:  1000\n",
      "Shape of Answer Vectors in Train Data:  (388247, 1000)\n",
      "Shape of Answer Vectors in Validation Data:  (214349, 1000)\n"
     ]
    }
   ],
   "source": [
    "label_encoder = LabelBinarizer()\n",
    "answer_vector_train = label_encoder.fit_transform(X_train['multiple_choice_answer'].apply(lambda x: x).values)\n",
    "answer_vector_val = label_encoder.transform(X_val['multiple_choice_answer'].apply(lambda x: x).values)\n",
    "\n",
    "ans_vocab = {l: i for i, l in enumerate(label_encoder.classes_)}\n",
    "\n",
    "print(\"Number of clasess: \", len(ans_vocab))\n",
    "print(\"Shape of Answer Vectors in Train Data: \", answer_vector_train.shape)\n",
    "print(\"Shape of Answer Vectors in Validation Data: \", answer_vector_val.shape)"
   ]
  },
  {
   "cell_type": "code",
   "execution_count": 21,
   "metadata": {},
   "outputs": [],
   "source": [
    "def preprocess_question(text):\n",
    "    '''Given a text this function removes the punctuations and returns the remaining text string'''\n",
    "    new_text = \"<start>\"\n",
    "    text = text.lower()\n",
    "    for word in text.split():\n",
    "        new_text = new_text + \" \" + contractions.get(word, word)\n",
    "    new_text = new_text + \" <end>\"\n",
    "    return new_text.replace(\"'s\", '')"
   ]
  },
  {
   "cell_type": "code",
   "execution_count": 22,
   "metadata": {},
   "outputs": [
    {
     "name": "stderr",
     "output_type": "stream",
     "text": [
      "<ipython-input-22-c9f73ee18296>:1: SettingWithCopyWarning: \n",
      "A value is trying to be set on a copy of a slice from a DataFrame.\n",
      "Try using .loc[row_indexer,col_indexer] = value instead\n",
      "\n",
      "See the caveats in the documentation: https://pandas.pydata.org/pandas-docs/stable/user_guide/indexing.html#returning-a-view-versus-a-copy\n",
      "  X_train['question'] = X_train['question'].apply(lambda x: preprocess_question(x))\n"
     ]
    }
   ],
   "source": [
    "X_train['question'] = X_train['question'].apply(lambda x: preprocess_question(x))\n",
    "X_val['question'] = X_val['question'].apply(lambda x: preprocess_question(x))"
   ]
  },
  {
   "cell_type": "code",
   "execution_count": 23,
   "metadata": {},
   "outputs": [
    {
     "name": "stdout",
     "output_type": "stream",
     "text": [
      "Number of words in tokenizer: 12449\n",
      "Shape of Question Vectors in Train Data:  (388247, 24)\n",
      "Shape of Question Vectors in Validation Data:  (214349, 24)\n"
     ]
    }
   ],
   "source": [
    "#tokenization\n",
    "tokenizer = tf.keras.preprocessing.text.Tokenizer(oov_token = \"<unk>\", filters = '!\"#$%&()*+.,-/:;=?@[\\]^_`{|}~ ')\n",
    "tokenizer.fit_on_texts(X_train['question'].values)\n",
    "train_question_seqs = tokenizer.texts_to_sequences(X_train['question'].values)\n",
    "val_question_seqs = tokenizer.texts_to_sequences(X_val['question'].values)\n",
    "\n",
    "print(\"Number of words in tokenizer:\", len(tokenizer.word_index))\n",
    "ques_vocab = tokenizer.word_index\n",
    "\n",
    "#Padding\n",
    "#tokenizer.word_index['<pad>'] = 0\n",
    "#tokenizer.index_word[0] = '<pad>'\n",
    "question_vector_train = tf.keras.preprocessing.sequence.pad_sequences(train_question_seqs, padding='post')\n",
    "question_vector_val = tf.keras.preprocessing.sequence.pad_sequences(val_question_seqs,padding='post',maxlen=question_vector_train.shape[1])\n",
    "\n",
    "print(\"Shape of Question Vectors in Train Data: \", question_vector_train.shape)\n",
    "print(\"Shape of Question Vectors in Validation Data: \", question_vector_val.shape)"
   ]
  },
  {
   "cell_type": "code",
   "execution_count": 24,
   "metadata": {},
   "outputs": [],
   "source": [
    "image_paths_train = X_train['image_id'].apply(lambda x:  train_images + '/COCO_train2014_' + '%012d.jpg' % (x)).values\n",
    "image_paths_val = X_val['image_id'].apply(lambda x:  val_images + '/COCO_val2014_' + '%012d.jpg' % (x)).values\n"
   ]
  },
  {
   "cell_type": "code",
   "execution_count": 25,
   "metadata": {},
   "outputs": [],
   "source": [
    "def get_imageTensor(img, ques):\n",
    "    #path = img.decode('utf-8').replace(imageDirectory,imageNumpyDirectory).replace('.jpg',\"\") +'.npy'\n",
    "    #img_tensor = np.load(path)\n",
    "    img_tensor = all_image_dict[img.decode('utf-8')]\n",
    "    img_tensor = tf.squeeze(img_tensor)\n",
    "#     print('img : ' + str(img_tensor.shape))\n",
    "    return img_tensor, ques\n",
    "\n",
    "def createDataset(image_paths, question_vector, answer_vector):\n",
    "    dataset_input = tf.data.Dataset.from_tensor_slices((image_paths, question_vector.astype(np.float32)))\n",
    "    dataset_output = tf.data.Dataset.from_tensor_slices((answer_vector.astype(np.float32)))\n",
    "    \n",
    "    # using map to load the numpy files in parallel\n",
    "    dataset_input = dataset_input.map(lambda img, ques : tf.numpy_function(get_imageTensor, [img, ques], [tf.float32, tf.float32]),\n",
    "                                      num_parallel_calls=tf.data.experimental.AUTOTUNE)\n",
    "\n",
    "    # shuffling and batching\n",
    "    #dataset_input = dataset_input.shuffle(BUFFER_SIZE).batch(BATCH_SIZE)\n",
    "    dataset_input = dataset_input.batch(BATCH_SIZE)\n",
    "    dataset_output = dataset_output.batch(BATCH_SIZE)#.repeat()\n",
    "    \n",
    "    dataset = tf.data.Dataset.zip((dataset_input, dataset_output))\n",
    "    dataset = dataset.prefetch(buffer_size = tf.data.experimental.AUTOTUNE)\n",
    "\n",
    "    return dataset"
   ]
  },
  {
   "cell_type": "code",
   "execution_count": 26,
   "metadata": {},
   "outputs": [
    {
     "data": {
      "text/plain": [
       "((388247, 24), (388247,), (388247, 1000))"
      ]
     },
     "execution_count": 26,
     "metadata": {},
     "output_type": "execute_result"
    }
   ],
   "source": [
    "question_vector_train.shape, image_paths_train.shape, answer_vector_train.shape"
   ]
  },
  {
   "cell_type": "code",
   "execution_count": 27,
   "metadata": {},
   "outputs": [
    {
     "data": {
      "text/plain": [
       "((214349, 24), (214349,), (214349, 1000))"
      ]
     },
     "execution_count": 27,
     "metadata": {},
     "output_type": "execute_result"
    }
   ],
   "source": [
    "question_vector_val.shape, image_paths_val.shape, answer_vector_val.shape"
   ]
  },
  {
   "cell_type": "code",
   "execution_count": 28,
   "metadata": {},
   "outputs": [],
   "source": [
    "dataset_train = createDataset(image_paths_train, question_vector_train, answer_vector_train)\n",
    "dataset_val = createDataset(image_paths_val, question_vector_val, answer_vector_val)"
   ]
  },
  {
   "cell_type": "code",
   "execution_count": 29,
   "metadata": {},
   "outputs": [
    {
     "data": {
      "text/plain": [
       "<PrefetchDataset shapes: ((<unknown>, <unknown>), (None, 1000)), types: ((tf.float32, tf.float32), tf.float32)>"
      ]
     },
     "execution_count": 29,
     "metadata": {},
     "output_type": "execute_result"
    }
   ],
   "source": [
    "dataset_train"
   ]
  },
  {
   "cell_type": "code",
   "execution_count": 30,
   "metadata": {},
   "outputs": [
    {
     "data": {
      "text/plain": [
       "(1, 7, 7, 512)"
      ]
     },
     "execution_count": 30,
     "metadata": {},
     "output_type": "execute_result"
    }
   ],
   "source": [
    "list(all_image_dict.values())[0].shape"
   ]
  },
  {
   "cell_type": "code",
   "execution_count": 31,
   "metadata": {},
   "outputs": [],
   "source": [
    "class CoattentionModel(tf.keras.layers.Layer):\n",
    "    def __init__(self):#, num_embeddings, num_classes, embed_dim=512, k=30\n",
    "        super().__init__()\n",
    "        self.num_classes = len(ans_vocab)\n",
    "        self.hidden_size = 512\n",
    "        self.dropout = 0.3\n",
    "        self.num_embeddings = len(ques_vocab)+1\n",
    "\n",
    "        self.image_dense = tf.keras.layers.Dense(self.hidden_size, kernel_initializer = tf.keras.initializers.glorot_normal(seed=15)) \n",
    "        self.image_corr = tf.keras.layers.Dense(self.hidden_size, kernel_initializer = tf.keras.initializers.glorot_normal(seed=29))\n",
    "\n",
    "        self.image_atten_dense = tf.keras.layers.Dense(self.hidden_size, kernel_initializer = tf.keras.initializers.glorot_uniform(seed=17)) \n",
    "        self.question_atten_dens = tf.keras.layers.Dense(self.hidden_size, kernel_initializer = tf.keras.initializers.glorot_uniform(seed=28))\n",
    "        self.question_atten_dropout = tf.keras.layers.Dropout(self.dropout)\n",
    "        self.image_atten_dropout = tf.keras.layers.Dropout(self.dropout)\n",
    "\n",
    "        self.ques_atten = tf.keras.layers.Dense(1, kernel_initializer = tf.keras.initializers.glorot_uniform(seed=21))\n",
    "\n",
    "        self.img_atten = tf.keras.layers.Dense(1, kernel_initializer = tf.keras.initializers.glorot_uniform(seed=33))\n",
    "\n",
    "        self.embed = tf.keras.layers.Embedding(self.num_embeddings, self.hidden_size,\n",
    "                                               embeddings_initializer = tf.keras.initializers.RandomNormal(mean=0, stddev=1, seed=23))\n",
    "        \n",
    "        self.unigram_conv = tf.keras.layers.Conv1D(filters = self.hidden_size, kernel_size = 1, strides = 1, padding = 'same', kernel_initializer = tf.keras.initializers.glorot_normal(seed=41))\n",
    "        self.bigram_conv  = tf.keras.layers.Conv1D(filters = self.hidden_size, kernel_size = 2, strides = 1, padding = 'same', kernel_initializer = tf.keras.initializers.glorot_normal(seed=58), dilation_rate = 2)\n",
    "        self.trigram_conv = tf.keras.layers.Conv1D(filters = self.hidden_size, kernel_size = 3, strides = 1, padding = 'same', kernel_initializer = tf.keras.initializers.glorot_normal(seed=89), dilation_rate = 2)\n",
    "        self.max_pool = tf.keras.layers.MaxPool2D((3,1))\n",
    "        self.phrase_dropout = tf.keras.layers.Dropout(self.dropout)\n",
    "        \n",
    "        self.lstm = tf.keras.layers.LSTM(units = 512 , return_sequences=True, dropout = self.dropout,\n",
    "                                         kernel_initializer = tf.keras.initializers.glorot_uniform(seed=26),\n",
    "                                         recurrent_initializer = tf.keras.initializers.orthogonal(seed=54))\n",
    "        \n",
    "        self.tanh = tf.keras.layers.Activation('tanh')\n",
    "        self.softmax = tf.keras.layers.Activation('softmax')\n",
    "        \n",
    "        self.W_w_dropout = tf.keras.layers.Dropout(self.dropout)\n",
    "        self.W_p_dropout = tf.keras.layers.Dropout(self.dropout)\n",
    "        self.W_s_dropout = tf.keras.layers.Dropout(self.dropout)\n",
    "\n",
    "        self.W_w = tf.keras.layers.Dense(units = self.hidden_size, kernel_initializer = tf.keras.initializers.glorot_uniform(seed=32), input_shape = (self.hidden_size,))\n",
    "        self.W_p = tf.keras.layers.Dense(units = self.hidden_size, kernel_initializer = tf.keras.initializers.glorot_uniform(seed=49), input_shape = (2 * self.hidden_size, ))\n",
    "        self.W_s = tf.keras.layers.Dense(units = self.hidden_size, kernel_initializer = tf.keras.initializers.glorot_uniform(seed=31), input_shape = (2 * self.hidden_size, ))\n",
    "        \n",
    "        self.fc1_Dense = tf.keras.layers.Dense(units = 2 * self.hidden_size, activation='relu',\n",
    "                                               kernel_initializer = tf.keras.initializers.he_normal(seed=84))\n",
    "        self.fc1_dropout = tf.keras.layers.Dropout(self.dropout)\n",
    "\n",
    "        self.fc = tf.keras.layers.Dense(units = self.num_classes, activation='softmax',kernel_initializer = tf.keras.initializers.glorot_uniform(seed=91), input_shape = (self.hidden_size,))\n",
    "        \n",
    "        return\n",
    "\n",
    "    def call(self, image, question):#Image: B x 196 x 512\n",
    "        \n",
    "        image = self.image_dense(image)\n",
    "        image = self.tanh(image)\n",
    "\n",
    "        words = self.embed(question)    # Words: B x L x 51\n",
    "\n",
    "        unigrams =  tf.expand_dims(self.tanh(self.unigram_conv(words)), 1) # B x L x 512\n",
    "        bigrams  =  tf.expand_dims(self.tanh(self.bigram_conv(words)), 1)  # B x L x 512\n",
    "        trigrams =  tf.expand_dims(self.tanh(self.trigram_conv(words)), 1) # B x L x 512\n",
    "\n",
    "        phrase = tf.squeeze(self.max_pool(tf.concat((unigrams, bigrams, trigrams), 1)), axis=1)  # B x L x 512\n",
    "        phrase = self.tanh(phrase)\n",
    "        phrase = self.phrase_dropout(phrase)\n",
    "  \n",
    "        hidden = None\n",
    "        sentence = self.lstm(phrase)        # B x L x 512   \n",
    "\n",
    "        print(words.shape, phrase.shape, sentence.shape)\n",
    "        v_word, q_word = self.co_attention(image, words)\n",
    "        v_phrase, q_phrase = self.co_attention(image, phrase)\n",
    "        v_sent, q_sent = self.co_attention(image, sentence)\n",
    "\n",
    "        h_w = self.tanh(self.W_w(self.W_w_dropout(q_word + v_word)))\n",
    "        h_p = self.tanh(self.W_p(self.W_p_dropout(tf.concat(((q_phrase + v_phrase), h_w), axis=1))))\n",
    "        h_s = self.tanh(self.W_s(self.W_s_dropout(tf.concat(((q_sent + v_sent), h_p), axis=1))))\n",
    "\n",
    "        fc1 = self.fc1_Dense(self.fc1_dropout(h_s))\n",
    "        logits = self.fc(fc1)\n",
    "\n",
    "        return logits\n",
    "\n",
    "    def co_attention(self, img_feat, ques_feat):  # V : B x 512 x 196, Q : B x L x 512\n",
    "        img_corr = self.image_corr(img_feat)\n",
    "\n",
    "        weight_matrix = tf.keras.backend.batch_dot(ques_feat, img_corr, axes = (2, 2))\n",
    "        weight_matrix = self.tanh(weight_matrix)\n",
    "\n",
    "        ques_embed = self.image_atten_dense(ques_feat)\n",
    "        img_embed = self.question_atten_dens(img_feat)\n",
    "\n",
    "        transform_img = tf.keras.backend.batch_dot(weight_matrix, img_embed)\n",
    "\n",
    "        ques_atten_sum = self.tanh(transform_img + ques_embed)\n",
    "        ques_atten_sum = self.question_atten_dropout(ques_atten_sum)\n",
    "        ques_atten = self.ques_atten(ques_atten_sum)\n",
    "        ques_atten =  tf.keras.layers.Reshape((ques_atten.shape[1],))(ques_atten)\n",
    "        ques_atten =  self.softmax(ques_atten)\n",
    "\n",
    "        transform_ques = tf.keras.backend.batch_dot(weight_matrix, ques_embed, axes = (1, 1))\n",
    "        img_atten_sum = self.tanh(transform_ques+img_embed)\n",
    "        img_atten_sum = self.image_atten_dropout(img_atten_sum)\n",
    "        img_atten = self.img_atten(img_atten_sum)\n",
    "        img_atten = tf.keras.layers.Reshape((img_atten.shape[1],))(img_atten)\n",
    "        img_atten = self.softmax(img_atten)\n",
    "\n",
    "        ques_atten = tf.keras.layers.Reshape(( 1, ques_atten.shape[1]))(ques_atten)\n",
    "        img_atten = tf.keras.layers.Reshape(( 1, img_atten.shape[1]))(img_atten)\n",
    "\n",
    "        ques_atten_feat = tf.keras.backend.batch_dot(ques_atten,ques_feat)\n",
    "        print(ques_atten_feat)\n",
    "        ques_atten_feat = tf.keras.layers.Reshape(( ques_atten_feat.shape[-1],))(ques_atten_feat)\n",
    "\n",
    "        img_atten_feat =  tf.keras.backend.batch_dot(img_atten, img_feat)\n",
    "        print(img_atten_feat)\n",
    "        img_atten_feat = tf.keras.layers.Reshape((img_atten_feat.shape[-1],))(img_atten_feat)\n",
    "\n",
    "        return img_atten_feat, ques_atten_feat"
   ]
  },
  {
   "cell_type": "code",
   "execution_count": 32,
   "metadata": {},
   "outputs": [],
   "source": [
    "def scheduler(epoch):\n",
    "    if epoch < 10:\n",
    "        return 0.0001\n",
    "    else:\n",
    "        return 0.0001 * tf.math.exp(0.1 * (10 - epoch))"
   ]
  },
  {
   "cell_type": "code",
   "execution_count": 33,
   "metadata": {},
   "outputs": [],
   "source": [
    "def callBacksList():\n",
    "    \"\"\"\n",
    "    returns list of callback's\n",
    "    \"\"\"\n",
    "    filepath = \"Models\" + ModelName + \"/optimum.hdf5\"\n",
    "    checkpoint = tf.keras.callbacks.ModelCheckpoint(filepath = filepath, monitor = 'val_accuracy', verbose = 1, save_best_only = True, mode = 'auto')\n",
    "    reduce_lr = tf.keras.callbacks.ReduceLROnPlateau(monitor = 'val_accuracy', patience = 2)\n",
    "    early_stop = tf.keras.callbacks.EarlyStopping(monitor = 'val_accuracy', patience = 4, verbose = 1)\n",
    "    scheduler_lr = tf.keras.callbacks.LearningRateScheduler(scheduler, verbose=0 )\n",
    "\n",
    "    #directory for tensorboard to save evnts\n",
    "    log_dir= \"Models\" + \"logs/fit/\" + ModelName + \"/\" + datetime.datetime.now().strftime(\"%Y%m%d-%H%M%S\")\n",
    "    os.makedirs(log_dir)\n",
    "\n",
    "    #print(\"TensorBoard Folder for this Execution\",log_dir)#creating TensorBoard call back,this will write all events to given folder\n",
    "    tensorboard_callback = tf.keras.callbacks.TensorBoard(log_dir = log_dir, histogram_freq = 0)\n",
    "\n",
    "    history = tf.keras.callbacks.History()\n",
    "    callbacks_list = [scheduler_lr, early_stop, history, tensorboard_callback, checkpoint]\n",
    "    return callbacks_list"
   ]
  },
  {
   "cell_type": "code",
   "execution_count": 34,
   "metadata": {},
   "outputs": [],
   "source": [
    "def Build_CoattentionModel():\n",
    "    image_input1 = tf.keras.layers.Input(shape = (14,14, 512))\n",
    "    image_input = tf.keras.layers.Reshape((-1, 512))(image_input1)\n",
    "\n",
    "    question_input = tf.keras.layers.Input(shape=(question_vector_train.shape[1],))\n",
    "\n",
    "    output = CoattentionModel()(image_input, question_input)#num_embeddings = len(ques_vocab), num_classes = len(ans_vocab), embed_dim = 512\n",
    "\n",
    "    model = tf.keras.models.Model(inputs = [image_input1, question_input], outputs = output)\n",
    "\n",
    "    model.compile(optimizer = tf.keras.optimizers.Adam(learning_rate=0.001), loss = 'categorical_crossentropy', metrics = ['accuracy'])\n",
    "    return model"
   ]
  },
  {
   "cell_type": "code",
   "execution_count": 36,
   "metadata": {},
   "outputs": [
    {
     "name": "stdout",
     "output_type": "stream",
     "text": [
      "(None, 24, 512) (None, 24, 512) (None, 24, 512)\n",
      "Tensor(\"coattention_model_1/MatMul_3:0\", shape=(None, 1, 512), dtype=float32)\n",
      "Tensor(\"coattention_model_1/MatMul_4:0\", shape=(None, 1, 512), dtype=float32)\n",
      "Tensor(\"coattention_model_1/MatMul_8:0\", shape=(None, 1, 512), dtype=float32)\n",
      "Tensor(\"coattention_model_1/MatMul_9:0\", shape=(None, 1, 512), dtype=float32)\n",
      "Tensor(\"coattention_model_1/MatMul_13:0\", shape=(None, 1, 512), dtype=float32)\n",
      "Tensor(\"coattention_model_1/MatMul_14:0\", shape=(None, 1, 512), dtype=float32)\n",
      "Epoch 1/20\n",
      "(None, 24, 512) (None, 24, 512) (None, 24, 512)\n",
      "Tensor(\"model_1/coattention_model_1/MatMul_3:0\", shape=(None, 1, 512), dtype=float32)\n",
      "Tensor(\"model_1/coattention_model_1/MatMul_4:0\", shape=(None, 1, 512), dtype=float32)\n",
      "Tensor(\"model_1/coattention_model_1/MatMul_8:0\", shape=(None, 1, 512), dtype=float32)\n",
      "Tensor(\"model_1/coattention_model_1/MatMul_9:0\", shape=(None, 1, 512), dtype=float32)\n",
      "Tensor(\"model_1/coattention_model_1/MatMul_13:0\", shape=(None, 1, 512), dtype=float32)\n",
      "Tensor(\"model_1/coattention_model_1/MatMul_14:0\", shape=(None, 1, 512), dtype=float32)\n",
      "(None, 24, 512) (None, 24, 512) (None, 24, 512)\n",
      "Tensor(\"model_1/coattention_model_1/MatMul_3:0\", shape=(None, 1, 512), dtype=float32)\n",
      "Tensor(\"model_1/coattention_model_1/MatMul_4:0\", shape=(None, 1, 512), dtype=float32)\n",
      "Tensor(\"model_1/coattention_model_1/MatMul_8:0\", shape=(None, 1, 512), dtype=float32)\n",
      "Tensor(\"model_1/coattention_model_1/MatMul_9:0\", shape=(None, 1, 512), dtype=float32)\n",
      "Tensor(\"model_1/coattention_model_1/MatMul_13:0\", shape=(None, 1, 512), dtype=float32)\n",
      "Tensor(\"model_1/coattention_model_1/MatMul_14:0\", shape=(None, 1, 512), dtype=float32)\n",
      "100/100 [==============================] - ETA: 0s - loss: 4.3726 - accuracy: 0.2075(None, 24, 512) (None, 24, 512) (None, 24, 512)\n",
      "Tensor(\"model_1/coattention_model_1/MatMul_3:0\", shape=(None, 1, 512), dtype=float32)\n",
      "Tensor(\"model_1/coattention_model_1/MatMul_4:0\", shape=(None, 1, 512), dtype=float32)\n",
      "Tensor(\"model_1/coattention_model_1/MatMul_8:0\", shape=(None, 1, 512), dtype=float32)\n",
      "Tensor(\"model_1/coattention_model_1/MatMul_9:0\", shape=(None, 1, 512), dtype=float32)\n",
      "Tensor(\"model_1/coattention_model_1/MatMul_13:0\", shape=(None, 1, 512), dtype=float32)\n",
      "Tensor(\"model_1/coattention_model_1/MatMul_14:0\", shape=(None, 1, 512), dtype=float32)\n",
      "100/100 [==============================] - 73s 689ms/step - loss: 4.3726 - accuracy: 0.2075 - val_loss: 3.1869 - val_accuracy: 0.2348\n",
      "Epoch 2/20\n",
      "100/100 [==============================] - 72s 720ms/step - loss: 3.4872 - accuracy: 0.2583 - val_loss: 2.7858 - val_accuracy: 0.2280\n",
      "Epoch 3/20\n",
      "100/100 [==============================] - 67s 677ms/step - loss: 3.2307 - accuracy: 0.2595 - val_loss: 2.7261 - val_accuracy: 0.2378\n",
      "Epoch 4/20\n",
      "100/100 [==============================] - 69s 694ms/step - loss: 3.2187 - accuracy: 0.2625 - val_loss: 2.7124 - val_accuracy: 0.2366\n",
      "Epoch 5/20\n",
      "100/100 [==============================] - 67s 669ms/step - loss: 3.1729 - accuracy: 0.2647 - val_loss: 2.6813 - val_accuracy: 0.2409\n",
      "Epoch 6/20\n",
      "100/100 [==============================] - 66s 664ms/step - loss: 3.1046 - accuracy: 0.2669 - val_loss: 2.6598 - val_accuracy: 0.2391\n",
      "Epoch 7/20\n",
      "100/100 [==============================] - 70s 699ms/step - loss: 3.0881 - accuracy: 0.2622 - val_loss: 2.6319 - val_accuracy: 0.2412\n",
      "Epoch 8/20\n",
      "100/100 [==============================] - 67s 673ms/step - loss: 3.0877 - accuracy: 0.2587 - val_loss: 2.6579 - val_accuracy: 0.2427\n",
      "Epoch 9/20\n",
      "100/100 [==============================] - 69s 697ms/step - loss: 3.1105 - accuracy: 0.2745 - val_loss: 2.6272 - val_accuracy: 0.2420\n",
      "Epoch 10/20\n",
      "100/100 [==============================] - 70s 706ms/step - loss: 3.0550 - accuracy: 0.2884 - val_loss: 2.6100 - val_accuracy: 0.2316\n",
      "Epoch 11/20\n",
      "100/100 [==============================] - 68s 678ms/step - loss: 3.0677 - accuracy: 0.2747 - val_loss: 2.5942 - val_accuracy: 0.2419\n",
      "Epoch 12/20\n",
      "100/100 [==============================] - 69s 693ms/step - loss: 3.1008 - accuracy: 0.2697 - val_loss: 2.5875 - val_accuracy: 0.2197\n",
      "Epoch 13/20\n",
      "100/100 [==============================] - 68s 686ms/step - loss: 3.0348 - accuracy: 0.2673 - val_loss: 2.5703 - val_accuracy: 0.2430\n",
      "Epoch 14/20\n",
      "100/100 [==============================] - 70s 703ms/step - loss: 3.0588 - accuracy: 0.2623 - val_loss: 2.5600 - val_accuracy: 0.2409\n",
      "Epoch 15/20\n",
      "100/100 [==============================] - 73s 733ms/step - loss: 2.9659 - accuracy: 0.2794 - val_loss: 2.5387 - val_accuracy: 0.2467\n",
      "Epoch 16/20\n",
      "100/100 [==============================] - 73s 735ms/step - loss: 2.9312 - accuracy: 0.2689 - val_loss: 2.5543 - val_accuracy: 0.2470\n",
      "Epoch 17/20\n",
      "100/100 [==============================] - 73s 732ms/step - loss: 3.0999 - accuracy: 0.2642 - val_loss: 2.5418 - val_accuracy: 0.2397\n",
      "Epoch 18/20\n",
      "100/100 [==============================] - 71s 717ms/step - loss: 2.9122 - accuracy: 0.2931 - val_loss: 2.5718 - val_accuracy: 0.2420\n",
      "Epoch 19/20\n",
      "100/100 [==============================] - 72s 724ms/step - loss: 2.9686 - accuracy: 0.2800 - val_loss: 2.5539 - val_accuracy: 0.2442\n",
      "Epoch 20/20\n",
      "100/100 [==============================] - 70s 697ms/step - loss: 2.9664 - accuracy: 0.2675 - val_loss: 2.5323 - val_accuracy: 0.2486\n"
     ]
    }
   ],
   "source": [
    "model = Build_CoattentionModel()\n",
    "l2_alpha = 0.001\n",
    "ModelName = 'Coattention'\n",
    "history = model.fit(dataset_train, epochs = 20, steps_per_epoch=100, validation_data=dataset_val,validation_steps=100)"
   ]
  },
  {
   "cell_type": "code",
   "execution_count": 37,
   "metadata": {},
   "outputs": [
    {
     "data": {
      "image/png": "[encoded data removed]",
      "text/plain": [
       "<Figure size 432x288 with 1 Axes>"
      ]
     },
     "metadata": {
      "needs_background": "light"
     },
     "output_type": "display_data"
    },
    {
     "data": {
      "image/png": "[encoded data removed]",
      "text/plain": [
       "<Figure size 432x288 with 1 Axes>"
      ]
     },
     "metadata": {
      "needs_background": "light"
     },
     "output_type": "display_data"
    }
   ],
   "source": [
    "# summarize history for accuracy\n",
    "plt.plot(history.history['accuracy'])\n",
    "plt.plot(history.history['val_accuracy'])\n",
    "plt.title('Coattention Model accuracy')\n",
    "plt.ylabel('Accuracy')\n",
    "plt.xlabel('Epoch')\n",
    "plt.legend(['train', 'val'], loc='upper left')\n",
    "plt.show()\n",
    "# summarize history for loss\n",
    "plt.plot(history.history['loss'])\n",
    "plt.plot(history.history['val_loss'])\n",
    "plt.title('Coattention Model Loss')\n",
    "plt.ylabel('loss')\n",
    "plt.xlabel('epoch')\n",
    "plt.legend(['train', 'val'], loc='upper left')\n",
    "plt.show()"
   ]
  },
  {
   "cell_type": "code",
   "execution_count": 38,
   "metadata": {},
   "outputs": [],
   "source": [
    "model.save('Models/coattention.h5')"
   ]
  },
  {
   "cell_type": "markdown",
   "metadata": {},
   "source": [
    "                                                                                   SGD"
   ]
  },
  {
   "cell_type": "code",
   "execution_count": 41,
   "metadata": {},
   "outputs": [],
   "source": [
    "def Build_CoattentionModel():\n",
    "    image_input1 = tf.keras.layers.Input(shape = (14,14, 512))\n",
    "    image_input = tf.keras.layers.Reshape((-1, 512))(image_input1)\n",
    "\n",
    "    question_input = tf.keras.layers.Input(shape=(question_vector_train.shape[1],))\n",
    "\n",
    "    output = CoattentionModel()(image_input, question_input)#num_embeddings = len(ques_vocab), num_classes = len(ans_vocab), embed_dim = 512\n",
    "\n",
    "    model = tf.keras.models.Model(inputs = [image_input1, question_input], outputs = output)\n",
    "\n",
    "    model.compile(optimizer = tf.keras.optimizers.SGD(), loss = 'categorical_crossentropy', metrics = ['accuracy'])\n",
    "    return model"
   ]
  },
  {
   "cell_type": "code",
   "execution_count": 42,
   "metadata": {},
   "outputs": [
    {
     "name": "stdout",
     "output_type": "stream",
     "text": [
      "(None, 24, 512) (None, 24, 512) (None, 24, 512)\n",
      "Tensor(\"coattention_model/MatMul_3:0\", shape=(None, 1, 512), dtype=float32)\n",
      "Tensor(\"coattention_model/MatMul_4:0\", shape=(None, 1, 512), dtype=float32)\n",
      "Tensor(\"coattention_model/MatMul_8:0\", shape=(None, 1, 512), dtype=float32)\n",
      "Tensor(\"coattention_model/MatMul_9:0\", shape=(None, 1, 512), dtype=float32)\n",
      "Tensor(\"coattention_model/MatMul_13:0\", shape=(None, 1, 512), dtype=float32)\n",
      "Tensor(\"coattention_model/MatMul_14:0\", shape=(None, 1, 512), dtype=float32)\n",
      "Epoch 1/20\n",
      "(None, 24, 512) (None, 24, 512) (None, 24, 512)\n",
      "Tensor(\"model/coattention_model/MatMul_3:0\", shape=(None, 1, 512), dtype=float32)\n",
      "Tensor(\"model/coattention_model/MatMul_4:0\", shape=(None, 1, 512), dtype=float32)\n",
      "Tensor(\"model/coattention_model/MatMul_8:0\", shape=(None, 1, 512), dtype=float32)\n",
      "Tensor(\"model/coattention_model/MatMul_9:0\", shape=(None, 1, 512), dtype=float32)\n",
      "Tensor(\"model/coattention_model/MatMul_13:0\", shape=(None, 1, 512), dtype=float32)\n",
      "Tensor(\"model/coattention_model/MatMul_14:0\", shape=(None, 1, 512), dtype=float32)\n",
      "(None, 24, 512) (None, 24, 512) (None, 24, 512)\n",
      "Tensor(\"model/coattention_model/MatMul_3:0\", shape=(None, 1, 512), dtype=float32)\n",
      "Tensor(\"model/coattention_model/MatMul_4:0\", shape=(None, 1, 512), dtype=float32)\n",
      "Tensor(\"model/coattention_model/MatMul_8:0\", shape=(None, 1, 512), dtype=float32)\n",
      "Tensor(\"model/coattention_model/MatMul_9:0\", shape=(None, 1, 512), dtype=float32)\n",
      "Tensor(\"model/coattention_model/MatMul_13:0\", shape=(None, 1, 512), dtype=float32)\n",
      "Tensor(\"model/coattention_model/MatMul_14:0\", shape=(None, 1, 512), dtype=float32)\n",
      "100/100 [==============================] - ETA: 0s - loss: 4.7477 - accuracy: 0.1980(None, 24, 512) (None, 24, 512) (None, 24, 512)\n",
      "Tensor(\"model/coattention_model/MatMul_3:0\", shape=(None, 1, 512), dtype=float32)\n",
      "Tensor(\"model/coattention_model/MatMul_4:0\", shape=(None, 1, 512), dtype=float32)\n",
      "Tensor(\"model/coattention_model/MatMul_8:0\", shape=(None, 1, 512), dtype=float32)\n",
      "Tensor(\"model/coattention_model/MatMul_9:0\", shape=(None, 1, 512), dtype=float32)\n",
      "Tensor(\"model/coattention_model/MatMul_13:0\", shape=(None, 1, 512), dtype=float32)\n",
      "Tensor(\"model/coattention_model/MatMul_14:0\", shape=(None, 1, 512), dtype=float32)\n",
      "100/100 [==============================] - 305s 3s/step - loss: 4.7477 - accuracy: 0.1980 - val_loss: 3.7852 - val_accuracy: 0.1881\n",
      "Epoch 2/20\n",
      "100/100 [==============================] - 288s 3s/step - loss: 4.4418 - accuracy: 0.2095 - val_loss: 3.6942 - val_accuracy: 0.1833\n",
      "Epoch 3/20\n",
      "100/100 [==============================] - 297s 3s/step - loss: 4.2909 - accuracy: 0.2141 - val_loss: 3.6624 - val_accuracy: 0.1881\n",
      "Epoch 4/20\n",
      "100/100 [==============================] - 288s 3s/step - loss: 4.2922 - accuracy: 0.2105 - val_loss: 3.6131 - val_accuracy: 0.1897\n",
      "Epoch 5/20\n",
      "100/100 [==============================] - 287s 3s/step - loss: 4.2538 - accuracy: 0.2083 - val_loss: 3.5811 - val_accuracy: 0.1881\n",
      "Epoch 6/20\n",
      "100/100 [==============================] - 293s 3s/step - loss: 4.1888 - accuracy: 0.2194 - val_loss: 3.5181 - val_accuracy: 0.1844\n",
      "Epoch 7/20\n",
      "100/100 [==============================] - 290s 3s/step - loss: 4.1395 - accuracy: 0.2188 - val_loss: 3.3564 - val_accuracy: 0.1916\n",
      "Epoch 8/20\n",
      "100/100 [==============================] - 291s 3s/step - loss: 4.0061 - accuracy: 0.2275 - val_loss: 3.0983 - val_accuracy: 0.2342\n",
      "Epoch 9/20\n",
      "100/100 [==============================] - 288s 3s/step - loss: 3.7524 - accuracy: 0.2525 - val_loss: 2.9713 - val_accuracy: 0.2397\n",
      "Epoch 10/20\n",
      "100/100 [==============================] - 284s 3s/step - loss: 3.5831 - accuracy: 0.2600 - val_loss: 2.9928 - val_accuracy: 0.2350\n",
      "Epoch 11/20\n",
      "100/100 [==============================] - 285s 3s/step - loss: 3.5273 - accuracy: 0.2597 - val_loss: 2.8775 - val_accuracy: 0.2358\n",
      "Epoch 12/20\n",
      "100/100 [==============================] - 280s 3s/step - loss: 3.5259 - accuracy: 0.2637 - val_loss: 2.8311 - val_accuracy: 0.2362\n",
      "Epoch 13/20\n",
      "100/100 [==============================] - 282s 3s/step - loss: 3.7270 - accuracy: 0.2466 - val_loss: 2.8325 - val_accuracy: 0.2306\n",
      "Epoch 14/20\n",
      "100/100 [==============================] - 281s 3s/step - loss: 3.4643 - accuracy: 0.2522 - val_loss: 2.7848 - val_accuracy: 0.2387\n",
      "Epoch 15/20\n",
      "100/100 [==============================] - 282s 3s/step - loss: 3.2905 - accuracy: 0.2752 - val_loss: 2.7561 - val_accuracy: 0.2280\n",
      "Epoch 16/20\n",
      "100/100 [==============================] - 283s 3s/step - loss: 3.2688 - accuracy: 0.2594 - val_loss: 2.7228 - val_accuracy: 0.2412\n",
      "Epoch 17/20\n",
      "100/100 [==============================] - 280s 3s/step - loss: 3.3741 - accuracy: 0.2481 - val_loss: 2.7094 - val_accuracy: 0.2328\n",
      "Epoch 18/20\n",
      "100/100 [==============================] - 278s 3s/step - loss: 3.1991 - accuracy: 0.2703 - val_loss: 2.7155 - val_accuracy: 0.2405\n",
      "Epoch 19/20\n",
      "100/100 [==============================] - 280s 3s/step - loss: 3.2266 - accuracy: 0.2581 - val_loss: 2.7036 - val_accuracy: 0.2427\n",
      "Epoch 20/20\n",
      "100/100 [==============================] - 286s 3s/step - loss: 3.2090 - accuracy: 0.2667 - val_loss: 2.6797 - val_accuracy: 0.2433\n"
     ]
    }
   ],
   "source": [
    "model = Build_CoattentionModel()\n",
    "l2_alpha = 0.001\n",
    "ModelName = 'Coattention'\n",
    "history = model.fit(dataset_train, epochs = 20, steps_per_epoch=100, validation_data=dataset_val,validation_steps=100)"
   ]
  },
  {
   "cell_type": "code",
   "execution_count": 43,
   "metadata": {},
   "outputs": [],
   "source": [
    "model.save('Models/coattention_SGD.h5')"
   ]
  },
  {
   "cell_type": "code",
   "execution_count": 40,
   "metadata": {},
   "outputs": [
    {
     "data": {
      "image/png": "[encoded data removed]",
      "text/plain": [
       "<Figure size 432x288 with 1 Axes>"
      ]
     },
     "metadata": {
      "needs_background": "light"
     },
     "output_type": "display_data"
    }
   ],
   "source": [
    "import matplotlib.pyplot as plt\n",
    "import numpy as np\n",
    "from matplotlib.ticker import MaxNLocator\n",
    "ypoints = [4.7477,4.4418,4.2909,4.2922,4.2538,4.1888,4.1395,4.0061,3.7524,3.5831,3.5273,3.5259,3.7270,3.4643,3.2905,3.2688,3.3741,3.1991,3.2266,3.2090]\n",
    "xpoints = [1,2,3,4,5,6,7,8,9,10,11,12,13,14,15,16,17,18,19,20]\n",
    "new_list = range(math.floor(min(xpoints)), math.ceil(max(xpoints))+1)\n",
    "plt.title(\"Training Loss SGD CoAttention Model\")\n",
    "plt.xlabel(\"Epoch\")\n",
    "plt.ylabel(\"Training Loss\");\n",
    "plt.plot(new_list, ypoints)\n",
    "plt.show()"
   ]
  },
  {
   "cell_type": "code",
   "execution_count": 39,
   "metadata": {},
   "outputs": [
    {
     "data": {
      "image/png": "[encoded data removed]",
      "text/plain": [
       "<Figure size 432x288 with 1 Axes>"
      ]
     },
     "metadata": {
      "needs_background": "light"
     },
     "output_type": "display_data"
    }
   ],
   "source": [
    "import matplotlib.pyplot as plt\n",
    "import numpy as np\n",
    "from matplotlib.ticker import MaxNLocator\n",
    "ypoints = [3.7852,3.6942,3.6624,3.6131,3.5811,3.5181,3.3564,3.0983,2.9713,2.9928,2.8775,2.8311,2.8325,2.7848,2.7561,2.7228,2.7094,2.7155,2.7036,2.6797]\n",
    "xpoints = [1,2,3,4,5,6,7,8,9,10,11,12,13,14,15,16,17,18,19,20]\n",
    "new_list = range(math.floor(min(xpoints)), math.ceil(max(xpoints))+1)\n",
    "plt.title(\"Validation Loss SGD CoAttention Model\")\n",
    "plt.xlabel(\"Epoch\")\n",
    "plt.ylabel(\"Validation Loss\");\n",
    "plt.plot(new_list, ypoints)\n",
    "plt.show()"
   ]
  },
  {
   "cell_type": "code",
   "execution_count": null,
   "metadata": {},
   "outputs": [],
   "source": []
  },
  {
   "cell_type": "markdown",
   "metadata": {},
   "source": [
    "                                     LSTM units 256, hidden size 256"
   ]
  },
  {
   "cell_type": "code",
   "execution_count": 44,
   "metadata": {},
   "outputs": [],
   "source": [
    "class CoattentionModel(tf.keras.layers.Layer):\n",
    "    def __init__(self):#, num_embeddings, num_classes, embed_dim=512, k=30\n",
    "        super().__init__()\n",
    "        self.num_classes = len(ans_vocab)\n",
    "        self.hidden_size = 256\n",
    "        self.dropout = 0.3\n",
    "        self.num_embeddings = len(ques_vocab)+1\n",
    "\n",
    "        self.image_dense = tf.keras.layers.Dense(self.hidden_size, kernel_initializer = tf.keras.initializers.glorot_normal(seed=15)) \n",
    "        self.image_corr = tf.keras.layers.Dense(self.hidden_size, kernel_initializer = tf.keras.initializers.glorot_normal(seed=29))\n",
    "\n",
    "        self.image_atten_dense = tf.keras.layers.Dense(self.hidden_size, kernel_initializer = tf.keras.initializers.glorot_uniform(seed=17)) \n",
    "        self.question_atten_dens = tf.keras.layers.Dense(self.hidden_size, kernel_initializer = tf.keras.initializers.glorot_uniform(seed=28))\n",
    "        self.question_atten_dropout = tf.keras.layers.Dropout(self.dropout)\n",
    "        self.image_atten_dropout = tf.keras.layers.Dropout(self.dropout)\n",
    "\n",
    "        self.ques_atten = tf.keras.layers.Dense(1, kernel_initializer = tf.keras.initializers.glorot_uniform(seed=21))\n",
    "\n",
    "        self.img_atten = tf.keras.layers.Dense(1, kernel_initializer = tf.keras.initializers.glorot_uniform(seed=33))\n",
    "\n",
    "        self.embed = tf.keras.layers.Embedding(self.num_embeddings, self.hidden_size,\n",
    "                                               embeddings_initializer = tf.keras.initializers.RandomNormal(mean=0, stddev=1, seed=23))\n",
    "        \n",
    "        self.unigram_conv = tf.keras.layers.Conv1D(filters = self.hidden_size, kernel_size = 1, strides = 1, padding = 'same', kernel_initializer = tf.keras.initializers.glorot_normal(seed=41))\n",
    "        self.bigram_conv  = tf.keras.layers.Conv1D(filters = self.hidden_size, kernel_size = 2, strides = 1, padding = 'same', kernel_initializer = tf.keras.initializers.glorot_normal(seed=58), dilation_rate = 2)\n",
    "        self.trigram_conv = tf.keras.layers.Conv1D(filters = self.hidden_size, kernel_size = 3, strides = 1, padding = 'same', kernel_initializer = tf.keras.initializers.glorot_normal(seed=89), dilation_rate = 2)\n",
    "        self.max_pool = tf.keras.layers.MaxPool2D((3,1))\n",
    "        self.phrase_dropout = tf.keras.layers.Dropout(self.dropout)\n",
    "        \n",
    "        self.lstm = tf.keras.layers.LSTM(units = 256, return_sequences=True, dropout = self.dropout,\n",
    "                                         kernel_initializer = tf.keras.initializers.glorot_uniform(seed=26),\n",
    "                                         recurrent_initializer = tf.keras.initializers.orthogonal(seed=54))\n",
    "        \n",
    "        self.tanh = tf.keras.layers.Activation('tanh')\n",
    "        self.softmax = tf.keras.layers.Activation('softmax')\n",
    "        \n",
    "        self.W_w_dropout = tf.keras.layers.Dropout(self.dropout)\n",
    "        self.W_p_dropout = tf.keras.layers.Dropout(self.dropout)\n",
    "        self.W_s_dropout = tf.keras.layers.Dropout(self.dropout)\n",
    "\n",
    "        self.W_w = tf.keras.layers.Dense(units = self.hidden_size, kernel_initializer = tf.keras.initializers.glorot_uniform(seed=32), input_shape = (self.hidden_size,))\n",
    "        self.W_p = tf.keras.layers.Dense(units = self.hidden_size, kernel_initializer = tf.keras.initializers.glorot_uniform(seed=49), input_shape = (2 * self.hidden_size, ))\n",
    "        self.W_s = tf.keras.layers.Dense(units = self.hidden_size, kernel_initializer = tf.keras.initializers.glorot_uniform(seed=31), input_shape = (2 * self.hidden_size, ))\n",
    "        \n",
    "        self.fc1_Dense = tf.keras.layers.Dense(units = 2 * self.hidden_size, activation='relu',\n",
    "                                               kernel_initializer = tf.keras.initializers.he_normal(seed=84))\n",
    "        self.fc1_dropout = tf.keras.layers.Dropout(self.dropout)\n",
    "\n",
    "        self.fc = tf.keras.layers.Dense(units = self.num_classes, activation='softmax',kernel_initializer = tf.keras.initializers.glorot_uniform(seed=91), input_shape = (self.hidden_size,))\n",
    "        \n",
    "        return\n",
    "\n",
    "    def call(self, image, question):#Image: B x 196 x 512\n",
    "        \n",
    "        image = self.image_dense(image)\n",
    "        image = self.tanh(image)\n",
    "\n",
    "        words = self.embed(question)    # Words: B x L x 51\n",
    "\n",
    "        unigrams =  tf.expand_dims(self.tanh(self.unigram_conv(words)), 1) # B x L x 512\n",
    "        bigrams  =  tf.expand_dims(self.tanh(self.bigram_conv(words)), 1)  # B x L x 512\n",
    "        trigrams =  tf.expand_dims(self.tanh(self.trigram_conv(words)), 1) # B x L x 512\n",
    "\n",
    "        phrase = tf.squeeze(self.max_pool(tf.concat((unigrams, bigrams, trigrams), 1)), axis=1)  # B x L x 512\n",
    "        phrase = self.tanh(phrase)\n",
    "        phrase = self.phrase_dropout(phrase)\n",
    "  \n",
    "        hidden = None\n",
    "        sentence = self.lstm(phrase)        # B x L x 512   \n",
    "\n",
    "        #print(words.shape, phrase.shape, sentence.shape)\n",
    "        v_word, q_word = self.co_attention(image, words)\n",
    "        v_phrase, q_phrase = self.co_attention(image, phrase)\n",
    "        v_sent, q_sent = self.co_attention(image, sentence)\n",
    "\n",
    "        h_w = self.tanh(self.W_w(self.W_w_dropout(q_word + v_word)))\n",
    "        h_p = self.tanh(self.W_p(self.W_p_dropout(tf.concat(((q_phrase + v_phrase), h_w), axis=1))))\n",
    "        h_s = self.tanh(self.W_s(self.W_s_dropout(tf.concat(((q_sent + v_sent), h_p), axis=1))))\n",
    "\n",
    "        fc1 = self.fc1_Dense(self.fc1_dropout(h_s))\n",
    "        logits = self.fc(fc1)\n",
    "\n",
    "        return logits\n",
    "\n",
    "    def co_attention(self, img_feat, ques_feat):  # V : B x 512 x 196, Q : B x L x 512\n",
    "        img_corr = self.image_corr(img_feat)\n",
    "\n",
    "        weight_matrix = tf.keras.backend.batch_dot(ques_feat, img_corr, axes = (2, 2))\n",
    "        weight_matrix = self.tanh(weight_matrix)\n",
    "\n",
    "        ques_embed = self.image_atten_dense(ques_feat)\n",
    "        img_embed = self.question_atten_dens(img_feat)\n",
    "\n",
    "        transform_img = tf.keras.backend.batch_dot(weight_matrix, img_embed)\n",
    "\n",
    "        ques_atten_sum = self.tanh(transform_img + ques_embed)\n",
    "        ques_atten_sum = self.question_atten_dropout(ques_atten_sum)\n",
    "        ques_atten = self.ques_atten(ques_atten_sum)\n",
    "        ques_atten =  tf.keras.layers.Reshape((ques_atten.shape[1],))(ques_atten)\n",
    "        ques_atten =  self.softmax(ques_atten)\n",
    "\n",
    "        transform_ques = tf.keras.backend.batch_dot(weight_matrix, ques_embed, axes = (1, 1))\n",
    "        img_atten_sum = self.tanh(transform_ques+img_embed)\n",
    "        img_atten_sum = self.image_atten_dropout(img_atten_sum)\n",
    "        img_atten = self.img_atten(img_atten_sum)\n",
    "        img_atten = tf.keras.layers.Reshape((img_atten.shape[1],))(img_atten)\n",
    "        img_atten = self.softmax(img_atten)\n",
    "\n",
    "        ques_atten = tf.keras.layers.Reshape(( 1, ques_atten.shape[1]))(ques_atten)\n",
    "        img_atten = tf.keras.layers.Reshape(( 1, img_atten.shape[1]))(img_atten)\n",
    "\n",
    "        ques_atten_feat = tf.keras.backend.batch_dot(ques_atten,ques_feat)\n",
    "        #print(ques_atten_feat)\n",
    "        ques_atten_feat = tf.keras.layers.Reshape(( ques_atten_feat.shape[-1],))(ques_atten_feat)\n",
    "\n",
    "        img_atten_feat =  tf.keras.backend.batch_dot(img_atten, img_feat)\n",
    "        #print(img_atten_feat)\n",
    "        img_atten_feat = tf.keras.layers.Reshape((img_atten_feat.shape[-1],))(img_atten_feat)\n",
    "\n",
    "        return img_atten_feat, ques_atten_feat"
   ]
  },
  {
   "cell_type": "code",
   "execution_count": 45,
   "metadata": {},
   "outputs": [],
   "source": [
    "def scheduler(epoch):\n",
    "    if epoch < 10:\n",
    "        return 0.0001\n",
    "    else:\n",
    "        return 0.0001 * tf.math.exp(0.1 * (10 - epoch))"
   ]
  },
  {
   "cell_type": "code",
   "execution_count": 46,
   "metadata": {},
   "outputs": [],
   "source": [
    "def callBacksList():\n",
    "    \"\"\"\n",
    "    returns list of callback's\n",
    "    \"\"\"\n",
    "    filepath = \"Models\" + ModelName + \"/optimum.hdf5\"\n",
    "    checkpoint = tf.keras.callbacks.ModelCheckpoint(filepath = filepath, monitor = 'val_accuracy', verbose = 1, save_best_only = True, mode = 'auto')\n",
    "    reduce_lr = tf.keras.callbacks.ReduceLROnPlateau(monitor = 'val_accuracy', patience = 2)\n",
    "    early_stop = tf.keras.callbacks.EarlyStopping(monitor = 'val_accuracy', patience = 4, verbose = 1)\n",
    "    scheduler_lr = tf.keras.callbacks.LearningRateScheduler(scheduler, verbose=0 )\n",
    "\n",
    "    #directory for tensorboard to save evnts\n",
    "    log_dir= \"Models\" + \"logs/fit/\" + ModelName + \"/\" + datetime.datetime.now().strftime(\"%Y%m%d-%H%M%S\")\n",
    "    os.makedirs(log_dir)\n",
    "\n",
    "    #print(\"TensorBoard Folder for this Execution\",log_dir)#creating TensorBoard call back,this will write all events to given folder\n",
    "    tensorboard_callback = tf.keras.callbacks.TensorBoard(log_dir = log_dir, histogram_freq = 0)\n",
    "\n",
    "    history = tf.keras.callbacks.History()\n",
    "    callbacks_list = [scheduler_lr, early_stop, history, tensorboard_callback, checkpoint]\n",
    "    return callbacks_list"
   ]
  },
  {
   "cell_type": "code",
   "execution_count": 49,
   "metadata": {},
   "outputs": [],
   "source": [
    "def Build_CoattentionModel():\n",
    "    image_input1 = tf.keras.layers.Input(shape = (14,14, 512))\n",
    "    image_input = tf.keras.layers.Reshape((-1, 512))(image_input1)\n",
    "\n",
    "    question_input = tf.keras.layers.Input(shape=(question_vector_train.shape[1],))\n",
    "\n",
    "    output = CoattentionModel()(image_input, question_input)#num_embeddings = len(ques_vocab), num_classes = len(ans_vocab), embed_dim = 512\n",
    "\n",
    "    model = tf.keras.models.Model(inputs = [image_input1, question_input], outputs = output)\n",
    "\n",
    "    model.compile(optimizer = tf.keras.optimizers.Adam(), loss = 'categorical_crossentropy', metrics = ['accuracy'])\n",
    "    return model"
   ]
  },
  {
   "cell_type": "code",
   "execution_count": 50,
   "metadata": {},
   "outputs": [
    {
     "name": "stdout",
     "output_type": "stream",
     "text": [
      "Epoch 1/20\n",
      "100/100 [==============================] - 221s 2s/step - loss: 4.4613 - accuracy: 0.2103 - val_loss: 3.6911 - val_accuracy: 0.1881\n",
      "Epoch 2/20\n",
      "100/100 [==============================] - 226s 2s/step - loss: 3.8317 - accuracy: 0.2400 - val_loss: 3.1435 - val_accuracy: 0.2252\n",
      "Epoch 3/20\n",
      "100/100 [==============================] - 221s 2s/step - loss: 3.5039 - accuracy: 0.2547 - val_loss: 2.8165 - val_accuracy: 0.2216\n",
      "Epoch 4/20\n",
      "100/100 [==============================] - 219s 2s/step - loss: 3.3604 - accuracy: 0.2711 - val_loss: 2.7485 - val_accuracy: 0.2286\n",
      "Epoch 5/20\n",
      "100/100 [==============================] - 221s 2s/step - loss: 3.2512 - accuracy: 0.2608 - val_loss: 2.7051 - val_accuracy: 0.2389\n",
      "Epoch 6/20\n",
      "100/100 [==============================] - 221s 2s/step - loss: 3.2198 - accuracy: 0.2644 - val_loss: 2.7690 - val_accuracy: 0.2359\n",
      "Epoch 7/20\n",
      "100/100 [==============================] - 219s 2s/step - loss: 3.1970 - accuracy: 0.2616 - val_loss: 2.6798 - val_accuracy: 0.2427\n",
      "Epoch 8/20\n",
      "100/100 [==============================] - 218s 2s/step - loss: 3.1541 - accuracy: 0.2641 - val_loss: 2.6629 - val_accuracy: 0.2327\n",
      "Epoch 9/20\n",
      "100/100 [==============================] - 222s 2s/step - loss: 3.1121 - accuracy: 0.2663 - val_loss: 2.6391 - val_accuracy: 0.2389\n",
      "Epoch 10/20\n",
      "100/100 [==============================] - 221s 2s/step - loss: 3.0719 - accuracy: 0.2719 - val_loss: 2.6394 - val_accuracy: 0.2259\n",
      "Epoch 11/20\n",
      "100/100 [==============================] - 220s 2s/step - loss: 3.0742 - accuracy: 0.2695 - val_loss: 2.6009 - val_accuracy: 0.2383\n",
      "Epoch 12/20\n",
      "100/100 [==============================] - 220s 2s/step - loss: 3.1006 - accuracy: 0.2689 - val_loss: 2.5966 - val_accuracy: 0.2252\n",
      "Epoch 13/20\n",
      "100/100 [==============================] - 223s 2s/step - loss: 3.0481 - accuracy: 0.2711 - val_loss: 2.5762 - val_accuracy: 0.2405\n",
      "Epoch 14/20\n",
      "100/100 [==============================] - 221s 2s/step - loss: 3.0548 - accuracy: 0.2686 - val_loss: 2.5737 - val_accuracy: 0.2398\n",
      "Epoch 15/20\n",
      "100/100 [==============================] - 221s 2s/step - loss: 2.9595 - accuracy: 0.2759 - val_loss: 2.5592 - val_accuracy: 0.2416\n",
      "Epoch 16/20\n",
      "100/100 [==============================] - 222s 2s/step - loss: 2.9402 - accuracy: 0.2744 - val_loss: 2.5614 - val_accuracy: 0.2480\n",
      "Epoch 17/20\n",
      "100/100 [==============================] - 222s 2s/step - loss: 3.1001 - accuracy: 0.2598 - val_loss: 2.5614 - val_accuracy: 0.2361\n",
      "Epoch 18/20\n",
      "100/100 [==============================] - 221s 2s/step - loss: 2.9220 - accuracy: 0.2894 - val_loss: 2.5481 - val_accuracy: 0.2425\n",
      "Epoch 19/20\n",
      "100/100 [==============================] - 219s 2s/step - loss: 2.9529 - accuracy: 0.2822 - val_loss: 2.5300 - val_accuracy: 0.2425\n",
      "Epoch 20/20\n",
      "100/100 [==============================] - 217s 2s/step - loss: 2.9929 - accuracy: 0.2633 - val_loss: 2.5401 - val_accuracy: 0.2470\n"
     ]
    }
   ],
   "source": [
    "model = Build_CoattentionModel()\n",
    "l2_alpha = 0.001\n",
    "ModelName = 'Coattention'\n",
    "history = model.fit(dataset_train, epochs = 20, steps_per_epoch=100, validation_data=dataset_val,validation_steps=100)"
   ]
  },
  {
   "cell_type": "code",
   "execution_count": null,
   "metadata": {},
   "outputs": [],
   "source": []
  },
  {
   "cell_type": "code",
   "execution_count": 51,
   "metadata": {},
   "outputs": [],
   "source": [
    "model.save('Models/coattention_lstm 256.h5')"
   ]
  },
  {
   "cell_type": "code",
   "execution_count": 57,
   "metadata": {},
   "outputs": [
    {
     "data": {
      "image/png": "[encoded data removed]",
      "text/plain": [
       "<Figure size 432x288 with 1 Axes>"
      ]
     },
     "metadata": {
      "needs_background": "light"
     },
     "output_type": "display_data"
    },
    {
     "data": {
      "image/png": "[encoded data removed]",
      "text/plain": [
       "<Figure size 432x288 with 1 Axes>"
      ]
     },
     "metadata": {
      "needs_background": "light"
     },
     "output_type": "display_data"
    }
   ],
   "source": [
    "# summarize history for accuracy\n",
    "plt.plot(history.history['accuracy'])\n",
    "plt.plot(history.history['val_accuracy'])\n",
    "plt.title('LSTM 256 Model accuracy')\n",
    "plt.ylabel('Accuracy')\n",
    "plt.xlabel('Epoch')\n",
    "plt.legend(['train', 'val'], loc='upper left')\n",
    "plt.show()\n",
    "# summarize history for loss\n",
    "plt.plot(history.history['loss'])\n",
    "plt.plot(history.history['val_loss'])\n",
    "plt.title('LSTM 256 Model Loss')\n",
    "plt.ylabel('loss')\n",
    "plt.xlabel('epoch')\n",
    "plt.legend(['train', 'val'], loc='upper left')\n",
    "plt.show()"
   ]
  },
  {
   "cell_type": "code",
   "execution_count": 58,
   "metadata": {},
   "outputs": [],
   "source": [
    "class CoattentionModel(tf.keras.layers.Layer):\n",
    "    def __init__(self):#, num_embeddings, num_classes, embed_dim=512, k=30\n",
    "        super().__init__()\n",
    "        self.num_classes = len(ans_vocab)\n",
    "        self.hidden_size = 512\n",
    "        self.dropout = 0.5\n",
    "        self.num_embeddings = len(ques_vocab)+1\n",
    "\n",
    "        self.image_dense = tf.keras.layers.Dense(self.hidden_size, kernel_initializer = tf.keras.initializers.glorot_normal(seed=15)) \n",
    "        self.image_corr = tf.keras.layers.Dense(self.hidden_size, kernel_initializer = tf.keras.initializers.glorot_normal(seed=29))\n",
    "\n",
    "        self.image_atten_dense = tf.keras.layers.Dense(self.hidden_size, kernel_initializer = tf.keras.initializers.glorot_uniform(seed=17)) \n",
    "        self.question_atten_dens = tf.keras.layers.Dense(self.hidden_size, kernel_initializer = tf.keras.initializers.glorot_uniform(seed=28))\n",
    "        self.question_atten_dropout = tf.keras.layers.Dropout(self.dropout)\n",
    "        self.image_atten_dropout = tf.keras.layers.Dropout(self.dropout)\n",
    "\n",
    "        self.ques_atten = tf.keras.layers.Dense(1, kernel_initializer = tf.keras.initializers.glorot_uniform(seed=21))\n",
    "\n",
    "        self.img_atten = tf.keras.layers.Dense(1, kernel_initializer = tf.keras.initializers.glorot_uniform(seed=33))\n",
    "\n",
    "        self.embed = tf.keras.layers.Embedding(self.num_embeddings, self.hidden_size,\n",
    "                                               embeddings_initializer = tf.keras.initializers.RandomNormal(mean=0, stddev=1, seed=23))\n",
    "        \n",
    "        self.unigram_conv = tf.keras.layers.Conv1D(filters = self.hidden_size, kernel_size = 1, strides = 1, padding = 'same', kernel_initializer = tf.keras.initializers.glorot_normal(seed=41))\n",
    "        self.bigram_conv  = tf.keras.layers.Conv1D(filters = self.hidden_size, kernel_size = 2, strides = 1, padding = 'same', kernel_initializer = tf.keras.initializers.glorot_normal(seed=58), dilation_rate = 2)\n",
    "        self.trigram_conv = tf.keras.layers.Conv1D(filters = self.hidden_size, kernel_size = 3, strides = 1, padding = 'same', kernel_initializer = tf.keras.initializers.glorot_normal(seed=89), dilation_rate = 2)\n",
    "        self.max_pool = tf.keras.layers.MaxPool2D((3,1))\n",
    "        self.phrase_dropout = tf.keras.layers.Dropout(self.dropout)\n",
    "        \n",
    "        self.lstm = tf.keras.layers.LSTM(units = 512, return_sequences=True, dropout = self.dropout,\n",
    "                                         kernel_initializer = tf.keras.initializers.glorot_uniform(seed=26),\n",
    "                                         recurrent_initializer = tf.keras.initializers.orthogonal(seed=54))\n",
    "        \n",
    "        self.tanh = tf.keras.layers.Activation('tanh')\n",
    "        self.softmax = tf.keras.layers.Activation('softmax')\n",
    "        \n",
    "        self.W_w_dropout = tf.keras.layers.Dropout(self.dropout)\n",
    "        self.W_p_dropout = tf.keras.layers.Dropout(self.dropout)\n",
    "        self.W_s_dropout = tf.keras.layers.Dropout(self.dropout)\n",
    "\n",
    "        self.W_w = tf.keras.layers.Dense(units = self.hidden_size, kernel_initializer = tf.keras.initializers.glorot_uniform(seed=32), input_shape = (self.hidden_size,))\n",
    "        self.W_p = tf.keras.layers.Dense(units = self.hidden_size, kernel_initializer = tf.keras.initializers.glorot_uniform(seed=49), input_shape = (2 * self.hidden_size, ))\n",
    "        self.W_s = tf.keras.layers.Dense(units = self.hidden_size, kernel_initializer = tf.keras.initializers.glorot_uniform(seed=31), input_shape = (2 * self.hidden_size, ))\n",
    "        \n",
    "        self.fc1_Dense = tf.keras.layers.Dense(units = 2 * self.hidden_size, activation='relu',\n",
    "                                               kernel_initializer = tf.keras.initializers.he_normal(seed=84))\n",
    "        self.fc1_dropout = tf.keras.layers.Dropout(self.dropout)\n",
    "\n",
    "        self.fc = tf.keras.layers.Dense(units = self.num_classes, activation='softmax',kernel_initializer = tf.keras.initializers.glorot_uniform(seed=91), input_shape = (self.hidden_size,))\n",
    "        \n",
    "        return\n",
    "\n",
    "    def call(self, image, question):#Image: B x 196 x 512\n",
    "        \n",
    "        image = self.image_dense(image)\n",
    "        image = self.tanh(image)\n",
    "\n",
    "        words = self.embed(question)    # Words: B x L x 51\n",
    "\n",
    "        unigrams =  tf.expand_dims(self.tanh(self.unigram_conv(words)), 1) # B x L x 512\n",
    "        bigrams  =  tf.expand_dims(self.tanh(self.bigram_conv(words)), 1)  # B x L x 512\n",
    "        trigrams =  tf.expand_dims(self.tanh(self.trigram_conv(words)), 1) # B x L x 512\n",
    "\n",
    "        phrase = tf.squeeze(self.max_pool(tf.concat((unigrams, bigrams, trigrams), 1)), axis=1)  # B x L x 512\n",
    "        phrase = self.tanh(phrase)\n",
    "        phrase = self.phrase_dropout(phrase)\n",
    "  \n",
    "        hidden = None\n",
    "        sentence = self.lstm(phrase)        # B x L x 512   \n",
    "\n",
    "        #print(words.shape, phrase.shape, sentence.shape)\n",
    "        v_word, q_word = self.co_attention(image, words)\n",
    "        v_phrase, q_phrase = self.co_attention(image, phrase)\n",
    "        v_sent, q_sent = self.co_attention(image, sentence)\n",
    "\n",
    "        h_w = self.tanh(self.W_w(self.W_w_dropout(q_word + v_word)))\n",
    "        h_p = self.tanh(self.W_p(self.W_p_dropout(tf.concat(((q_phrase + v_phrase), h_w), axis=1))))\n",
    "        h_s = self.tanh(self.W_s(self.W_s_dropout(tf.concat(((q_sent + v_sent), h_p), axis=1))))\n",
    "\n",
    "        fc1 = self.fc1_Dense(self.fc1_dropout(h_s))\n",
    "        logits = self.fc(fc1)\n",
    "\n",
    "        return logits\n",
    "\n",
    "    def co_attention(self, img_feat, ques_feat):  # V : B x 512 x 196, Q : B x L x 512\n",
    "        img_corr = self.image_corr(img_feat)\n",
    "\n",
    "        weight_matrix = tf.keras.backend.batch_dot(ques_feat, img_corr, axes = (2, 2))\n",
    "        weight_matrix = self.tanh(weight_matrix)\n",
    "\n",
    "        ques_embed = self.image_atten_dense(ques_feat)\n",
    "        img_embed = self.question_atten_dens(img_feat)\n",
    "\n",
    "        transform_img = tf.keras.backend.batch_dot(weight_matrix, img_embed)\n",
    "\n",
    "        ques_atten_sum = self.tanh(transform_img + ques_embed)\n",
    "        ques_atten_sum = self.question_atten_dropout(ques_atten_sum)\n",
    "        ques_atten = self.ques_atten(ques_atten_sum)\n",
    "        ques_atten =  tf.keras.layers.Reshape((ques_atten.shape[1],))(ques_atten)\n",
    "        ques_atten =  self.softmax(ques_atten)\n",
    "\n",
    "        transform_ques = tf.keras.backend.batch_dot(weight_matrix, ques_embed, axes = (1, 1))\n",
    "        img_atten_sum = self.tanh(transform_ques+img_embed)\n",
    "        img_atten_sum = self.image_atten_dropout(img_atten_sum)\n",
    "        img_atten = self.img_atten(img_atten_sum)\n",
    "        img_atten = tf.keras.layers.Reshape((img_atten.shape[1],))(img_atten)\n",
    "        img_atten = self.softmax(img_atten)\n",
    "\n",
    "        ques_atten = tf.keras.layers.Reshape(( 1, ques_atten.shape[1]))(ques_atten)\n",
    "        img_atten = tf.keras.layers.Reshape(( 1, img_atten.shape[1]))(img_atten)\n",
    "\n",
    "        ques_atten_feat = tf.keras.backend.batch_dot(ques_atten,ques_feat)\n",
    "        #print(ques_atten_feat)\n",
    "        ques_atten_feat = tf.keras.layers.Reshape(( ques_atten_feat.shape[-1],))(ques_atten_feat)\n",
    "\n",
    "        img_atten_feat =  tf.keras.backend.batch_dot(img_atten, img_feat)\n",
    "        #print(img_atten_feat)\n",
    "        img_atten_feat = tf.keras.layers.Reshape((img_atten_feat.shape[-1],))(img_atten_feat)\n",
    "\n",
    "        return img_atten_feat, ques_atten_feat"
   ]
  },
  {
   "cell_type": "code",
   "execution_count": 59,
   "metadata": {},
   "outputs": [],
   "source": [
    "def scheduler(epoch):\n",
    "    if epoch < 10:\n",
    "        return 0.0001\n",
    "    else:\n",
    "        return 0.0001 * tf.math.exp(0.1 * (10 - epoch))"
   ]
  },
  {
   "cell_type": "code",
   "execution_count": 60,
   "metadata": {},
   "outputs": [],
   "source": [
    "def callBacksList():\n",
    "    \"\"\"\n",
    "    returns list of callback's\n",
    "    \"\"\"\n",
    "    filepath = \"Models\" + ModelName + \"/optimum.hdf5\"\n",
    "    checkpoint = tf.keras.callbacks.ModelCheckpoint(filepath = filepath, monitor = 'val_accuracy', verbose = 1, save_best_only = True, mode = 'auto')\n",
    "    reduce_lr = tf.keras.callbacks.ReduceLROnPlateau(monitor = 'val_accuracy', patience = 2)\n",
    "    early_stop = tf.keras.callbacks.EarlyStopping(monitor = 'val_accuracy', patience = 4, verbose = 1)\n",
    "    scheduler_lr = tf.keras.callbacks.LearningRateScheduler(scheduler, verbose=0 )\n",
    "\n",
    "    #directory for tensorboard to save evnts\n",
    "    log_dir= \"Models\" + \"logs/fit/\" + ModelName + \"/\" + datetime.datetime.now().strftime(\"%Y%m%d-%H%M%S\")\n",
    "    os.makedirs(log_dir)\n",
    "\n",
    "    #print(\"TensorBoard Folder for this Execution\",log_dir)#creating TensorBoard call back,this will write all events to given folder\n",
    "    tensorboard_callback = tf.keras.callbacks.TensorBoard(log_dir = log_dir, histogram_freq = 0)\n",
    "\n",
    "    history = tf.keras.callbacks.History()\n",
    "    callbacks_list = [scheduler_lr, early_stop, history, tensorboard_callback, checkpoint]\n",
    "    return callbacks_list"
   ]
  },
  {
   "cell_type": "code",
   "execution_count": 61,
   "metadata": {},
   "outputs": [],
   "source": [
    "def Build_CoattentionModel():\n",
    "    image_input1 = tf.keras.layers.Input(shape = (14,14, 512))\n",
    "    image_input = tf.keras.layers.Reshape((-1, 512))(image_input1)\n",
    "\n",
    "    question_input = tf.keras.layers.Input(shape=(question_vector_train.shape[1],))\n",
    "\n",
    "    output = CoattentionModel()(image_input, question_input)#num_embeddings = len(ques_vocab), num_classes = len(ans_vocab), embed_dim = 512\n",
    "\n",
    "    model = tf.keras.models.Model(inputs = [image_input1, question_input], outputs = output)\n",
    "\n",
    "    model.compile(optimizer = tf.keras.optimizers.Adam(), loss = 'categorical_crossentropy', metrics = ['accuracy'])\n",
    "    return model"
   ]
  },
  {
   "cell_type": "code",
   "execution_count": 62,
   "metadata": {},
   "outputs": [
    {
     "name": "stdout",
     "output_type": "stream",
     "text": [
      "Epoch 1/20\n",
      "100/100 [==============================] - 406s 4s/step - loss: 4.5150 - accuracy: 0.1991 - val_loss: 4.2601 - val_accuracy: 0.1881\n",
      "Epoch 2/20\n",
      "100/100 [==============================] - 374s 4s/step - loss: 4.1656 - accuracy: 0.2192 - val_loss: 3.3560 - val_accuracy: 0.2747\n",
      "Epoch 3/20\n",
      "100/100 [==============================] - 377s 4s/step - loss: 3.6716 - accuracy: 0.2383 - val_loss: 3.0593 - val_accuracy: 0.2095\n",
      "Epoch 4/20\n",
      "100/100 [==============================] - 377s 4s/step - loss: 3.5880 - accuracy: 0.2459 - val_loss: 2.9150 - val_accuracy: 0.2147\n",
      "Epoch 5/20\n",
      "100/100 [==============================] - 381s 4s/step - loss: 3.4152 - accuracy: 0.2531 - val_loss: 2.8382 - val_accuracy: 0.2389\n",
      "Epoch 6/20\n",
      "100/100 [==============================] - 376s 4s/step - loss: 3.2719 - accuracy: 0.2617 - val_loss: 2.8132 - val_accuracy: 0.2375\n",
      "Epoch 7/20\n",
      "100/100 [==============================] - 379s 4s/step - loss: 3.2895 - accuracy: 0.2528 - val_loss: 2.7640 - val_accuracy: 0.2308\n",
      "Epoch 8/20\n",
      "100/100 [==============================] - 388s 4s/step - loss: 3.2016 - accuracy: 0.2600 - val_loss: 2.6999 - val_accuracy: 0.2336\n",
      "Epoch 9/20\n",
      "100/100 [==============================] - 382s 4s/step - loss: 3.1499 - accuracy: 0.2709 - val_loss: 2.6464 - val_accuracy: 0.2409\n",
      "Epoch 10/20\n",
      "100/100 [==============================] - 377s 4s/step - loss: 3.1035 - accuracy: 0.2773 - val_loss: 2.6289 - val_accuracy: 0.2302\n",
      "Epoch 11/20\n",
      "100/100 [==============================] - 387s 4s/step - loss: 3.0981 - accuracy: 0.2703 - val_loss: 2.6392 - val_accuracy: 0.2394\n",
      "Epoch 12/20\n",
      "100/100 [==============================] - 381s 4s/step - loss: 3.1436 - accuracy: 0.2673 - val_loss: 2.6294 - val_accuracy: 0.2173\n",
      "Epoch 13/20\n",
      "100/100 [==============================] - 381s 4s/step - loss: 3.0943 - accuracy: 0.2617 - val_loss: 2.5980 - val_accuracy: 0.2342\n",
      "Epoch 14/20\n",
      "100/100 [==============================] - 383s 4s/step - loss: 3.0883 - accuracy: 0.2770 - val_loss: 2.5936 - val_accuracy: 0.2391\n",
      "Epoch 15/20\n",
      "100/100 [==============================] - 378s 4s/step - loss: 3.0020 - accuracy: 0.2730 - val_loss: 2.5723 - val_accuracy: 0.2408\n",
      "Epoch 16/20\n",
      "100/100 [==============================] - 381s 4s/step - loss: 2.9825 - accuracy: 0.2775 - val_loss: 2.5939 - val_accuracy: 0.2420\n",
      "Epoch 17/20\n",
      "100/100 [==============================] - 388s 4s/step - loss: 3.1560 - accuracy: 0.2609 - val_loss: 2.5718 - val_accuracy: 0.2372\n",
      "Epoch 18/20\n",
      "100/100 [==============================] - 387s 4s/step - loss: 2.9540 - accuracy: 0.2850 - val_loss: 2.5837 - val_accuracy: 0.2402\n",
      "Epoch 19/20\n",
      "100/100 [==============================] - 383s 4s/step - loss: 3.0051 - accuracy: 0.2770 - val_loss: 2.5729 - val_accuracy: 0.2414\n",
      "Epoch 20/20\n",
      "100/100 [==============================] - 388s 4s/step - loss: 3.0129 - accuracy: 0.2597 - val_loss: 2.5449 - val_accuracy: 0.2411\n"
     ]
    }
   ],
   "source": [
    "model = Build_CoattentionModel()\n",
    "l2_alpha = 0.001\n",
    "ModelName = 'Coattention'\n",
    "history = model.fit(dataset_train, epochs = 20, steps_per_epoch=100, validation_data=dataset_val,validation_steps=100)"
   ]
  },
  {
   "cell_type": "code",
   "execution_count": 63,
   "metadata": {},
   "outputs": [],
   "source": [
    "model.save('Models/coattention dropout 0.5.h5')"
   ]
  },
  {
   "cell_type": "code",
   "execution_count": 64,
   "metadata": {},
   "outputs": [
    {
     "data": {
      "image/png": "[encoded data removed]",
      "text/plain": [
       "<Figure size 432x288 with 1 Axes>"
      ]
     },
     "metadata": {
      "needs_background": "light"
     },
     "output_type": "display_data"
    },
    {
     "data": {
      "image/png": "[encoded data removed]",
      "text/plain": [
       "<Figure size 432x288 with 1 Axes>"
      ]
     },
     "metadata": {
      "needs_background": "light"
     },
     "output_type": "display_data"
    }
   ],
   "source": [
    "# summarize history for accuracy\n",
    "plt.plot(history.history['accuracy'])\n",
    "plt.plot(history.history['val_accuracy'])\n",
    "plt.title('Coattention Model Dropout (0.5) accuracy')\n",
    "plt.ylabel('Accuracy')\n",
    "plt.xlabel('Epoch')\n",
    "plt.legend(['train', 'val'], loc='upper left')\n",
    "plt.show()\n",
    "# summarize history for loss\n",
    "plt.plot(history.history['loss'])\n",
    "plt.plot(history.history['val_loss'])\n",
    "plt.title('Coattention Model Dropout (0.5) loss')\n",
    "plt.ylabel('loss')\n",
    "plt.xlabel('epoch')\n",
    "plt.legend(['train', 'val'], loc='upper left')\n",
    "plt.show()"
   ]
  },
  {
   "cell_type": "code",
   "execution_count": null,
   "metadata": {},
   "outputs": [],
   "source": []
  },
  {
   "cell_type": "code",
   "execution_count": null,
   "metadata": {},
   "outputs": [],
   "source": []
  }
 ],
 "metadata": {
  "kernelspec": {
   "display_name": "Python 3",
   "language": "python",
   "name": "python3"
  },
  "language_info": {
   "codemirror_mode": {
    "name": "ipython",
    "version": 3
   },
   "file_extension": ".py",
   "mimetype": "text/x-python",
   "name": "python",
   "nbconvert_exporter": "python",
   "pygments_lexer": "ipython3",
   "version": "3.8.5"
  }
 },
 "nbformat": 4,
 "nbformat_minor": 4
}
