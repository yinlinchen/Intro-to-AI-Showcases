{
 "cells": [
  {
   "cell_type": "code",
   "execution_count": 1,
   "metadata": {},
   "outputs": [
    {
     "name": "stdout",
     "output_type": "stream",
     "text": [
      "%pylab is deprecated, use %matplotlib inline and import the required libraries.\n",
      "Populating the interactive namespace from numpy and matplotlib\n"
     ]
    }
   ],
   "source": [
    "#importing packages\n",
    "import warnings\n",
    "warnings.filterwarnings(\"ignore\")\n",
    "\n",
    "import pickle\n",
    "import os\n",
    "import pandas as pd\n",
    "import random as rn\n",
    "import numpy as np\n",
    "import tensorflow as tf\n",
    "# tf.enable_eager_execution()\n",
    "\n",
    "from sklearn.preprocessing import LabelBinarizer\n",
    "from tensorflow.keras.regularizers import l1,l2\n",
    "from tqdm import tqdm\n",
    "import heapq\n",
    "from sklearn.utils import shuffle\n",
    "%pylab inline\n",
    "import matplotlib.pyplot as plt\n",
    "import matplotlib.image as mpimg\n",
    "\n",
    "from sklearn.model_selection import train_test_split"
   ]
  },
  {
   "cell_type": "code",
   "execution_count": 2,
   "metadata": {},
   "outputs": [],
   "source": [
    "currentDirectory = \"./\"\n",
    "dataDirectory = currentDirectory\n",
    "imageDirectory = dataDirectory + \"image_data/train2014/\"\n",
    "val_imageDirectory = dataDirectory + \"image_data/val2014/\"\n",
    "modelsDirectory = currentDirectory + \"models/\"\n",
    "img_width = 224\n",
    "img_height = 224\n",
    "\n",
    "BATCH_SIZE = 64\n",
    "BUFFER_SIZE = 300"
   ]
  },
  {
   "cell_type": "code",
   "execution_count": 3,
   "metadata": {},
   "outputs": [],
   "source": [
    "data = pd.read_csv(dataDirectory + 'image_text_data.csv')\n",
    "val_data = pd.read_csv(dataDirectory + 'val_image_text_data.csv')"
   ]
  },
  {
   "cell_type": "code",
   "execution_count": 4,
   "metadata": {},
   "outputs": [],
   "source": [
    "data.dropna(inplace = True)\n",
    "val_data.dropna(inplace = True)"
   ]
  },
  {
   "cell_type": "code",
   "execution_count": 5,
   "metadata": {},
   "outputs": [],
   "source": [
    "contractions = { \n",
    "\"ain't\": \"am not\",\"aren't\": \"are not\",\"can't\": \"cannot\",\"can't've\": \"cannot have\",\"'cause\": \"because\",\"could've\": \"could have\",\"couldn't\": \"could not\",\n",
    "\"couldn't've\": \"could not have\",\"didn't\": \"did not\",\"doesn't\": \"does not\",\"don't\": \"do not\",\"hadn't\": \"had not\",\"hadn't've\": \"had not have\",\n",
    "\"hasn't\": \"has not\",\"haven't\": \"have not\",\"he'd\": \"he would\",\"he'd've\": \"he would have\",\"he'll\": \"he will\",\"he's\": \"he is\",\"how'd\": \"how did\",\n",
    "\"how'll\": \"how will\",\"how's\": \"how is\",\"i'd\": \"i would\",\"i'll\": \"i will\",\"i'm\": \"i am\",\"i've\": \"i have\",\"isn't\": \"is not\",\"it'd\": \"it would\",\n",
    "\"it'll\": \"it will\",\"it's\": \"it is\",\"let's\": \"let us\",\"ma'am\": \"madam\",\"mayn't\": \"may not\",\"might've\": \"might have\",\"mightn't\": \"might not\",\n",
    "\"must've\": \"must have\",\"mustn't\": \"must not\",\"needn't\": \"need not\",\"oughtn't\": \"ought not\",\"shan't\": \"shall not\",\"sha'n't\": \"shall not\",\"she'd\": \"she would\",\n",
    "\"she'll\": \"she will\",\"she's\": \"she is\",\"should've\": \"should have\",\"shouldn't\": \"should not\",\"that'd\": \"that would\",\"that's\": \"that is\",\"there'd\": \"there had\",\n",
    "\"there's\": \"there is\",\"they'd\": \"they would\",\"they'll\": \"they will\",\"they're\": \"they are\",\"they've\": \"they have\",\"wasn't\": \"was not\",\"we'd\": \"we would\",\n",
    "\"we'll\": \"we will\",\"we're\": \"we are\",\"we've\": \"we have\",\"weren't\": \"were not\",\"what'll\": \"what will\",\"what're\": \"what are\",\"what's\": \"what is\",\n",
    "\"what've\": \"what have\",\"where'd\": \"where did\",\"where's\": \"where is\",\"who'll\": \"who will\",\"who's\": \"who is\",\"won't\": \"will not\",\"wouldn't\": \"would not\",\n",
    "\"you'd\": \"you would\",\"you'll\": \"you will\",\"you're\": \"you are\"\n",
    "}\n",
    "\n",
    "def preprocess_text(text):\n",
    "    '''Given a text this function removes the punctuations and returns the remaining text string'''\n",
    "    new_text = \"\"\n",
    "    text = text.lower()\n",
    "    i = 0\n",
    "    for word in text.split():\n",
    "        if i==0:\n",
    "            new_text = contractions.get(word,word)\n",
    "        else:\n",
    "            new_text = new_text + \" \" + contractions.get(word,word)\n",
    "        i += 1\n",
    "    return new_text.replace(\"'s\", '')"
   ]
  },
  {
   "cell_type": "code",
   "execution_count": 6,
   "metadata": {},
   "outputs": [],
   "source": [
    "data['multiple_choice_answer'] = data['multiple_choice_answer'].apply(lambda x: preprocess_text(x))\n",
    "val_data['multiple_choice_answer'] = val_data['multiple_choice_answer'].apply(lambda x: preprocess_text(x))"
   ]
  },
  {
   "cell_type": "code",
   "execution_count": 7,
   "metadata": {},
   "outputs": [
    {
     "data": {
      "text/plain": [
       "(443757, 214353)"
      ]
     },
     "execution_count": 7,
     "metadata": {},
     "output_type": "execute_result"
    }
   ],
   "source": [
    "# X_train, X_val = train_test_split(data, test_size=0.2, random_state=42)\n",
    "X_train = data\n",
    "X_val = val_data\n",
    "del data, val_data\n",
    "len(X_train), len(X_val)"
   ]
  },
  {
   "cell_type": "code",
   "execution_count": 8,
   "metadata": {},
   "outputs": [],
   "source": [
    "all_classes = X_train['multiple_choice_answer'].values\n",
    "class_frequency = {}\n",
    "\n",
    "for _cls in all_classes:\n",
    "    if(class_frequency.get(_cls,-1)>0):\n",
    "        class_frequency[_cls] += 1\n",
    "    else:\n",
    "        class_frequency[_cls] = 1"
   ]
  },
  {
   "cell_type": "code",
   "execution_count": 9,
   "metadata": {},
   "outputs": [
    {
     "data": {
      "image/png": "[encoded data removed]",
      "text/plain": [
       "<Figure size 432x288 with 1 Axes>"
      ]
     },
     "metadata": {
      "needs_background": "light"
     },
     "output_type": "display_data"
    }
   ],
   "source": [
    "sort_class_frequency = sorted(list(class_frequency.items()), key = lambda x: x[1],reverse=True)   \n",
    "\n",
    "plt.plot([x[1] for x in sort_class_frequency[:30]])\n",
    "i=np.arange(30)\n",
    "plt.title(\"Frequency of top 30 Classes\")\n",
    "plt.xlabel(\"Tags\")\n",
    "plt.ylabel(\"Counts\")\n",
    "plt.xticks(i,[x[0] for x in sort_class_frequency[:30]])\n",
    "plt.xticks(rotation=90)\n",
    "plt.show()"
   ]
  },
  {
   "cell_type": "code",
   "execution_count": 10,
   "metadata": {},
   "outputs": [],
   "source": [
    "common_tags = heapq.nlargest(1000, class_frequency, key = class_frequency.get)"
   ]
  },
  {
   "cell_type": "code",
   "execution_count": 11,
   "metadata": {},
   "outputs": [],
   "source": [
    "# take the top 1000 classes\n",
    "X_train['multiple_choice_answer'] =  X_train['multiple_choice_answer'].apply(lambda x: x if x in common_tags else '')\n",
    "\n",
    "# removing question which has empty tags\n",
    "X_train = X_train[X_train['multiple_choice_answer'].apply(lambda x: len(x)>0)]"
   ]
  },
  {
   "cell_type": "code",
   "execution_count": 12,
   "metadata": {},
   "outputs": [
    {
     "name": "stdout",
     "output_type": "stream",
     "text": [
      "Number of clasess:  1000\n",
      "Shape of Answer Vectors in Train Data:  (388252, 1000)\n",
      "Shape of Answer Vectors in Validation Data:  (214353, 1000)\n"
     ]
    }
   ],
   "source": [
    "label_encoder = LabelBinarizer()\n",
    "answer_vector_train = label_encoder.fit_transform(X_train['multiple_choice_answer'].apply(lambda x: x).values)\n",
    "answer_vector_val = label_encoder.transform(X_val['multiple_choice_answer'].apply(lambda x: x).values)\n",
    "\n",
    "ans_vocab = {l: i for i, l in enumerate(label_encoder.classes_)}\n",
    "\n",
    "print(\"Number of clasess: \", len(ans_vocab))\n",
    "print(\"Shape of Answer Vectors in Train Data: \", answer_vector_train.shape)\n",
    "print(\"Shape of Answer Vectors in Validation Data: \", answer_vector_val.shape)"
   ]
  },
  {
   "cell_type": "markdown",
   "metadata": {},
   "source": [
    "### Question vectors"
   ]
  },
  {
   "cell_type": "code",
   "execution_count": 13,
   "metadata": {},
   "outputs": [],
   "source": [
    "def preprocess_question(text):\n",
    "    '''Given a text this function removes the punctuations and returns the remaining text string'''\n",
    "    new_text = \"<start>\"\n",
    "    text = text.lower()\n",
    "    for word in text.split():\n",
    "        new_text = new_text + \" \" + contractions.get(word, word)\n",
    "    new_text = new_text + \" <end>\"\n",
    "    return new_text.replace(\"'s\", '')"
   ]
  },
  {
   "cell_type": "code",
   "execution_count": 14,
   "metadata": {},
   "outputs": [],
   "source": [
    "X_train['question'] = X_train['question'].apply(lambda x: preprocess_question(x))\n",
    "X_val['question'] = X_val['question'].apply(lambda x: preprocess_question(x))"
   ]
  },
  {
   "cell_type": "code",
   "execution_count": 15,
   "metadata": {},
   "outputs": [
    {
     "name": "stdout",
     "output_type": "stream",
     "text": [
      "Number of words in tokenizer: 12450\n",
      "Shape of Question Vectors in Train Data:  (388252, 24)\n"
     ]
    }
   ],
   "source": [
    "#tokenization\n",
    "tokenizer = tf.keras.preprocessing.text.Tokenizer(oov_token = \"<unk>\", filters = '!\"#$%&()*+.,-/:;=?@[\\]^_`{|}~ ')\n",
    "tokenizer.fit_on_texts(X_train['question'].values)\n",
    "train_question_seqs = tokenizer.texts_to_sequences(X_train['question'].values)\n",
    "# val_question_seqs = tokenizer.texts_to_sequences(X_val['question'].values)\n",
    "\n",
    "print(\"Number of words in tokenizer:\", len(tokenizer.word_index))\n",
    "ques_vocab = tokenizer.word_index\n",
    "\n",
    "#Padding\n",
    "#tokenizer.word_index['<pad>'] = 0\n",
    "#tokenizer.index_word[0] = '<pad>'\n",
    "question_vector_train = tf.keras.preprocessing.sequence.pad_sequences(train_question_seqs, padding='post')\n",
    "# question_vector_val = tf.keras.preprocessing.sequence.pad_sequences(val_question_seqs,padding='post',maxlen=question_vector_train.shape[1])\n",
    "\n",
    "print(\"Shape of Question Vectors in Train Data: \", question_vector_train.shape)\n",
    "# print(\"Shape of Question Vectors in Validation Data: \", question_vector_val.shape)"
   ]
  },
  {
   "cell_type": "markdown",
   "metadata": {},
   "source": [
    "### Image features"
   ]
  },
  {
   "cell_type": "code",
   "execution_count": 16,
   "metadata": {},
   "outputs": [],
   "source": [
    "image_paths_train = X_train['image_id'].apply(lambda x:  imageDirectory + 'COCO_train2014_' + '%012d.jpg' % (x)).values\n",
    "image_paths_val = X_val['image_id'].apply(lambda x:  val_imageDirectory + 'COCO_val2014_' + '%012d.jpg' % (x)).values\n",
    "\n",
    "with open('./all_image_dict.pickle', 'rb') as handle:\n",
    "    all_image_dict = pickle.load(handle)\n",
    "    \n",
    "with open(dataDirectory + 'val_image_dict.pickle', 'rb') as handle:\n",
    "    val_image_dict = pickle.load(handle)\n",
    "    \n",
    "all_image_dict.update(val_image_dict)\n",
    "del val_image_dict"
   ]
  },
  {
   "cell_type": "code",
   "execution_count": 17,
   "metadata": {},
   "outputs": [
    {
     "data": {
      "text/plain": [
       "(1, 7, 7, 512)"
      ]
     },
     "execution_count": 17,
     "metadata": {},
     "output_type": "execute_result"
    }
   ],
   "source": [
    "list(all_image_dict.values())[0].shape"
   ]
  },
  {
   "cell_type": "markdown",
   "metadata": {},
   "source": [
    "### Dataset"
   ]
  },
  {
   "cell_type": "code",
   "execution_count": 17,
   "metadata": {},
   "outputs": [],
   "source": [
    "model = tf.keras.models.load_model('./final_models/final_baseline_model_50epochs.h5')"
   ]
  },
  {
   "cell_type": "code",
   "execution_count": 19,
   "metadata": {},
   "outputs": [],
   "source": [
    "# model.summary()"
   ]
  },
  {
   "cell_type": "code",
   "execution_count": 21,
   "metadata": {},
   "outputs": [],
   "source": [
    "def get_imageTensor(img, ques, qtype, answer,atype,answers):\n",
    "#     img_tensor = np.load(img.decode('utf-8').replace(imageDirectory,imageNumpyDirectory).replace(\".jpg\",\"\") + '.npy')\n",
    "#     img_tensor = np.reshape(img_tensor,(-1,img_tensor.shape[-1]))\n",
    "    img_tensor = all_image_dict[img.decode('utf-8')]\n",
    "    img_tensor = tf.squeeze(img_tensor)\n",
    "    return img_tensor, ques, qtype, answer, atype, answers\n",
    "\n",
    "def createDataset(image_paths,question_vector,question_type,answer_vector,answer_type,answers):\n",
    "    dataset = tf.data.Dataset.from_tensor_slices((image_paths, question_vector.astype(np.float32), question_type,answer_vector,answer_type,answers))\n",
    "\n",
    "    # using map to load the numpy files in parallel\n",
    "    dataset = dataset.map(lambda img, ques, qtype, answer, atype,answers : tf.numpy_function(get_imageTensor, [img, ques, qtype, answer, atype,answers], \n",
    "                                                                                     [tf.float32, tf.float32, tf.string, tf.int64, tf.string,tf.string]),\n",
    "                                      num_parallel_calls = tf.data.experimental.AUTOTUNE)\n",
    "    # shuffling and batching\n",
    "    dataset = dataset.batch(BATCH_SIZE)\n",
    "    dataset = dataset.prefetch(buffer_size = tf.data.experimental.AUTOTUNE)\n",
    "\n",
    "    return dataset"
   ]
  },
  {
   "cell_type": "code",
   "execution_count": 22,
   "metadata": {},
   "outputs": [],
   "source": [
    "image_paths_val = X_val['image_id'].apply(lambda x:  val_imageDirectory + 'COCO_val2014_' + '%012d.jpg' % (x)).values\n",
    "answer_vector_val = label_encoder.transform(X_val['multiple_choice_answer'].apply(lambda x: x).values)\n",
    "# answer_vector_val = answer_vector_val.toarray()\n",
    "answer_type = X_val['answer_type'].values \n",
    "answers = X_val['answers'].values\n",
    "\n",
    "val_question_seqs = tokenizer.texts_to_sequences(X_val['question'].values)\n",
    "question_vector_val = tf.keras.preprocessing.sequence.pad_sequences(val_question_seqs,padding='post',maxlen=24)\n",
    "\n",
    "question_type = X_val['question_type'].values \n",
    "\n",
    "dataset_val = createDataset(image_paths_val, question_vector_val, question_type, answer_vector_val,answer_type,answers)"
   ]
  },
  {
   "cell_type": "code",
   "execution_count": 23,
   "metadata": {},
   "outputs": [
    {
     "data": {
      "text/plain": [
       "3349.265625"
      ]
     },
     "execution_count": 23,
     "metadata": {},
     "output_type": "execute_result"
    }
   ],
   "source": [
    "len(X_val)/64"
   ]
  },
  {
   "cell_type": "code",
   "execution_count": 24,
   "metadata": {},
   "outputs": [
    {
     "name": "stderr",
     "output_type": "stream",
     "text": [
      "3350it [05:13, 10.69it/s]\n"
     ]
    }
   ],
   "source": [
    "error_dict = {  _qtype : { 'top_1' : 0,'top_2' : 0,'top_3' : 0 ,'top_5' : 0,'count' : 0 } for _qtype in np.unique(question_type) }\n",
    "actual_list = []\n",
    "pred_list = []\n",
    "\n",
    "for (batch, (img_tensor, question, qtype, answer,atype,answers)) in tqdm(enumerate(dataset_val)):\n",
    "    y_pred = model.predict([img_tensor,question])\n",
    "\n",
    "    for i in range(y_pred.shape[0]):\n",
    "        _qtype = qtype[i].numpy().decode('utf-8')\n",
    "        _atype = atype[i].numpy().decode('utf-8')\n",
    "        error_dict[_qtype]['count'] += 1 \n",
    "        \n",
    "        for _k in [1]:#[1,2,3,5]:\n",
    "            if _atype == 'yes/no' and _k > 1:\n",
    "                top_k = tf.math.top_k(y_pred, k = 1 ).indices.numpy()[i]\n",
    "            else:\n",
    "                top_k = tf.math.top_k(y_pred, k = _k ).indices.numpy()[i]\n",
    "\n",
    "            pred_classes = np.zeros(y_pred.shape[1])\n",
    "            pred_classes[top_k] = 1\n",
    "            actual_list.append(answers[i])\n",
    "            pred_list.append(pred_classes)\n",
    "#             if np.dot(pred_classes,answer[i]) > 0:\n",
    "#                 error_dict[_qtype]['top_' + str(_k)] += 1"
   ]
  },
  {
   "cell_type": "code",
   "execution_count": 28,
   "metadata": {},
   "outputs": [
    {
     "name": "stderr",
     "output_type": "stream",
     "text": [
      "214353it [00:29, 7291.75it/s]\n"
     ]
    },
    {
     "data": {
      "text/plain": [
       "43.99347493775611"
      ]
     },
     "execution_count": 28,
     "metadata": {},
     "output_type": "execute_result"
    }
   ],
   "source": [
    "def model_metric(predictions, truths):\n",
    "    total = 0\n",
    "    correct_val = 0.0\n",
    "    for prediction, truth in tqdm(zip(predictions, truths)):\n",
    "        truth = ast.literal_eval(truth.numpy().decode('utf-8'))#json.loads(truth.numpy().decode('utf-8').replace(\"\\'\", \"\\\"\"))\n",
    "        prediction = label_encoder.inverse_transform(np.array([prediction]))[0]\n",
    "        temp_count = 0\n",
    "        total += 1\n",
    "        for _truth in truth:\n",
    "            if prediction == _truth['answer']:\n",
    "                temp_count += 1\n",
    "        # accuracy = min((# humans that provided that answer/3) , 1)\n",
    "        if temp_count > 2:\n",
    "            correct_val += 1\n",
    "        else:\n",
    "            correct_val += float(temp_count) / 3\n",
    "    return (correct_val / total)*100\n",
    "\n",
    "model_metric(pred_list, actual_list)"
   ]
  },
  {
   "cell_type": "code",
   "execution_count": null,
   "metadata": {},
   "outputs": [],
   "source": []
  }
 ],
 "metadata": {
  "kernelspec": {
   "display_name": "Python [conda env:.conda-dl_exam] *",
   "language": "python",
   "name": "conda-env-.conda-dl_exam-py"
  },
  "language_info": {
   "codemirror_mode": {
    "name": "ipython",
    "version": 3
   },
   "file_extension": ".py",
   "mimetype": "text/x-python",
   "name": "python",
   "nbconvert_exporter": "python",
   "pygments_lexer": "ipython3",
   "version": "3.9.7"
  }
 },
 "nbformat": 4,
 "nbformat_minor": 2
}
