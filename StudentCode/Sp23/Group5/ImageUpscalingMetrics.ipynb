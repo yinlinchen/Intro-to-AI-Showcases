{
  "nbformat": 4,
  "nbformat_minor": 0,
  "metadata": {
    "colab": {
      "provenance": []
    },
    "kernelspec": {
      "name": "python3",
      "display_name": "Python 3"
    },
    "language_info": {
      "name": "python"
    },
    "gpuClass": "standard"
  },
  "cells": [
    {
      "cell_type": "markdown",
      "source": [
        "# Mount Google Drive"
      ],
      "metadata": {
        "id": "OnRNaGtOE03N"
      }
    },
    {
      "cell_type": "code",
      "source": [
        "from google.colab import drive\n",
        "drive.mount('/content/drive')"
      ],
      "metadata": {
        "id": "ejjszvNPFeCd",
        "colab": {
          "base_uri": "https://localhost:8080/"
        },
        "outputId": "95e69a59-4174-4d7a-f2e4-d14e4335cc4f"
      },
      "execution_count": null,
      "outputs": [
        {
          "output_type": "stream",
          "name": "stdout",
          "text": [
            "Drive already mounted at /content/drive; to attempt to forcibly remount, call drive.mount(\"/content/drive\", force_remount=True).\n"
          ]
        }
      ]
    },
    {
      "cell_type": "markdown",
      "source": [
        "# PSNR"
      ],
      "metadata": {
        "id": "_z2rfO7W9Bs3"
      }
    },
    {
      "cell_type": "code",
      "metadata": {
        "id": "Aqy_Nu8hFUBt"
      },
      "source": [
        "import math\n",
        "import numpy as np\n",
        "\n",
        "def calculate_psnr(img1, img2):\n",
        "    # img1 and img2 have range [0, 255]\n",
        "    # img1 = img1.astype(np.float64)\n",
        "    # img2 = img2.astype(np.float64)\n",
        "    mse = np.mean((img1 - img2)**2)\n",
        "    if mse == 0:\n",
        "        return float('inf')\n",
        "    return 20 * math.log10(255.0 / math.sqrt(mse))"
      ],
      "execution_count": null,
      "outputs": []
    },
    {
      "cell_type": "markdown",
      "source": [
        "# SSIM"
      ],
      "metadata": {
        "id": "EJ7lBnJi9Jgp"
      }
    },
    {
      "cell_type": "code",
      "source": [
        "import math\n",
        "import numpy as np\n",
        "import cv2\n",
        "\n",
        "def ssim(img1, img2):\n",
        "    C1 = (0.01 * 255)**2\n",
        "    C2 = (0.03 * 255)**2\n",
        "\n",
        "    img1 = img1.astype(np.float64)\n",
        "    img2 = img2.astype(np.float64)\n",
        "    kernel = cv2.getGaussianKernel(11, 1.5)\n",
        "    window = np.outer(kernel, kernel.transpose())\n",
        "\n",
        "    mu1 = cv2.filter2D(img1, -1, window)[5:-5, 5:-5]  # valid\n",
        "    mu2 = cv2.filter2D(img2, -1, window)[5:-5, 5:-5]\n",
        "    mu1_sq = mu1**2\n",
        "    mu2_sq = mu2**2\n",
        "    mu1_mu2 = mu1 * mu2\n",
        "    sigma1_sq = cv2.filter2D(img1**2, -1, window)[5:-5, 5:-5] - mu1_sq\n",
        "    sigma2_sq = cv2.filter2D(img2**2, -1, window)[5:-5, 5:-5] - mu2_sq\n",
        "    sigma12 = cv2.filter2D(img1 * img2, -1, window)[5:-5, 5:-5] - mu1_mu2\n",
        "\n",
        "    ssim_map = ((2 * mu1_mu2 + C1) * (2 * sigma12 + C2)) / ((mu1_sq + mu2_sq + C1) *\n",
        "                                                            (sigma1_sq + sigma2_sq + C2))\n",
        "    return ssim_map.mean()\n",
        "\n",
        "\n",
        "def calculate_ssim(img1, img2):\n",
        "    '''calculate SSIM\n",
        "    the same outputs as MATLAB's\n",
        "    img1, img2: [0, 255]\n",
        "    '''\n",
        "    if not img1.shape == img2.shape:\n",
        "        raise ValueError('Input images must have the same dimensions.')\n",
        "    if img1.ndim == 2:\n",
        "        return ssim(img1, img2)\n",
        "    elif img1.ndim == 3:\n",
        "        if img1.shape[2] == 3:\n",
        "            ssims = []\n",
        "            for i in range(3):\n",
        "                ssims.append(ssim(img1, img2))\n",
        "            return np.array(ssims).mean()\n",
        "        elif img1.shape[2] == 1:\n",
        "            return ssim(np.squeeze(img1), np.squeeze(img2))\n",
        "    else:\n",
        "        raise ValueError('Wrong input image dimensions.')"
      ],
      "metadata": {
        "id": "AJ458RMYFj6J"
      },
      "execution_count": null,
      "outputs": []
    },
    {
      "cell_type": "markdown",
      "source": [
        "# SSIM by CV2 lib"
      ],
      "metadata": {
        "id": "HsTGX-9gJXiu"
      }
    },
    {
      "cell_type": "code",
      "source": [
        "from skimage.metrics import structural_similarity\n",
        "import cv2\n",
        "import numpy as np\n",
        "\n",
        "def calculate_ssim_by_lib(img1, img2):\n",
        "\n",
        "  # Convert images to grayscale\n",
        "  before_gray = cv2.cvtColor(img1, cv2.COLOR_BGR2GRAY)\n",
        "  after_gray = cv2.cvtColor(img2, cv2.COLOR_BGR2GRAY)\n",
        "\n",
        "  # Compute SSIM between two images\n",
        "  (score, diff) = structural_similarity(before_gray, after_gray, full=True)\n",
        "\n",
        "  return score"
      ],
      "metadata": {
        "id": "w5F04CSuJa7V"
      },
      "execution_count": null,
      "outputs": []
    },
    {
      "cell_type": "markdown",
      "source": [
        "# PSNR by CV2 lib"
      ],
      "metadata": {
        "id": "n9IZI2MPLl-U"
      }
    },
    {
      "cell_type": "code",
      "source": [
        "def calculate_psnr_by_lib(img1, img2):\n",
        "  return cv2.PSNR(img1, img2)"
      ],
      "metadata": {
        "id": "DwF4COTVLrKE"
      },
      "execution_count": null,
      "outputs": []
    },
    {
      "cell_type": "markdown",
      "source": [
        "# Result"
      ],
      "metadata": {
        "id": "sEU9Y3m_Eb_S"
      }
    },
    {
      "cell_type": "markdown",
      "source": [
        "# Evaluate one image"
      ],
      "metadata": {
        "id": "qAL5TOysEuwQ"
      }
    },
    {
      "cell_type": "code",
      "source": [
        "import cv2\n",
        "\n",
        "# read an image\n",
        "img1 = cv2.imread(\"/content/drive/MyDrive/Colab Notebooks/original/000.jpg\")\n",
        "img2 = cv2.imread(\"/content/drive/MyDrive/Colab Notebooks/output/000.png\")\n",
        "\n",
        "# Get the size of the second image\n",
        "height, width, _ = img1.shape\n",
        "\n",
        "# Resize the first image to the same size as the second image\n",
        "img2 = cv2.resize(img2, (width, height))\n",
        "\n",
        "psnr = calculate_psnr_by_lib(img1, img2)\n",
        "print(f'psnr={psnr}')\n",
        "\n",
        "ssim = calculate_ssim_by_lib(img1, img2)\n",
        "print(f'ssim={ssim}')"
      ],
      "metadata": {
        "id": "hXebihC_EDoa"
      },
      "execution_count": null,
      "outputs": []
    },
    {
      "cell_type": "markdown",
      "source": [
        "# Evaluate images in the folder"
      ],
      "metadata": {
        "id": "XhuLj9dEE5uM"
      }
    },
    {
      "cell_type": "code",
      "source": [
        "import cv2\n",
        "\n",
        "n = 100\n",
        "psnrSum = 0.0\n",
        "ssimSum = 0.0\n",
        "for i in range(n):\n",
        "  fileName = str(i).zfill(3)\n",
        "  # read an image\n",
        "  img1 = cv2.imread(f\"/content/drive/MyDrive/Colab Notebooks/original/{fileName}.jpg\")\n",
        "  img2 = cv2.imread(f\"/content/drive/MyDrive/Colab Notebooks/output/{fileName}.png\")\n",
        "\n",
        "  # Get the size of the second image\n",
        "  height, width, _ = img1.shape\n",
        "\n",
        "  # Resize the first image to the same size as the second image\n",
        "  img2 = cv2.resize(img2, (width, height))\n",
        "\n",
        "  print(f'fileName:{fileName}')\n",
        "\n",
        "  psnr = calculate_psnr_by_lib(img1, img2)\n",
        "  print(f'psnr={psnr}')\n",
        "\n",
        "  ssim = calculate_ssim_by_lib(img1, img2)\n",
        "  print(f'ssim={ssim}')\n",
        "\n",
        "  psnrSum += psnr\n",
        "  ssimSum += ssim\n",
        "\n",
        "print(f'Mean of PSNR={psnrSum/n}')\n",
        "print(f'Mean of SSIM={ssimSum/n}')"
      ],
      "metadata": {
        "id": "z4TmE1u5NIPe"
      },
      "execution_count": null,
      "outputs": []
    },
    {
      "cell_type": "markdown",
      "source": [
        "# Add Noise"
      ],
      "metadata": {
        "id": "AAX3gLAQbgjZ"
      }
    },
    {
      "cell_type": "code",
      "source": [
        "import cv2\n",
        "import numpy as np\n",
        "\n",
        "# Load the image\n",
        "img = cv2.imread(f\"/content/drive/MyDrive/Colab Notebooks/resized/000.jpg\")\n",
        "\n",
        "# Add Gaussian noise to the image\n",
        "mean = 0\n",
        "variance = 100\n",
        "sigma = np.sqrt(variance)\n",
        "gaussian = np.random.normal(mean, sigma, img.shape)\n",
        "noisy_img = np.zeros(img.shape, np.float32)\n",
        "if len(img.shape) == 2:\n",
        "    noisy_img = img + gaussian\n",
        "else:\n",
        "    noisy_img[:, :, 0] = img[:, :, 0] + gaussian[:, :, 0]\n",
        "    noisy_img[:, :, 1] = img[:, :, 1] + gaussian[:, :, 1]\n",
        "    noisy_img[:, :, 2] = img[:, :, 2] + gaussian[:, :, 2]\n",
        "\n",
        "# Normalize pixel values to lie between 0 and 255\n",
        "cv2.normalize(noisy_img, noisy_img, 0, 255, cv2.NORM_MINMAX, dtype=-1)\n",
        "\n",
        "# Convert the pixel values to integers\n",
        "noisy_img = noisy_img.astype(np.uint8)\n",
        "\n",
        "# Save the noisy image\n",
        "cv2.imwrite(f\"/content/drive/MyDrive/Colab Notebooks/resized/noise_000.jpg\", noisy_img)"
      ],
      "metadata": {
        "colab": {
          "base_uri": "https://localhost:8080/"
        },
        "id": "p2k6s3dLW57e",
        "outputId": "25e71d76-1c9a-464f-c3c0-10d527b156a2"
      },
      "execution_count": null,
      "outputs": [
        {
          "output_type": "execute_result",
          "data": {
            "text/plain": [
              "True"
            ]
          },
          "metadata": {},
          "execution_count": 8
        }
      ]
    }
  ]
}