{
  "cells": [
    {
      "cell_type": "code",
      "execution_count": null,
      "metadata": {
        "id": "HY0R5ujB51mC"
      },
      "outputs": [],
      "source": [
        "import numpy as np\n",
        "from sklearn.model_selection import train_test_split\n",
        "import pandas as pd\n",
        "import time\n",
        "import os"
      ]
    },
    {
      "cell_type": "code",
      "execution_count": null,
      "metadata": {
        "colab": {
          "base_uri": "https://localhost:8080/"
        },
        "id": "ynNj7__MErjx",
        "outputId": "d0fb1399-b1d3-4276-efea-b8e48ed8c46f"
      },
      "outputs": [
        {
          "output_type": "stream",
          "name": "stdout",
          "text": [
            "Looking in indexes: https://pypi.org/simple, https://us-python.pkg.dev/colab-wheels/public/simple/\n",
            "Collecting opendatasets\n",
            "  Downloading opendatasets-0.1.22-py3-none-any.whl (15 kB)\n",
            "Requirement already satisfied: click in /usr/local/lib/python3.10/dist-packages (from opendatasets) (8.1.3)\n",
            "Requirement already satisfied: tqdm in /usr/local/lib/python3.10/dist-packages (from opendatasets) (4.65.0)\n",
            "Requirement already satisfied: kaggle in /usr/local/lib/python3.10/dist-packages (from opendatasets) (1.5.13)\n",
            "Requirement already satisfied: six>=1.10 in /usr/local/lib/python3.10/dist-packages (from kaggle->opendatasets) (1.16.0)\n",
            "Requirement already satisfied: certifi in /usr/local/lib/python3.10/dist-packages (from kaggle->opendatasets) (2022.12.7)\n",
            "Requirement already satisfied: urllib3 in /usr/local/lib/python3.10/dist-packages (from kaggle->opendatasets) (1.26.15)\n",
            "Requirement already satisfied: python-slugify in /usr/local/lib/python3.10/dist-packages (from kaggle->opendatasets) (8.0.1)\n",
            "Requirement already satisfied: python-dateutil in /usr/local/lib/python3.10/dist-packages (from kaggle->opendatasets) (2.8.2)\n",
            "Requirement already satisfied: requests in /usr/local/lib/python3.10/dist-packages (from kaggle->opendatasets) (2.27.1)\n",
            "Requirement already satisfied: text-unidecode>=1.3 in /usr/local/lib/python3.10/dist-packages (from python-slugify->kaggle->opendatasets) (1.3)\n",
            "Requirement already satisfied: charset-normalizer~=2.0.0 in /usr/local/lib/python3.10/dist-packages (from requests->kaggle->opendatasets) (2.0.12)\n",
            "Requirement already satisfied: idna<4,>=2.5 in /usr/local/lib/python3.10/dist-packages (from requests->kaggle->opendatasets) (3.4)\n",
            "Installing collected packages: opendatasets\n",
            "Successfully installed opendatasets-0.1.22\n",
            "Looking in indexes: https://pypi.org/simple, https://us-python.pkg.dev/colab-wheels/public/simple/\n",
            "Requirement already satisfied: pandas in /usr/local/lib/python3.10/dist-packages (1.5.3)\n",
            "Requirement already satisfied: python-dateutil>=2.8.1 in /usr/local/lib/python3.10/dist-packages (from pandas) (2.8.2)\n",
            "Requirement already satisfied: pytz>=2020.1 in /usr/local/lib/python3.10/dist-packages (from pandas) (2022.7.1)\n",
            "Requirement already satisfied: numpy>=1.21.0 in /usr/local/lib/python3.10/dist-packages (from pandas) (1.24.3)\n",
            "Requirement already satisfied: six>=1.5 in /usr/local/lib/python3.10/dist-packages (from python-dateutil>=2.8.1->pandas) (1.16.0)\n",
            "Looking in indexes: https://pypi.org/simple, https://us-python.pkg.dev/colab-wheels/public/simple/\n",
            "Collecting mediapipe\n",
            "  Downloading mediapipe-0.9.3.0-cp310-cp310-manylinux_2_17_x86_64.manylinux2014_x86_64.whl (33.9 MB)\n",
            "\u001b[2K     \u001b[90m━━━━━━━━━━━━━━━━━━━━━━━━━━━━━━━━━━━━━━━━\u001b[0m \u001b[32m33.9/33.9 MB\u001b[0m \u001b[31m28.6 MB/s\u001b[0m eta \u001b[36m0:00:00\u001b[0m\n",
            "\u001b[?25hRequirement already satisfied: matplotlib in /usr/local/lib/python3.10/dist-packages (from mediapipe) (3.7.1)\n",
            "Requirement already satisfied: opencv-contrib-python in /usr/local/lib/python3.10/dist-packages (from mediapipe) (4.7.0.72)\n",
            "Requirement already satisfied: absl-py in /usr/local/lib/python3.10/dist-packages (from mediapipe) (1.4.0)\n",
            "Requirement already satisfied: protobuf<4,>=3.11 in /usr/local/lib/python3.10/dist-packages (from mediapipe) (3.20.3)\n",
            "Requirement already satisfied: flatbuffers>=2.0 in /usr/local/lib/python3.10/dist-packages (from mediapipe) (23.3.3)\n",
            "Requirement already satisfied: attrs>=19.1.0 in /usr/local/lib/python3.10/dist-packages (from mediapipe) (23.1.0)\n",
            "Requirement already satisfied: numpy in /usr/local/lib/python3.10/dist-packages (from mediapipe) (1.24.3)\n",
            "Collecting sounddevice>=0.4.4\n",
            "  Downloading sounddevice-0.4.6-py3-none-any.whl (31 kB)\n",
            "Requirement already satisfied: CFFI>=1.0 in /usr/local/lib/python3.10/dist-packages (from sounddevice>=0.4.4->mediapipe) (1.15.1)\n",
            "Requirement already satisfied: cycler>=0.10 in /usr/local/lib/python3.10/dist-packages (from matplotlib->mediapipe) (0.11.0)\n",
            "Requirement already satisfied: kiwisolver>=1.0.1 in /usr/local/lib/python3.10/dist-packages (from matplotlib->mediapipe) (1.4.4)\n",
            "Requirement already satisfied: fonttools>=4.22.0 in /usr/local/lib/python3.10/dist-packages (from matplotlib->mediapipe) (4.39.3)\n",
            "Requirement already satisfied: pillow>=6.2.0 in /usr/local/lib/python3.10/dist-packages (from matplotlib->mediapipe) (8.4.0)\n",
            "Requirement already satisfied: python-dateutil>=2.7 in /usr/local/lib/python3.10/dist-packages (from matplotlib->mediapipe) (2.8.2)\n",
            "Requirement already satisfied: packaging>=20.0 in /usr/local/lib/python3.10/dist-packages (from matplotlib->mediapipe) (23.1)\n",
            "Requirement already satisfied: pyparsing>=2.3.1 in /usr/local/lib/python3.10/dist-packages (from matplotlib->mediapipe) (3.0.9)\n",
            "Requirement already satisfied: contourpy>=1.0.1 in /usr/local/lib/python3.10/dist-packages (from matplotlib->mediapipe) (1.0.7)\n",
            "Requirement already satisfied: pycparser in /usr/local/lib/python3.10/dist-packages (from CFFI>=1.0->sounddevice>=0.4.4->mediapipe) (2.21)\n",
            "Requirement already satisfied: six>=1.5 in /usr/local/lib/python3.10/dist-packages (from python-dateutil>=2.7->matplotlib->mediapipe) (1.16.0)\n",
            "Installing collected packages: sounddevice, mediapipe\n",
            "Successfully installed mediapipe-0.9.3.0 sounddevice-0.4.6\n",
            "Looking in indexes: https://pypi.org/simple, https://us-python.pkg.dev/colab-wheels/public/simple/\n",
            "Collecting pafy\n",
            "  Downloading pafy-0.5.5-py2.py3-none-any.whl (35 kB)\n",
            "Installing collected packages: pafy\n",
            "Successfully installed pafy-0.5.5\n"
          ]
        }
      ],
      "source": [
        "!pip install opendatasets\n",
        "!pip install pandas\n",
        "!pip install mediapipe\n",
        "!pip install pafy"
      ]
    },
    {
      "cell_type": "code",
      "execution_count": null,
      "metadata": {
        "colab": {
          "base_uri": "https://localhost:8080/"
        },
        "id": "S_cIDNRAiepi",
        "outputId": "1429c747-724a-4921-fb1c-940054835e56"
      },
      "outputs": [
        {
          "output_type": "stream",
          "name": "stdout",
          "text": [
            "Mounted at /content/drive\n"
          ]
        }
      ],
      "source": [
        "#Read images from dataset\n",
        "from google.colab import drive\n",
        "drive.mount('/content/drive')"
      ]
    },
    {
      "cell_type": "code",
      "execution_count": null,
      "metadata": {
        "colab": {
          "base_uri": "https://localhost:8080/"
        },
        "id": "gqByJk7uXZp1",
        "outputId": "9adc7b67-2411-4e47-9da4-ca26d0a0508b"
      },
      "outputs": [
        {
          "output_type": "stream",
          "name": "stdout",
          "text": [
            "\u001b[1;30;43mStreaming output truncated to the last 5000 lines.\u001b[0m\n",
            "  inflating: Human Action Recognition/train/Image_5499.jpg  \n",
            "  inflating: Human Action Recognition/train/Image_55.jpg  \n",
            "  inflating: Human Action Recognition/train/Image_550.jpg  \n",
            "  inflating: Human Action Recognition/train/Image_5500.jpg  \n",
            "  inflating: Human Action Recognition/train/Image_5501.jpg  \n",
            "  inflating: Human Action Recognition/train/Image_5502.jpg  \n",
            "  inflating: Human Action Recognition/train/Image_5503.jpg  \n",
            "  inflating: Human Action Recognition/train/Image_5504.jpg  \n",
            "  inflating: Human Action Recognition/train/Image_5505.jpg  \n",
            "  inflating: Human Action Recognition/train/Image_5506.jpg  \n",
            "  inflating: Human Action Recognition/train/Image_5507.jpg  \n",
            "  inflating: Human Action Recognition/train/Image_5508.jpg  \n",
            "  inflating: Human Action Recognition/train/Image_5509.jpg  \n",
            "  inflating: Human Action Recognition/train/Image_551.jpg  \n",
            "  inflating: Human Action Recognition/train/Image_5510.jpg  \n",
            "  inflating: Human Action Recognition/train/Image_5511.jpg  \n",
            "  inflating: Human Action Recognition/train/Image_5512.jpg  \n",
            "  inflating: Human Action Recognition/train/Image_5513.jpg  \n",
            "  inflating: Human Action Recognition/train/Image_5514.jpg  \n",
            "  inflating: Human Action Recognition/train/Image_5515.jpg  \n",
            "  inflating: Human Action Recognition/train/Image_5516.jpg  \n",
            "  inflating: Human Action Recognition/train/Image_5517.jpg  \n",
            "  inflating: Human Action Recognition/train/Image_5518.jpg  \n",
            "  inflating: Human Action Recognition/train/Image_5519.jpg  \n",
            "  inflating: Human Action Recognition/train/Image_552.jpg  \n",
            "  inflating: Human Action Recognition/train/Image_5520.jpg  \n",
            "  inflating: Human Action Recognition/train/Image_5521.jpg  \n",
            "  inflating: Human Action Recognition/train/Image_5522.jpg  \n",
            "  inflating: Human Action Recognition/train/Image_5523.jpg  \n",
            "  inflating: Human Action Recognition/train/Image_5524.jpg  \n",
            "  inflating: Human Action Recognition/train/Image_5525.jpg  \n",
            "  inflating: Human Action Recognition/train/Image_5526.jpg  \n",
            "  inflating: Human Action Recognition/train/Image_5527.jpg  \n",
            "  inflating: Human Action Recognition/train/Image_5528.jpg  \n",
            "  inflating: Human Action Recognition/train/Image_5529.jpg  \n",
            "  inflating: Human Action Recognition/train/Image_553.jpg  \n",
            "  inflating: Human Action Recognition/train/Image_5530.jpg  \n",
            "  inflating: Human Action Recognition/train/Image_5531.jpg  \n",
            "  inflating: Human Action Recognition/train/Image_5532.jpg  \n",
            "  inflating: Human Action Recognition/train/Image_5533.jpg  \n",
            "  inflating: Human Action Recognition/train/Image_5534.jpg  \n",
            "  inflating: Human Action Recognition/train/Image_5535.jpg  \n",
            "  inflating: Human Action Recognition/train/Image_5536.jpg  \n",
            "  inflating: Human Action Recognition/train/Image_5537.jpg  \n",
            "  inflating: Human Action Recognition/train/Image_5538.jpg  \n",
            "  inflating: Human Action Recognition/train/Image_5539.jpg  \n",
            "  inflating: Human Action Recognition/train/Image_554.jpg  \n",
            "  inflating: Human Action Recognition/train/Image_5540.jpg  \n",
            "  inflating: Human Action Recognition/train/Image_5541.jpg  \n",
            "  inflating: Human Action Recognition/train/Image_5542.jpg  \n",
            "  inflating: Human Action Recognition/train/Image_5543.jpg  \n",
            "  inflating: Human Action Recognition/train/Image_5544.jpg  \n",
            "  inflating: Human Action Recognition/train/Image_5545.jpg  \n",
            "  inflating: Human Action Recognition/train/Image_5546.jpg  \n",
            "  inflating: Human Action Recognition/train/Image_5547.jpg  \n",
            "  inflating: Human Action Recognition/train/Image_5548.jpg  \n",
            "  inflating: Human Action Recognition/train/Image_5549.jpg  \n",
            "  inflating: Human Action Recognition/train/Image_555.jpg  \n",
            "  inflating: Human Action Recognition/train/Image_5550.jpg  \n",
            "  inflating: Human Action Recognition/train/Image_5551.jpg  \n",
            "  inflating: Human Action Recognition/train/Image_5552.jpg  \n",
            "  inflating: Human Action Recognition/train/Image_5553.jpg  \n",
            "  inflating: Human Action Recognition/train/Image_5554.jpg  \n",
            "  inflating: Human Action Recognition/train/Image_5555.jpg  \n",
            "  inflating: Human Action Recognition/train/Image_5556.jpg  \n",
            "  inflating: Human Action Recognition/train/Image_5557.jpg  \n",
            "  inflating: Human Action Recognition/train/Image_5558.jpg  \n",
            "  inflating: Human Action Recognition/train/Image_5559.jpg  \n",
            "  inflating: Human Action Recognition/train/Image_556.jpg  \n",
            "  inflating: Human Action Recognition/train/Image_5560.jpg  \n",
            "  inflating: Human Action Recognition/train/Image_5561.jpg  \n",
            "  inflating: Human Action Recognition/train/Image_5562.jpg  \n",
            "  inflating: Human Action Recognition/train/Image_5563.jpg  \n",
            "  inflating: Human Action Recognition/train/Image_5564.jpg  \n",
            "  inflating: Human Action Recognition/train/Image_5565.jpg  \n",
            "  inflating: Human Action Recognition/train/Image_5566.jpg  \n",
            "  inflating: Human Action Recognition/train/Image_5567.jpg  \n",
            "  inflating: Human Action Recognition/train/Image_5568.jpg  \n",
            "  inflating: Human Action Recognition/train/Image_5569.jpg  \n",
            "  inflating: Human Action Recognition/train/Image_557.jpg  \n",
            "  inflating: Human Action Recognition/train/Image_5570.jpg  \n",
            "  inflating: Human Action Recognition/train/Image_5571.jpg  \n",
            "  inflating: Human Action Recognition/train/Image_5572.jpg  \n",
            "  inflating: Human Action Recognition/train/Image_5573.jpg  \n",
            "  inflating: Human Action Recognition/train/Image_5574.jpg  \n",
            "  inflating: Human Action Recognition/train/Image_5575.jpg  \n",
            "  inflating: Human Action Recognition/train/Image_5576.jpg  \n",
            "  inflating: Human Action Recognition/train/Image_5577.jpg  \n",
            "  inflating: Human Action Recognition/train/Image_5578.jpg  \n",
            "  inflating: Human Action Recognition/train/Image_5579.jpg  \n",
            "  inflating: Human Action Recognition/train/Image_558.jpg  \n",
            "  inflating: Human Action Recognition/train/Image_5580.jpg  \n",
            "  inflating: Human Action Recognition/train/Image_5581.jpg  \n",
            "  inflating: Human Action Recognition/train/Image_5582.jpg  \n",
            "  inflating: Human Action Recognition/train/Image_5583.jpg  \n",
            "  inflating: Human Action Recognition/train/Image_5584.jpg  \n",
            "  inflating: Human Action Recognition/train/Image_5585.jpg  \n",
            "  inflating: Human Action Recognition/train/Image_5586.jpg  \n",
            "  inflating: Human Action Recognition/train/Image_5587.jpg  \n",
            "  inflating: Human Action Recognition/train/Image_5588.jpg  \n",
            "  inflating: Human Action Recognition/train/Image_5589.jpg  \n",
            "  inflating: Human Action Recognition/train/Image_559.jpg  \n",
            "  inflating: Human Action Recognition/train/Image_5590.jpg  \n",
            "  inflating: Human Action Recognition/train/Image_5591.jpg  \n",
            "  inflating: Human Action Recognition/train/Image_5592.jpg  \n",
            "  inflating: Human Action Recognition/train/Image_5593.jpg  \n",
            "  inflating: Human Action Recognition/train/Image_5594.jpg  \n",
            "  inflating: Human Action Recognition/train/Image_5595.jpg  \n",
            "  inflating: Human Action Recognition/train/Image_5596.jpg  \n",
            "  inflating: Human Action Recognition/train/Image_5597.jpg  \n",
            "  inflating: Human Action Recognition/train/Image_5598.jpg  \n",
            "  inflating: Human Action Recognition/train/Image_5599.jpg  \n",
            "  inflating: Human Action Recognition/train/Image_56.jpg  \n",
            "  inflating: Human Action Recognition/train/Image_560.jpg  \n",
            "  inflating: Human Action Recognition/train/Image_5600.jpg  \n",
            "  inflating: Human Action Recognition/train/Image_5601.jpg  \n",
            "  inflating: Human Action Recognition/train/Image_5602.jpg  \n",
            "  inflating: Human Action Recognition/train/Image_5603.jpg  \n",
            "  inflating: Human Action Recognition/train/Image_5604.jpg  \n",
            "  inflating: Human Action Recognition/train/Image_5605.jpg  \n",
            "  inflating: Human Action Recognition/train/Image_5606.jpg  \n",
            "  inflating: Human Action Recognition/train/Image_5607.jpg  \n",
            "  inflating: Human Action Recognition/train/Image_5608.jpg  \n",
            "  inflating: Human Action Recognition/train/Image_5609.jpg  \n",
            "  inflating: Human Action Recognition/train/Image_561.jpg  \n",
            "  inflating: Human Action Recognition/train/Image_5610.jpg  \n",
            "  inflating: Human Action Recognition/train/Image_5611.jpg  \n",
            "  inflating: Human Action Recognition/train/Image_5612.jpg  \n",
            "  inflating: Human Action Recognition/train/Image_5613.jpg  \n",
            "  inflating: Human Action Recognition/train/Image_5614.jpg  \n",
            "  inflating: Human Action Recognition/train/Image_5615.jpg  \n",
            "  inflating: Human Action Recognition/train/Image_5616.jpg  \n",
            "  inflating: Human Action Recognition/train/Image_5617.jpg  \n",
            "  inflating: Human Action Recognition/train/Image_5618.jpg  \n",
            "  inflating: Human Action Recognition/train/Image_5619.jpg  \n",
            "  inflating: Human Action Recognition/train/Image_562.jpg  \n",
            "  inflating: Human Action Recognition/train/Image_5620.jpg  \n",
            "  inflating: Human Action Recognition/train/Image_5621.jpg  \n",
            "  inflating: Human Action Recognition/train/Image_5622.jpg  \n",
            "  inflating: Human Action Recognition/train/Image_5623.jpg  \n",
            "  inflating: Human Action Recognition/train/Image_5624.jpg  \n",
            "  inflating: Human Action Recognition/train/Image_5625.jpg  \n",
            "  inflating: Human Action Recognition/train/Image_5626.jpg  \n",
            "  inflating: Human Action Recognition/train/Image_5627.jpg  \n",
            "  inflating: Human Action Recognition/train/Image_5628.jpg  \n",
            "  inflating: Human Action Recognition/train/Image_5629.jpg  \n",
            "  inflating: Human Action Recognition/train/Image_563.jpg  \n",
            "  inflating: Human Action Recognition/train/Image_5630.jpg  \n",
            "  inflating: Human Action Recognition/train/Image_5631.jpg  \n",
            "  inflating: Human Action Recognition/train/Image_5632.jpg  \n",
            "  inflating: Human Action Recognition/train/Image_5633.jpg  \n",
            "  inflating: Human Action Recognition/train/Image_5634.jpg  \n",
            "  inflating: Human Action Recognition/train/Image_5635.jpg  \n",
            "  inflating: Human Action Recognition/train/Image_5636.jpg  \n",
            "  inflating: Human Action Recognition/train/Image_5637.jpg  \n",
            "  inflating: Human Action Recognition/train/Image_5638.jpg  \n",
            "  inflating: Human Action Recognition/train/Image_5639.jpg  \n",
            "  inflating: Human Action Recognition/train/Image_564.jpg  \n",
            "  inflating: Human Action Recognition/train/Image_5640.jpg  \n",
            "  inflating: Human Action Recognition/train/Image_5641.jpg  \n",
            "  inflating: Human Action Recognition/train/Image_5642.jpg  \n",
            "  inflating: Human Action Recognition/train/Image_5643.jpg  \n",
            "  inflating: Human Action Recognition/train/Image_5644.jpg  \n",
            "  inflating: Human Action Recognition/train/Image_5645.jpg  \n",
            "  inflating: Human Action Recognition/train/Image_5646.jpg  \n",
            "  inflating: Human Action Recognition/train/Image_5647.jpg  \n",
            "  inflating: Human Action Recognition/train/Image_5648.jpg  \n",
            "  inflating: Human Action Recognition/train/Image_5649.jpg  \n",
            "  inflating: Human Action Recognition/train/Image_565.jpg  \n",
            "  inflating: Human Action Recognition/train/Image_5650.jpg  \n",
            "  inflating: Human Action Recognition/train/Image_5651.jpg  \n",
            "  inflating: Human Action Recognition/train/Image_5652.jpg  \n",
            "  inflating: Human Action Recognition/train/Image_5653.jpg  \n",
            "  inflating: Human Action Recognition/train/Image_5654.jpg  \n",
            "  inflating: Human Action Recognition/train/Image_5655.jpg  \n",
            "  inflating: Human Action Recognition/train/Image_5656.jpg  \n",
            "  inflating: Human Action Recognition/train/Image_5657.jpg  \n",
            "  inflating: Human Action Recognition/train/Image_5658.jpg  \n",
            "  inflating: Human Action Recognition/train/Image_5659.jpg  \n",
            "  inflating: Human Action Recognition/train/Image_566.jpg  \n",
            "  inflating: Human Action Recognition/train/Image_5660.jpg  \n",
            "  inflating: Human Action Recognition/train/Image_5661.jpg  \n",
            "  inflating: Human Action Recognition/train/Image_5662.jpg  \n",
            "  inflating: Human Action Recognition/train/Image_5663.jpg  \n",
            "  inflating: Human Action Recognition/train/Image_5664.jpg  \n",
            "  inflating: Human Action Recognition/train/Image_5665.jpg  \n",
            "  inflating: Human Action Recognition/train/Image_5666.jpg  \n",
            "  inflating: Human Action Recognition/train/Image_5667.jpg  \n",
            "  inflating: Human Action Recognition/train/Image_5668.jpg  \n",
            "  inflating: Human Action Recognition/train/Image_5669.jpg  \n",
            "  inflating: Human Action Recognition/train/Image_567.jpg  \n",
            "  inflating: Human Action Recognition/train/Image_5670.jpg  \n",
            "  inflating: Human Action Recognition/train/Image_5671.jpg  \n",
            "  inflating: Human Action Recognition/train/Image_5672.jpg  \n",
            "  inflating: Human Action Recognition/train/Image_5673.jpg  \n",
            "  inflating: Human Action Recognition/train/Image_5674.jpg  \n",
            "  inflating: Human Action Recognition/train/Image_5675.jpg  \n",
            "  inflating: Human Action Recognition/train/Image_5676.jpg  \n",
            "  inflating: Human Action Recognition/train/Image_5677.jpg  \n",
            "  inflating: Human Action Recognition/train/Image_5678.jpg  \n",
            "  inflating: Human Action Recognition/train/Image_5679.jpg  \n",
            "  inflating: Human Action Recognition/train/Image_568.jpg  \n",
            "  inflating: Human Action Recognition/train/Image_5680.jpg  \n",
            "  inflating: Human Action Recognition/train/Image_5681.jpg  \n",
            "  inflating: Human Action Recognition/train/Image_5682.jpg  \n",
            "  inflating: Human Action Recognition/train/Image_5683.jpg  \n",
            "  inflating: Human Action Recognition/train/Image_5684.jpg  \n",
            "  inflating: Human Action Recognition/train/Image_5685.jpg  \n",
            "  inflating: Human Action Recognition/train/Image_5686.jpg  \n",
            "  inflating: Human Action Recognition/train/Image_5687.jpg  \n",
            "  inflating: Human Action Recognition/train/Image_5688.jpg  \n",
            "  inflating: Human Action Recognition/train/Image_5689.jpg  \n",
            "  inflating: Human Action Recognition/train/Image_569.jpg  \n",
            "  inflating: Human Action Recognition/train/Image_5690.jpg  \n",
            "  inflating: Human Action Recognition/train/Image_5691.jpg  \n",
            "  inflating: Human Action Recognition/train/Image_5692.jpg  \n",
            "  inflating: Human Action Recognition/train/Image_5693.jpg  \n",
            "  inflating: Human Action Recognition/train/Image_5694.jpg  \n",
            "  inflating: Human Action Recognition/train/Image_5695.jpg  \n",
            "  inflating: Human Action Recognition/train/Image_5696.jpg  \n",
            "  inflating: Human Action Recognition/train/Image_5697.jpg  \n",
            "  inflating: Human Action Recognition/train/Image_5698.jpg  \n",
            "  inflating: Human Action Recognition/train/Image_5699.jpg  \n",
            "  inflating: Human Action Recognition/train/Image_57.jpg  \n",
            "  inflating: Human Action Recognition/train/Image_570.jpg  \n",
            "  inflating: Human Action Recognition/train/Image_5700.jpg  \n",
            "  inflating: Human Action Recognition/train/Image_5701.jpg  \n",
            "  inflating: Human Action Recognition/train/Image_5702.jpg  \n",
            "  inflating: Human Action Recognition/train/Image_5703.jpg  \n",
            "  inflating: Human Action Recognition/train/Image_5704.jpg  \n",
            "  inflating: Human Action Recognition/train/Image_5705.jpg  \n",
            "  inflating: Human Action Recognition/train/Image_5706.jpg  \n",
            "  inflating: Human Action Recognition/train/Image_5707.jpg  \n",
            "  inflating: Human Action Recognition/train/Image_5708.jpg  \n",
            "  inflating: Human Action Recognition/train/Image_5709.jpg  \n",
            "  inflating: Human Action Recognition/train/Image_571.jpg  \n",
            "  inflating: Human Action Recognition/train/Image_5710.jpg  \n",
            "  inflating: Human Action Recognition/train/Image_5711.jpg  \n",
            "  inflating: Human Action Recognition/train/Image_5712.jpg  \n",
            "  inflating: Human Action Recognition/train/Image_5713.jpg  \n",
            "  inflating: Human Action Recognition/train/Image_5714.jpg  \n",
            "  inflating: Human Action Recognition/train/Image_5715.jpg  \n",
            "  inflating: Human Action Recognition/train/Image_5716.jpg  \n",
            "  inflating: Human Action Recognition/train/Image_5717.jpg  \n",
            "  inflating: Human Action Recognition/train/Image_5718.jpg  \n",
            "  inflating: Human Action Recognition/train/Image_5719.jpg  \n",
            "  inflating: Human Action Recognition/train/Image_572.jpg  \n",
            "  inflating: Human Action Recognition/train/Image_5720.jpg  \n",
            "  inflating: Human Action Recognition/train/Image_5721.jpg  \n",
            "  inflating: Human Action Recognition/train/Image_5722.jpg  \n",
            "  inflating: Human Action Recognition/train/Image_5723.jpg  \n",
            "  inflating: Human Action Recognition/train/Image_5724.jpg  \n",
            "  inflating: Human Action Recognition/train/Image_5725.jpg  \n",
            "  inflating: Human Action Recognition/train/Image_5726.jpg  \n",
            "  inflating: Human Action Recognition/train/Image_5727.jpg  \n",
            "  inflating: Human Action Recognition/train/Image_5728.jpg  \n",
            "  inflating: Human Action Recognition/train/Image_5729.jpg  \n",
            "  inflating: Human Action Recognition/train/Image_573.jpg  \n",
            "  inflating: Human Action Recognition/train/Image_5730.jpg  \n",
            "  inflating: Human Action Recognition/train/Image_5731.jpg  \n",
            "  inflating: Human Action Recognition/train/Image_5732.jpg  \n",
            "  inflating: Human Action Recognition/train/Image_5733.jpg  \n",
            "  inflating: Human Action Recognition/train/Image_5734.jpg  \n",
            "  inflating: Human Action Recognition/train/Image_5735.jpg  \n",
            "  inflating: Human Action Recognition/train/Image_5736.jpg  \n",
            "  inflating: Human Action Recognition/train/Image_5737.jpg  \n",
            "  inflating: Human Action Recognition/train/Image_5738.jpg  \n",
            "  inflating: Human Action Recognition/train/Image_5739.jpg  \n",
            "  inflating: Human Action Recognition/train/Image_574.jpg  \n",
            "  inflating: Human Action Recognition/train/Image_5740.jpg  \n",
            "  inflating: Human Action Recognition/train/Image_5741.jpg  \n",
            "  inflating: Human Action Recognition/train/Image_5742.jpg  \n",
            "  inflating: Human Action Recognition/train/Image_5743.jpg  \n",
            "  inflating: Human Action Recognition/train/Image_5744.jpg  \n",
            "  inflating: Human Action Recognition/train/Image_5745.jpg  \n",
            "  inflating: Human Action Recognition/train/Image_5746.jpg  \n",
            "  inflating: Human Action Recognition/train/Image_5747.jpg  \n",
            "  inflating: Human Action Recognition/train/Image_5748.jpg  \n",
            "  inflating: Human Action Recognition/train/Image_5749.jpg  \n",
            "  inflating: Human Action Recognition/train/Image_575.jpg  \n",
            "  inflating: Human Action Recognition/train/Image_5750.jpg  \n",
            "  inflating: Human Action Recognition/train/Image_5751.jpg  \n",
            "  inflating: Human Action Recognition/train/Image_5752.jpg  \n",
            "  inflating: Human Action Recognition/train/Image_5753.jpg  \n",
            "  inflating: Human Action Recognition/train/Image_5754.jpg  \n",
            "  inflating: Human Action Recognition/train/Image_5755.jpg  \n",
            "  inflating: Human Action Recognition/train/Image_5756.jpg  \n",
            "  inflating: Human Action Recognition/train/Image_5757.jpg  \n",
            "  inflating: Human Action Recognition/train/Image_5758.jpg  \n",
            "  inflating: Human Action Recognition/train/Image_5759.jpg  \n",
            "  inflating: Human Action Recognition/train/Image_576.jpg  \n",
            "  inflating: Human Action Recognition/train/Image_5760.jpg  \n",
            "  inflating: Human Action Recognition/train/Image_5761.jpg  \n",
            "  inflating: Human Action Recognition/train/Image_5762.jpg  \n",
            "  inflating: Human Action Recognition/train/Image_5763.jpg  \n",
            "  inflating: Human Action Recognition/train/Image_5764.jpg  \n",
            "  inflating: Human Action Recognition/train/Image_5765.jpg  \n",
            "  inflating: Human Action Recognition/train/Image_5766.jpg  \n",
            "  inflating: Human Action Recognition/train/Image_5767.jpg  \n",
            "  inflating: Human Action Recognition/train/Image_5768.jpg  \n",
            "  inflating: Human Action Recognition/train/Image_5769.jpg  \n",
            "  inflating: Human Action Recognition/train/Image_577.jpg  \n",
            "  inflating: Human Action Recognition/train/Image_5770.jpg  \n",
            "  inflating: Human Action Recognition/train/Image_5771.jpg  \n",
            "  inflating: Human Action Recognition/train/Image_5772.jpg  \n",
            "  inflating: Human Action Recognition/train/Image_5773.jpg  \n",
            "  inflating: Human Action Recognition/train/Image_5774.jpg  \n",
            "  inflating: Human Action Recognition/train/Image_5775.jpg  \n",
            "  inflating: Human Action Recognition/train/Image_5776.jpg  \n",
            "  inflating: Human Action Recognition/train/Image_5777.jpg  \n",
            "  inflating: Human Action Recognition/train/Image_5778.jpg  \n",
            "  inflating: Human Action Recognition/train/Image_5779.jpg  \n",
            "  inflating: Human Action Recognition/train/Image_578.jpg  \n",
            "  inflating: Human Action Recognition/train/Image_5780.jpg  \n",
            "  inflating: Human Action Recognition/train/Image_5781.jpg  \n",
            "  inflating: Human Action Recognition/train/Image_5782.jpg  \n",
            "  inflating: Human Action Recognition/train/Image_5783.jpg  \n",
            "  inflating: Human Action Recognition/train/Image_5784.jpg  \n",
            "  inflating: Human Action Recognition/train/Image_5785.jpg  \n",
            "  inflating: Human Action Recognition/train/Image_5786.jpg  \n",
            "  inflating: Human Action Recognition/train/Image_5787.jpg  \n",
            "  inflating: Human Action Recognition/train/Image_5788.jpg  \n",
            "  inflating: Human Action Recognition/train/Image_5789.jpg  \n",
            "  inflating: Human Action Recognition/train/Image_579.jpg  \n",
            "  inflating: Human Action Recognition/train/Image_5790.jpg  \n",
            "  inflating: Human Action Recognition/train/Image_5791.jpg  \n",
            "  inflating: Human Action Recognition/train/Image_5792.jpg  \n",
            "  inflating: Human Action Recognition/train/Image_5793.jpg  \n",
            "  inflating: Human Action Recognition/train/Image_5794.jpg  \n",
            "  inflating: Human Action Recognition/train/Image_5795.jpg  \n",
            "  inflating: Human Action Recognition/train/Image_5796.jpg  \n",
            "  inflating: Human Action Recognition/train/Image_5797.jpg  \n",
            "  inflating: Human Action Recognition/train/Image_5798.jpg  \n",
            "  inflating: Human Action Recognition/train/Image_5799.jpg  \n",
            "  inflating: Human Action Recognition/train/Image_58.jpg  \n",
            "  inflating: Human Action Recognition/train/Image_580.jpg  \n",
            "  inflating: Human Action Recognition/train/Image_5800.jpg  \n",
            "  inflating: Human Action Recognition/train/Image_5801.jpg  \n",
            "  inflating: Human Action Recognition/train/Image_5802.jpg  \n",
            "  inflating: Human Action Recognition/train/Image_5803.jpg  \n",
            "  inflating: Human Action Recognition/train/Image_5804.jpg  \n",
            "  inflating: Human Action Recognition/train/Image_5805.jpg  \n",
            "  inflating: Human Action Recognition/train/Image_5806.jpg  \n",
            "  inflating: Human Action Recognition/train/Image_5807.jpg  \n",
            "  inflating: Human Action Recognition/train/Image_5808.jpg  \n",
            "  inflating: Human Action Recognition/train/Image_5809.jpg  \n",
            "  inflating: Human Action Recognition/train/Image_581.jpg  \n",
            "  inflating: Human Action Recognition/train/Image_5810.jpg  \n",
            "  inflating: Human Action Recognition/train/Image_5811.jpg  \n",
            "  inflating: Human Action Recognition/train/Image_5812.jpg  \n",
            "  inflating: Human Action Recognition/train/Image_5813.jpg  \n",
            "  inflating: Human Action Recognition/train/Image_5814.jpg  \n",
            "  inflating: Human Action Recognition/train/Image_5815.jpg  \n",
            "  inflating: Human Action Recognition/train/Image_5816.jpg  \n",
            "  inflating: Human Action Recognition/train/Image_5817.jpg  \n",
            "  inflating: Human Action Recognition/train/Image_5818.jpg  \n",
            "  inflating: Human Action Recognition/train/Image_5819.jpg  \n",
            "  inflating: Human Action Recognition/train/Image_582.jpg  \n",
            "  inflating: Human Action Recognition/train/Image_5820.jpg  \n",
            "  inflating: Human Action Recognition/train/Image_5821.jpg  \n",
            "  inflating: Human Action Recognition/train/Image_5822.jpg  \n",
            "  inflating: Human Action Recognition/train/Image_5823.jpg  \n",
            "  inflating: Human Action Recognition/train/Image_5824.jpg  \n",
            "  inflating: Human Action Recognition/train/Image_5825.jpg  \n",
            "  inflating: Human Action Recognition/train/Image_5826.jpg  \n",
            "  inflating: Human Action Recognition/train/Image_5827.jpg  \n",
            "  inflating: Human Action Recognition/train/Image_5828.jpg  \n",
            "  inflating: Human Action Recognition/train/Image_5829.jpg  \n",
            "  inflating: Human Action Recognition/train/Image_583.jpg  \n",
            "  inflating: Human Action Recognition/train/Image_5830.jpg  \n",
            "  inflating: Human Action Recognition/train/Image_5831.jpg  \n",
            "  inflating: Human Action Recognition/train/Image_5832.jpg  \n",
            "  inflating: Human Action Recognition/train/Image_5833.jpg  \n",
            "  inflating: Human Action Recognition/train/Image_5834.jpg  \n",
            "  inflating: Human Action Recognition/train/Image_5835.jpg  \n",
            "  inflating: Human Action Recognition/train/Image_5836.jpg  \n",
            "  inflating: Human Action Recognition/train/Image_5837.jpg  \n",
            "  inflating: Human Action Recognition/train/Image_5838.jpg  \n",
            "  inflating: Human Action Recognition/train/Image_5839.jpg  \n",
            "  inflating: Human Action Recognition/train/Image_584.jpg  \n",
            "  inflating: Human Action Recognition/train/Image_5840.jpg  \n",
            "  inflating: Human Action Recognition/train/Image_5841.jpg  \n",
            "  inflating: Human Action Recognition/train/Image_5842.jpg  \n",
            "  inflating: Human Action Recognition/train/Image_5843.jpg  \n",
            "  inflating: Human Action Recognition/train/Image_5844.jpg  \n",
            "  inflating: Human Action Recognition/train/Image_5845.jpg  \n",
            "  inflating: Human Action Recognition/train/Image_5846.jpg  \n",
            "  inflating: Human Action Recognition/train/Image_5847.jpg  \n",
            "  inflating: Human Action Recognition/train/Image_5848.jpg  \n",
            "  inflating: Human Action Recognition/train/Image_5849.jpg  \n",
            "  inflating: Human Action Recognition/train/Image_585.jpg  \n",
            "  inflating: Human Action Recognition/train/Image_5850.jpg  \n",
            "  inflating: Human Action Recognition/train/Image_5851.jpg  \n",
            "  inflating: Human Action Recognition/train/Image_5852.jpg  \n",
            "  inflating: Human Action Recognition/train/Image_5853.jpg  \n",
            "  inflating: Human Action Recognition/train/Image_5854.jpg  \n",
            "  inflating: Human Action Recognition/train/Image_5855.jpg  \n",
            "  inflating: Human Action Recognition/train/Image_5856.jpg  \n",
            "  inflating: Human Action Recognition/train/Image_5857.jpg  \n",
            "  inflating: Human Action Recognition/train/Image_5858.jpg  \n",
            "  inflating: Human Action Recognition/train/Image_5859.jpg  \n",
            "  inflating: Human Action Recognition/train/Image_586.jpg  \n",
            "  inflating: Human Action Recognition/train/Image_5860.jpg  \n",
            "  inflating: Human Action Recognition/train/Image_5861.jpg  \n",
            "  inflating: Human Action Recognition/train/Image_5862.jpg  \n",
            "  inflating: Human Action Recognition/train/Image_5863.jpg  \n",
            "  inflating: Human Action Recognition/train/Image_5864.jpg  \n",
            "  inflating: Human Action Recognition/train/Image_5865.jpg  \n",
            "  inflating: Human Action Recognition/train/Image_5866.jpg  \n",
            "  inflating: Human Action Recognition/train/Image_5867.jpg  \n",
            "  inflating: Human Action Recognition/train/Image_5868.jpg  \n",
            "  inflating: Human Action Recognition/train/Image_5869.jpg  \n",
            "  inflating: Human Action Recognition/train/Image_587.jpg  \n",
            "  inflating: Human Action Recognition/train/Image_5870.jpg  \n",
            "  inflating: Human Action Recognition/train/Image_5871.jpg  \n",
            "  inflating: Human Action Recognition/train/Image_5872.jpg  \n",
            "  inflating: Human Action Recognition/train/Image_5873.jpg  \n",
            "  inflating: Human Action Recognition/train/Image_5874.jpg  \n",
            "  inflating: Human Action Recognition/train/Image_5875.jpg  \n",
            "  inflating: Human Action Recognition/train/Image_5876.jpg  \n",
            "  inflating: Human Action Recognition/train/Image_5877.jpg  \n",
            "  inflating: Human Action Recognition/train/Image_5878.jpg  \n",
            "  inflating: Human Action Recognition/train/Image_5879.jpg  \n",
            "  inflating: Human Action Recognition/train/Image_588.jpg  \n",
            "  inflating: Human Action Recognition/train/Image_5880.jpg  \n",
            "  inflating: Human Action Recognition/train/Image_5881.jpg  \n",
            "  inflating: Human Action Recognition/train/Image_5882.jpg  \n",
            "  inflating: Human Action Recognition/train/Image_5883.jpg  \n",
            "  inflating: Human Action Recognition/train/Image_5884.jpg  \n",
            "  inflating: Human Action Recognition/train/Image_5885.jpg  \n",
            "  inflating: Human Action Recognition/train/Image_5886.jpg  \n",
            "  inflating: Human Action Recognition/train/Image_5887.jpg  \n",
            "  inflating: Human Action Recognition/train/Image_5888.jpg  \n",
            "  inflating: Human Action Recognition/train/Image_5889.jpg  \n",
            "  inflating: Human Action Recognition/train/Image_589.jpg  \n",
            "  inflating: Human Action Recognition/train/Image_5890.jpg  \n",
            "  inflating: Human Action Recognition/train/Image_5891.jpg  \n",
            "  inflating: Human Action Recognition/train/Image_5892.jpg  \n",
            "  inflating: Human Action Recognition/train/Image_5893.jpg  \n",
            "  inflating: Human Action Recognition/train/Image_5894.jpg  \n",
            "  inflating: Human Action Recognition/train/Image_5895.jpg  \n",
            "  inflating: Human Action Recognition/train/Image_5896.jpg  \n",
            "  inflating: Human Action Recognition/train/Image_5897.jpg  \n",
            "  inflating: Human Action Recognition/train/Image_5898.jpg  \n",
            "  inflating: Human Action Recognition/train/Image_5899.jpg  \n",
            "  inflating: Human Action Recognition/train/Image_59.jpg  \n",
            "  inflating: Human Action Recognition/train/Image_590.jpg  \n",
            "  inflating: Human Action Recognition/train/Image_5900.jpg  \n",
            "  inflating: Human Action Recognition/train/Image_5901.jpg  \n",
            "  inflating: Human Action Recognition/train/Image_5902.jpg  \n",
            "  inflating: Human Action Recognition/train/Image_5903.jpg  \n",
            "  inflating: Human Action Recognition/train/Image_5904.jpg  \n",
            "  inflating: Human Action Recognition/train/Image_5905.jpg  \n",
            "  inflating: Human Action Recognition/train/Image_5906.jpg  \n",
            "  inflating: Human Action Recognition/train/Image_5907.jpg  \n",
            "  inflating: Human Action Recognition/train/Image_5908.jpg  \n",
            "  inflating: Human Action Recognition/train/Image_5909.jpg  \n",
            "  inflating: Human Action Recognition/train/Image_591.jpg  \n",
            "  inflating: Human Action Recognition/train/Image_5910.jpg  \n",
            "  inflating: Human Action Recognition/train/Image_5911.jpg  \n",
            "  inflating: Human Action Recognition/train/Image_5912.jpg  \n",
            "  inflating: Human Action Recognition/train/Image_5913.jpg  \n",
            "  inflating: Human Action Recognition/train/Image_5914.jpg  \n",
            "  inflating: Human Action Recognition/train/Image_5915.jpg  \n",
            "  inflating: Human Action Recognition/train/Image_5916.jpg  \n",
            "  inflating: Human Action Recognition/train/Image_5917.jpg  \n",
            "  inflating: Human Action Recognition/train/Image_5918.jpg  \n",
            "  inflating: Human Action Recognition/train/Image_5919.jpg  \n",
            "  inflating: Human Action Recognition/train/Image_592.jpg  \n",
            "  inflating: Human Action Recognition/train/Image_5920.jpg  \n",
            "  inflating: Human Action Recognition/train/Image_5921.jpg  \n",
            "  inflating: Human Action Recognition/train/Image_5922.jpg  \n",
            "  inflating: Human Action Recognition/train/Image_5923.jpg  \n",
            "  inflating: Human Action Recognition/train/Image_5924.jpg  \n",
            "  inflating: Human Action Recognition/train/Image_5925.jpg  \n",
            "  inflating: Human Action Recognition/train/Image_5926.jpg  \n",
            "  inflating: Human Action Recognition/train/Image_5927.jpg  \n",
            "  inflating: Human Action Recognition/train/Image_5928.jpg  \n",
            "  inflating: Human Action Recognition/train/Image_5929.jpg  \n",
            "  inflating: Human Action Recognition/train/Image_593.jpg  \n",
            "  inflating: Human Action Recognition/train/Image_5930.jpg  \n",
            "  inflating: Human Action Recognition/train/Image_5931.jpg  \n",
            "  inflating: Human Action Recognition/train/Image_5932.jpg  \n",
            "  inflating: Human Action Recognition/train/Image_5933.jpg  \n",
            "  inflating: Human Action Recognition/train/Image_5934.jpg  \n",
            "  inflating: Human Action Recognition/train/Image_5935.jpg  \n",
            "  inflating: Human Action Recognition/train/Image_5936.jpg  \n",
            "  inflating: Human Action Recognition/train/Image_5937.jpg  \n",
            "  inflating: Human Action Recognition/train/Image_5938.jpg  \n",
            "  inflating: Human Action Recognition/train/Image_5939.jpg  \n",
            "  inflating: Human Action Recognition/train/Image_594.jpg  \n",
            "  inflating: Human Action Recognition/train/Image_5940.jpg  \n",
            "  inflating: Human Action Recognition/train/Image_5941.jpg  \n",
            "  inflating: Human Action Recognition/train/Image_5942.jpg  \n",
            "  inflating: Human Action Recognition/train/Image_5943.jpg  \n",
            "  inflating: Human Action Recognition/train/Image_5944.jpg  \n",
            "  inflating: Human Action Recognition/train/Image_5945.jpg  \n",
            "  inflating: Human Action Recognition/train/Image_5946.jpg  \n",
            "  inflating: Human Action Recognition/train/Image_5947.jpg  \n",
            "  inflating: Human Action Recognition/train/Image_5948.jpg  \n",
            "  inflating: Human Action Recognition/train/Image_5949.jpg  \n",
            "  inflating: Human Action Recognition/train/Image_595.jpg  \n",
            "  inflating: Human Action Recognition/train/Image_5950.jpg  \n",
            "  inflating: Human Action Recognition/train/Image_5951.jpg  \n",
            "  inflating: Human Action Recognition/train/Image_5952.jpg  \n",
            "  inflating: Human Action Recognition/train/Image_5953.jpg  \n",
            "  inflating: Human Action Recognition/train/Image_5954.jpg  \n",
            "  inflating: Human Action Recognition/train/Image_5955.jpg  \n",
            "  inflating: Human Action Recognition/train/Image_5956.jpg  \n",
            "  inflating: Human Action Recognition/train/Image_5957.jpg  \n",
            "  inflating: Human Action Recognition/train/Image_5958.jpg  \n",
            "  inflating: Human Action Recognition/train/Image_5959.jpg  \n",
            "  inflating: Human Action Recognition/train/Image_596.jpg  \n",
            "  inflating: Human Action Recognition/train/Image_5960.jpg  \n",
            "  inflating: Human Action Recognition/train/Image_5961.jpg  \n",
            "  inflating: Human Action Recognition/train/Image_5962.jpg  \n",
            "  inflating: Human Action Recognition/train/Image_5963.jpg  \n",
            "  inflating: Human Action Recognition/train/Image_5964.jpg  \n",
            "  inflating: Human Action Recognition/train/Image_5965.jpg  \n",
            "  inflating: Human Action Recognition/train/Image_5966.jpg  \n",
            "  inflating: Human Action Recognition/train/Image_5967.jpg  \n",
            "  inflating: Human Action Recognition/train/Image_5968.jpg  \n",
            "  inflating: Human Action Recognition/train/Image_5969.jpg  \n",
            "  inflating: Human Action Recognition/train/Image_597.jpg  \n",
            "  inflating: Human Action Recognition/train/Image_5970.jpg  \n",
            "  inflating: Human Action Recognition/train/Image_5971.jpg  \n",
            "  inflating: Human Action Recognition/train/Image_5972.jpg  \n",
            "  inflating: Human Action Recognition/train/Image_5973.jpg  \n",
            "  inflating: Human Action Recognition/train/Image_5974.jpg  \n",
            "  inflating: Human Action Recognition/train/Image_5975.jpg  \n",
            "  inflating: Human Action Recognition/train/Image_5976.jpg  \n",
            "  inflating: Human Action Recognition/train/Image_5977.jpg  \n",
            "  inflating: Human Action Recognition/train/Image_5978.jpg  \n",
            "  inflating: Human Action Recognition/train/Image_5979.jpg  \n",
            "  inflating: Human Action Recognition/train/Image_598.jpg  \n",
            "  inflating: Human Action Recognition/train/Image_5980.jpg  \n",
            "  inflating: Human Action Recognition/train/Image_5981.jpg  \n",
            "  inflating: Human Action Recognition/train/Image_5982.jpg  \n",
            "  inflating: Human Action Recognition/train/Image_5983.jpg  \n",
            "  inflating: Human Action Recognition/train/Image_5984.jpg  \n",
            "  inflating: Human Action Recognition/train/Image_5985.jpg  \n",
            "  inflating: Human Action Recognition/train/Image_5986.jpg  \n",
            "  inflating: Human Action Recognition/train/Image_5987.jpg  \n",
            "  inflating: Human Action Recognition/train/Image_5988.jpg  \n",
            "  inflating: Human Action Recognition/train/Image_5989.jpg  \n",
            "  inflating: Human Action Recognition/train/Image_599.jpg  \n",
            "  inflating: Human Action Recognition/train/Image_5990.jpg  \n",
            "  inflating: Human Action Recognition/train/Image_5991.jpg  \n",
            "  inflating: Human Action Recognition/train/Image_5992.jpg  \n",
            "  inflating: Human Action Recognition/train/Image_5993.jpg  \n",
            "  inflating: Human Action Recognition/train/Image_5994.jpg  \n",
            "  inflating: Human Action Recognition/train/Image_5995.jpg  \n",
            "  inflating: Human Action Recognition/train/Image_5996.jpg  \n",
            "  inflating: Human Action Recognition/train/Image_5997.jpg  \n",
            "  inflating: Human Action Recognition/train/Image_5998.jpg  \n",
            "  inflating: Human Action Recognition/train/Image_5999.jpg  \n",
            "  inflating: Human Action Recognition/train/Image_6.jpg  \n",
            "  inflating: Human Action Recognition/train/Image_60.jpg  \n",
            "  inflating: Human Action Recognition/train/Image_600.jpg  \n",
            "  inflating: Human Action Recognition/train/Image_6000.jpg  \n",
            "  inflating: Human Action Recognition/train/Image_6001.jpg  \n",
            "  inflating: Human Action Recognition/train/Image_6002.jpg  \n",
            "  inflating: Human Action Recognition/train/Image_6003.jpg  \n",
            "  inflating: Human Action Recognition/train/Image_6004.jpg  \n",
            "  inflating: Human Action Recognition/train/Image_6005.jpg  \n",
            "  inflating: Human Action Recognition/train/Image_6006.jpg  \n",
            "  inflating: Human Action Recognition/train/Image_6007.jpg  \n",
            "  inflating: Human Action Recognition/train/Image_6008.jpg  \n",
            "  inflating: Human Action Recognition/train/Image_6009.jpg  \n",
            "  inflating: Human Action Recognition/train/Image_601.jpg  \n",
            "  inflating: Human Action Recognition/train/Image_6010.jpg  \n",
            "  inflating: Human Action Recognition/train/Image_6011.jpg  \n",
            "  inflating: Human Action Recognition/train/Image_6012.jpg  \n",
            "  inflating: Human Action Recognition/train/Image_6013.jpg  \n",
            "  inflating: Human Action Recognition/train/Image_6014.jpg  \n",
            "  inflating: Human Action Recognition/train/Image_6015.jpg  \n",
            "  inflating: Human Action Recognition/train/Image_6016.jpg  \n",
            "  inflating: Human Action Recognition/train/Image_6017.jpg  \n",
            "  inflating: Human Action Recognition/train/Image_6018.jpg  \n",
            "  inflating: Human Action Recognition/train/Image_6019.jpg  \n",
            "  inflating: Human Action Recognition/train/Image_602.jpg  \n",
            "  inflating: Human Action Recognition/train/Image_6020.jpg  \n",
            "  inflating: Human Action Recognition/train/Image_6021.jpg  \n",
            "  inflating: Human Action Recognition/train/Image_6022.jpg  \n",
            "  inflating: Human Action Recognition/train/Image_6023.jpg  \n",
            "  inflating: Human Action Recognition/train/Image_6024.jpg  \n",
            "  inflating: Human Action Recognition/train/Image_6025.jpg  \n",
            "  inflating: Human Action Recognition/train/Image_6026.jpg  \n",
            "  inflating: Human Action Recognition/train/Image_6027.jpg  \n",
            "  inflating: Human Action Recognition/train/Image_6028.jpg  \n",
            "  inflating: Human Action Recognition/train/Image_6029.jpg  \n",
            "  inflating: Human Action Recognition/train/Image_603.jpg  \n",
            "  inflating: Human Action Recognition/train/Image_6030.jpg  \n",
            "  inflating: Human Action Recognition/train/Image_6031.jpg  \n",
            "  inflating: Human Action Recognition/train/Image_6032.jpg  \n",
            "  inflating: Human Action Recognition/train/Image_6033.jpg  \n",
            "  inflating: Human Action Recognition/train/Image_6034.jpg  \n",
            "  inflating: Human Action Recognition/train/Image_6035.jpg  \n",
            "  inflating: Human Action Recognition/train/Image_6036.jpg  \n",
            "  inflating: Human Action Recognition/train/Image_6037.jpg  \n",
            "  inflating: Human Action Recognition/train/Image_6038.jpg  \n",
            "  inflating: Human Action Recognition/train/Image_6039.jpg  \n",
            "  inflating: Human Action Recognition/train/Image_604.jpg  \n",
            "  inflating: Human Action Recognition/train/Image_6040.jpg  \n",
            "  inflating: Human Action Recognition/train/Image_6041.jpg  \n",
            "  inflating: Human Action Recognition/train/Image_6042.jpg  \n",
            "  inflating: Human Action Recognition/train/Image_6043.jpg  \n",
            "  inflating: Human Action Recognition/train/Image_6044.jpg  \n",
            "  inflating: Human Action Recognition/train/Image_6045.jpg  \n",
            "  inflating: Human Action Recognition/train/Image_6046.jpg  \n",
            "  inflating: Human Action Recognition/train/Image_6047.jpg  \n",
            "  inflating: Human Action Recognition/train/Image_6048.jpg  \n",
            "  inflating: Human Action Recognition/train/Image_6049.jpg  \n",
            "  inflating: Human Action Recognition/train/Image_605.jpg  \n",
            "  inflating: Human Action Recognition/train/Image_6050.jpg  \n",
            "  inflating: Human Action Recognition/train/Image_6051.jpg  \n",
            "  inflating: Human Action Recognition/train/Image_6052.jpg  \n",
            "  inflating: Human Action Recognition/train/Image_6053.jpg  \n",
            "  inflating: Human Action Recognition/train/Image_6054.jpg  \n",
            "  inflating: Human Action Recognition/train/Image_6055.jpg  \n",
            "  inflating: Human Action Recognition/train/Image_6056.jpg  \n",
            "  inflating: Human Action Recognition/train/Image_6057.jpg  \n",
            "  inflating: Human Action Recognition/train/Image_6058.jpg  \n",
            "  inflating: Human Action Recognition/train/Image_6059.jpg  \n",
            "  inflating: Human Action Recognition/train/Image_606.jpg  \n",
            "  inflating: Human Action Recognition/train/Image_6060.jpg  \n",
            "  inflating: Human Action Recognition/train/Image_6061.jpg  \n",
            "  inflating: Human Action Recognition/train/Image_6062.jpg  \n",
            "  inflating: Human Action Recognition/train/Image_6063.jpg  \n",
            "  inflating: Human Action Recognition/train/Image_6064.jpg  \n",
            "  inflating: Human Action Recognition/train/Image_6065.jpg  \n",
            "  inflating: Human Action Recognition/train/Image_6066.jpg  \n",
            "  inflating: Human Action Recognition/train/Image_6067.jpg  \n",
            "  inflating: Human Action Recognition/train/Image_6068.jpg  \n",
            "  inflating: Human Action Recognition/train/Image_6069.jpg  \n",
            "  inflating: Human Action Recognition/train/Image_607.jpg  \n",
            "  inflating: Human Action Recognition/train/Image_6070.jpg  \n",
            "  inflating: Human Action Recognition/train/Image_6071.jpg  \n",
            "  inflating: Human Action Recognition/train/Image_6072.jpg  \n",
            "  inflating: Human Action Recognition/train/Image_6073.jpg  \n",
            "  inflating: Human Action Recognition/train/Image_6074.jpg  \n",
            "  inflating: Human Action Recognition/train/Image_6075.jpg  \n",
            "  inflating: Human Action Recognition/train/Image_6076.jpg  \n",
            "  inflating: Human Action Recognition/train/Image_6077.jpg  \n",
            "  inflating: Human Action Recognition/train/Image_6078.jpg  \n",
            "  inflating: Human Action Recognition/train/Image_6079.jpg  \n",
            "  inflating: Human Action Recognition/train/Image_608.jpg  \n",
            "  inflating: Human Action Recognition/train/Image_6080.jpg  \n",
            "  inflating: Human Action Recognition/train/Image_6081.jpg  \n",
            "  inflating: Human Action Recognition/train/Image_6082.jpg  \n",
            "  inflating: Human Action Recognition/train/Image_6083.jpg  \n",
            "  inflating: Human Action Recognition/train/Image_6084.jpg  \n",
            "  inflating: Human Action Recognition/train/Image_6085.jpg  \n",
            "  inflating: Human Action Recognition/train/Image_6086.jpg  \n",
            "  inflating: Human Action Recognition/train/Image_6087.jpg  \n",
            "  inflating: Human Action Recognition/train/Image_6088.jpg  \n",
            "  inflating: Human Action Recognition/train/Image_6089.jpg  \n",
            "  inflating: Human Action Recognition/train/Image_609.jpg  \n",
            "  inflating: Human Action Recognition/train/Image_6090.jpg  \n",
            "  inflating: Human Action Recognition/train/Image_6091.jpg  \n",
            "  inflating: Human Action Recognition/train/Image_6092.jpg  \n",
            "  inflating: Human Action Recognition/train/Image_6093.jpg  \n",
            "  inflating: Human Action Recognition/train/Image_6094.jpg  \n",
            "  inflating: Human Action Recognition/train/Image_6095.jpg  \n",
            "  inflating: Human Action Recognition/train/Image_6096.jpg  \n",
            "  inflating: Human Action Recognition/train/Image_6097.jpg  \n",
            "  inflating: Human Action Recognition/train/Image_6098.jpg  \n",
            "  inflating: Human Action Recognition/train/Image_6099.jpg  \n",
            "  inflating: Human Action Recognition/train/Image_61.jpg  \n",
            "  inflating: Human Action Recognition/train/Image_610.jpg  \n",
            "  inflating: Human Action Recognition/train/Image_6100.jpg  \n",
            "  inflating: Human Action Recognition/train/Image_6101.jpg  \n",
            "  inflating: Human Action Recognition/train/Image_6102.jpg  \n",
            "  inflating: Human Action Recognition/train/Image_6103.jpg  \n",
            "  inflating: Human Action Recognition/train/Image_6104.jpg  \n",
            "  inflating: Human Action Recognition/train/Image_6105.jpg  \n",
            "  inflating: Human Action Recognition/train/Image_6106.jpg  \n",
            "  inflating: Human Action Recognition/train/Image_6107.jpg  \n",
            "  inflating: Human Action Recognition/train/Image_6108.jpg  \n",
            "  inflating: Human Action Recognition/train/Image_6109.jpg  \n",
            "  inflating: Human Action Recognition/train/Image_611.jpg  \n",
            "  inflating: Human Action Recognition/train/Image_6110.jpg  \n",
            "  inflating: Human Action Recognition/train/Image_6111.jpg  \n",
            "  inflating: Human Action Recognition/train/Image_6112.jpg  \n",
            "  inflating: Human Action Recognition/train/Image_6113.jpg  \n",
            "  inflating: Human Action Recognition/train/Image_6114.jpg  \n",
            "  inflating: Human Action Recognition/train/Image_6115.jpg  \n",
            "  inflating: Human Action Recognition/train/Image_6116.jpg  \n",
            "  inflating: Human Action Recognition/train/Image_6117.jpg  \n",
            "  inflating: Human Action Recognition/train/Image_6118.jpg  \n",
            "  inflating: Human Action Recognition/train/Image_6119.jpg  \n",
            "  inflating: Human Action Recognition/train/Image_612.jpg  \n",
            "  inflating: Human Action Recognition/train/Image_6120.jpg  \n",
            "  inflating: Human Action Recognition/train/Image_6121.jpg  \n",
            "  inflating: Human Action Recognition/train/Image_6122.jpg  \n",
            "  inflating: Human Action Recognition/train/Image_6123.jpg  \n",
            "  inflating: Human Action Recognition/train/Image_6124.jpg  \n",
            "  inflating: Human Action Recognition/train/Image_6125.jpg  \n",
            "  inflating: Human Action Recognition/train/Image_6126.jpg  \n",
            "  inflating: Human Action Recognition/train/Image_6127.jpg  \n",
            "  inflating: Human Action Recognition/train/Image_6128.jpg  \n",
            "  inflating: Human Action Recognition/train/Image_6129.jpg  \n",
            "  inflating: Human Action Recognition/train/Image_613.jpg  \n",
            "  inflating: Human Action Recognition/train/Image_6130.jpg  \n",
            "  inflating: Human Action Recognition/train/Image_6131.jpg  \n",
            "  inflating: Human Action Recognition/train/Image_6132.jpg  \n",
            "  inflating: Human Action Recognition/train/Image_6133.jpg  \n",
            "  inflating: Human Action Recognition/train/Image_6134.jpg  \n",
            "  inflating: Human Action Recognition/train/Image_6135.jpg  \n",
            "  inflating: Human Action Recognition/train/Image_6136.jpg  \n",
            "  inflating: Human Action Recognition/train/Image_6137.jpg  \n",
            "  inflating: Human Action Recognition/train/Image_6138.jpg  \n",
            "  inflating: Human Action Recognition/train/Image_6139.jpg  \n",
            "  inflating: Human Action Recognition/train/Image_614.jpg  \n",
            "  inflating: Human Action Recognition/train/Image_6140.jpg  \n",
            "  inflating: Human Action Recognition/train/Image_6141.jpg  \n",
            "  inflating: Human Action Recognition/train/Image_6142.jpg  \n",
            "  inflating: Human Action Recognition/train/Image_6143.jpg  \n",
            "  inflating: Human Action Recognition/train/Image_6144.jpg  \n",
            "  inflating: Human Action Recognition/train/Image_6145.jpg  \n",
            "  inflating: Human Action Recognition/train/Image_6146.jpg  \n",
            "  inflating: Human Action Recognition/train/Image_6147.jpg  \n",
            "  inflating: Human Action Recognition/train/Image_6148.jpg  \n",
            "  inflating: Human Action Recognition/train/Image_6149.jpg  \n",
            "  inflating: Human Action Recognition/train/Image_615.jpg  \n",
            "  inflating: Human Action Recognition/train/Image_6150.jpg  \n",
            "  inflating: Human Action Recognition/train/Image_6151.jpg  \n",
            "  inflating: Human Action Recognition/train/Image_6152.jpg  \n",
            "  inflating: Human Action Recognition/train/Image_6153.jpg  \n",
            "  inflating: Human Action Recognition/train/Image_6154.jpg  \n",
            "  inflating: Human Action Recognition/train/Image_6155.jpg  \n",
            "  inflating: Human Action Recognition/train/Image_6156.jpg  \n",
            "  inflating: Human Action Recognition/train/Image_6157.jpg  \n",
            "  inflating: Human Action Recognition/train/Image_6158.jpg  \n",
            "  inflating: Human Action Recognition/train/Image_6159.jpg  \n",
            "  inflating: Human Action Recognition/train/Image_616.jpg  \n",
            "  inflating: Human Action Recognition/train/Image_6160.jpg  \n",
            "  inflating: Human Action Recognition/train/Image_6161.jpg  \n",
            "  inflating: Human Action Recognition/train/Image_6162.jpg  \n",
            "  inflating: Human Action Recognition/train/Image_6163.jpg  \n",
            "  inflating: Human Action Recognition/train/Image_6164.jpg  \n",
            "  inflating: Human Action Recognition/train/Image_6165.jpg  \n",
            "  inflating: Human Action Recognition/train/Image_6166.jpg  \n",
            "  inflating: Human Action Recognition/train/Image_6167.jpg  \n",
            "  inflating: Human Action Recognition/train/Image_6168.jpg  \n",
            "  inflating: Human Action Recognition/train/Image_6169.jpg  \n",
            "  inflating: Human Action Recognition/train/Image_617.jpg  \n",
            "  inflating: Human Action Recognition/train/Image_6170.jpg  \n",
            "  inflating: Human Action Recognition/train/Image_6171.jpg  \n",
            "  inflating: Human Action Recognition/train/Image_6172.jpg  \n",
            "  inflating: Human Action Recognition/train/Image_6173.jpg  \n",
            "  inflating: Human Action Recognition/train/Image_6174.jpg  \n",
            "  inflating: Human Action Recognition/train/Image_6175.jpg  \n",
            "  inflating: Human Action Recognition/train/Image_6176.jpg  \n",
            "  inflating: Human Action Recognition/train/Image_6177.jpg  \n",
            "  inflating: Human Action Recognition/train/Image_6178.jpg  \n",
            "  inflating: Human Action Recognition/train/Image_6179.jpg  \n",
            "  inflating: Human Action Recognition/train/Image_618.jpg  \n",
            "  inflating: Human Action Recognition/train/Image_6180.jpg  \n",
            "  inflating: Human Action Recognition/train/Image_6181.jpg  \n",
            "  inflating: Human Action Recognition/train/Image_6182.jpg  \n",
            "  inflating: Human Action Recognition/train/Image_6183.jpg  \n",
            "  inflating: Human Action Recognition/train/Image_6184.jpg  \n",
            "  inflating: Human Action Recognition/train/Image_6185.jpg  \n",
            "  inflating: Human Action Recognition/train/Image_6186.jpg  \n",
            "  inflating: Human Action Recognition/train/Image_6187.jpg  \n",
            "  inflating: Human Action Recognition/train/Image_6188.jpg  \n",
            "  inflating: Human Action Recognition/train/Image_6189.jpg  \n",
            "  inflating: Human Action Recognition/train/Image_619.jpg  \n",
            "  inflating: Human Action Recognition/train/Image_6190.jpg  \n",
            "  inflating: Human Action Recognition/train/Image_6191.jpg  \n",
            "  inflating: Human Action Recognition/train/Image_6192.jpg  \n",
            "  inflating: Human Action Recognition/train/Image_6193.jpg  \n",
            "  inflating: Human Action Recognition/train/Image_6194.jpg  \n",
            "  inflating: Human Action Recognition/train/Image_6195.jpg  \n",
            "  inflating: Human Action Recognition/train/Image_6196.jpg  \n",
            "  inflating: Human Action Recognition/train/Image_6197.jpg  \n",
            "  inflating: Human Action Recognition/train/Image_6198.jpg  \n",
            "  inflating: Human Action Recognition/train/Image_6199.jpg  \n",
            "  inflating: Human Action Recognition/train/Image_62.jpg  \n",
            "  inflating: Human Action Recognition/train/Image_620.jpg  \n",
            "  inflating: Human Action Recognition/train/Image_6200.jpg  \n",
            "  inflating: Human Action Recognition/train/Image_6201.jpg  \n",
            "  inflating: Human Action Recognition/train/Image_6202.jpg  \n",
            "  inflating: Human Action Recognition/train/Image_6203.jpg  \n",
            "  inflating: Human Action Recognition/train/Image_6204.jpg  \n",
            "  inflating: Human Action Recognition/train/Image_6205.jpg  \n",
            "  inflating: Human Action Recognition/train/Image_6206.jpg  \n",
            "  inflating: Human Action Recognition/train/Image_6207.jpg  \n",
            "  inflating: Human Action Recognition/train/Image_6208.jpg  \n",
            "  inflating: Human Action Recognition/train/Image_6209.jpg  \n",
            "  inflating: Human Action Recognition/train/Image_621.jpg  \n",
            "  inflating: Human Action Recognition/train/Image_6210.jpg  \n",
            "  inflating: Human Action Recognition/train/Image_6211.jpg  \n",
            "  inflating: Human Action Recognition/train/Image_6212.jpg  \n",
            "  inflating: Human Action Recognition/train/Image_6213.jpg  \n",
            "  inflating: Human Action Recognition/train/Image_6214.jpg  \n",
            "  inflating: Human Action Recognition/train/Image_6215.jpg  \n",
            "  inflating: Human Action Recognition/train/Image_6216.jpg  \n",
            "  inflating: Human Action Recognition/train/Image_6217.jpg  \n",
            "  inflating: Human Action Recognition/train/Image_6218.jpg  \n",
            "  inflating: Human Action Recognition/train/Image_6219.jpg  \n",
            "  inflating: Human Action Recognition/train/Image_622.jpg  \n",
            "  inflating: Human Action Recognition/train/Image_6220.jpg  \n",
            "  inflating: Human Action Recognition/train/Image_6221.jpg  \n",
            "  inflating: Human Action Recognition/train/Image_6222.jpg  \n",
            "  inflating: Human Action Recognition/train/Image_6223.jpg  \n",
            "  inflating: Human Action Recognition/train/Image_6224.jpg  \n",
            "  inflating: Human Action Recognition/train/Image_6225.jpg  \n",
            "  inflating: Human Action Recognition/train/Image_6226.jpg  \n",
            "  inflating: Human Action Recognition/train/Image_6227.jpg  \n",
            "  inflating: Human Action Recognition/train/Image_6228.jpg  \n",
            "  inflating: Human Action Recognition/train/Image_6229.jpg  \n",
            "  inflating: Human Action Recognition/train/Image_623.jpg  \n",
            "  inflating: Human Action Recognition/train/Image_6230.jpg  \n",
            "  inflating: Human Action Recognition/train/Image_6231.jpg  \n",
            "  inflating: Human Action Recognition/train/Image_6232.jpg  \n",
            "  inflating: Human Action Recognition/train/Image_6233.jpg  \n",
            "  inflating: Human Action Recognition/train/Image_6234.jpg  \n",
            "  inflating: Human Action Recognition/train/Image_6235.jpg  \n",
            "  inflating: Human Action Recognition/train/Image_6236.jpg  \n",
            "  inflating: Human Action Recognition/train/Image_6237.jpg  \n",
            "  inflating: Human Action Recognition/train/Image_6238.jpg  \n",
            "  inflating: Human Action Recognition/train/Image_6239.jpg  \n",
            "  inflating: Human Action Recognition/train/Image_624.jpg  \n",
            "  inflating: Human Action Recognition/train/Image_6240.jpg  \n",
            "  inflating: Human Action Recognition/train/Image_6241.jpg  \n",
            "  inflating: Human Action Recognition/train/Image_6242.jpg  \n",
            "  inflating: Human Action Recognition/train/Image_6243.jpg  \n",
            "  inflating: Human Action Recognition/train/Image_6244.jpg  \n",
            "  inflating: Human Action Recognition/train/Image_6245.jpg  \n",
            "  inflating: Human Action Recognition/train/Image_6246.jpg  \n",
            "  inflating: Human Action Recognition/train/Image_6247.jpg  \n",
            "  inflating: Human Action Recognition/train/Image_6248.jpg  \n",
            "  inflating: Human Action Recognition/train/Image_6249.jpg  \n",
            "  inflating: Human Action Recognition/train/Image_625.jpg  \n",
            "  inflating: Human Action Recognition/train/Image_6250.jpg  \n",
            "  inflating: Human Action Recognition/train/Image_6251.jpg  \n",
            "  inflating: Human Action Recognition/train/Image_6252.jpg  \n",
            "  inflating: Human Action Recognition/train/Image_6253.jpg  \n",
            "  inflating: Human Action Recognition/train/Image_6254.jpg  \n",
            "  inflating: Human Action Recognition/train/Image_6255.jpg  \n",
            "  inflating: Human Action Recognition/train/Image_6256.jpg  \n",
            "  inflating: Human Action Recognition/train/Image_6257.jpg  \n",
            "  inflating: Human Action Recognition/train/Image_6258.jpg  \n",
            "  inflating: Human Action Recognition/train/Image_6259.jpg  \n",
            "  inflating: Human Action Recognition/train/Image_626.jpg  \n",
            "  inflating: Human Action Recognition/train/Image_6260.jpg  \n",
            "  inflating: Human Action Recognition/train/Image_6261.jpg  \n",
            "  inflating: Human Action Recognition/train/Image_6262.jpg  \n",
            "  inflating: Human Action Recognition/train/Image_6263.jpg  \n",
            "  inflating: Human Action Recognition/train/Image_6264.jpg  \n",
            "  inflating: Human Action Recognition/train/Image_6265.jpg  \n",
            "  inflating: Human Action Recognition/train/Image_6266.jpg  \n",
            "  inflating: Human Action Recognition/train/Image_6267.jpg  \n",
            "  inflating: Human Action Recognition/train/Image_6268.jpg  \n",
            "  inflating: Human Action Recognition/train/Image_6269.jpg  \n",
            "  inflating: Human Action Recognition/train/Image_627.jpg  \n",
            "  inflating: Human Action Recognition/train/Image_6270.jpg  \n",
            "  inflating: Human Action Recognition/train/Image_6271.jpg  \n",
            "  inflating: Human Action Recognition/train/Image_6272.jpg  \n",
            "  inflating: Human Action Recognition/train/Image_6273.jpg  \n",
            "  inflating: Human Action Recognition/train/Image_6274.jpg  \n",
            "  inflating: Human Action Recognition/train/Image_6275.jpg  \n",
            "  inflating: Human Action Recognition/train/Image_6276.jpg  \n",
            "  inflating: Human Action Recognition/train/Image_6277.jpg  \n",
            "  inflating: Human Action Recognition/train/Image_6278.jpg  \n",
            "  inflating: Human Action Recognition/train/Image_6279.jpg  \n",
            "  inflating: Human Action Recognition/train/Image_628.jpg  \n",
            "  inflating: Human Action Recognition/train/Image_6280.jpg  \n",
            "  inflating: Human Action Recognition/train/Image_6281.jpg  \n",
            "  inflating: Human Action Recognition/train/Image_6282.jpg  \n",
            "  inflating: Human Action Recognition/train/Image_6283.jpg  \n",
            "  inflating: Human Action Recognition/train/Image_6284.jpg  \n",
            "  inflating: Human Action Recognition/train/Image_6285.jpg  \n",
            "  inflating: Human Action Recognition/train/Image_6286.jpg  \n",
            "  inflating: Human Action Recognition/train/Image_6287.jpg  \n",
            "  inflating: Human Action Recognition/train/Image_6288.jpg  \n",
            "  inflating: Human Action Recognition/train/Image_6289.jpg  \n",
            "  inflating: Human Action Recognition/train/Image_629.jpg  \n",
            "  inflating: Human Action Recognition/train/Image_6290.jpg  \n",
            "  inflating: Human Action Recognition/train/Image_6291.jpg  \n",
            "  inflating: Human Action Recognition/train/Image_6292.jpg  \n",
            "  inflating: Human Action Recognition/train/Image_6293.jpg  \n",
            "  inflating: Human Action Recognition/train/Image_6294.jpg  \n",
            "  inflating: Human Action Recognition/train/Image_6295.jpg  \n",
            "  inflating: Human Action Recognition/train/Image_6296.jpg  \n",
            "  inflating: Human Action Recognition/train/Image_6297.jpg  \n",
            "  inflating: Human Action Recognition/train/Image_6298.jpg  \n",
            "  inflating: Human Action Recognition/train/Image_6299.jpg  \n",
            "  inflating: Human Action Recognition/train/Image_63.jpg  \n",
            "  inflating: Human Action Recognition/train/Image_630.jpg  \n",
            "  inflating: Human Action Recognition/train/Image_6300.jpg  \n",
            "  inflating: Human Action Recognition/train/Image_6301.jpg  \n",
            "  inflating: Human Action Recognition/train/Image_6302.jpg  \n",
            "  inflating: Human Action Recognition/train/Image_6303.jpg  \n",
            "  inflating: Human Action Recognition/train/Image_6304.jpg  \n",
            "  inflating: Human Action Recognition/train/Image_6305.jpg  \n",
            "  inflating: Human Action Recognition/train/Image_6306.jpg  \n",
            "  inflating: Human Action Recognition/train/Image_6307.jpg  \n",
            "  inflating: Human Action Recognition/train/Image_6308.jpg  \n",
            "  inflating: Human Action Recognition/train/Image_6309.jpg  \n",
            "  inflating: Human Action Recognition/train/Image_631.jpg  \n",
            "  inflating: Human Action Recognition/train/Image_6310.jpg  \n",
            "  inflating: Human Action Recognition/train/Image_6311.jpg  \n",
            "  inflating: Human Action Recognition/train/Image_6312.jpg  \n",
            "  inflating: Human Action Recognition/train/Image_6313.jpg  \n",
            "  inflating: Human Action Recognition/train/Image_6314.jpg  \n",
            "  inflating: Human Action Recognition/train/Image_6315.jpg  \n",
            "  inflating: Human Action Recognition/train/Image_6316.jpg  \n",
            "  inflating: Human Action Recognition/train/Image_6317.jpg  \n",
            "  inflating: Human Action Recognition/train/Image_6318.jpg  \n",
            "  inflating: Human Action Recognition/train/Image_6319.jpg  \n",
            "  inflating: Human Action Recognition/train/Image_632.jpg  \n",
            "  inflating: Human Action Recognition/train/Image_6320.jpg  \n",
            "  inflating: Human Action Recognition/train/Image_6321.jpg  \n",
            "  inflating: Human Action Recognition/train/Image_6322.jpg  \n",
            "  inflating: Human Action Recognition/train/Image_6323.jpg  \n",
            "  inflating: Human Action Recognition/train/Image_6324.jpg  \n",
            "  inflating: Human Action Recognition/train/Image_6325.jpg  \n",
            "  inflating: Human Action Recognition/train/Image_6326.jpg  \n",
            "  inflating: Human Action Recognition/train/Image_6327.jpg  \n",
            "  inflating: Human Action Recognition/train/Image_6328.jpg  \n",
            "  inflating: Human Action Recognition/train/Image_6329.jpg  \n",
            "  inflating: Human Action Recognition/train/Image_633.jpg  \n",
            "  inflating: Human Action Recognition/train/Image_6330.jpg  \n",
            "  inflating: Human Action Recognition/train/Image_6331.jpg  \n",
            "  inflating: Human Action Recognition/train/Image_6332.jpg  \n",
            "  inflating: Human Action Recognition/train/Image_6333.jpg  \n",
            "  inflating: Human Action Recognition/train/Image_6334.jpg  \n",
            "  inflating: Human Action Recognition/train/Image_6335.jpg  \n",
            "  inflating: Human Action Recognition/train/Image_6336.jpg  \n",
            "  inflating: Human Action Recognition/train/Image_6337.jpg  \n",
            "  inflating: Human Action Recognition/train/Image_6338.jpg  \n",
            "  inflating: Human Action Recognition/train/Image_6339.jpg  \n",
            "  inflating: Human Action Recognition/train/Image_634.jpg  \n",
            "  inflating: Human Action Recognition/train/Image_6340.jpg  \n",
            "  inflating: Human Action Recognition/train/Image_6341.jpg  \n",
            "  inflating: Human Action Recognition/train/Image_6342.jpg  \n",
            "  inflating: Human Action Recognition/train/Image_6343.jpg  \n",
            "  inflating: Human Action Recognition/train/Image_6344.jpg  \n",
            "  inflating: Human Action Recognition/train/Image_6345.jpg  \n",
            "  inflating: Human Action Recognition/train/Image_6346.jpg  \n",
            "  inflating: Human Action Recognition/train/Image_6347.jpg  \n",
            "  inflating: Human Action Recognition/train/Image_6348.jpg  \n",
            "  inflating: Human Action Recognition/train/Image_6349.jpg  \n",
            "  inflating: Human Action Recognition/train/Image_635.jpg  \n",
            "  inflating: Human Action Recognition/train/Image_6350.jpg  \n",
            "  inflating: Human Action Recognition/train/Image_6351.jpg  \n",
            "  inflating: Human Action Recognition/train/Image_6352.jpg  \n",
            "  inflating: Human Action Recognition/train/Image_6353.jpg  \n",
            "  inflating: Human Action Recognition/train/Image_6354.jpg  \n",
            "  inflating: Human Action Recognition/train/Image_6355.jpg  \n",
            "  inflating: Human Action Recognition/train/Image_6356.jpg  \n",
            "  inflating: Human Action Recognition/train/Image_6357.jpg  \n",
            "  inflating: Human Action Recognition/train/Image_6358.jpg  \n",
            "  inflating: Human Action Recognition/train/Image_6359.jpg  \n",
            "  inflating: Human Action Recognition/train/Image_636.jpg  \n",
            "  inflating: Human Action Recognition/train/Image_6360.jpg  \n",
            "  inflating: Human Action Recognition/train/Image_6361.jpg  \n",
            "  inflating: Human Action Recognition/train/Image_6362.jpg  \n",
            "  inflating: Human Action Recognition/train/Image_6363.jpg  \n",
            "  inflating: Human Action Recognition/train/Image_6364.jpg  \n",
            "  inflating: Human Action Recognition/train/Image_6365.jpg  \n",
            "  inflating: Human Action Recognition/train/Image_6366.jpg  \n",
            "  inflating: Human Action Recognition/train/Image_6367.jpg  \n",
            "  inflating: Human Action Recognition/train/Image_6368.jpg  \n",
            "  inflating: Human Action Recognition/train/Image_6369.jpg  \n",
            "  inflating: Human Action Recognition/train/Image_637.jpg  \n",
            "  inflating: Human Action Recognition/train/Image_6370.jpg  \n",
            "  inflating: Human Action Recognition/train/Image_6371.jpg  \n",
            "  inflating: Human Action Recognition/train/Image_6372.jpg  \n",
            "  inflating: Human Action Recognition/train/Image_6373.jpg  \n",
            "  inflating: Human Action Recognition/train/Image_6374.jpg  \n",
            "  inflating: Human Action Recognition/train/Image_6375.jpg  \n",
            "  inflating: Human Action Recognition/train/Image_6376.jpg  \n",
            "  inflating: Human Action Recognition/train/Image_6377.jpg  \n",
            "  inflating: Human Action Recognition/train/Image_6378.jpg  \n",
            "  inflating: Human Action Recognition/train/Image_6379.jpg  \n",
            "  inflating: Human Action Recognition/train/Image_638.jpg  \n",
            "  inflating: Human Action Recognition/train/Image_6380.jpg  \n",
            "  inflating: Human Action Recognition/train/Image_6381.jpg  \n",
            "  inflating: Human Action Recognition/train/Image_6382.jpg  \n",
            "  inflating: Human Action Recognition/train/Image_6383.jpg  \n",
            "  inflating: Human Action Recognition/train/Image_6384.jpg  \n",
            "  inflating: Human Action Recognition/train/Image_6385.jpg  \n",
            "  inflating: Human Action Recognition/train/Image_6386.jpg  \n",
            "  inflating: Human Action Recognition/train/Image_6387.jpg  \n",
            "  inflating: Human Action Recognition/train/Image_6388.jpg  \n",
            "  inflating: Human Action Recognition/train/Image_6389.jpg  \n",
            "  inflating: Human Action Recognition/train/Image_639.jpg  \n",
            "  inflating: Human Action Recognition/train/Image_6390.jpg  \n",
            "  inflating: Human Action Recognition/train/Image_6391.jpg  \n",
            "  inflating: Human Action Recognition/train/Image_6392.jpg  \n",
            "  inflating: Human Action Recognition/train/Image_6393.jpg  \n",
            "  inflating: Human Action Recognition/train/Image_6394.jpg  \n",
            "  inflating: Human Action Recognition/train/Image_6395.jpg  \n",
            "  inflating: Human Action Recognition/train/Image_6396.jpg  \n",
            "  inflating: Human Action Recognition/train/Image_6397.jpg  \n",
            "  inflating: Human Action Recognition/train/Image_6398.jpg  \n",
            "  inflating: Human Action Recognition/train/Image_6399.jpg  \n",
            "  inflating: Human Action Recognition/train/Image_64.jpg  \n",
            "  inflating: Human Action Recognition/train/Image_640.jpg  \n",
            "  inflating: Human Action Recognition/train/Image_6400.jpg  \n",
            "  inflating: Human Action Recognition/train/Image_6401.jpg  \n",
            "  inflating: Human Action Recognition/train/Image_6402.jpg  \n",
            "  inflating: Human Action Recognition/train/Image_6403.jpg  \n",
            "  inflating: Human Action Recognition/train/Image_6404.jpg  \n",
            "  inflating: Human Action Recognition/train/Image_6405.jpg  \n",
            "  inflating: Human Action Recognition/train/Image_6406.jpg  \n",
            "  inflating: Human Action Recognition/train/Image_6407.jpg  \n",
            "  inflating: Human Action Recognition/train/Image_6408.jpg  \n",
            "  inflating: Human Action Recognition/train/Image_6409.jpg  \n",
            "  inflating: Human Action Recognition/train/Image_641.jpg  \n",
            "  inflating: Human Action Recognition/train/Image_6410.jpg  \n",
            "  inflating: Human Action Recognition/train/Image_6411.jpg  \n",
            "  inflating: Human Action Recognition/train/Image_6412.jpg  \n",
            "  inflating: Human Action Recognition/train/Image_6413.jpg  \n",
            "  inflating: Human Action Recognition/train/Image_6414.jpg  \n",
            "  inflating: Human Action Recognition/train/Image_6415.jpg  \n",
            "  inflating: Human Action Recognition/train/Image_6416.jpg  \n",
            "  inflating: Human Action Recognition/train/Image_6417.jpg  \n",
            "  inflating: Human Action Recognition/train/Image_6418.jpg  \n",
            "  inflating: Human Action Recognition/train/Image_6419.jpg  \n",
            "  inflating: Human Action Recognition/train/Image_642.jpg  \n",
            "  inflating: Human Action Recognition/train/Image_6420.jpg  \n",
            "  inflating: Human Action Recognition/train/Image_6421.jpg  \n",
            "  inflating: Human Action Recognition/train/Image_6422.jpg  \n",
            "  inflating: Human Action Recognition/train/Image_6423.jpg  \n",
            "  inflating: Human Action Recognition/train/Image_6424.jpg  \n",
            "  inflating: Human Action Recognition/train/Image_6425.jpg  \n",
            "  inflating: Human Action Recognition/train/Image_6426.jpg  \n",
            "  inflating: Human Action Recognition/train/Image_6427.jpg  \n",
            "  inflating: Human Action Recognition/train/Image_6428.jpg  \n",
            "  inflating: Human Action Recognition/train/Image_6429.jpg  \n",
            "  inflating: Human Action Recognition/train/Image_643.jpg  \n",
            "  inflating: Human Action Recognition/train/Image_6430.jpg  \n",
            "  inflating: Human Action Recognition/train/Image_6431.jpg  \n",
            "  inflating: Human Action Recognition/train/Image_6432.jpg  \n",
            "  inflating: Human Action Recognition/train/Image_6433.jpg  \n",
            "  inflating: Human Action Recognition/train/Image_6434.jpg  \n",
            "  inflating: Human Action Recognition/train/Image_6435.jpg  \n",
            "  inflating: Human Action Recognition/train/Image_6436.jpg  \n",
            "  inflating: Human Action Recognition/train/Image_6437.jpg  \n",
            "  inflating: Human Action Recognition/train/Image_6438.jpg  \n",
            "  inflating: Human Action Recognition/train/Image_6439.jpg  \n",
            "  inflating: Human Action Recognition/train/Image_644.jpg  \n",
            "  inflating: Human Action Recognition/train/Image_6440.jpg  \n",
            "  inflating: Human Action Recognition/train/Image_6441.jpg  \n",
            "  inflating: Human Action Recognition/train/Image_6442.jpg  \n",
            "  inflating: Human Action Recognition/train/Image_6443.jpg  \n",
            "  inflating: Human Action Recognition/train/Image_6444.jpg  \n",
            "  inflating: Human Action Recognition/train/Image_6445.jpg  \n",
            "  inflating: Human Action Recognition/train/Image_6446.jpg  \n",
            "  inflating: Human Action Recognition/train/Image_6447.jpg  \n",
            "  inflating: Human Action Recognition/train/Image_6448.jpg  \n",
            "  inflating: Human Action Recognition/train/Image_6449.jpg  \n",
            "  inflating: Human Action Recognition/train/Image_645.jpg  \n",
            "  inflating: Human Action Recognition/train/Image_6450.jpg  \n",
            "  inflating: Human Action Recognition/train/Image_6451.jpg  \n",
            "  inflating: Human Action Recognition/train/Image_6452.jpg  \n",
            "  inflating: Human Action Recognition/train/Image_6453.jpg  \n",
            "  inflating: Human Action Recognition/train/Image_6454.jpg  \n",
            "  inflating: Human Action Recognition/train/Image_6455.jpg  \n",
            "  inflating: Human Action Recognition/train/Image_6456.jpg  \n",
            "  inflating: Human Action Recognition/train/Image_6457.jpg  \n",
            "  inflating: Human Action Recognition/train/Image_6458.jpg  \n",
            "  inflating: Human Action Recognition/train/Image_6459.jpg  \n",
            "  inflating: Human Action Recognition/train/Image_646.jpg  \n",
            "  inflating: Human Action Recognition/train/Image_6460.jpg  \n",
            "  inflating: Human Action Recognition/train/Image_6461.jpg  \n",
            "  inflating: Human Action Recognition/train/Image_6462.jpg  \n",
            "  inflating: Human Action Recognition/train/Image_6463.jpg  \n",
            "  inflating: Human Action Recognition/train/Image_6464.jpg  \n",
            "  inflating: Human Action Recognition/train/Image_6465.jpg  \n",
            "  inflating: Human Action Recognition/train/Image_6466.jpg  \n",
            "  inflating: Human Action Recognition/train/Image_6467.jpg  \n",
            "  inflating: Human Action Recognition/train/Image_6468.jpg  \n",
            "  inflating: Human Action Recognition/train/Image_6469.jpg  \n",
            "  inflating: Human Action Recognition/train/Image_647.jpg  \n",
            "  inflating: Human Action Recognition/train/Image_6470.jpg  \n",
            "  inflating: Human Action Recognition/train/Image_6471.jpg  \n",
            "  inflating: Human Action Recognition/train/Image_6472.jpg  \n",
            "  inflating: Human Action Recognition/train/Image_6473.jpg  \n",
            "  inflating: Human Action Recognition/train/Image_6474.jpg  \n",
            "  inflating: Human Action Recognition/train/Image_6475.jpg  \n",
            "  inflating: Human Action Recognition/train/Image_6476.jpg  \n",
            "  inflating: Human Action Recognition/train/Image_6477.jpg  \n",
            "  inflating: Human Action Recognition/train/Image_6478.jpg  \n",
            "  inflating: Human Action Recognition/train/Image_6479.jpg  \n",
            "  inflating: Human Action Recognition/train/Image_648.jpg  \n",
            "  inflating: Human Action Recognition/train/Image_6480.jpg  \n",
            "  inflating: Human Action Recognition/train/Image_6481.jpg  \n",
            "  inflating: Human Action Recognition/train/Image_6482.jpg  \n",
            "  inflating: Human Action Recognition/train/Image_6483.jpg  \n",
            "  inflating: Human Action Recognition/train/Image_6484.jpg  \n",
            "  inflating: Human Action Recognition/train/Image_6485.jpg  \n",
            "  inflating: Human Action Recognition/train/Image_6486.jpg  \n",
            "  inflating: Human Action Recognition/train/Image_6487.jpg  \n",
            "  inflating: Human Action Recognition/train/Image_6488.jpg  \n",
            "  inflating: Human Action Recognition/train/Image_6489.jpg  \n",
            "  inflating: Human Action Recognition/train/Image_649.jpg  \n",
            "  inflating: Human Action Recognition/train/Image_6490.jpg  \n",
            "  inflating: Human Action Recognition/train/Image_6491.jpg  \n",
            "  inflating: Human Action Recognition/train/Image_6492.jpg  \n",
            "  inflating: Human Action Recognition/train/Image_6493.jpg  \n",
            "  inflating: Human Action Recognition/train/Image_6494.jpg  \n",
            "  inflating: Human Action Recognition/train/Image_6495.jpg  \n",
            "  inflating: Human Action Recognition/train/Image_6496.jpg  \n",
            "  inflating: Human Action Recognition/train/Image_6497.jpg  \n",
            "  inflating: Human Action Recognition/train/Image_6498.jpg  \n",
            "  inflating: Human Action Recognition/train/Image_6499.jpg  \n",
            "  inflating: Human Action Recognition/train/Image_65.jpg  \n",
            "  inflating: Human Action Recognition/train/Image_650.jpg  \n",
            "  inflating: Human Action Recognition/train/Image_6500.jpg  \n",
            "  inflating: Human Action Recognition/train/Image_6501.jpg  \n",
            "  inflating: Human Action Recognition/train/Image_6502.jpg  \n",
            "  inflating: Human Action Recognition/train/Image_6503.jpg  \n",
            "  inflating: Human Action Recognition/train/Image_6504.jpg  \n",
            "  inflating: Human Action Recognition/train/Image_6505.jpg  \n",
            "  inflating: Human Action Recognition/train/Image_6506.jpg  \n",
            "  inflating: Human Action Recognition/train/Image_6507.jpg  \n",
            "  inflating: Human Action Recognition/train/Image_6508.jpg  \n",
            "  inflating: Human Action Recognition/train/Image_6509.jpg  \n",
            "  inflating: Human Action Recognition/train/Image_651.jpg  \n",
            "  inflating: Human Action Recognition/train/Image_6510.jpg  \n",
            "  inflating: Human Action Recognition/train/Image_6511.jpg  \n",
            "  inflating: Human Action Recognition/train/Image_6512.jpg  \n",
            "  inflating: Human Action Recognition/train/Image_6513.jpg  \n",
            "  inflating: Human Action Recognition/train/Image_6514.jpg  \n",
            "  inflating: Human Action Recognition/train/Image_6515.jpg  \n",
            "  inflating: Human Action Recognition/train/Image_6516.jpg  \n",
            "  inflating: Human Action Recognition/train/Image_6517.jpg  \n",
            "  inflating: Human Action Recognition/train/Image_6518.jpg  \n",
            "  inflating: Human Action Recognition/train/Image_6519.jpg  \n",
            "  inflating: Human Action Recognition/train/Image_652.jpg  \n",
            "  inflating: Human Action Recognition/train/Image_6520.jpg  \n",
            "  inflating: Human Action Recognition/train/Image_6521.jpg  \n",
            "  inflating: Human Action Recognition/train/Image_6522.jpg  \n",
            "  inflating: Human Action Recognition/train/Image_6523.jpg  \n",
            "  inflating: Human Action Recognition/train/Image_6524.jpg  \n",
            "  inflating: Human Action Recognition/train/Image_6525.jpg  \n",
            "  inflating: Human Action Recognition/train/Image_6526.jpg  \n",
            "  inflating: Human Action Recognition/train/Image_6527.jpg  \n",
            "  inflating: Human Action Recognition/train/Image_6528.jpg  \n",
            "  inflating: Human Action Recognition/train/Image_6529.jpg  \n",
            "  inflating: Human Action Recognition/train/Image_653.jpg  \n",
            "  inflating: Human Action Recognition/train/Image_6530.jpg  \n",
            "  inflating: Human Action Recognition/train/Image_6531.jpg  \n",
            "  inflating: Human Action Recognition/train/Image_6532.jpg  \n",
            "  inflating: Human Action Recognition/train/Image_6533.jpg  \n",
            "  inflating: Human Action Recognition/train/Image_6534.jpg  \n",
            "  inflating: Human Action Recognition/train/Image_6535.jpg  \n",
            "  inflating: Human Action Recognition/train/Image_6536.jpg  \n",
            "  inflating: Human Action Recognition/train/Image_6537.jpg  \n",
            "  inflating: Human Action Recognition/train/Image_6538.jpg  \n",
            "  inflating: Human Action Recognition/train/Image_6539.jpg  \n",
            "  inflating: Human Action Recognition/train/Image_654.jpg  \n",
            "  inflating: Human Action Recognition/train/Image_6540.jpg  \n",
            "  inflating: Human Action Recognition/train/Image_6541.jpg  \n",
            "  inflating: Human Action Recognition/train/Image_6542.jpg  \n",
            "  inflating: Human Action Recognition/train/Image_6543.jpg  \n",
            "  inflating: Human Action Recognition/train/Image_6544.jpg  \n",
            "  inflating: Human Action Recognition/train/Image_6545.jpg  \n",
            "  inflating: Human Action Recognition/train/Image_6546.jpg  \n",
            "  inflating: Human Action Recognition/train/Image_6547.jpg  \n",
            "  inflating: Human Action Recognition/train/Image_6548.jpg  \n",
            "  inflating: Human Action Recognition/train/Image_6549.jpg  \n",
            "  inflating: Human Action Recognition/train/Image_655.jpg  \n",
            "  inflating: Human Action Recognition/train/Image_6550.jpg  \n",
            "  inflating: Human Action Recognition/train/Image_6551.jpg  \n",
            "  inflating: Human Action Recognition/train/Image_6552.jpg  \n",
            "  inflating: Human Action Recognition/train/Image_6553.jpg  \n",
            "  inflating: Human Action Recognition/train/Image_6554.jpg  \n",
            "  inflating: Human Action Recognition/train/Image_6555.jpg  \n",
            "  inflating: Human Action Recognition/train/Image_6556.jpg  \n",
            "  inflating: Human Action Recognition/train/Image_6557.jpg  \n",
            "  inflating: Human Action Recognition/train/Image_6558.jpg  \n",
            "  inflating: Human Action Recognition/train/Image_6559.jpg  \n",
            "  inflating: Human Action Recognition/train/Image_656.jpg  \n",
            "  inflating: Human Action Recognition/train/Image_6560.jpg  \n",
            "  inflating: Human Action Recognition/train/Image_6561.jpg  \n",
            "  inflating: Human Action Recognition/train/Image_6562.jpg  \n",
            "  inflating: Human Action Recognition/train/Image_6563.jpg  \n",
            "  inflating: Human Action Recognition/train/Image_6564.jpg  \n",
            "  inflating: Human Action Recognition/train/Image_6565.jpg  \n",
            "  inflating: Human Action Recognition/train/Image_6566.jpg  \n",
            "  inflating: Human Action Recognition/train/Image_6567.jpg  \n",
            "  inflating: Human Action Recognition/train/Image_6568.jpg  \n",
            "  inflating: Human Action Recognition/train/Image_6569.jpg  \n",
            "  inflating: Human Action Recognition/train/Image_657.jpg  \n",
            "  inflating: Human Action Recognition/train/Image_6570.jpg  \n",
            "  inflating: Human Action Recognition/train/Image_6571.jpg  \n",
            "  inflating: Human Action Recognition/train/Image_6572.jpg  \n",
            "  inflating: Human Action Recognition/train/Image_6573.jpg  \n",
            "  inflating: Human Action Recognition/train/Image_6574.jpg  \n",
            "  inflating: Human Action Recognition/train/Image_6575.jpg  \n",
            "  inflating: Human Action Recognition/train/Image_6576.jpg  \n",
            "  inflating: Human Action Recognition/train/Image_6577.jpg  \n",
            "  inflating: Human Action Recognition/train/Image_6578.jpg  \n",
            "  inflating: Human Action Recognition/train/Image_6579.jpg  \n",
            "  inflating: Human Action Recognition/train/Image_658.jpg  \n",
            "  inflating: Human Action Recognition/train/Image_6580.jpg  \n",
            "  inflating: Human Action Recognition/train/Image_6581.jpg  \n",
            "  inflating: Human Action Recognition/train/Image_6582.jpg  \n",
            "  inflating: Human Action Recognition/train/Image_6583.jpg  \n",
            "  inflating: Human Action Recognition/train/Image_6584.jpg  \n",
            "  inflating: Human Action Recognition/train/Image_6585.jpg  \n",
            "  inflating: Human Action Recognition/train/Image_6586.jpg  \n",
            "  inflating: Human Action Recognition/train/Image_6587.jpg  \n",
            "  inflating: Human Action Recognition/train/Image_6588.jpg  \n",
            "  inflating: Human Action Recognition/train/Image_6589.jpg  \n",
            "  inflating: Human Action Recognition/train/Image_659.jpg  \n",
            "  inflating: Human Action Recognition/train/Image_6590.jpg  \n",
            "  inflating: Human Action Recognition/train/Image_6591.jpg  \n",
            "  inflating: Human Action Recognition/train/Image_6592.jpg  \n",
            "  inflating: Human Action Recognition/train/Image_6593.jpg  \n",
            "  inflating: Human Action Recognition/train/Image_6594.jpg  \n",
            "  inflating: Human Action Recognition/train/Image_6595.jpg  \n",
            "  inflating: Human Action Recognition/train/Image_6596.jpg  \n",
            "  inflating: Human Action Recognition/train/Image_6597.jpg  \n",
            "  inflating: Human Action Recognition/train/Image_6598.jpg  \n",
            "  inflating: Human Action Recognition/train/Image_6599.jpg  \n",
            "  inflating: Human Action Recognition/train/Image_66.jpg  \n",
            "  inflating: Human Action Recognition/train/Image_660.jpg  \n",
            "  inflating: Human Action Recognition/train/Image_6600.jpg  \n",
            "  inflating: Human Action Recognition/train/Image_6601.jpg  \n",
            "  inflating: Human Action Recognition/train/Image_6602.jpg  \n",
            "  inflating: Human Action Recognition/train/Image_6603.jpg  \n",
            "  inflating: Human Action Recognition/train/Image_6604.jpg  \n",
            "  inflating: Human Action Recognition/train/Image_6605.jpg  \n",
            "  inflating: Human Action Recognition/train/Image_6606.jpg  \n",
            "  inflating: Human Action Recognition/train/Image_6607.jpg  \n",
            "  inflating: Human Action Recognition/train/Image_6608.jpg  \n",
            "  inflating: Human Action Recognition/train/Image_6609.jpg  \n",
            "  inflating: Human Action Recognition/train/Image_661.jpg  \n",
            "  inflating: Human Action Recognition/train/Image_6610.jpg  \n",
            "  inflating: Human Action Recognition/train/Image_6611.jpg  \n",
            "  inflating: Human Action Recognition/train/Image_6612.jpg  \n",
            "  inflating: Human Action Recognition/train/Image_6613.jpg  \n",
            "  inflating: Human Action Recognition/train/Image_6614.jpg  \n",
            "  inflating: Human Action Recognition/train/Image_6615.jpg  \n",
            "  inflating: Human Action Recognition/train/Image_6616.jpg  \n",
            "  inflating: Human Action Recognition/train/Image_6617.jpg  \n",
            "  inflating: Human Action Recognition/train/Image_6618.jpg  \n",
            "  inflating: Human Action Recognition/train/Image_6619.jpg  \n",
            "  inflating: Human Action Recognition/train/Image_662.jpg  \n",
            "  inflating: Human Action Recognition/train/Image_6620.jpg  \n",
            "  inflating: Human Action Recognition/train/Image_6621.jpg  \n",
            "  inflating: Human Action Recognition/train/Image_6622.jpg  \n",
            "  inflating: Human Action Recognition/train/Image_6623.jpg  \n",
            "  inflating: Human Action Recognition/train/Image_6624.jpg  \n",
            "  inflating: Human Action Recognition/train/Image_6625.jpg  \n",
            "  inflating: Human Action Recognition/train/Image_6626.jpg  \n",
            "  inflating: Human Action Recognition/train/Image_6627.jpg  \n",
            "  inflating: Human Action Recognition/train/Image_6628.jpg  \n",
            "  inflating: Human Action Recognition/train/Image_6629.jpg  \n",
            "  inflating: Human Action Recognition/train/Image_663.jpg  \n",
            "  inflating: Human Action Recognition/train/Image_6630.jpg  \n",
            "  inflating: Human Action Recognition/train/Image_6631.jpg  \n",
            "  inflating: Human Action Recognition/train/Image_6632.jpg  \n",
            "  inflating: Human Action Recognition/train/Image_6633.jpg  \n",
            "  inflating: Human Action Recognition/train/Image_6634.jpg  \n",
            "  inflating: Human Action Recognition/train/Image_6635.jpg  \n",
            "  inflating: Human Action Recognition/train/Image_6636.jpg  \n",
            "  inflating: Human Action Recognition/train/Image_6637.jpg  \n",
            "  inflating: Human Action Recognition/train/Image_6638.jpg  \n",
            "  inflating: Human Action Recognition/train/Image_6639.jpg  \n",
            "  inflating: Human Action Recognition/train/Image_664.jpg  \n",
            "  inflating: Human Action Recognition/train/Image_6640.jpg  \n",
            "  inflating: Human Action Recognition/train/Image_6641.jpg  \n",
            "  inflating: Human Action Recognition/train/Image_6642.jpg  \n",
            "  inflating: Human Action Recognition/train/Image_6643.jpg  \n",
            "  inflating: Human Action Recognition/train/Image_6644.jpg  \n",
            "  inflating: Human Action Recognition/train/Image_6645.jpg  \n",
            "  inflating: Human Action Recognition/train/Image_6646.jpg  \n",
            "  inflating: Human Action Recognition/train/Image_6647.jpg  \n",
            "  inflating: Human Action Recognition/train/Image_6648.jpg  \n",
            "  inflating: Human Action Recognition/train/Image_6649.jpg  \n",
            "  inflating: Human Action Recognition/train/Image_665.jpg  \n",
            "  inflating: Human Action Recognition/train/Image_6650.jpg  \n",
            "  inflating: Human Action Recognition/train/Image_6651.jpg  \n",
            "  inflating: Human Action Recognition/train/Image_6652.jpg  \n",
            "  inflating: Human Action Recognition/train/Image_6653.jpg  \n",
            "  inflating: Human Action Recognition/train/Image_6654.jpg  \n",
            "  inflating: Human Action Recognition/train/Image_6655.jpg  \n",
            "  inflating: Human Action Recognition/train/Image_6656.jpg  \n",
            "  inflating: Human Action Recognition/train/Image_6657.jpg  \n",
            "  inflating: Human Action Recognition/train/Image_6658.jpg  \n",
            "  inflating: Human Action Recognition/train/Image_6659.jpg  \n",
            "  inflating: Human Action Recognition/train/Image_666.jpg  \n",
            "  inflating: Human Action Recognition/train/Image_6660.jpg  \n",
            "  inflating: Human Action Recognition/train/Image_6661.jpg  \n",
            "  inflating: Human Action Recognition/train/Image_6662.jpg  \n",
            "  inflating: Human Action Recognition/train/Image_6663.jpg  \n",
            "  inflating: Human Action Recognition/train/Image_6664.jpg  \n",
            "  inflating: Human Action Recognition/train/Image_6665.jpg  \n",
            "  inflating: Human Action Recognition/train/Image_6666.jpg  \n",
            "  inflating: Human Action Recognition/train/Image_6667.jpg  \n",
            "  inflating: Human Action Recognition/train/Image_6668.jpg  \n",
            "  inflating: Human Action Recognition/train/Image_6669.jpg  \n",
            "  inflating: Human Action Recognition/train/Image_667.jpg  \n",
            "  inflating: Human Action Recognition/train/Image_6670.jpg  \n",
            "  inflating: Human Action Recognition/train/Image_6671.jpg  \n",
            "  inflating: Human Action Recognition/train/Image_6672.jpg  \n",
            "  inflating: Human Action Recognition/train/Image_6673.jpg  \n",
            "  inflating: Human Action Recognition/train/Image_6674.jpg  \n",
            "  inflating: Human Action Recognition/train/Image_6675.jpg  \n",
            "  inflating: Human Action Recognition/train/Image_6676.jpg  \n",
            "  inflating: Human Action Recognition/train/Image_6677.jpg  \n",
            "  inflating: Human Action Recognition/train/Image_6678.jpg  \n",
            "  inflating: Human Action Recognition/train/Image_6679.jpg  \n",
            "  inflating: Human Action Recognition/train/Image_668.jpg  \n",
            "  inflating: Human Action Recognition/train/Image_6680.jpg  \n",
            "  inflating: Human Action Recognition/train/Image_6681.jpg  \n",
            "  inflating: Human Action Recognition/train/Image_6682.jpg  \n",
            "  inflating: Human Action Recognition/train/Image_6683.jpg  \n",
            "  inflating: Human Action Recognition/train/Image_6684.jpg  \n",
            "  inflating: Human Action Recognition/train/Image_6685.jpg  \n",
            "  inflating: Human Action Recognition/train/Image_6686.jpg  \n",
            "  inflating: Human Action Recognition/train/Image_6687.jpg  \n",
            "  inflating: Human Action Recognition/train/Image_6688.jpg  \n",
            "  inflating: Human Action Recognition/train/Image_6689.jpg  \n",
            "  inflating: Human Action Recognition/train/Image_669.jpg  \n",
            "  inflating: Human Action Recognition/train/Image_6690.jpg  \n",
            "  inflating: Human Action Recognition/train/Image_6691.jpg  \n",
            "  inflating: Human Action Recognition/train/Image_6692.jpg  \n",
            "  inflating: Human Action Recognition/train/Image_6693.jpg  \n",
            "  inflating: Human Action Recognition/train/Image_6694.jpg  \n",
            "  inflating: Human Action Recognition/train/Image_6695.jpg  \n",
            "  inflating: Human Action Recognition/train/Image_6696.jpg  \n",
            "  inflating: Human Action Recognition/train/Image_6697.jpg  \n",
            "  inflating: Human Action Recognition/train/Image_6698.jpg  \n",
            "  inflating: Human Action Recognition/train/Image_6699.jpg  \n",
            "  inflating: Human Action Recognition/train/Image_67.jpg  \n",
            "  inflating: Human Action Recognition/train/Image_670.jpg  \n",
            "  inflating: Human Action Recognition/train/Image_6700.jpg  \n",
            "  inflating: Human Action Recognition/train/Image_6701.jpg  \n",
            "  inflating: Human Action Recognition/train/Image_6702.jpg  \n",
            "  inflating: Human Action Recognition/train/Image_6703.jpg  \n",
            "  inflating: Human Action Recognition/train/Image_6704.jpg  \n",
            "  inflating: Human Action Recognition/train/Image_6705.jpg  \n",
            "  inflating: Human Action Recognition/train/Image_6706.jpg  \n",
            "  inflating: Human Action Recognition/train/Image_6707.jpg  \n",
            "  inflating: Human Action Recognition/train/Image_6708.jpg  \n",
            "  inflating: Human Action Recognition/train/Image_6709.jpg  \n",
            "  inflating: Human Action Recognition/train/Image_671.jpg  \n",
            "  inflating: Human Action Recognition/train/Image_6710.jpg  \n",
            "  inflating: Human Action Recognition/train/Image_6711.jpg  \n",
            "  inflating: Human Action Recognition/train/Image_6712.jpg  \n",
            "  inflating: Human Action Recognition/train/Image_6713.jpg  \n",
            "  inflating: Human Action Recognition/train/Image_6714.jpg  \n",
            "  inflating: Human Action Recognition/train/Image_6715.jpg  \n",
            "  inflating: Human Action Recognition/train/Image_6716.jpg  \n",
            "  inflating: Human Action Recognition/train/Image_6717.jpg  \n",
            "  inflating: Human Action Recognition/train/Image_6718.jpg  \n",
            "  inflating: Human Action Recognition/train/Image_6719.jpg  \n",
            "  inflating: Human Action Recognition/train/Image_672.jpg  \n",
            "  inflating: Human Action Recognition/train/Image_6720.jpg  \n",
            "  inflating: Human Action Recognition/train/Image_6721.jpg  \n",
            "  inflating: Human Action Recognition/train/Image_6722.jpg  \n",
            "  inflating: Human Action Recognition/train/Image_6723.jpg  \n",
            "  inflating: Human Action Recognition/train/Image_6724.jpg  \n",
            "  inflating: Human Action Recognition/train/Image_6725.jpg  \n",
            "  inflating: Human Action Recognition/train/Image_6726.jpg  \n",
            "  inflating: Human Action Recognition/train/Image_6727.jpg  \n",
            "  inflating: Human Action Recognition/train/Image_6728.jpg  \n",
            "  inflating: Human Action Recognition/train/Image_6729.jpg  \n",
            "  inflating: Human Action Recognition/train/Image_673.jpg  \n",
            "  inflating: Human Action Recognition/train/Image_6730.jpg  \n",
            "  inflating: Human Action Recognition/train/Image_6731.jpg  \n",
            "  inflating: Human Action Recognition/train/Image_6732.jpg  \n",
            "  inflating: Human Action Recognition/train/Image_6733.jpg  \n",
            "  inflating: Human Action Recognition/train/Image_6734.jpg  \n",
            "  inflating: Human Action Recognition/train/Image_6735.jpg  \n",
            "  inflating: Human Action Recognition/train/Image_6736.jpg  \n",
            "  inflating: Human Action Recognition/train/Image_6737.jpg  \n",
            "  inflating: Human Action Recognition/train/Image_6738.jpg  \n",
            "  inflating: Human Action Recognition/train/Image_6739.jpg  \n",
            "  inflating: Human Action Recognition/train/Image_674.jpg  \n",
            "  inflating: Human Action Recognition/train/Image_6740.jpg  \n",
            "  inflating: Human Action Recognition/train/Image_6741.jpg  \n",
            "  inflating: Human Action Recognition/train/Image_6742.jpg  \n",
            "  inflating: Human Action Recognition/train/Image_6743.jpg  \n",
            "  inflating: Human Action Recognition/train/Image_6744.jpg  \n",
            "  inflating: Human Action Recognition/train/Image_6745.jpg  \n",
            "  inflating: Human Action Recognition/train/Image_6746.jpg  \n",
            "  inflating: Human Action Recognition/train/Image_6747.jpg  \n",
            "  inflating: Human Action Recognition/train/Image_6748.jpg  \n",
            "  inflating: Human Action Recognition/train/Image_6749.jpg  \n",
            "  inflating: Human Action Recognition/train/Image_675.jpg  \n",
            "  inflating: Human Action Recognition/train/Image_6750.jpg  \n",
            "  inflating: Human Action Recognition/train/Image_6751.jpg  \n",
            "  inflating: Human Action Recognition/train/Image_6752.jpg  \n",
            "  inflating: Human Action Recognition/train/Image_6753.jpg  \n",
            "  inflating: Human Action Recognition/train/Image_6754.jpg  \n",
            "  inflating: Human Action Recognition/train/Image_6755.jpg  \n",
            "  inflating: Human Action Recognition/train/Image_6756.jpg  \n",
            "  inflating: Human Action Recognition/train/Image_6757.jpg  \n",
            "  inflating: Human Action Recognition/train/Image_6758.jpg  \n",
            "  inflating: Human Action Recognition/train/Image_6759.jpg  \n",
            "  inflating: Human Action Recognition/train/Image_676.jpg  \n",
            "  inflating: Human Action Recognition/train/Image_6760.jpg  \n",
            "  inflating: Human Action Recognition/train/Image_6761.jpg  \n",
            "  inflating: Human Action Recognition/train/Image_6762.jpg  \n",
            "  inflating: Human Action Recognition/train/Image_6763.jpg  \n",
            "  inflating: Human Action Recognition/train/Image_6764.jpg  \n",
            "  inflating: Human Action Recognition/train/Image_6765.jpg  \n",
            "  inflating: Human Action Recognition/train/Image_6766.jpg  \n",
            "  inflating: Human Action Recognition/train/Image_6767.jpg  \n",
            "  inflating: Human Action Recognition/train/Image_6768.jpg  \n",
            "  inflating: Human Action Recognition/train/Image_6769.jpg  \n",
            "  inflating: Human Action Recognition/train/Image_677.jpg  \n",
            "  inflating: Human Action Recognition/train/Image_6770.jpg  \n",
            "  inflating: Human Action Recognition/train/Image_6771.jpg  \n",
            "  inflating: Human Action Recognition/train/Image_6772.jpg  \n",
            "  inflating: Human Action Recognition/train/Image_6773.jpg  \n",
            "  inflating: Human Action Recognition/train/Image_6774.jpg  \n",
            "  inflating: Human Action Recognition/train/Image_6775.jpg  \n",
            "  inflating: Human Action Recognition/train/Image_6776.jpg  \n",
            "  inflating: Human Action Recognition/train/Image_6777.jpg  \n",
            "  inflating: Human Action Recognition/train/Image_6778.jpg  \n",
            "  inflating: Human Action Recognition/train/Image_6779.jpg  \n",
            "  inflating: Human Action Recognition/train/Image_678.jpg  \n",
            "  inflating: Human Action Recognition/train/Image_6780.jpg  \n",
            "  inflating: Human Action Recognition/train/Image_6781.jpg  \n",
            "  inflating: Human Action Recognition/train/Image_6782.jpg  \n",
            "  inflating: Human Action Recognition/train/Image_6783.jpg  \n",
            "  inflating: Human Action Recognition/train/Image_6784.jpg  \n",
            "  inflating: Human Action Recognition/train/Image_6785.jpg  \n",
            "  inflating: Human Action Recognition/train/Image_6786.jpg  \n",
            "  inflating: Human Action Recognition/train/Image_6787.jpg  \n",
            "  inflating: Human Action Recognition/train/Image_6788.jpg  \n",
            "  inflating: Human Action Recognition/train/Image_6789.jpg  \n",
            "  inflating: Human Action Recognition/train/Image_679.jpg  \n",
            "  inflating: Human Action Recognition/train/Image_6790.jpg  \n",
            "  inflating: Human Action Recognition/train/Image_6791.jpg  \n",
            "  inflating: Human Action Recognition/train/Image_6792.jpg  \n",
            "  inflating: Human Action Recognition/train/Image_6793.jpg  \n",
            "  inflating: Human Action Recognition/train/Image_6794.jpg  \n",
            "  inflating: Human Action Recognition/train/Image_6795.jpg  \n",
            "  inflating: Human Action Recognition/train/Image_6796.jpg  \n",
            "  inflating: Human Action Recognition/train/Image_6797.jpg  \n",
            "  inflating: Human Action Recognition/train/Image_6798.jpg  \n",
            "  inflating: Human Action Recognition/train/Image_6799.jpg  \n",
            "  inflating: Human Action Recognition/train/Image_68.jpg  \n",
            "  inflating: Human Action Recognition/train/Image_680.jpg  \n",
            "  inflating: Human Action Recognition/train/Image_6800.jpg  \n",
            "  inflating: Human Action Recognition/train/Image_6801.jpg  \n",
            "  inflating: Human Action Recognition/train/Image_6802.jpg  \n",
            "  inflating: Human Action Recognition/train/Image_6803.jpg  \n",
            "  inflating: Human Action Recognition/train/Image_6804.jpg  \n",
            "  inflating: Human Action Recognition/train/Image_6805.jpg  \n",
            "  inflating: Human Action Recognition/train/Image_6806.jpg  \n",
            "  inflating: Human Action Recognition/train/Image_6807.jpg  \n",
            "  inflating: Human Action Recognition/train/Image_6808.jpg  \n",
            "  inflating: Human Action Recognition/train/Image_6809.jpg  \n",
            "  inflating: Human Action Recognition/train/Image_681.jpg  \n",
            "  inflating: Human Action Recognition/train/Image_6810.jpg  \n",
            "  inflating: Human Action Recognition/train/Image_6811.jpg  \n",
            "  inflating: Human Action Recognition/train/Image_6812.jpg  \n",
            "  inflating: Human Action Recognition/train/Image_6813.jpg  \n",
            "  inflating: Human Action Recognition/train/Image_6814.jpg  \n",
            "  inflating: Human Action Recognition/train/Image_6815.jpg  \n",
            "  inflating: Human Action Recognition/train/Image_6816.jpg  \n",
            "  inflating: Human Action Recognition/train/Image_6817.jpg  \n",
            "  inflating: Human Action Recognition/train/Image_6818.jpg  \n",
            "  inflating: Human Action Recognition/train/Image_6819.jpg  \n",
            "  inflating: Human Action Recognition/train/Image_682.jpg  \n",
            "  inflating: Human Action Recognition/train/Image_6820.jpg  \n",
            "  inflating: Human Action Recognition/train/Image_6821.jpg  \n",
            "  inflating: Human Action Recognition/train/Image_6822.jpg  \n",
            "  inflating: Human Action Recognition/train/Image_6823.jpg  \n",
            "  inflating: Human Action Recognition/train/Image_6824.jpg  \n",
            "  inflating: Human Action Recognition/train/Image_6825.jpg  \n",
            "  inflating: Human Action Recognition/train/Image_6826.jpg  \n",
            "  inflating: Human Action Recognition/train/Image_6827.jpg  \n",
            "  inflating: Human Action Recognition/train/Image_6828.jpg  \n",
            "  inflating: Human Action Recognition/train/Image_6829.jpg  \n",
            "  inflating: Human Action Recognition/train/Image_683.jpg  \n",
            "  inflating: Human Action Recognition/train/Image_6830.jpg  \n",
            "  inflating: Human Action Recognition/train/Image_6831.jpg  \n",
            "  inflating: Human Action Recognition/train/Image_6832.jpg  \n",
            "  inflating: Human Action Recognition/train/Image_6833.jpg  \n",
            "  inflating: Human Action Recognition/train/Image_6834.jpg  \n",
            "  inflating: Human Action Recognition/train/Image_6835.jpg  \n",
            "  inflating: Human Action Recognition/train/Image_6836.jpg  \n",
            "  inflating: Human Action Recognition/train/Image_6837.jpg  \n",
            "  inflating: Human Action Recognition/train/Image_6838.jpg  \n",
            "  inflating: Human Action Recognition/train/Image_6839.jpg  \n",
            "  inflating: Human Action Recognition/train/Image_684.jpg  \n",
            "  inflating: Human Action Recognition/train/Image_6840.jpg  \n",
            "  inflating: Human Action Recognition/train/Image_6841.jpg  \n",
            "  inflating: Human Action Recognition/train/Image_6842.jpg  \n",
            "  inflating: Human Action Recognition/train/Image_6843.jpg  \n",
            "  inflating: Human Action Recognition/train/Image_6844.jpg  \n",
            "  inflating: Human Action Recognition/train/Image_6845.jpg  \n",
            "  inflating: Human Action Recognition/train/Image_6846.jpg  \n",
            "  inflating: Human Action Recognition/train/Image_6847.jpg  \n",
            "  inflating: Human Action Recognition/train/Image_6848.jpg  \n",
            "  inflating: Human Action Recognition/train/Image_6849.jpg  \n",
            "  inflating: Human Action Recognition/train/Image_685.jpg  \n",
            "  inflating: Human Action Recognition/train/Image_6850.jpg  \n",
            "  inflating: Human Action Recognition/train/Image_6851.jpg  \n",
            "  inflating: Human Action Recognition/train/Image_6852.jpg  \n",
            "  inflating: Human Action Recognition/train/Image_6853.jpg  \n",
            "  inflating: Human Action Recognition/train/Image_6854.jpg  \n",
            "  inflating: Human Action Recognition/train/Image_6855.jpg  \n",
            "  inflating: Human Action Recognition/train/Image_6856.jpg  \n",
            "  inflating: Human Action Recognition/train/Image_6857.jpg  \n",
            "  inflating: Human Action Recognition/train/Image_6858.jpg  \n",
            "  inflating: Human Action Recognition/train/Image_6859.jpg  \n",
            "  inflating: Human Action Recognition/train/Image_686.jpg  \n",
            "  inflating: Human Action Recognition/train/Image_6860.jpg  \n",
            "  inflating: Human Action Recognition/train/Image_6861.jpg  \n",
            "  inflating: Human Action Recognition/train/Image_6862.jpg  \n",
            "  inflating: Human Action Recognition/train/Image_6863.jpg  \n",
            "  inflating: Human Action Recognition/train/Image_6864.jpg  \n",
            "  inflating: Human Action Recognition/train/Image_6865.jpg  \n",
            "  inflating: Human Action Recognition/train/Image_6866.jpg  \n",
            "  inflating: Human Action Recognition/train/Image_6867.jpg  \n",
            "  inflating: Human Action Recognition/train/Image_6868.jpg  \n",
            "  inflating: Human Action Recognition/train/Image_6869.jpg  \n",
            "  inflating: Human Action Recognition/train/Image_687.jpg  \n",
            "  inflating: Human Action Recognition/train/Image_6870.jpg  \n",
            "  inflating: Human Action Recognition/train/Image_6871.jpg  \n",
            "  inflating: Human Action Recognition/train/Image_6872.jpg  \n",
            "  inflating: Human Action Recognition/train/Image_6873.jpg  \n",
            "  inflating: Human Action Recognition/train/Image_6874.jpg  \n",
            "  inflating: Human Action Recognition/train/Image_6875.jpg  \n",
            "  inflating: Human Action Recognition/train/Image_6876.jpg  \n",
            "  inflating: Human Action Recognition/train/Image_6877.jpg  \n",
            "  inflating: Human Action Recognition/train/Image_6878.jpg  \n",
            "  inflating: Human Action Recognition/train/Image_6879.jpg  \n",
            "  inflating: Human Action Recognition/train/Image_688.jpg  \n",
            "  inflating: Human Action Recognition/train/Image_6880.jpg  \n",
            "  inflating: Human Action Recognition/train/Image_6881.jpg  \n",
            "  inflating: Human Action Recognition/train/Image_6882.jpg  \n",
            "  inflating: Human Action Recognition/train/Image_6883.jpg  \n",
            "  inflating: Human Action Recognition/train/Image_6884.jpg  \n",
            "  inflating: Human Action Recognition/train/Image_6885.jpg  \n",
            "  inflating: Human Action Recognition/train/Image_6886.jpg  \n",
            "  inflating: Human Action Recognition/train/Image_6887.jpg  \n",
            "  inflating: Human Action Recognition/train/Image_6888.jpg  \n",
            "  inflating: Human Action Recognition/train/Image_6889.jpg  \n",
            "  inflating: Human Action Recognition/train/Image_689.jpg  \n",
            "  inflating: Human Action Recognition/train/Image_6890.jpg  \n",
            "  inflating: Human Action Recognition/train/Image_6891.jpg  \n",
            "  inflating: Human Action Recognition/train/Image_6892.jpg  \n",
            "  inflating: Human Action Recognition/train/Image_6893.jpg  \n",
            "  inflating: Human Action Recognition/train/Image_6894.jpg  \n",
            "  inflating: Human Action Recognition/train/Image_6895.jpg  \n",
            "  inflating: Human Action Recognition/train/Image_6896.jpg  \n",
            "  inflating: Human Action Recognition/train/Image_6897.jpg  \n",
            "  inflating: Human Action Recognition/train/Image_6898.jpg  \n",
            "  inflating: Human Action Recognition/train/Image_6899.jpg  \n",
            "  inflating: Human Action Recognition/train/Image_69.jpg  \n",
            "  inflating: Human Action Recognition/train/Image_690.jpg  \n",
            "  inflating: Human Action Recognition/train/Image_6900.jpg  \n",
            "  inflating: Human Action Recognition/train/Image_6901.jpg  \n",
            "  inflating: Human Action Recognition/train/Image_6902.jpg  \n",
            "  inflating: Human Action Recognition/train/Image_6903.jpg  \n",
            "  inflating: Human Action Recognition/train/Image_6904.jpg  \n",
            "  inflating: Human Action Recognition/train/Image_6905.jpg  \n",
            "  inflating: Human Action Recognition/train/Image_6906.jpg  \n",
            "  inflating: Human Action Recognition/train/Image_6907.jpg  \n",
            "  inflating: Human Action Recognition/train/Image_6908.jpg  \n",
            "  inflating: Human Action Recognition/train/Image_6909.jpg  \n",
            "  inflating: Human Action Recognition/train/Image_691.jpg  \n",
            "  inflating: Human Action Recognition/train/Image_6910.jpg  \n",
            "  inflating: Human Action Recognition/train/Image_6911.jpg  \n",
            "  inflating: Human Action Recognition/train/Image_6912.jpg  \n",
            "  inflating: Human Action Recognition/train/Image_6913.jpg  \n",
            "  inflating: Human Action Recognition/train/Image_6914.jpg  \n",
            "  inflating: Human Action Recognition/train/Image_6915.jpg  \n",
            "  inflating: Human Action Recognition/train/Image_6916.jpg  \n",
            "  inflating: Human Action Recognition/train/Image_6917.jpg  \n",
            "  inflating: Human Action Recognition/train/Image_6918.jpg  \n",
            "  inflating: Human Action Recognition/train/Image_6919.jpg  \n",
            "  inflating: Human Action Recognition/train/Image_692.jpg  \n",
            "  inflating: Human Action Recognition/train/Image_6920.jpg  \n",
            "  inflating: Human Action Recognition/train/Image_6921.jpg  \n",
            "  inflating: Human Action Recognition/train/Image_6922.jpg  \n",
            "  inflating: Human Action Recognition/train/Image_6923.jpg  \n",
            "  inflating: Human Action Recognition/train/Image_6924.jpg  \n",
            "  inflating: Human Action Recognition/train/Image_6925.jpg  \n",
            "  inflating: Human Action Recognition/train/Image_6926.jpg  \n",
            "  inflating: Human Action Recognition/train/Image_6927.jpg  \n",
            "  inflating: Human Action Recognition/train/Image_6928.jpg  \n",
            "  inflating: Human Action Recognition/train/Image_6929.jpg  \n",
            "  inflating: Human Action Recognition/train/Image_693.jpg  \n",
            "  inflating: Human Action Recognition/train/Image_6930.jpg  \n",
            "  inflating: Human Action Recognition/train/Image_6931.jpg  \n",
            "  inflating: Human Action Recognition/train/Image_6932.jpg  \n",
            "  inflating: Human Action Recognition/train/Image_6933.jpg  \n",
            "  inflating: Human Action Recognition/train/Image_6934.jpg  \n",
            "  inflating: Human Action Recognition/train/Image_6935.jpg  \n",
            "  inflating: Human Action Recognition/train/Image_6936.jpg  \n",
            "  inflating: Human Action Recognition/train/Image_6937.jpg  \n",
            "  inflating: Human Action Recognition/train/Image_6938.jpg  \n",
            "  inflating: Human Action Recognition/train/Image_6939.jpg  \n",
            "  inflating: Human Action Recognition/train/Image_694.jpg  \n",
            "  inflating: Human Action Recognition/train/Image_6940.jpg  \n",
            "  inflating: Human Action Recognition/train/Image_6941.jpg  \n",
            "  inflating: Human Action Recognition/train/Image_6942.jpg  \n",
            "  inflating: Human Action Recognition/train/Image_6943.jpg  \n",
            "  inflating: Human Action Recognition/train/Image_6944.jpg  \n",
            "  inflating: Human Action Recognition/train/Image_6945.jpg  \n",
            "  inflating: Human Action Recognition/train/Image_6946.jpg  \n",
            "  inflating: Human Action Recognition/train/Image_6947.jpg  \n",
            "  inflating: Human Action Recognition/train/Image_6948.jpg  \n",
            "  inflating: Human Action Recognition/train/Image_6949.jpg  \n",
            "  inflating: Human Action Recognition/train/Image_695.jpg  \n",
            "  inflating: Human Action Recognition/train/Image_6950.jpg  \n",
            "  inflating: Human Action Recognition/train/Image_6951.jpg  \n",
            "  inflating: Human Action Recognition/train/Image_6952.jpg  \n",
            "  inflating: Human Action Recognition/train/Image_6953.jpg  \n",
            "  inflating: Human Action Recognition/train/Image_6954.jpg  \n",
            "  inflating: Human Action Recognition/train/Image_6955.jpg  \n",
            "  inflating: Human Action Recognition/train/Image_6956.jpg  \n",
            "  inflating: Human Action Recognition/train/Image_6957.jpg  \n",
            "  inflating: Human Action Recognition/train/Image_6958.jpg  \n",
            "  inflating: Human Action Recognition/train/Image_6959.jpg  \n",
            "  inflating: Human Action Recognition/train/Image_696.jpg  \n",
            "  inflating: Human Action Recognition/train/Image_6960.jpg  \n",
            "  inflating: Human Action Recognition/train/Image_6961.jpg  \n",
            "  inflating: Human Action Recognition/train/Image_6962.jpg  \n",
            "  inflating: Human Action Recognition/train/Image_6963.jpg  \n",
            "  inflating: Human Action Recognition/train/Image_6964.jpg  \n",
            "  inflating: Human Action Recognition/train/Image_6965.jpg  \n",
            "  inflating: Human Action Recognition/train/Image_6966.jpg  \n",
            "  inflating: Human Action Recognition/train/Image_6967.jpg  \n",
            "  inflating: Human Action Recognition/train/Image_6968.jpg  \n",
            "  inflating: Human Action Recognition/train/Image_6969.jpg  \n",
            "  inflating: Human Action Recognition/train/Image_697.jpg  \n",
            "  inflating: Human Action Recognition/train/Image_6970.jpg  \n",
            "  inflating: Human Action Recognition/train/Image_6971.jpg  \n",
            "  inflating: Human Action Recognition/train/Image_6972.jpg  \n",
            "  inflating: Human Action Recognition/train/Image_6973.jpg  \n",
            "  inflating: Human Action Recognition/train/Image_6974.jpg  \n",
            "  inflating: Human Action Recognition/train/Image_6975.jpg  \n",
            "  inflating: Human Action Recognition/train/Image_6976.jpg  \n",
            "  inflating: Human Action Recognition/train/Image_6977.jpg  \n",
            "  inflating: Human Action Recognition/train/Image_6978.jpg  \n",
            "  inflating: Human Action Recognition/train/Image_6979.jpg  \n",
            "  inflating: Human Action Recognition/train/Image_698.jpg  \n",
            "  inflating: Human Action Recognition/train/Image_6980.jpg  \n",
            "  inflating: Human Action Recognition/train/Image_6981.jpg  \n",
            "  inflating: Human Action Recognition/train/Image_6982.jpg  \n",
            "  inflating: Human Action Recognition/train/Image_6983.jpg  \n",
            "  inflating: Human Action Recognition/train/Image_6984.jpg  \n",
            "  inflating: Human Action Recognition/train/Image_6985.jpg  \n",
            "  inflating: Human Action Recognition/train/Image_6986.jpg  \n",
            "  inflating: Human Action Recognition/train/Image_6987.jpg  \n",
            "  inflating: Human Action Recognition/train/Image_6988.jpg  \n",
            "  inflating: Human Action Recognition/train/Image_6989.jpg  \n",
            "  inflating: Human Action Recognition/train/Image_699.jpg  \n",
            "  inflating: Human Action Recognition/train/Image_6990.jpg  \n",
            "  inflating: Human Action Recognition/train/Image_6991.jpg  \n",
            "  inflating: Human Action Recognition/train/Image_6992.jpg  \n",
            "  inflating: Human Action Recognition/train/Image_6993.jpg  \n",
            "  inflating: Human Action Recognition/train/Image_6994.jpg  \n",
            "  inflating: Human Action Recognition/train/Image_6995.jpg  \n",
            "  inflating: Human Action Recognition/train/Image_6996.jpg  \n",
            "  inflating: Human Action Recognition/train/Image_6997.jpg  \n",
            "  inflating: Human Action Recognition/train/Image_6998.jpg  \n",
            "  inflating: Human Action Recognition/train/Image_6999.jpg  \n",
            "  inflating: Human Action Recognition/train/Image_7.jpg  \n",
            "  inflating: Human Action Recognition/train/Image_70.jpg  \n",
            "  inflating: Human Action Recognition/train/Image_700.jpg  \n",
            "  inflating: Human Action Recognition/train/Image_7000.jpg  \n",
            "  inflating: Human Action Recognition/train/Image_7001.jpg  \n",
            "  inflating: Human Action Recognition/train/Image_7002.jpg  \n",
            "  inflating: Human Action Recognition/train/Image_7003.jpg  \n",
            "  inflating: Human Action Recognition/train/Image_7004.jpg  \n",
            "  inflating: Human Action Recognition/train/Image_7005.jpg  \n",
            "  inflating: Human Action Recognition/train/Image_7006.jpg  \n",
            "  inflating: Human Action Recognition/train/Image_7007.jpg  \n",
            "  inflating: Human Action Recognition/train/Image_7008.jpg  \n",
            "  inflating: Human Action Recognition/train/Image_7009.jpg  \n",
            "  inflating: Human Action Recognition/train/Image_701.jpg  \n",
            "  inflating: Human Action Recognition/train/Image_7010.jpg  \n",
            "  inflating: Human Action Recognition/train/Image_7011.jpg  \n",
            "  inflating: Human Action Recognition/train/Image_7012.jpg  \n",
            "  inflating: Human Action Recognition/train/Image_7013.jpg  \n",
            "  inflating: Human Action Recognition/train/Image_7014.jpg  \n",
            "  inflating: Human Action Recognition/train/Image_7015.jpg  \n",
            "  inflating: Human Action Recognition/train/Image_7016.jpg  \n",
            "  inflating: Human Action Recognition/train/Image_7017.jpg  \n",
            "  inflating: Human Action Recognition/train/Image_7018.jpg  \n",
            "  inflating: Human Action Recognition/train/Image_7019.jpg  \n",
            "  inflating: Human Action Recognition/train/Image_702.jpg  \n",
            "  inflating: Human Action Recognition/train/Image_7020.jpg  \n",
            "  inflating: Human Action Recognition/train/Image_7021.jpg  \n",
            "  inflating: Human Action Recognition/train/Image_7022.jpg  \n",
            "  inflating: Human Action Recognition/train/Image_7023.jpg  \n",
            "  inflating: Human Action Recognition/train/Image_7024.jpg  \n",
            "  inflating: Human Action Recognition/train/Image_7025.jpg  \n",
            "  inflating: Human Action Recognition/train/Image_7026.jpg  \n",
            "  inflating: Human Action Recognition/train/Image_7027.jpg  \n",
            "  inflating: Human Action Recognition/train/Image_7028.jpg  \n",
            "  inflating: Human Action Recognition/train/Image_7029.jpg  \n",
            "  inflating: Human Action Recognition/train/Image_703.jpg  \n",
            "  inflating: Human Action Recognition/train/Image_7030.jpg  \n",
            "  inflating: Human Action Recognition/train/Image_7031.jpg  \n",
            "  inflating: Human Action Recognition/train/Image_7032.jpg  \n",
            "  inflating: Human Action Recognition/train/Image_7033.jpg  \n",
            "  inflating: Human Action Recognition/train/Image_7034.jpg  \n",
            "  inflating: Human Action Recognition/train/Image_7035.jpg  \n",
            "  inflating: Human Action Recognition/train/Image_7036.jpg  \n",
            "  inflating: Human Action Recognition/train/Image_7037.jpg  \n",
            "  inflating: Human Action Recognition/train/Image_7038.jpg  \n",
            "  inflating: Human Action Recognition/train/Image_7039.jpg  \n",
            "  inflating: Human Action Recognition/train/Image_704.jpg  \n",
            "  inflating: Human Action Recognition/train/Image_7040.jpg  \n",
            "  inflating: Human Action Recognition/train/Image_7041.jpg  \n",
            "  inflating: Human Action Recognition/train/Image_7042.jpg  \n",
            "  inflating: Human Action Recognition/train/Image_7043.jpg  \n",
            "  inflating: Human Action Recognition/train/Image_7044.jpg  \n",
            "  inflating: Human Action Recognition/train/Image_7045.jpg  \n",
            "  inflating: Human Action Recognition/train/Image_7046.jpg  \n",
            "  inflating: Human Action Recognition/train/Image_7047.jpg  \n",
            "  inflating: Human Action Recognition/train/Image_7048.jpg  \n",
            "  inflating: Human Action Recognition/train/Image_7049.jpg  \n",
            "  inflating: Human Action Recognition/train/Image_705.jpg  \n",
            "  inflating: Human Action Recognition/train/Image_7050.jpg  \n",
            "  inflating: Human Action Recognition/train/Image_7051.jpg  \n",
            "  inflating: Human Action Recognition/train/Image_7052.jpg  \n",
            "  inflating: Human Action Recognition/train/Image_7053.jpg  \n",
            "  inflating: Human Action Recognition/train/Image_7054.jpg  \n",
            "  inflating: Human Action Recognition/train/Image_7055.jpg  \n",
            "  inflating: Human Action Recognition/train/Image_7056.jpg  \n",
            "  inflating: Human Action Recognition/train/Image_7057.jpg  \n",
            "  inflating: Human Action Recognition/train/Image_7058.jpg  \n",
            "  inflating: Human Action Recognition/train/Image_7059.jpg  \n",
            "  inflating: Human Action Recognition/train/Image_706.jpg  \n",
            "  inflating: Human Action Recognition/train/Image_7060.jpg  \n",
            "  inflating: Human Action Recognition/train/Image_7061.jpg  \n",
            "  inflating: Human Action Recognition/train/Image_7062.jpg  \n",
            "  inflating: Human Action Recognition/train/Image_7063.jpg  \n",
            "  inflating: Human Action Recognition/train/Image_7064.jpg  \n",
            "  inflating: Human Action Recognition/train/Image_7065.jpg  \n",
            "  inflating: Human Action Recognition/train/Image_7066.jpg  \n",
            "  inflating: Human Action Recognition/train/Image_7067.jpg  \n",
            "  inflating: Human Action Recognition/train/Image_7068.jpg  \n",
            "  inflating: Human Action Recognition/train/Image_7069.jpg  \n",
            "  inflating: Human Action Recognition/train/Image_707.jpg  \n",
            "  inflating: Human Action Recognition/train/Image_7070.jpg  \n",
            "  inflating: Human Action Recognition/train/Image_7071.jpg  \n",
            "  inflating: Human Action Recognition/train/Image_7072.jpg  \n",
            "  inflating: Human Action Recognition/train/Image_7073.jpg  \n",
            "  inflating: Human Action Recognition/train/Image_7074.jpg  \n",
            "  inflating: Human Action Recognition/train/Image_7075.jpg  \n",
            "  inflating: Human Action Recognition/train/Image_7076.jpg  \n",
            "  inflating: Human Action Recognition/train/Image_7077.jpg  \n",
            "  inflating: Human Action Recognition/train/Image_7078.jpg  \n",
            "  inflating: Human Action Recognition/train/Image_7079.jpg  \n",
            "  inflating: Human Action Recognition/train/Image_708.jpg  \n",
            "  inflating: Human Action Recognition/train/Image_7080.jpg  \n",
            "  inflating: Human Action Recognition/train/Image_7081.jpg  \n",
            "  inflating: Human Action Recognition/train/Image_7082.jpg  \n",
            "  inflating: Human Action Recognition/train/Image_7083.jpg  \n",
            "  inflating: Human Action Recognition/train/Image_7084.jpg  \n",
            "  inflating: Human Action Recognition/train/Image_7085.jpg  \n",
            "  inflating: Human Action Recognition/train/Image_7086.jpg  \n",
            "  inflating: Human Action Recognition/train/Image_7087.jpg  \n",
            "  inflating: Human Action Recognition/train/Image_7088.jpg  \n",
            "  inflating: Human Action Recognition/train/Image_7089.jpg  \n",
            "  inflating: Human Action Recognition/train/Image_709.jpg  \n",
            "  inflating: Human Action Recognition/train/Image_7090.jpg  \n",
            "  inflating: Human Action Recognition/train/Image_7091.jpg  \n",
            "  inflating: Human Action Recognition/train/Image_7092.jpg  \n",
            "  inflating: Human Action Recognition/train/Image_7093.jpg  \n",
            "  inflating: Human Action Recognition/train/Image_7094.jpg  \n",
            "  inflating: Human Action Recognition/train/Image_7095.jpg  \n",
            "  inflating: Human Action Recognition/train/Image_7096.jpg  \n",
            "  inflating: Human Action Recognition/train/Image_7097.jpg  \n",
            "  inflating: Human Action Recognition/train/Image_7098.jpg  \n",
            "  inflating: Human Action Recognition/train/Image_7099.jpg  \n",
            "  inflating: Human Action Recognition/train/Image_71.jpg  \n",
            "  inflating: Human Action Recognition/train/Image_710.jpg  \n",
            "  inflating: Human Action Recognition/train/Image_7100.jpg  \n",
            "  inflating: Human Action Recognition/train/Image_7101.jpg  \n",
            "  inflating: Human Action Recognition/train/Image_7102.jpg  \n",
            "  inflating: Human Action Recognition/train/Image_7103.jpg  \n",
            "  inflating: Human Action Recognition/train/Image_7104.jpg  \n",
            "  inflating: Human Action Recognition/train/Image_7105.jpg  \n",
            "  inflating: Human Action Recognition/train/Image_7106.jpg  \n",
            "  inflating: Human Action Recognition/train/Image_7107.jpg  \n",
            "  inflating: Human Action Recognition/train/Image_7108.jpg  \n",
            "  inflating: Human Action Recognition/train/Image_7109.jpg  \n",
            "  inflating: Human Action Recognition/train/Image_711.jpg  \n",
            "  inflating: Human Action Recognition/train/Image_7110.jpg  \n",
            "  inflating: Human Action Recognition/train/Image_7111.jpg  \n",
            "  inflating: Human Action Recognition/train/Image_7112.jpg  \n",
            "  inflating: Human Action Recognition/train/Image_7113.jpg  \n",
            "  inflating: Human Action Recognition/train/Image_7114.jpg  \n",
            "  inflating: Human Action Recognition/train/Image_7115.jpg  \n",
            "  inflating: Human Action Recognition/train/Image_7116.jpg  \n",
            "  inflating: Human Action Recognition/train/Image_7117.jpg  \n",
            "  inflating: Human Action Recognition/train/Image_7118.jpg  \n",
            "  inflating: Human Action Recognition/train/Image_7119.jpg  \n",
            "  inflating: Human Action Recognition/train/Image_712.jpg  \n",
            "  inflating: Human Action Recognition/train/Image_7120.jpg  \n",
            "  inflating: Human Action Recognition/train/Image_7121.jpg  \n",
            "  inflating: Human Action Recognition/train/Image_7122.jpg  \n",
            "  inflating: Human Action Recognition/train/Image_7123.jpg  \n",
            "  inflating: Human Action Recognition/train/Image_7124.jpg  \n",
            "  inflating: Human Action Recognition/train/Image_7125.jpg  \n",
            "  inflating: Human Action Recognition/train/Image_7126.jpg  \n",
            "  inflating: Human Action Recognition/train/Image_7127.jpg  \n",
            "  inflating: Human Action Recognition/train/Image_7128.jpg  \n",
            "  inflating: Human Action Recognition/train/Image_7129.jpg  \n",
            "  inflating: Human Action Recognition/train/Image_713.jpg  \n",
            "  inflating: Human Action Recognition/train/Image_7130.jpg  \n",
            "  inflating: Human Action Recognition/train/Image_7131.jpg  \n",
            "  inflating: Human Action Recognition/train/Image_7132.jpg  \n",
            "  inflating: Human Action Recognition/train/Image_7133.jpg  \n",
            "  inflating: Human Action Recognition/train/Image_7134.jpg  \n",
            "  inflating: Human Action Recognition/train/Image_7135.jpg  \n",
            "  inflating: Human Action Recognition/train/Image_7136.jpg  \n",
            "  inflating: Human Action Recognition/train/Image_7137.jpg  \n",
            "  inflating: Human Action Recognition/train/Image_7138.jpg  \n",
            "  inflating: Human Action Recognition/train/Image_7139.jpg  \n",
            "  inflating: Human Action Recognition/train/Image_714.jpg  \n",
            "  inflating: Human Action Recognition/train/Image_7140.jpg  \n",
            "  inflating: Human Action Recognition/train/Image_7141.jpg  \n",
            "  inflating: Human Action Recognition/train/Image_7142.jpg  \n",
            "  inflating: Human Action Recognition/train/Image_7143.jpg  \n",
            "  inflating: Human Action Recognition/train/Image_7144.jpg  \n",
            "  inflating: Human Action Recognition/train/Image_7145.jpg  \n",
            "  inflating: Human Action Recognition/train/Image_7146.jpg  \n",
            "  inflating: Human Action Recognition/train/Image_7147.jpg  \n",
            "  inflating: Human Action Recognition/train/Image_7148.jpg  \n",
            "  inflating: Human Action Recognition/train/Image_7149.jpg  \n",
            "  inflating: Human Action Recognition/train/Image_715.jpg  \n",
            "  inflating: Human Action Recognition/train/Image_7150.jpg  \n",
            "  inflating: Human Action Recognition/train/Image_7151.jpg  \n",
            "  inflating: Human Action Recognition/train/Image_7152.jpg  \n",
            "  inflating: Human Action Recognition/train/Image_7153.jpg  \n",
            "  inflating: Human Action Recognition/train/Image_7154.jpg  \n",
            "  inflating: Human Action Recognition/train/Image_7155.jpg  \n",
            "  inflating: Human Action Recognition/train/Image_7156.jpg  \n",
            "  inflating: Human Action Recognition/train/Image_7157.jpg  \n",
            "  inflating: Human Action Recognition/train/Image_7158.jpg  \n",
            "  inflating: Human Action Recognition/train/Image_7159.jpg  \n",
            "  inflating: Human Action Recognition/train/Image_716.jpg  \n",
            "  inflating: Human Action Recognition/train/Image_7160.jpg  \n",
            "  inflating: Human Action Recognition/train/Image_7161.jpg  \n",
            "  inflating: Human Action Recognition/train/Image_7162.jpg  \n",
            "  inflating: Human Action Recognition/train/Image_7163.jpg  \n",
            "  inflating: Human Action Recognition/train/Image_7164.jpg  \n",
            "  inflating: Human Action Recognition/train/Image_7165.jpg  \n",
            "  inflating: Human Action Recognition/train/Image_7166.jpg  \n",
            "  inflating: Human Action Recognition/train/Image_7167.jpg  \n",
            "  inflating: Human Action Recognition/train/Image_7168.jpg  \n",
            "  inflating: Human Action Recognition/train/Image_7169.jpg  \n",
            "  inflating: Human Action Recognition/train/Image_717.jpg  \n",
            "  inflating: Human Action Recognition/train/Image_7170.jpg  \n",
            "  inflating: Human Action Recognition/train/Image_7171.jpg  \n",
            "  inflating: Human Action Recognition/train/Image_7172.jpg  \n",
            "  inflating: Human Action Recognition/train/Image_7173.jpg  \n",
            "  inflating: Human Action Recognition/train/Image_7174.jpg  \n",
            "  inflating: Human Action Recognition/train/Image_7175.jpg  \n",
            "  inflating: Human Action Recognition/train/Image_7176.jpg  \n",
            "  inflating: Human Action Recognition/train/Image_7177.jpg  \n",
            "  inflating: Human Action Recognition/train/Image_7178.jpg  \n",
            "  inflating: Human Action Recognition/train/Image_7179.jpg  \n",
            "  inflating: Human Action Recognition/train/Image_718.jpg  \n",
            "  inflating: Human Action Recognition/train/Image_7180.jpg  \n",
            "  inflating: Human Action Recognition/train/Image_7181.jpg  \n",
            "  inflating: Human Action Recognition/train/Image_7182.jpg  \n",
            "  inflating: Human Action Recognition/train/Image_7183.jpg  \n",
            "  inflating: Human Action Recognition/train/Image_7184.jpg  \n",
            "  inflating: Human Action Recognition/train/Image_7185.jpg  \n",
            "  inflating: Human Action Recognition/train/Image_7186.jpg  \n",
            "  inflating: Human Action Recognition/train/Image_7187.jpg  \n",
            "  inflating: Human Action Recognition/train/Image_7188.jpg  \n",
            "  inflating: Human Action Recognition/train/Image_7189.jpg  \n",
            "  inflating: Human Action Recognition/train/Image_719.jpg  \n",
            "  inflating: Human Action Recognition/train/Image_7190.jpg  \n",
            "  inflating: Human Action Recognition/train/Image_7191.jpg  \n",
            "  inflating: Human Action Recognition/train/Image_7192.jpg  \n",
            "  inflating: Human Action Recognition/train/Image_7193.jpg  \n",
            "  inflating: Human Action Recognition/train/Image_7194.jpg  \n",
            "  inflating: Human Action Recognition/train/Image_7195.jpg  \n",
            "  inflating: Human Action Recognition/train/Image_7196.jpg  \n",
            "  inflating: Human Action Recognition/train/Image_7197.jpg  \n",
            "  inflating: Human Action Recognition/train/Image_7198.jpg  \n",
            "  inflating: Human Action Recognition/train/Image_7199.jpg  \n",
            "  inflating: Human Action Recognition/train/Image_72.jpg  \n",
            "  inflating: Human Action Recognition/train/Image_720.jpg  \n",
            "  inflating: Human Action Recognition/train/Image_7200.jpg  \n",
            "  inflating: Human Action Recognition/train/Image_7201.jpg  \n",
            "  inflating: Human Action Recognition/train/Image_7202.jpg  \n",
            "  inflating: Human Action Recognition/train/Image_7203.jpg  \n",
            "  inflating: Human Action Recognition/train/Image_7204.jpg  \n",
            "  inflating: Human Action Recognition/train/Image_7205.jpg  \n",
            "  inflating: Human Action Recognition/train/Image_7206.jpg  \n",
            "  inflating: Human Action Recognition/train/Image_7207.jpg  \n",
            "  inflating: Human Action Recognition/train/Image_7208.jpg  \n",
            "  inflating: Human Action Recognition/train/Image_7209.jpg  \n",
            "  inflating: Human Action Recognition/train/Image_721.jpg  \n",
            "  inflating: Human Action Recognition/train/Image_7210.jpg  \n",
            "  inflating: Human Action Recognition/train/Image_7211.jpg  \n",
            "  inflating: Human Action Recognition/train/Image_7212.jpg  \n",
            "  inflating: Human Action Recognition/train/Image_7213.jpg  \n",
            "  inflating: Human Action Recognition/train/Image_7214.jpg  \n",
            "  inflating: Human Action Recognition/train/Image_7215.jpg  \n",
            "  inflating: Human Action Recognition/train/Image_7216.jpg  \n",
            "  inflating: Human Action Recognition/train/Image_7217.jpg  \n",
            "  inflating: Human Action Recognition/train/Image_7218.jpg  \n",
            "  inflating: Human Action Recognition/train/Image_7219.jpg  \n",
            "  inflating: Human Action Recognition/train/Image_722.jpg  \n",
            "  inflating: Human Action Recognition/train/Image_7220.jpg  \n",
            "  inflating: Human Action Recognition/train/Image_7221.jpg  \n",
            "  inflating: Human Action Recognition/train/Image_7222.jpg  \n",
            "  inflating: Human Action Recognition/train/Image_7223.jpg  \n",
            "  inflating: Human Action Recognition/train/Image_7224.jpg  \n",
            "  inflating: Human Action Recognition/train/Image_7225.jpg  \n",
            "  inflating: Human Action Recognition/train/Image_7226.jpg  \n",
            "  inflating: Human Action Recognition/train/Image_7227.jpg  \n",
            "  inflating: Human Action Recognition/train/Image_7228.jpg  \n",
            "  inflating: Human Action Recognition/train/Image_7229.jpg  \n",
            "  inflating: Human Action Recognition/train/Image_723.jpg  \n",
            "  inflating: Human Action Recognition/train/Image_7230.jpg  \n",
            "  inflating: Human Action Recognition/train/Image_7231.jpg  \n",
            "  inflating: Human Action Recognition/train/Image_7232.jpg  \n",
            "  inflating: Human Action Recognition/train/Image_7233.jpg  \n",
            "  inflating: Human Action Recognition/train/Image_7234.jpg  \n",
            "  inflating: Human Action Recognition/train/Image_7235.jpg  \n",
            "  inflating: Human Action Recognition/train/Image_7236.jpg  \n",
            "  inflating: Human Action Recognition/train/Image_7237.jpg  \n",
            "  inflating: Human Action Recognition/train/Image_7238.jpg  \n",
            "  inflating: Human Action Recognition/train/Image_7239.jpg  \n",
            "  inflating: Human Action Recognition/train/Image_724.jpg  \n",
            "  inflating: Human Action Recognition/train/Image_7240.jpg  \n",
            "  inflating: Human Action Recognition/train/Image_7241.jpg  \n",
            "  inflating: Human Action Recognition/train/Image_7242.jpg  \n",
            "  inflating: Human Action Recognition/train/Image_7243.jpg  \n",
            "  inflating: Human Action Recognition/train/Image_7244.jpg  \n",
            "  inflating: Human Action Recognition/train/Image_7245.jpg  \n",
            "  inflating: Human Action Recognition/train/Image_7246.jpg  \n",
            "  inflating: Human Action Recognition/train/Image_7247.jpg  \n",
            "  inflating: Human Action Recognition/train/Image_7248.jpg  \n",
            "  inflating: Human Action Recognition/train/Image_7249.jpg  \n",
            "  inflating: Human Action Recognition/train/Image_725.jpg  \n",
            "  inflating: Human Action Recognition/train/Image_7250.jpg  \n",
            "  inflating: Human Action Recognition/train/Image_7251.jpg  \n",
            "  inflating: Human Action Recognition/train/Image_7252.jpg  \n",
            "  inflating: Human Action Recognition/train/Image_7253.jpg  \n",
            "  inflating: Human Action Recognition/train/Image_7254.jpg  \n",
            "  inflating: Human Action Recognition/train/Image_7255.jpg  \n",
            "  inflating: Human Action Recognition/train/Image_7256.jpg  \n",
            "  inflating: Human Action Recognition/train/Image_7257.jpg  \n",
            "  inflating: Human Action Recognition/train/Image_7258.jpg  \n",
            "  inflating: Human Action Recognition/train/Image_7259.jpg  \n",
            "  inflating: Human Action Recognition/train/Image_726.jpg  \n",
            "  inflating: Human Action Recognition/train/Image_7260.jpg  \n",
            "  inflating: Human Action Recognition/train/Image_7261.jpg  \n",
            "  inflating: Human Action Recognition/train/Image_7262.jpg  \n",
            "  inflating: Human Action Recognition/train/Image_7263.jpg  \n",
            "  inflating: Human Action Recognition/train/Image_7264.jpg  \n",
            "  inflating: Human Action Recognition/train/Image_7265.jpg  \n",
            "  inflating: Human Action Recognition/train/Image_7266.jpg  \n",
            "  inflating: Human Action Recognition/train/Image_7267.jpg  \n",
            "  inflating: Human Action Recognition/train/Image_7268.jpg  \n",
            "  inflating: Human Action Recognition/train/Image_7269.jpg  \n",
            "  inflating: Human Action Recognition/train/Image_727.jpg  \n",
            "  inflating: Human Action Recognition/train/Image_7270.jpg  \n",
            "  inflating: Human Action Recognition/train/Image_7271.jpg  \n",
            "  inflating: Human Action Recognition/train/Image_7272.jpg  \n",
            "  inflating: Human Action Recognition/train/Image_7273.jpg  \n",
            "  inflating: Human Action Recognition/train/Image_7274.jpg  \n",
            "  inflating: Human Action Recognition/train/Image_7275.jpg  \n",
            "  inflating: Human Action Recognition/train/Image_7276.jpg  \n",
            "  inflating: Human Action Recognition/train/Image_7277.jpg  \n",
            "  inflating: Human Action Recognition/train/Image_7278.jpg  \n",
            "  inflating: Human Action Recognition/train/Image_7279.jpg  \n",
            "  inflating: Human Action Recognition/train/Image_728.jpg  \n",
            "  inflating: Human Action Recognition/train/Image_7280.jpg  \n",
            "  inflating: Human Action Recognition/train/Image_7281.jpg  \n",
            "  inflating: Human Action Recognition/train/Image_7282.jpg  \n",
            "  inflating: Human Action Recognition/train/Image_7283.jpg  \n",
            "  inflating: Human Action Recognition/train/Image_7284.jpg  \n",
            "  inflating: Human Action Recognition/train/Image_7285.jpg  \n",
            "  inflating: Human Action Recognition/train/Image_7286.jpg  \n",
            "  inflating: Human Action Recognition/train/Image_7287.jpg  \n",
            "  inflating: Human Action Recognition/train/Image_7288.jpg  \n",
            "  inflating: Human Action Recognition/train/Image_7289.jpg  \n",
            "  inflating: Human Action Recognition/train/Image_729.jpg  \n",
            "  inflating: Human Action Recognition/train/Image_7290.jpg  \n",
            "  inflating: Human Action Recognition/train/Image_7291.jpg  \n",
            "  inflating: Human Action Recognition/train/Image_7292.jpg  \n",
            "  inflating: Human Action Recognition/train/Image_7293.jpg  \n",
            "  inflating: Human Action Recognition/train/Image_7294.jpg  \n",
            "  inflating: Human Action Recognition/train/Image_7295.jpg  \n",
            "  inflating: Human Action Recognition/train/Image_7296.jpg  \n",
            "  inflating: Human Action Recognition/train/Image_7297.jpg  \n",
            "  inflating: Human Action Recognition/train/Image_7298.jpg  \n",
            "  inflating: Human Action Recognition/train/Image_7299.jpg  \n",
            "  inflating: Human Action Recognition/train/Image_73.jpg  \n",
            "  inflating: Human Action Recognition/train/Image_730.jpg  \n",
            "  inflating: Human Action Recognition/train/Image_7300.jpg  \n",
            "  inflating: Human Action Recognition/train/Image_7301.jpg  \n",
            "  inflating: Human Action Recognition/train/Image_7302.jpg  \n",
            "  inflating: Human Action Recognition/train/Image_7303.jpg  \n",
            "  inflating: Human Action Recognition/train/Image_7304.jpg  \n",
            "  inflating: Human Action Recognition/train/Image_7305.jpg  \n",
            "  inflating: Human Action Recognition/train/Image_7306.jpg  \n",
            "  inflating: Human Action Recognition/train/Image_7307.jpg  \n",
            "  inflating: Human Action Recognition/train/Image_7308.jpg  \n",
            "  inflating: Human Action Recognition/train/Image_7309.jpg  \n",
            "  inflating: Human Action Recognition/train/Image_731.jpg  \n",
            "  inflating: Human Action Recognition/train/Image_7310.jpg  \n",
            "  inflating: Human Action Recognition/train/Image_7311.jpg  \n",
            "  inflating: Human Action Recognition/train/Image_7312.jpg  \n",
            "  inflating: Human Action Recognition/train/Image_7313.jpg  \n",
            "  inflating: Human Action Recognition/train/Image_7314.jpg  \n",
            "  inflating: Human Action Recognition/train/Image_7315.jpg  \n",
            "  inflating: Human Action Recognition/train/Image_7316.jpg  \n",
            "  inflating: Human Action Recognition/train/Image_7317.jpg  \n",
            "  inflating: Human Action Recognition/train/Image_7318.jpg  \n",
            "  inflating: Human Action Recognition/train/Image_7319.jpg  \n",
            "  inflating: Human Action Recognition/train/Image_732.jpg  \n",
            "  inflating: Human Action Recognition/train/Image_7320.jpg  \n",
            "  inflating: Human Action Recognition/train/Image_7321.jpg  \n",
            "  inflating: Human Action Recognition/train/Image_7322.jpg  \n",
            "  inflating: Human Action Recognition/train/Image_7323.jpg  \n",
            "  inflating: Human Action Recognition/train/Image_7324.jpg  \n",
            "  inflating: Human Action Recognition/train/Image_7325.jpg  \n",
            "  inflating: Human Action Recognition/train/Image_7326.jpg  \n",
            "  inflating: Human Action Recognition/train/Image_7327.jpg  \n",
            "  inflating: Human Action Recognition/train/Image_7328.jpg  \n",
            "  inflating: Human Action Recognition/train/Image_7329.jpg  \n",
            "  inflating: Human Action Recognition/train/Image_733.jpg  \n",
            "  inflating: Human Action Recognition/train/Image_7330.jpg  \n",
            "  inflating: Human Action Recognition/train/Image_7331.jpg  \n",
            "  inflating: Human Action Recognition/train/Image_7332.jpg  \n",
            "  inflating: Human Action Recognition/train/Image_7333.jpg  \n",
            "  inflating: Human Action Recognition/train/Image_7334.jpg  \n",
            "  inflating: Human Action Recognition/train/Image_7335.jpg  \n",
            "  inflating: Human Action Recognition/train/Image_7336.jpg  \n",
            "  inflating: Human Action Recognition/train/Image_7337.jpg  \n",
            "  inflating: Human Action Recognition/train/Image_7338.jpg  \n",
            "  inflating: Human Action Recognition/train/Image_7339.jpg  \n",
            "  inflating: Human Action Recognition/train/Image_734.jpg  \n",
            "  inflating: Human Action Recognition/train/Image_7340.jpg  \n",
            "  inflating: Human Action Recognition/train/Image_7341.jpg  \n",
            "  inflating: Human Action Recognition/train/Image_7342.jpg  \n",
            "  inflating: Human Action Recognition/train/Image_7343.jpg  \n",
            "  inflating: Human Action Recognition/train/Image_7344.jpg  \n",
            "  inflating: Human Action Recognition/train/Image_7345.jpg  \n",
            "  inflating: Human Action Recognition/train/Image_7346.jpg  \n",
            "  inflating: Human Action Recognition/train/Image_7347.jpg  \n",
            "  inflating: Human Action Recognition/train/Image_7348.jpg  \n",
            "  inflating: Human Action Recognition/train/Image_7349.jpg  \n",
            "  inflating: Human Action Recognition/train/Image_735.jpg  \n",
            "  inflating: Human Action Recognition/train/Image_7350.jpg  \n",
            "  inflating: Human Action Recognition/train/Image_7351.jpg  \n",
            "  inflating: Human Action Recognition/train/Image_7352.jpg  \n",
            "  inflating: Human Action Recognition/train/Image_7353.jpg  \n",
            "  inflating: Human Action Recognition/train/Image_7354.jpg  \n",
            "  inflating: Human Action Recognition/train/Image_7355.jpg  \n",
            "  inflating: Human Action Recognition/train/Image_7356.jpg  \n",
            "  inflating: Human Action Recognition/train/Image_7357.jpg  \n",
            "  inflating: Human Action Recognition/train/Image_7358.jpg  \n",
            "  inflating: Human Action Recognition/train/Image_7359.jpg  \n",
            "  inflating: Human Action Recognition/train/Image_736.jpg  \n",
            "  inflating: Human Action Recognition/train/Image_7360.jpg  \n",
            "  inflating: Human Action Recognition/train/Image_7361.jpg  \n",
            "  inflating: Human Action Recognition/train/Image_7362.jpg  \n",
            "  inflating: Human Action Recognition/train/Image_7363.jpg  \n",
            "  inflating: Human Action Recognition/train/Image_7364.jpg  \n",
            "  inflating: Human Action Recognition/train/Image_7365.jpg  \n",
            "  inflating: Human Action Recognition/train/Image_7366.jpg  \n",
            "  inflating: Human Action Recognition/train/Image_7367.jpg  \n",
            "  inflating: Human Action Recognition/train/Image_7368.jpg  \n",
            "  inflating: Human Action Recognition/train/Image_7369.jpg  \n",
            "  inflating: Human Action Recognition/train/Image_737.jpg  \n",
            "  inflating: Human Action Recognition/train/Image_7370.jpg  \n",
            "  inflating: Human Action Recognition/train/Image_7371.jpg  \n",
            "  inflating: Human Action Recognition/train/Image_7372.jpg  \n",
            "  inflating: Human Action Recognition/train/Image_7373.jpg  \n",
            "  inflating: Human Action Recognition/train/Image_7374.jpg  \n",
            "  inflating: Human Action Recognition/train/Image_7375.jpg  \n",
            "  inflating: Human Action Recognition/train/Image_7376.jpg  \n",
            "  inflating: Human Action Recognition/train/Image_7377.jpg  \n",
            "  inflating: Human Action Recognition/train/Image_7378.jpg  \n",
            "  inflating: Human Action Recognition/train/Image_7379.jpg  \n",
            "  inflating: Human Action Recognition/train/Image_738.jpg  \n",
            "  inflating: Human Action Recognition/train/Image_7380.jpg  \n",
            "  inflating: Human Action Recognition/train/Image_7381.jpg  \n",
            "  inflating: Human Action Recognition/train/Image_7382.jpg  \n",
            "  inflating: Human Action Recognition/train/Image_7383.jpg  \n",
            "  inflating: Human Action Recognition/train/Image_7384.jpg  \n",
            "  inflating: Human Action Recognition/train/Image_7385.jpg  \n",
            "  inflating: Human Action Recognition/train/Image_7386.jpg  \n",
            "  inflating: Human Action Recognition/train/Image_7387.jpg  \n",
            "  inflating: Human Action Recognition/train/Image_7388.jpg  \n",
            "  inflating: Human Action Recognition/train/Image_7389.jpg  \n",
            "  inflating: Human Action Recognition/train/Image_739.jpg  \n",
            "  inflating: Human Action Recognition/train/Image_7390.jpg  \n",
            "  inflating: Human Action Recognition/train/Image_7391.jpg  \n",
            "  inflating: Human Action Recognition/train/Image_7392.jpg  \n",
            "  inflating: Human Action Recognition/train/Image_7393.jpg  \n",
            "  inflating: Human Action Recognition/train/Image_7394.jpg  \n",
            "  inflating: Human Action Recognition/train/Image_7395.jpg  \n",
            "  inflating: Human Action Recognition/train/Image_7396.jpg  \n",
            "  inflating: Human Action Recognition/train/Image_7397.jpg  \n",
            "  inflating: Human Action Recognition/train/Image_7398.jpg  \n",
            "  inflating: Human Action Recognition/train/Image_7399.jpg  \n",
            "  inflating: Human Action Recognition/train/Image_74.jpg  \n",
            "  inflating: Human Action Recognition/train/Image_740.jpg  \n",
            "  inflating: Human Action Recognition/train/Image_7400.jpg  \n",
            "  inflating: Human Action Recognition/train/Image_7401.jpg  \n",
            "  inflating: Human Action Recognition/train/Image_7402.jpg  \n",
            "  inflating: Human Action Recognition/train/Image_7403.jpg  \n",
            "  inflating: Human Action Recognition/train/Image_7404.jpg  \n",
            "  inflating: Human Action Recognition/train/Image_7405.jpg  \n",
            "  inflating: Human Action Recognition/train/Image_7406.jpg  \n",
            "  inflating: Human Action Recognition/train/Image_7407.jpg  \n",
            "  inflating: Human Action Recognition/train/Image_7408.jpg  \n",
            "  inflating: Human Action Recognition/train/Image_7409.jpg  \n",
            "  inflating: Human Action Recognition/train/Image_741.jpg  \n",
            "  inflating: Human Action Recognition/train/Image_7410.jpg  \n",
            "  inflating: Human Action Recognition/train/Image_7411.jpg  \n",
            "  inflating: Human Action Recognition/train/Image_7412.jpg  \n",
            "  inflating: Human Action Recognition/train/Image_7413.jpg  \n",
            "  inflating: Human Action Recognition/train/Image_7414.jpg  \n",
            "  inflating: Human Action Recognition/train/Image_7415.jpg  \n",
            "  inflating: Human Action Recognition/train/Image_7416.jpg  \n",
            "  inflating: Human Action Recognition/train/Image_7417.jpg  \n",
            "  inflating: Human Action Recognition/train/Image_7418.jpg  \n",
            "  inflating: Human Action Recognition/train/Image_7419.jpg  \n",
            "  inflating: Human Action Recognition/train/Image_742.jpg  \n",
            "  inflating: Human Action Recognition/train/Image_7420.jpg  \n",
            "  inflating: Human Action Recognition/train/Image_7421.jpg  \n",
            "  inflating: Human Action Recognition/train/Image_7422.jpg  \n",
            "  inflating: Human Action Recognition/train/Image_7423.jpg  \n",
            "  inflating: Human Action Recognition/train/Image_7424.jpg  \n",
            "  inflating: Human Action Recognition/train/Image_7425.jpg  \n",
            "  inflating: Human Action Recognition/train/Image_7426.jpg  \n",
            "  inflating: Human Action Recognition/train/Image_7427.jpg  \n",
            "  inflating: Human Action Recognition/train/Image_7428.jpg  \n",
            "  inflating: Human Action Recognition/train/Image_7429.jpg  \n",
            "  inflating: Human Action Recognition/train/Image_743.jpg  \n",
            "  inflating: Human Action Recognition/train/Image_7430.jpg  \n",
            "  inflating: Human Action Recognition/train/Image_7431.jpg  \n",
            "  inflating: Human Action Recognition/train/Image_7432.jpg  \n",
            "  inflating: Human Action Recognition/train/Image_7433.jpg  \n",
            "  inflating: Human Action Recognition/train/Image_7434.jpg  \n",
            "  inflating: Human Action Recognition/train/Image_7435.jpg  \n",
            "  inflating: Human Action Recognition/train/Image_7436.jpg  \n",
            "  inflating: Human Action Recognition/train/Image_7437.jpg  \n",
            "  inflating: Human Action Recognition/train/Image_7438.jpg  \n",
            "  inflating: Human Action Recognition/train/Image_7439.jpg  \n",
            "  inflating: Human Action Recognition/train/Image_744.jpg  \n",
            "  inflating: Human Action Recognition/train/Image_7440.jpg  \n",
            "  inflating: Human Action Recognition/train/Image_7441.jpg  \n",
            "  inflating: Human Action Recognition/train/Image_7442.jpg  \n",
            "  inflating: Human Action Recognition/train/Image_7443.jpg  \n",
            "  inflating: Human Action Recognition/train/Image_7444.jpg  \n",
            "  inflating: Human Action Recognition/train/Image_7445.jpg  \n",
            "  inflating: Human Action Recognition/train/Image_7446.jpg  \n",
            "  inflating: Human Action Recognition/train/Image_7447.jpg  \n",
            "  inflating: Human Action Recognition/train/Image_7448.jpg  \n",
            "  inflating: Human Action Recognition/train/Image_7449.jpg  \n",
            "  inflating: Human Action Recognition/train/Image_745.jpg  \n",
            "  inflating: Human Action Recognition/train/Image_7450.jpg  \n",
            "  inflating: Human Action Recognition/train/Image_7451.jpg  \n",
            "  inflating: Human Action Recognition/train/Image_7452.jpg  \n",
            "  inflating: Human Action Recognition/train/Image_7453.jpg  \n",
            "  inflating: Human Action Recognition/train/Image_7454.jpg  \n",
            "  inflating: Human Action Recognition/train/Image_7455.jpg  \n",
            "  inflating: Human Action Recognition/train/Image_7456.jpg  \n",
            "  inflating: Human Action Recognition/train/Image_7457.jpg  \n",
            "  inflating: Human Action Recognition/train/Image_7458.jpg  \n",
            "  inflating: Human Action Recognition/train/Image_7459.jpg  \n",
            "  inflating: Human Action Recognition/train/Image_746.jpg  \n",
            "  inflating: Human Action Recognition/train/Image_7460.jpg  \n",
            "  inflating: Human Action Recognition/train/Image_7461.jpg  \n",
            "  inflating: Human Action Recognition/train/Image_7462.jpg  \n",
            "  inflating: Human Action Recognition/train/Image_7463.jpg  \n",
            "  inflating: Human Action Recognition/train/Image_7464.jpg  \n",
            "  inflating: Human Action Recognition/train/Image_7465.jpg  \n",
            "  inflating: Human Action Recognition/train/Image_7466.jpg  \n",
            "  inflating: Human Action Recognition/train/Image_7467.jpg  \n",
            "  inflating: Human Action Recognition/train/Image_7468.jpg  \n",
            "  inflating: Human Action Recognition/train/Image_7469.jpg  \n",
            "  inflating: Human Action Recognition/train/Image_747.jpg  \n",
            "  inflating: Human Action Recognition/train/Image_7470.jpg  \n",
            "  inflating: Human Action Recognition/train/Image_7471.jpg  \n",
            "  inflating: Human Action Recognition/train/Image_7472.jpg  \n",
            "  inflating: Human Action Recognition/train/Image_7473.jpg  \n",
            "  inflating: Human Action Recognition/train/Image_7474.jpg  \n",
            "  inflating: Human Action Recognition/train/Image_7475.jpg  \n",
            "  inflating: Human Action Recognition/train/Image_7476.jpg  \n",
            "  inflating: Human Action Recognition/train/Image_7477.jpg  \n",
            "  inflating: Human Action Recognition/train/Image_7478.jpg  \n",
            "  inflating: Human Action Recognition/train/Image_7479.jpg  \n",
            "  inflating: Human Action Recognition/train/Image_748.jpg  \n",
            "  inflating: Human Action Recognition/train/Image_7480.jpg  \n",
            "  inflating: Human Action Recognition/train/Image_7481.jpg  \n",
            "  inflating: Human Action Recognition/train/Image_7482.jpg  \n",
            "  inflating: Human Action Recognition/train/Image_7483.jpg  \n",
            "  inflating: Human Action Recognition/train/Image_7484.jpg  \n",
            "  inflating: Human Action Recognition/train/Image_7485.jpg  \n",
            "  inflating: Human Action Recognition/train/Image_7486.jpg  \n",
            "  inflating: Human Action Recognition/train/Image_7487.jpg  \n",
            "  inflating: Human Action Recognition/train/Image_7488.jpg  \n",
            "  inflating: Human Action Recognition/train/Image_7489.jpg  \n",
            "  inflating: Human Action Recognition/train/Image_749.jpg  \n",
            "  inflating: Human Action Recognition/train/Image_7490.jpg  \n",
            "  inflating: Human Action Recognition/train/Image_7491.jpg  \n",
            "  inflating: Human Action Recognition/train/Image_7492.jpg  \n",
            "  inflating: Human Action Recognition/train/Image_7493.jpg  \n",
            "  inflating: Human Action Recognition/train/Image_7494.jpg  \n",
            "  inflating: Human Action Recognition/train/Image_7495.jpg  \n",
            "  inflating: Human Action Recognition/train/Image_7496.jpg  \n",
            "  inflating: Human Action Recognition/train/Image_7497.jpg  \n",
            "  inflating: Human Action Recognition/train/Image_7498.jpg  \n",
            "  inflating: Human Action Recognition/train/Image_7499.jpg  \n",
            "  inflating: Human Action Recognition/train/Image_75.jpg  \n",
            "  inflating: Human Action Recognition/train/Image_750.jpg  \n",
            "  inflating: Human Action Recognition/train/Image_7500.jpg  \n",
            "  inflating: Human Action Recognition/train/Image_7501.jpg  \n",
            "  inflating: Human Action Recognition/train/Image_7502.jpg  \n",
            "  inflating: Human Action Recognition/train/Image_7503.jpg  \n",
            "  inflating: Human Action Recognition/train/Image_7504.jpg  \n",
            "  inflating: Human Action Recognition/train/Image_7505.jpg  \n",
            "  inflating: Human Action Recognition/train/Image_7506.jpg  \n",
            "  inflating: Human Action Recognition/train/Image_7507.jpg  \n",
            "  inflating: Human Action Recognition/train/Image_7508.jpg  \n",
            "  inflating: Human Action Recognition/train/Image_7509.jpg  \n",
            "  inflating: Human Action Recognition/train/Image_751.jpg  \n",
            "  inflating: Human Action Recognition/train/Image_7510.jpg  \n",
            "  inflating: Human Action Recognition/train/Image_7511.jpg  \n",
            "  inflating: Human Action Recognition/train/Image_7512.jpg  \n",
            "  inflating: Human Action Recognition/train/Image_7513.jpg  \n",
            "  inflating: Human Action Recognition/train/Image_7514.jpg  \n",
            "  inflating: Human Action Recognition/train/Image_7515.jpg  \n",
            "  inflating: Human Action Recognition/train/Image_7516.jpg  \n",
            "  inflating: Human Action Recognition/train/Image_7517.jpg  \n",
            "  inflating: Human Action Recognition/train/Image_7518.jpg  \n",
            "  inflating: Human Action Recognition/train/Image_7519.jpg  \n",
            "  inflating: Human Action Recognition/train/Image_752.jpg  \n",
            "  inflating: Human Action Recognition/train/Image_7520.jpg  \n",
            "  inflating: Human Action Recognition/train/Image_7521.jpg  \n",
            "  inflating: Human Action Recognition/train/Image_7522.jpg  \n",
            "  inflating: Human Action Recognition/train/Image_7523.jpg  \n",
            "  inflating: Human Action Recognition/train/Image_7524.jpg  \n",
            "  inflating: Human Action Recognition/train/Image_7525.jpg  \n",
            "  inflating: Human Action Recognition/train/Image_7526.jpg  \n",
            "  inflating: Human Action Recognition/train/Image_7527.jpg  \n",
            "  inflating: Human Action Recognition/train/Image_7528.jpg  \n",
            "  inflating: Human Action Recognition/train/Image_7529.jpg  \n",
            "  inflating: Human Action Recognition/train/Image_753.jpg  \n",
            "  inflating: Human Action Recognition/train/Image_7530.jpg  \n",
            "  inflating: Human Action Recognition/train/Image_7531.jpg  \n",
            "  inflating: Human Action Recognition/train/Image_7532.jpg  \n",
            "  inflating: Human Action Recognition/train/Image_7533.jpg  \n",
            "  inflating: Human Action Recognition/train/Image_7534.jpg  \n",
            "  inflating: Human Action Recognition/train/Image_7535.jpg  \n",
            "  inflating: Human Action Recognition/train/Image_7536.jpg  \n",
            "  inflating: Human Action Recognition/train/Image_7537.jpg  \n",
            "  inflating: Human Action Recognition/train/Image_7538.jpg  \n",
            "  inflating: Human Action Recognition/train/Image_7539.jpg  \n",
            "  inflating: Human Action Recognition/train/Image_754.jpg  \n",
            "  inflating: Human Action Recognition/train/Image_7540.jpg  \n",
            "  inflating: Human Action Recognition/train/Image_7541.jpg  \n",
            "  inflating: Human Action Recognition/train/Image_7542.jpg  \n",
            "  inflating: Human Action Recognition/train/Image_7543.jpg  \n",
            "  inflating: Human Action Recognition/train/Image_7544.jpg  \n",
            "  inflating: Human Action Recognition/train/Image_7545.jpg  \n",
            "  inflating: Human Action Recognition/train/Image_7546.jpg  \n",
            "  inflating: Human Action Recognition/train/Image_7547.jpg  \n",
            "  inflating: Human Action Recognition/train/Image_7548.jpg  \n",
            "  inflating: Human Action Recognition/train/Image_7549.jpg  \n",
            "  inflating: Human Action Recognition/train/Image_755.jpg  \n",
            "  inflating: Human Action Recognition/train/Image_7550.jpg  \n",
            "  inflating: Human Action Recognition/train/Image_7551.jpg  \n",
            "  inflating: Human Action Recognition/train/Image_7552.jpg  \n",
            "  inflating: Human Action Recognition/train/Image_7553.jpg  \n",
            "  inflating: Human Action Recognition/train/Image_7554.jpg  \n",
            "  inflating: Human Action Recognition/train/Image_7555.jpg  \n",
            "  inflating: Human Action Recognition/train/Image_7556.jpg  \n",
            "  inflating: Human Action Recognition/train/Image_7557.jpg  \n",
            "  inflating: Human Action Recognition/train/Image_7558.jpg  \n",
            "  inflating: Human Action Recognition/train/Image_7559.jpg  \n",
            "  inflating: Human Action Recognition/train/Image_756.jpg  \n",
            "  inflating: Human Action Recognition/train/Image_7560.jpg  \n",
            "  inflating: Human Action Recognition/train/Image_7561.jpg  \n",
            "  inflating: Human Action Recognition/train/Image_7562.jpg  \n",
            "  inflating: Human Action Recognition/train/Image_7563.jpg  \n",
            "  inflating: Human Action Recognition/train/Image_7564.jpg  \n",
            "  inflating: Human Action Recognition/train/Image_7565.jpg  \n",
            "  inflating: Human Action Recognition/train/Image_7566.jpg  \n",
            "  inflating: Human Action Recognition/train/Image_7567.jpg  \n",
            "  inflating: Human Action Recognition/train/Image_7568.jpg  \n",
            "  inflating: Human Action Recognition/train/Image_7569.jpg  \n",
            "  inflating: Human Action Recognition/train/Image_757.jpg  \n",
            "  inflating: Human Action Recognition/train/Image_7570.jpg  \n",
            "  inflating: Human Action Recognition/train/Image_7571.jpg  \n",
            "  inflating: Human Action Recognition/train/Image_7572.jpg  \n",
            "  inflating: Human Action Recognition/train/Image_7573.jpg  \n",
            "  inflating: Human Action Recognition/train/Image_7574.jpg  \n",
            "  inflating: Human Action Recognition/train/Image_7575.jpg  \n",
            "  inflating: Human Action Recognition/train/Image_7576.jpg  \n",
            "  inflating: Human Action Recognition/train/Image_7577.jpg  \n",
            "  inflating: Human Action Recognition/train/Image_7578.jpg  \n",
            "  inflating: Human Action Recognition/train/Image_7579.jpg  \n",
            "  inflating: Human Action Recognition/train/Image_758.jpg  \n",
            "  inflating: Human Action Recognition/train/Image_7580.jpg  \n",
            "  inflating: Human Action Recognition/train/Image_7581.jpg  \n",
            "  inflating: Human Action Recognition/train/Image_7582.jpg  \n",
            "  inflating: Human Action Recognition/train/Image_7583.jpg  \n",
            "  inflating: Human Action Recognition/train/Image_7584.jpg  \n",
            "  inflating: Human Action Recognition/train/Image_7585.jpg  \n",
            "  inflating: Human Action Recognition/train/Image_7586.jpg  \n",
            "  inflating: Human Action Recognition/train/Image_7587.jpg  \n",
            "  inflating: Human Action Recognition/train/Image_7588.jpg  \n",
            "  inflating: Human Action Recognition/train/Image_7589.jpg  \n",
            "  inflating: Human Action Recognition/train/Image_759.jpg  \n",
            "  inflating: Human Action Recognition/train/Image_7590.jpg  \n",
            "  inflating: Human Action Recognition/train/Image_7591.jpg  \n",
            "  inflating: Human Action Recognition/train/Image_7592.jpg  \n",
            "  inflating: Human Action Recognition/train/Image_7593.jpg  \n",
            "  inflating: Human Action Recognition/train/Image_7594.jpg  \n",
            "  inflating: Human Action Recognition/train/Image_7595.jpg  \n",
            "  inflating: Human Action Recognition/train/Image_7596.jpg  \n",
            "  inflating: Human Action Recognition/train/Image_7597.jpg  \n",
            "  inflating: Human Action Recognition/train/Image_7598.jpg  \n",
            "  inflating: Human Action Recognition/train/Image_7599.jpg  \n",
            "  inflating: Human Action Recognition/train/Image_76.jpg  \n",
            "  inflating: Human Action Recognition/train/Image_760.jpg  \n",
            "  inflating: Human Action Recognition/train/Image_7600.jpg  \n",
            "  inflating: Human Action Recognition/train/Image_7601.jpg  \n",
            "  inflating: Human Action Recognition/train/Image_7602.jpg  \n",
            "  inflating: Human Action Recognition/train/Image_7603.jpg  \n",
            "  inflating: Human Action Recognition/train/Image_7604.jpg  \n",
            "  inflating: Human Action Recognition/train/Image_7605.jpg  \n",
            "  inflating: Human Action Recognition/train/Image_7606.jpg  \n",
            "  inflating: Human Action Recognition/train/Image_7607.jpg  \n",
            "  inflating: Human Action Recognition/train/Image_7608.jpg  \n",
            "  inflating: Human Action Recognition/train/Image_7609.jpg  \n",
            "  inflating: Human Action Recognition/train/Image_761.jpg  \n",
            "  inflating: Human Action Recognition/train/Image_7610.jpg  \n",
            "  inflating: Human Action Recognition/train/Image_7611.jpg  \n",
            "  inflating: Human Action Recognition/train/Image_7612.jpg  \n",
            "  inflating: Human Action Recognition/train/Image_7613.jpg  \n",
            "  inflating: Human Action Recognition/train/Image_7614.jpg  \n",
            "  inflating: Human Action Recognition/train/Image_7615.jpg  \n",
            "  inflating: Human Action Recognition/train/Image_7616.jpg  \n",
            "  inflating: Human Action Recognition/train/Image_7617.jpg  \n",
            "  inflating: Human Action Recognition/train/Image_7618.jpg  \n",
            "  inflating: Human Action Recognition/train/Image_7619.jpg  \n",
            "  inflating: Human Action Recognition/train/Image_762.jpg  \n",
            "  inflating: Human Action Recognition/train/Image_7620.jpg  \n",
            "  inflating: Human Action Recognition/train/Image_7621.jpg  \n",
            "  inflating: Human Action Recognition/train/Image_7622.jpg  \n",
            "  inflating: Human Action Recognition/train/Image_7623.jpg  \n",
            "  inflating: Human Action Recognition/train/Image_7624.jpg  \n",
            "  inflating: Human Action Recognition/train/Image_7625.jpg  \n",
            "  inflating: Human Action Recognition/train/Image_7626.jpg  \n",
            "  inflating: Human Action Recognition/train/Image_7627.jpg  \n",
            "  inflating: Human Action Recognition/train/Image_7628.jpg  \n",
            "  inflating: Human Action Recognition/train/Image_7629.jpg  \n",
            "  inflating: Human Action Recognition/train/Image_763.jpg  \n",
            "  inflating: Human Action Recognition/train/Image_7630.jpg  \n",
            "  inflating: Human Action Recognition/train/Image_7631.jpg  \n",
            "  inflating: Human Action Recognition/train/Image_7632.jpg  \n",
            "  inflating: Human Action Recognition/train/Image_7633.jpg  \n",
            "  inflating: Human Action Recognition/train/Image_7634.jpg  \n",
            "  inflating: Human Action Recognition/train/Image_7635.jpg  \n",
            "  inflating: Human Action Recognition/train/Image_7636.jpg  \n",
            "  inflating: Human Action Recognition/train/Image_7637.jpg  \n",
            "  inflating: Human Action Recognition/train/Image_7638.jpg  \n",
            "  inflating: Human Action Recognition/train/Image_7639.jpg  \n",
            "  inflating: Human Action Recognition/train/Image_764.jpg  \n",
            "  inflating: Human Action Recognition/train/Image_7640.jpg  \n",
            "  inflating: Human Action Recognition/train/Image_7641.jpg  \n",
            "  inflating: Human Action Recognition/train/Image_7642.jpg  \n",
            "  inflating: Human Action Recognition/train/Image_7643.jpg  \n",
            "  inflating: Human Action Recognition/train/Image_7644.jpg  \n",
            "  inflating: Human Action Recognition/train/Image_7645.jpg  \n",
            "  inflating: Human Action Recognition/train/Image_7646.jpg  \n",
            "  inflating: Human Action Recognition/train/Image_7647.jpg  \n",
            "  inflating: Human Action Recognition/train/Image_7648.jpg  \n",
            "  inflating: Human Action Recognition/train/Image_7649.jpg  \n",
            "  inflating: Human Action Recognition/train/Image_765.jpg  \n",
            "  inflating: Human Action Recognition/train/Image_7650.jpg  \n",
            "  inflating: Human Action Recognition/train/Image_7651.jpg  \n",
            "  inflating: Human Action Recognition/train/Image_7652.jpg  \n",
            "  inflating: Human Action Recognition/train/Image_7653.jpg  \n",
            "  inflating: Human Action Recognition/train/Image_7654.jpg  \n",
            "  inflating: Human Action Recognition/train/Image_7655.jpg  \n",
            "  inflating: Human Action Recognition/train/Image_7656.jpg  \n",
            "  inflating: Human Action Recognition/train/Image_7657.jpg  \n",
            "  inflating: Human Action Recognition/train/Image_7658.jpg  \n",
            "  inflating: Human Action Recognition/train/Image_7659.jpg  \n",
            "  inflating: Human Action Recognition/train/Image_766.jpg  \n",
            "  inflating: Human Action Recognition/train/Image_7660.jpg  \n",
            "  inflating: Human Action Recognition/train/Image_7661.jpg  \n",
            "  inflating: Human Action Recognition/train/Image_7662.jpg  \n",
            "  inflating: Human Action Recognition/train/Image_7663.jpg  \n",
            "  inflating: Human Action Recognition/train/Image_7664.jpg  \n",
            "  inflating: Human Action Recognition/train/Image_7665.jpg  \n",
            "  inflating: Human Action Recognition/train/Image_7666.jpg  \n",
            "  inflating: Human Action Recognition/train/Image_7667.jpg  \n",
            "  inflating: Human Action Recognition/train/Image_7668.jpg  \n",
            "  inflating: Human Action Recognition/train/Image_7669.jpg  \n",
            "  inflating: Human Action Recognition/train/Image_767.jpg  \n",
            "  inflating: Human Action Recognition/train/Image_7670.jpg  \n",
            "  inflating: Human Action Recognition/train/Image_7671.jpg  \n",
            "  inflating: Human Action Recognition/train/Image_7672.jpg  \n",
            "  inflating: Human Action Recognition/train/Image_7673.jpg  \n",
            "  inflating: Human Action Recognition/train/Image_7674.jpg  \n",
            "  inflating: Human Action Recognition/train/Image_7675.jpg  \n",
            "  inflating: Human Action Recognition/train/Image_7676.jpg  \n",
            "  inflating: Human Action Recognition/train/Image_7677.jpg  \n",
            "  inflating: Human Action Recognition/train/Image_7678.jpg  \n",
            "  inflating: Human Action Recognition/train/Image_7679.jpg  \n",
            "  inflating: Human Action Recognition/train/Image_768.jpg  \n",
            "  inflating: Human Action Recognition/train/Image_7680.jpg  \n",
            "  inflating: Human Action Recognition/train/Image_7681.jpg  \n",
            "  inflating: Human Action Recognition/train/Image_7682.jpg  \n",
            "  inflating: Human Action Recognition/train/Image_7683.jpg  \n",
            "  inflating: Human Action Recognition/train/Image_7684.jpg  \n",
            "  inflating: Human Action Recognition/train/Image_7685.jpg  \n",
            "  inflating: Human Action Recognition/train/Image_7686.jpg  \n",
            "  inflating: Human Action Recognition/train/Image_7687.jpg  \n",
            "  inflating: Human Action Recognition/train/Image_7688.jpg  \n",
            "  inflating: Human Action Recognition/train/Image_7689.jpg  \n",
            "  inflating: Human Action Recognition/train/Image_769.jpg  \n",
            "  inflating: Human Action Recognition/train/Image_7690.jpg  \n",
            "  inflating: Human Action Recognition/train/Image_7691.jpg  \n",
            "  inflating: Human Action Recognition/train/Image_7692.jpg  \n",
            "  inflating: Human Action Recognition/train/Image_7693.jpg  \n",
            "  inflating: Human Action Recognition/train/Image_7694.jpg  \n",
            "  inflating: Human Action Recognition/train/Image_7695.jpg  \n",
            "  inflating: Human Action Recognition/train/Image_7696.jpg  \n",
            "  inflating: Human Action Recognition/train/Image_7697.jpg  \n",
            "  inflating: Human Action Recognition/train/Image_7698.jpg  \n",
            "  inflating: Human Action Recognition/train/Image_7699.jpg  \n",
            "  inflating: Human Action Recognition/train/Image_77.jpg  \n",
            "  inflating: Human Action Recognition/train/Image_770.jpg  \n",
            "  inflating: Human Action Recognition/train/Image_7700.jpg  \n",
            "  inflating: Human Action Recognition/train/Image_7701.jpg  \n",
            "  inflating: Human Action Recognition/train/Image_7702.jpg  \n",
            "  inflating: Human Action Recognition/train/Image_7703.jpg  \n",
            "  inflating: Human Action Recognition/train/Image_7704.jpg  \n",
            "  inflating: Human Action Recognition/train/Image_7705.jpg  \n",
            "  inflating: Human Action Recognition/train/Image_7706.jpg  \n",
            "  inflating: Human Action Recognition/train/Image_7707.jpg  \n",
            "  inflating: Human Action Recognition/train/Image_7708.jpg  \n",
            "  inflating: Human Action Recognition/train/Image_7709.jpg  \n",
            "  inflating: Human Action Recognition/train/Image_771.jpg  \n",
            "  inflating: Human Action Recognition/train/Image_7710.jpg  \n",
            "  inflating: Human Action Recognition/train/Image_7711.jpg  \n",
            "  inflating: Human Action Recognition/train/Image_7712.jpg  \n",
            "  inflating: Human Action Recognition/train/Image_7713.jpg  \n",
            "  inflating: Human Action Recognition/train/Image_7714.jpg  \n",
            "  inflating: Human Action Recognition/train/Image_7715.jpg  \n",
            "  inflating: Human Action Recognition/train/Image_7716.jpg  \n",
            "  inflating: Human Action Recognition/train/Image_7717.jpg  \n",
            "  inflating: Human Action Recognition/train/Image_7718.jpg  \n",
            "  inflating: Human Action Recognition/train/Image_7719.jpg  \n",
            "  inflating: Human Action Recognition/train/Image_772.jpg  \n",
            "  inflating: Human Action Recognition/train/Image_7720.jpg  \n",
            "  inflating: Human Action Recognition/train/Image_7721.jpg  \n",
            "  inflating: Human Action Recognition/train/Image_7722.jpg  \n",
            "  inflating: Human Action Recognition/train/Image_7723.jpg  \n",
            "  inflating: Human Action Recognition/train/Image_7724.jpg  \n",
            "  inflating: Human Action Recognition/train/Image_7725.jpg  \n",
            "  inflating: Human Action Recognition/train/Image_7726.jpg  \n",
            "  inflating: Human Action Recognition/train/Image_7727.jpg  \n",
            "  inflating: Human Action Recognition/train/Image_7728.jpg  \n",
            "  inflating: Human Action Recognition/train/Image_7729.jpg  \n",
            "  inflating: Human Action Recognition/train/Image_773.jpg  \n",
            "  inflating: Human Action Recognition/train/Image_7730.jpg  \n",
            "  inflating: Human Action Recognition/train/Image_7731.jpg  \n",
            "  inflating: Human Action Recognition/train/Image_7732.jpg  \n",
            "  inflating: Human Action Recognition/train/Image_7733.jpg  \n",
            "  inflating: Human Action Recognition/train/Image_7734.jpg  \n",
            "  inflating: Human Action Recognition/train/Image_7735.jpg  \n",
            "  inflating: Human Action Recognition/train/Image_7736.jpg  \n",
            "  inflating: Human Action Recognition/train/Image_7737.jpg  \n",
            "  inflating: Human Action Recognition/train/Image_7738.jpg  \n",
            "  inflating: Human Action Recognition/train/Image_7739.jpg  \n",
            "  inflating: Human Action Recognition/train/Image_774.jpg  \n",
            "  inflating: Human Action Recognition/train/Image_7740.jpg  \n",
            "  inflating: Human Action Recognition/train/Image_7741.jpg  \n",
            "  inflating: Human Action Recognition/train/Image_7742.jpg  \n",
            "  inflating: Human Action Recognition/train/Image_7743.jpg  \n",
            "  inflating: Human Action Recognition/train/Image_7744.jpg  \n",
            "  inflating: Human Action Recognition/train/Image_7745.jpg  \n",
            "  inflating: Human Action Recognition/train/Image_7746.jpg  \n",
            "  inflating: Human Action Recognition/train/Image_7747.jpg  \n",
            "  inflating: Human Action Recognition/train/Image_7748.jpg  \n",
            "  inflating: Human Action Recognition/train/Image_7749.jpg  \n",
            "  inflating: Human Action Recognition/train/Image_775.jpg  \n",
            "  inflating: Human Action Recognition/train/Image_7750.jpg  \n",
            "  inflating: Human Action Recognition/train/Image_7751.jpg  \n",
            "  inflating: Human Action Recognition/train/Image_7752.jpg  \n",
            "  inflating: Human Action Recognition/train/Image_7753.jpg  \n",
            "  inflating: Human Action Recognition/train/Image_7754.jpg  \n",
            "  inflating: Human Action Recognition/train/Image_7755.jpg  \n",
            "  inflating: Human Action Recognition/train/Image_7756.jpg  \n",
            "  inflating: Human Action Recognition/train/Image_7757.jpg  \n",
            "  inflating: Human Action Recognition/train/Image_7758.jpg  \n",
            "  inflating: Human Action Recognition/train/Image_7759.jpg  \n",
            "  inflating: Human Action Recognition/train/Image_776.jpg  \n",
            "  inflating: Human Action Recognition/train/Image_7760.jpg  \n",
            "  inflating: Human Action Recognition/train/Image_7761.jpg  \n",
            "  inflating: Human Action Recognition/train/Image_7762.jpg  \n",
            "  inflating: Human Action Recognition/train/Image_7763.jpg  \n",
            "  inflating: Human Action Recognition/train/Image_7764.jpg  \n",
            "  inflating: Human Action Recognition/train/Image_7765.jpg  \n",
            "  inflating: Human Action Recognition/train/Image_7766.jpg  \n",
            "  inflating: Human Action Recognition/train/Image_7767.jpg  \n",
            "  inflating: Human Action Recognition/train/Image_7768.jpg  \n",
            "  inflating: Human Action Recognition/train/Image_7769.jpg  \n",
            "  inflating: Human Action Recognition/train/Image_777.jpg  \n",
            "  inflating: Human Action Recognition/train/Image_7770.jpg  \n",
            "  inflating: Human Action Recognition/train/Image_7771.jpg  \n",
            "  inflating: Human Action Recognition/train/Image_7772.jpg  \n",
            "  inflating: Human Action Recognition/train/Image_7773.jpg  \n",
            "  inflating: Human Action Recognition/train/Image_7774.jpg  \n",
            "  inflating: Human Action Recognition/train/Image_7775.jpg  \n",
            "  inflating: Human Action Recognition/train/Image_7776.jpg  \n",
            "  inflating: Human Action Recognition/train/Image_7777.jpg  \n",
            "  inflating: Human Action Recognition/train/Image_7778.jpg  \n",
            "  inflating: Human Action Recognition/train/Image_7779.jpg  \n",
            "  inflating: Human Action Recognition/train/Image_778.jpg  \n",
            "  inflating: Human Action Recognition/train/Image_7780.jpg  \n",
            "  inflating: Human Action Recognition/train/Image_7781.jpg  \n",
            "  inflating: Human Action Recognition/train/Image_7782.jpg  \n",
            "  inflating: Human Action Recognition/train/Image_7783.jpg  \n",
            "  inflating: Human Action Recognition/train/Image_7784.jpg  \n",
            "  inflating: Human Action Recognition/train/Image_7785.jpg  \n",
            "  inflating: Human Action Recognition/train/Image_7786.jpg  \n",
            "  inflating: Human Action Recognition/train/Image_7787.jpg  \n",
            "  inflating: Human Action Recognition/train/Image_7788.jpg  \n",
            "  inflating: Human Action Recognition/train/Image_7789.jpg  \n",
            "  inflating: Human Action Recognition/train/Image_779.jpg  \n",
            "  inflating: Human Action Recognition/train/Image_7790.jpg  \n",
            "  inflating: Human Action Recognition/train/Image_7791.jpg  \n",
            "  inflating: Human Action Recognition/train/Image_7792.jpg  \n",
            "  inflating: Human Action Recognition/train/Image_7793.jpg  \n",
            "  inflating: Human Action Recognition/train/Image_7794.jpg  \n",
            "  inflating: Human Action Recognition/train/Image_7795.jpg  \n",
            "  inflating: Human Action Recognition/train/Image_7796.jpg  \n",
            "  inflating: Human Action Recognition/train/Image_7797.jpg  \n",
            "  inflating: Human Action Recognition/train/Image_7798.jpg  \n",
            "  inflating: Human Action Recognition/train/Image_7799.jpg  \n",
            "  inflating: Human Action Recognition/train/Image_78.jpg  \n",
            "  inflating: Human Action Recognition/train/Image_780.jpg  \n",
            "  inflating: Human Action Recognition/train/Image_7800.jpg  \n",
            "  inflating: Human Action Recognition/train/Image_7801.jpg  \n",
            "  inflating: Human Action Recognition/train/Image_7802.jpg  \n",
            "  inflating: Human Action Recognition/train/Image_7803.jpg  \n",
            "  inflating: Human Action Recognition/train/Image_7804.jpg  \n",
            "  inflating: Human Action Recognition/train/Image_7805.jpg  \n",
            "  inflating: Human Action Recognition/train/Image_7806.jpg  \n",
            "  inflating: Human Action Recognition/train/Image_7807.jpg  \n",
            "  inflating: Human Action Recognition/train/Image_7808.jpg  \n",
            "  inflating: Human Action Recognition/train/Image_7809.jpg  \n",
            "  inflating: Human Action Recognition/train/Image_781.jpg  \n",
            "  inflating: Human Action Recognition/train/Image_7810.jpg  \n",
            "  inflating: Human Action Recognition/train/Image_7811.jpg  \n",
            "  inflating: Human Action Recognition/train/Image_7812.jpg  \n",
            "  inflating: Human Action Recognition/train/Image_7813.jpg  \n",
            "  inflating: Human Action Recognition/train/Image_7814.jpg  \n",
            "  inflating: Human Action Recognition/train/Image_7815.jpg  \n",
            "  inflating: Human Action Recognition/train/Image_7816.jpg  \n",
            "  inflating: Human Action Recognition/train/Image_7817.jpg  \n",
            "  inflating: Human Action Recognition/train/Image_7818.jpg  \n",
            "  inflating: Human Action Recognition/train/Image_7819.jpg  \n",
            "  inflating: Human Action Recognition/train/Image_782.jpg  \n",
            "  inflating: Human Action Recognition/train/Image_7820.jpg  \n",
            "  inflating: Human Action Recognition/train/Image_7821.jpg  \n",
            "  inflating: Human Action Recognition/train/Image_7822.jpg  \n",
            "  inflating: Human Action Recognition/train/Image_7823.jpg  \n",
            "  inflating: Human Action Recognition/train/Image_7824.jpg  \n",
            "  inflating: Human Action Recognition/train/Image_7825.jpg  \n",
            "  inflating: Human Action Recognition/train/Image_7826.jpg  \n",
            "  inflating: Human Action Recognition/train/Image_7827.jpg  \n",
            "  inflating: Human Action Recognition/train/Image_7828.jpg  \n",
            "  inflating: Human Action Recognition/train/Image_7829.jpg  \n",
            "  inflating: Human Action Recognition/train/Image_783.jpg  \n",
            "  inflating: Human Action Recognition/train/Image_7830.jpg  \n",
            "  inflating: Human Action Recognition/train/Image_7831.jpg  \n",
            "  inflating: Human Action Recognition/train/Image_7832.jpg  \n",
            "  inflating: Human Action Recognition/train/Image_7833.jpg  \n",
            "  inflating: Human Action Recognition/train/Image_7834.jpg  \n",
            "  inflating: Human Action Recognition/train/Image_7835.jpg  \n",
            "  inflating: Human Action Recognition/train/Image_7836.jpg  \n",
            "  inflating: Human Action Recognition/train/Image_7837.jpg  \n",
            "  inflating: Human Action Recognition/train/Image_7838.jpg  \n",
            "  inflating: Human Action Recognition/train/Image_7839.jpg  \n",
            "  inflating: Human Action Recognition/train/Image_784.jpg  \n",
            "  inflating: Human Action Recognition/train/Image_7840.jpg  \n",
            "  inflating: Human Action Recognition/train/Image_7841.jpg  \n",
            "  inflating: Human Action Recognition/train/Image_7842.jpg  \n",
            "  inflating: Human Action Recognition/train/Image_7843.jpg  \n",
            "  inflating: Human Action Recognition/train/Image_7844.jpg  \n",
            "  inflating: Human Action Recognition/train/Image_7845.jpg  \n",
            "  inflating: Human Action Recognition/train/Image_7846.jpg  \n",
            "  inflating: Human Action Recognition/train/Image_7847.jpg  \n",
            "  inflating: Human Action Recognition/train/Image_7848.jpg  \n",
            "  inflating: Human Action Recognition/train/Image_7849.jpg  \n",
            "  inflating: Human Action Recognition/train/Image_785.jpg  \n",
            "  inflating: Human Action Recognition/train/Image_7850.jpg  \n",
            "  inflating: Human Action Recognition/train/Image_7851.jpg  \n",
            "  inflating: Human Action Recognition/train/Image_7852.jpg  \n",
            "  inflating: Human Action Recognition/train/Image_7853.jpg  \n",
            "  inflating: Human Action Recognition/train/Image_7854.jpg  \n",
            "  inflating: Human Action Recognition/train/Image_7855.jpg  \n",
            "  inflating: Human Action Recognition/train/Image_7856.jpg  \n",
            "  inflating: Human Action Recognition/train/Image_7857.jpg  \n",
            "  inflating: Human Action Recognition/train/Image_7858.jpg  \n",
            "  inflating: Human Action Recognition/train/Image_7859.jpg  \n",
            "  inflating: Human Action Recognition/train/Image_786.jpg  \n",
            "  inflating: Human Action Recognition/train/Image_7860.jpg  \n",
            "  inflating: Human Action Recognition/train/Image_7861.jpg  \n",
            "  inflating: Human Action Recognition/train/Image_7862.jpg  \n",
            "  inflating: Human Action Recognition/train/Image_7863.jpg  \n",
            "  inflating: Human Action Recognition/train/Image_7864.jpg  \n",
            "  inflating: Human Action Recognition/train/Image_7865.jpg  \n",
            "  inflating: Human Action Recognition/train/Image_7866.jpg  \n",
            "  inflating: Human Action Recognition/train/Image_7867.jpg  \n",
            "  inflating: Human Action Recognition/train/Image_7868.jpg  \n",
            "  inflating: Human Action Recognition/train/Image_7869.jpg  \n",
            "  inflating: Human Action Recognition/train/Image_787.jpg  \n",
            "  inflating: Human Action Recognition/train/Image_7870.jpg  \n",
            "  inflating: Human Action Recognition/train/Image_7871.jpg  \n",
            "  inflating: Human Action Recognition/train/Image_7872.jpg  \n",
            "  inflating: Human Action Recognition/train/Image_7873.jpg  \n",
            "  inflating: Human Action Recognition/train/Image_7874.jpg  \n",
            "  inflating: Human Action Recognition/train/Image_7875.jpg  \n",
            "  inflating: Human Action Recognition/train/Image_7876.jpg  \n",
            "  inflating: Human Action Recognition/train/Image_7877.jpg  \n",
            "  inflating: Human Action Recognition/train/Image_7878.jpg  \n",
            "  inflating: Human Action Recognition/train/Image_7879.jpg  \n",
            "  inflating: Human Action Recognition/train/Image_788.jpg  \n",
            "  inflating: Human Action Recognition/train/Image_7880.jpg  \n",
            "  inflating: Human Action Recognition/train/Image_7881.jpg  \n",
            "  inflating: Human Action Recognition/train/Image_7882.jpg  \n",
            "  inflating: Human Action Recognition/train/Image_7883.jpg  \n",
            "  inflating: Human Action Recognition/train/Image_7884.jpg  \n",
            "  inflating: Human Action Recognition/train/Image_7885.jpg  \n",
            "  inflating: Human Action Recognition/train/Image_7886.jpg  \n",
            "  inflating: Human Action Recognition/train/Image_7887.jpg  \n",
            "  inflating: Human Action Recognition/train/Image_7888.jpg  \n",
            "  inflating: Human Action Recognition/train/Image_7889.jpg  \n",
            "  inflating: Human Action Recognition/train/Image_789.jpg  \n",
            "  inflating: Human Action Recognition/train/Image_7890.jpg  \n",
            "  inflating: Human Action Recognition/train/Image_7891.jpg  \n",
            "  inflating: Human Action Recognition/train/Image_7892.jpg  \n",
            "  inflating: Human Action Recognition/train/Image_7893.jpg  \n",
            "  inflating: Human Action Recognition/train/Image_7894.jpg  \n",
            "  inflating: Human Action Recognition/train/Image_7895.jpg  \n",
            "  inflating: Human Action Recognition/train/Image_7896.jpg  \n",
            "  inflating: Human Action Recognition/train/Image_7897.jpg  \n",
            "  inflating: Human Action Recognition/train/Image_7898.jpg  \n",
            "  inflating: Human Action Recognition/train/Image_7899.jpg  \n",
            "  inflating: Human Action Recognition/train/Image_79.jpg  \n",
            "  inflating: Human Action Recognition/train/Image_790.jpg  \n",
            "  inflating: Human Action Recognition/train/Image_7900.jpg  \n",
            "  inflating: Human Action Recognition/train/Image_7901.jpg  \n",
            "  inflating: Human Action Recognition/train/Image_7902.jpg  \n",
            "  inflating: Human Action Recognition/train/Image_7903.jpg  \n",
            "  inflating: Human Action Recognition/train/Image_7904.jpg  \n",
            "  inflating: Human Action Recognition/train/Image_7905.jpg  \n",
            "  inflating: Human Action Recognition/train/Image_7906.jpg  \n",
            "  inflating: Human Action Recognition/train/Image_7907.jpg  \n",
            "  inflating: Human Action Recognition/train/Image_7908.jpg  \n",
            "  inflating: Human Action Recognition/train/Image_7909.jpg  \n",
            "  inflating: Human Action Recognition/train/Image_791.jpg  \n",
            "  inflating: Human Action Recognition/train/Image_7910.jpg  \n",
            "  inflating: Human Action Recognition/train/Image_7911.jpg  \n",
            "  inflating: Human Action Recognition/train/Image_7912.jpg  \n",
            "  inflating: Human Action Recognition/train/Image_7913.jpg  \n",
            "  inflating: Human Action Recognition/train/Image_7914.jpg  \n",
            "  inflating: Human Action Recognition/train/Image_7915.jpg  \n",
            "  inflating: Human Action Recognition/train/Image_7916.jpg  \n",
            "  inflating: Human Action Recognition/train/Image_7917.jpg  \n",
            "  inflating: Human Action Recognition/train/Image_7918.jpg  \n",
            "  inflating: Human Action Recognition/train/Image_7919.jpg  \n",
            "  inflating: Human Action Recognition/train/Image_792.jpg  \n",
            "  inflating: Human Action Recognition/train/Image_7920.jpg  \n",
            "  inflating: Human Action Recognition/train/Image_7921.jpg  \n",
            "  inflating: Human Action Recognition/train/Image_7922.jpg  \n",
            "  inflating: Human Action Recognition/train/Image_7923.jpg  \n",
            "  inflating: Human Action Recognition/train/Image_7924.jpg  \n",
            "  inflating: Human Action Recognition/train/Image_7925.jpg  \n",
            "  inflating: Human Action Recognition/train/Image_7926.jpg  \n",
            "  inflating: Human Action Recognition/train/Image_7927.jpg  \n",
            "  inflating: Human Action Recognition/train/Image_7928.jpg  \n",
            "  inflating: Human Action Recognition/train/Image_7929.jpg  \n",
            "  inflating: Human Action Recognition/train/Image_793.jpg  \n",
            "  inflating: Human Action Recognition/train/Image_7930.jpg  \n",
            "  inflating: Human Action Recognition/train/Image_7931.jpg  \n",
            "  inflating: Human Action Recognition/train/Image_7932.jpg  \n",
            "  inflating: Human Action Recognition/train/Image_7933.jpg  \n",
            "  inflating: Human Action Recognition/train/Image_7934.jpg  \n",
            "  inflating: Human Action Recognition/train/Image_7935.jpg  \n",
            "  inflating: Human Action Recognition/train/Image_7936.jpg  \n",
            "  inflating: Human Action Recognition/train/Image_7937.jpg  \n",
            "  inflating: Human Action Recognition/train/Image_7938.jpg  \n",
            "  inflating: Human Action Recognition/train/Image_7939.jpg  \n",
            "  inflating: Human Action Recognition/train/Image_794.jpg  \n",
            "  inflating: Human Action Recognition/train/Image_7940.jpg  \n",
            "  inflating: Human Action Recognition/train/Image_7941.jpg  \n",
            "  inflating: Human Action Recognition/train/Image_7942.jpg  \n",
            "  inflating: Human Action Recognition/train/Image_7943.jpg  \n",
            "  inflating: Human Action Recognition/train/Image_7944.jpg  \n",
            "  inflating: Human Action Recognition/train/Image_7945.jpg  \n",
            "  inflating: Human Action Recognition/train/Image_7946.jpg  \n",
            "  inflating: Human Action Recognition/train/Image_7947.jpg  \n",
            "  inflating: Human Action Recognition/train/Image_7948.jpg  \n",
            "  inflating: Human Action Recognition/train/Image_7949.jpg  \n",
            "  inflating: Human Action Recognition/train/Image_795.jpg  \n",
            "  inflating: Human Action Recognition/train/Image_7950.jpg  \n",
            "  inflating: Human Action Recognition/train/Image_7951.jpg  \n",
            "  inflating: Human Action Recognition/train/Image_7952.jpg  \n",
            "  inflating: Human Action Recognition/train/Image_7953.jpg  \n",
            "  inflating: Human Action Recognition/train/Image_7954.jpg  \n",
            "  inflating: Human Action Recognition/train/Image_7955.jpg  \n",
            "  inflating: Human Action Recognition/train/Image_7956.jpg  \n",
            "  inflating: Human Action Recognition/train/Image_7957.jpg  \n",
            "  inflating: Human Action Recognition/train/Image_7958.jpg  \n",
            "  inflating: Human Action Recognition/train/Image_7959.jpg  \n",
            "  inflating: Human Action Recognition/train/Image_796.jpg  \n",
            "  inflating: Human Action Recognition/train/Image_7960.jpg  \n",
            "  inflating: Human Action Recognition/train/Image_7961.jpg  \n",
            "  inflating: Human Action Recognition/train/Image_7962.jpg  \n",
            "  inflating: Human Action Recognition/train/Image_7963.jpg  \n",
            "  inflating: Human Action Recognition/train/Image_7964.jpg  \n",
            "  inflating: Human Action Recognition/train/Image_7965.jpg  \n",
            "  inflating: Human Action Recognition/train/Image_7966.jpg  \n",
            "  inflating: Human Action Recognition/train/Image_7967.jpg  \n",
            "  inflating: Human Action Recognition/train/Image_7968.jpg  \n",
            "  inflating: Human Action Recognition/train/Image_7969.jpg  \n",
            "  inflating: Human Action Recognition/train/Image_797.jpg  \n",
            "  inflating: Human Action Recognition/train/Image_7970.jpg  \n",
            "  inflating: Human Action Recognition/train/Image_7971.jpg  \n",
            "  inflating: Human Action Recognition/train/Image_7972.jpg  \n",
            "  inflating: Human Action Recognition/train/Image_7973.jpg  \n",
            "  inflating: Human Action Recognition/train/Image_7974.jpg  \n",
            "  inflating: Human Action Recognition/train/Image_7975.jpg  \n",
            "  inflating: Human Action Recognition/train/Image_7976.jpg  \n",
            "  inflating: Human Action Recognition/train/Image_7977.jpg  \n",
            "  inflating: Human Action Recognition/train/Image_7978.jpg  \n",
            "  inflating: Human Action Recognition/train/Image_7979.jpg  \n",
            "  inflating: Human Action Recognition/train/Image_798.jpg  \n",
            "  inflating: Human Action Recognition/train/Image_7980.jpg  \n",
            "  inflating: Human Action Recognition/train/Image_7981.jpg  \n",
            "  inflating: Human Action Recognition/train/Image_7982.jpg  \n",
            "  inflating: Human Action Recognition/train/Image_7983.jpg  \n",
            "  inflating: Human Action Recognition/train/Image_7984.jpg  \n",
            "  inflating: Human Action Recognition/train/Image_7985.jpg  \n",
            "  inflating: Human Action Recognition/train/Image_7986.jpg  \n",
            "  inflating: Human Action Recognition/train/Image_7987.jpg  \n",
            "  inflating: Human Action Recognition/train/Image_7988.jpg  \n",
            "  inflating: Human Action Recognition/train/Image_7989.jpg  \n",
            "  inflating: Human Action Recognition/train/Image_799.jpg  \n",
            "  inflating: Human Action Recognition/train/Image_7990.jpg  \n",
            "  inflating: Human Action Recognition/train/Image_7991.jpg  \n",
            "  inflating: Human Action Recognition/train/Image_7992.jpg  \n",
            "  inflating: Human Action Recognition/train/Image_7993.jpg  \n",
            "  inflating: Human Action Recognition/train/Image_7994.jpg  \n",
            "  inflating: Human Action Recognition/train/Image_7995.jpg  \n",
            "  inflating: Human Action Recognition/train/Image_7996.jpg  \n",
            "  inflating: Human Action Recognition/train/Image_7997.jpg  \n",
            "  inflating: Human Action Recognition/train/Image_7998.jpg  \n",
            "  inflating: Human Action Recognition/train/Image_7999.jpg  \n",
            "  inflating: Human Action Recognition/train/Image_8.jpg  \n",
            "  inflating: Human Action Recognition/train/Image_80.jpg  \n",
            "  inflating: Human Action Recognition/train/Image_800.jpg  \n",
            "  inflating: Human Action Recognition/train/Image_8000.jpg  \n",
            "  inflating: Human Action Recognition/train/Image_8001.jpg  \n",
            "  inflating: Human Action Recognition/train/Image_8002.jpg  \n",
            "  inflating: Human Action Recognition/train/Image_8003.jpg  \n",
            "  inflating: Human Action Recognition/train/Image_8004.jpg  \n",
            "  inflating: Human Action Recognition/train/Image_8005.jpg  \n",
            "  inflating: Human Action Recognition/train/Image_8006.jpg  \n",
            "  inflating: Human Action Recognition/train/Image_8007.jpg  \n",
            "  inflating: Human Action Recognition/train/Image_8008.jpg  \n",
            "  inflating: Human Action Recognition/train/Image_8009.jpg  \n",
            "  inflating: Human Action Recognition/train/Image_801.jpg  \n",
            "  inflating: Human Action Recognition/train/Image_8010.jpg  \n",
            "  inflating: Human Action Recognition/train/Image_8011.jpg  \n",
            "  inflating: Human Action Recognition/train/Image_8012.jpg  \n",
            "  inflating: Human Action Recognition/train/Image_8013.jpg  \n",
            "  inflating: Human Action Recognition/train/Image_8014.jpg  \n",
            "  inflating: Human Action Recognition/train/Image_8015.jpg  \n",
            "  inflating: Human Action Recognition/train/Image_8016.jpg  \n",
            "  inflating: Human Action Recognition/train/Image_8017.jpg  \n",
            "  inflating: Human Action Recognition/train/Image_8018.jpg  \n",
            "  inflating: Human Action Recognition/train/Image_8019.jpg  \n",
            "  inflating: Human Action Recognition/train/Image_802.jpg  \n",
            "  inflating: Human Action Recognition/train/Image_8020.jpg  \n",
            "  inflating: Human Action Recognition/train/Image_8021.jpg  \n",
            "  inflating: Human Action Recognition/train/Image_8022.jpg  \n",
            "  inflating: Human Action Recognition/train/Image_8023.jpg  \n",
            "  inflating: Human Action Recognition/train/Image_8024.jpg  \n",
            "  inflating: Human Action Recognition/train/Image_8025.jpg  \n",
            "  inflating: Human Action Recognition/train/Image_8026.jpg  \n",
            "  inflating: Human Action Recognition/train/Image_8027.jpg  \n",
            "  inflating: Human Action Recognition/train/Image_8028.jpg  \n",
            "  inflating: Human Action Recognition/train/Image_8029.jpg  \n",
            "  inflating: Human Action Recognition/train/Image_803.jpg  \n",
            "  inflating: Human Action Recognition/train/Image_8030.jpg  \n",
            "  inflating: Human Action Recognition/train/Image_8031.jpg  \n",
            "  inflating: Human Action Recognition/train/Image_8032.jpg  \n",
            "  inflating: Human Action Recognition/train/Image_8033.jpg  \n",
            "  inflating: Human Action Recognition/train/Image_8034.jpg  \n",
            "  inflating: Human Action Recognition/train/Image_8035.jpg  \n",
            "  inflating: Human Action Recognition/train/Image_8036.jpg  \n",
            "  inflating: Human Action Recognition/train/Image_8037.jpg  \n",
            "  inflating: Human Action Recognition/train/Image_8038.jpg  \n",
            "  inflating: Human Action Recognition/train/Image_8039.jpg  \n",
            "  inflating: Human Action Recognition/train/Image_804.jpg  \n",
            "  inflating: Human Action Recognition/train/Image_8040.jpg  \n",
            "  inflating: Human Action Recognition/train/Image_8041.jpg  \n",
            "  inflating: Human Action Recognition/train/Image_8042.jpg  \n",
            "  inflating: Human Action Recognition/train/Image_8043.jpg  \n",
            "  inflating: Human Action Recognition/train/Image_8044.jpg  \n",
            "  inflating: Human Action Recognition/train/Image_8045.jpg  \n",
            "  inflating: Human Action Recognition/train/Image_8046.jpg  \n",
            "  inflating: Human Action Recognition/train/Image_8047.jpg  \n",
            "  inflating: Human Action Recognition/train/Image_8048.jpg  \n",
            "  inflating: Human Action Recognition/train/Image_8049.jpg  \n",
            "  inflating: Human Action Recognition/train/Image_805.jpg  \n",
            "  inflating: Human Action Recognition/train/Image_8050.jpg  \n",
            "  inflating: Human Action Recognition/train/Image_8051.jpg  \n",
            "  inflating: Human Action Recognition/train/Image_8052.jpg  \n",
            "  inflating: Human Action Recognition/train/Image_8053.jpg  \n",
            "  inflating: Human Action Recognition/train/Image_8054.jpg  \n",
            "  inflating: Human Action Recognition/train/Image_8055.jpg  \n",
            "  inflating: Human Action Recognition/train/Image_8056.jpg  \n",
            "  inflating: Human Action Recognition/train/Image_8057.jpg  \n",
            "  inflating: Human Action Recognition/train/Image_8058.jpg  \n",
            "  inflating: Human Action Recognition/train/Image_8059.jpg  \n",
            "  inflating: Human Action Recognition/train/Image_806.jpg  \n",
            "  inflating: Human Action Recognition/train/Image_8060.jpg  \n",
            "  inflating: Human Action Recognition/train/Image_8061.jpg  \n",
            "  inflating: Human Action Recognition/train/Image_8062.jpg  \n",
            "  inflating: Human Action Recognition/train/Image_8063.jpg  \n",
            "  inflating: Human Action Recognition/train/Image_8064.jpg  \n",
            "  inflating: Human Action Recognition/train/Image_8065.jpg  \n",
            "  inflating: Human Action Recognition/train/Image_8066.jpg  \n",
            "  inflating: Human Action Recognition/train/Image_8067.jpg  \n",
            "  inflating: Human Action Recognition/train/Image_8068.jpg  \n",
            "  inflating: Human Action Recognition/train/Image_8069.jpg  \n",
            "  inflating: Human Action Recognition/train/Image_807.jpg  \n",
            "  inflating: Human Action Recognition/train/Image_8070.jpg  \n",
            "  inflating: Human Action Recognition/train/Image_8071.jpg  \n",
            "  inflating: Human Action Recognition/train/Image_8072.jpg  \n",
            "  inflating: Human Action Recognition/train/Image_8073.jpg  \n",
            "  inflating: Human Action Recognition/train/Image_8074.jpg  \n",
            "  inflating: Human Action Recognition/train/Image_8075.jpg  \n",
            "  inflating: Human Action Recognition/train/Image_8076.jpg  \n",
            "  inflating: Human Action Recognition/train/Image_8077.jpg  \n",
            "  inflating: Human Action Recognition/train/Image_8078.jpg  \n",
            "  inflating: Human Action Recognition/train/Image_8079.jpg  \n",
            "  inflating: Human Action Recognition/train/Image_808.jpg  \n",
            "  inflating: Human Action Recognition/train/Image_8080.jpg  \n",
            "  inflating: Human Action Recognition/train/Image_8081.jpg  \n",
            "  inflating: Human Action Recognition/train/Image_8082.jpg  \n",
            "  inflating: Human Action Recognition/train/Image_8083.jpg  \n",
            "  inflating: Human Action Recognition/train/Image_8084.jpg  \n",
            "  inflating: Human Action Recognition/train/Image_8085.jpg  \n",
            "  inflating: Human Action Recognition/train/Image_8086.jpg  \n",
            "  inflating: Human Action Recognition/train/Image_8087.jpg  \n",
            "  inflating: Human Action Recognition/train/Image_8088.jpg  \n",
            "  inflating: Human Action Recognition/train/Image_8089.jpg  \n",
            "  inflating: Human Action Recognition/train/Image_809.jpg  \n",
            "  inflating: Human Action Recognition/train/Image_8090.jpg  \n",
            "  inflating: Human Action Recognition/train/Image_8091.jpg  \n",
            "  inflating: Human Action Recognition/train/Image_8092.jpg  \n",
            "  inflating: Human Action Recognition/train/Image_8093.jpg  \n",
            "  inflating: Human Action Recognition/train/Image_8094.jpg  \n",
            "  inflating: Human Action Recognition/train/Image_8095.jpg  \n",
            "  inflating: Human Action Recognition/train/Image_8096.jpg  \n",
            "  inflating: Human Action Recognition/train/Image_8097.jpg  \n",
            "  inflating: Human Action Recognition/train/Image_8098.jpg  \n",
            "  inflating: Human Action Recognition/train/Image_8099.jpg  \n",
            "  inflating: Human Action Recognition/train/Image_81.jpg  \n",
            "  inflating: Human Action Recognition/train/Image_810.jpg  \n",
            "  inflating: Human Action Recognition/train/Image_8100.jpg  \n",
            "  inflating: Human Action Recognition/train/Image_8101.jpg  \n",
            "  inflating: Human Action Recognition/train/Image_8102.jpg  \n",
            "  inflating: Human Action Recognition/train/Image_8103.jpg  \n",
            "  inflating: Human Action Recognition/train/Image_8104.jpg  \n",
            "  inflating: Human Action Recognition/train/Image_8105.jpg  \n",
            "  inflating: Human Action Recognition/train/Image_8106.jpg  \n",
            "  inflating: Human Action Recognition/train/Image_8107.jpg  \n",
            "  inflating: Human Action Recognition/train/Image_8108.jpg  \n",
            "  inflating: Human Action Recognition/train/Image_8109.jpg  \n",
            "  inflating: Human Action Recognition/train/Image_811.jpg  \n",
            "  inflating: Human Action Recognition/train/Image_8110.jpg  \n",
            "  inflating: Human Action Recognition/train/Image_8111.jpg  \n",
            "  inflating: Human Action Recognition/train/Image_8112.jpg  \n",
            "  inflating: Human Action Recognition/train/Image_8113.jpg  \n",
            "  inflating: Human Action Recognition/train/Image_8114.jpg  \n",
            "  inflating: Human Action Recognition/train/Image_8115.jpg  \n",
            "  inflating: Human Action Recognition/train/Image_8116.jpg  \n",
            "  inflating: Human Action Recognition/train/Image_8117.jpg  \n",
            "  inflating: Human Action Recognition/train/Image_8118.jpg  \n",
            "  inflating: Human Action Recognition/train/Image_8119.jpg  \n",
            "  inflating: Human Action Recognition/train/Image_812.jpg  \n",
            "  inflating: Human Action Recognition/train/Image_8120.jpg  \n",
            "  inflating: Human Action Recognition/train/Image_8121.jpg  \n",
            "  inflating: Human Action Recognition/train/Image_8122.jpg  \n",
            "  inflating: Human Action Recognition/train/Image_8123.jpg  \n",
            "  inflating: Human Action Recognition/train/Image_8124.jpg  \n",
            "  inflating: Human Action Recognition/train/Image_8125.jpg  \n",
            "  inflating: Human Action Recognition/train/Image_8126.jpg  \n",
            "  inflating: Human Action Recognition/train/Image_8127.jpg  \n",
            "  inflating: Human Action Recognition/train/Image_8128.jpg  \n",
            "  inflating: Human Action Recognition/train/Image_8129.jpg  \n",
            "  inflating: Human Action Recognition/train/Image_813.jpg  \n",
            "  inflating: Human Action Recognition/train/Image_8130.jpg  \n",
            "  inflating: Human Action Recognition/train/Image_8131.jpg  \n",
            "  inflating: Human Action Recognition/train/Image_8132.jpg  \n",
            "  inflating: Human Action Recognition/train/Image_8133.jpg  \n",
            "  inflating: Human Action Recognition/train/Image_8134.jpg  \n",
            "  inflating: Human Action Recognition/train/Image_8135.jpg  \n",
            "  inflating: Human Action Recognition/train/Image_8136.jpg  \n",
            "  inflating: Human Action Recognition/train/Image_8137.jpg  \n",
            "  inflating: Human Action Recognition/train/Image_8138.jpg  \n",
            "  inflating: Human Action Recognition/train/Image_8139.jpg  \n",
            "  inflating: Human Action Recognition/train/Image_814.jpg  \n",
            "  inflating: Human Action Recognition/train/Image_8140.jpg  \n",
            "  inflating: Human Action Recognition/train/Image_8141.jpg  \n",
            "  inflating: Human Action Recognition/train/Image_8142.jpg  \n",
            "  inflating: Human Action Recognition/train/Image_8143.jpg  \n",
            "  inflating: Human Action Recognition/train/Image_8144.jpg  \n",
            "  inflating: Human Action Recognition/train/Image_8145.jpg  \n",
            "  inflating: Human Action Recognition/train/Image_8146.jpg  \n",
            "  inflating: Human Action Recognition/train/Image_8147.jpg  \n",
            "  inflating: Human Action Recognition/train/Image_8148.jpg  \n",
            "  inflating: Human Action Recognition/train/Image_8149.jpg  \n",
            "  inflating: Human Action Recognition/train/Image_815.jpg  \n",
            "  inflating: Human Action Recognition/train/Image_8150.jpg  \n",
            "  inflating: Human Action Recognition/train/Image_8151.jpg  \n",
            "  inflating: Human Action Recognition/train/Image_8152.jpg  \n",
            "  inflating: Human Action Recognition/train/Image_8153.jpg  \n",
            "  inflating: Human Action Recognition/train/Image_8154.jpg  \n",
            "  inflating: Human Action Recognition/train/Image_8155.jpg  \n",
            "  inflating: Human Action Recognition/train/Image_8156.jpg  \n",
            "  inflating: Human Action Recognition/train/Image_8157.jpg  \n",
            "  inflating: Human Action Recognition/train/Image_8158.jpg  \n",
            "  inflating: Human Action Recognition/train/Image_8159.jpg  \n",
            "  inflating: Human Action Recognition/train/Image_816.jpg  \n",
            "  inflating: Human Action Recognition/train/Image_8160.jpg  \n",
            "  inflating: Human Action Recognition/train/Image_8161.jpg  \n",
            "  inflating: Human Action Recognition/train/Image_8162.jpg  \n",
            "  inflating: Human Action Recognition/train/Image_8163.jpg  \n",
            "  inflating: Human Action Recognition/train/Image_8164.jpg  \n",
            "  inflating: Human Action Recognition/train/Image_8165.jpg  \n",
            "  inflating: Human Action Recognition/train/Image_8166.jpg  \n",
            "  inflating: Human Action Recognition/train/Image_8167.jpg  \n",
            "  inflating: Human Action Recognition/train/Image_8168.jpg  \n",
            "  inflating: Human Action Recognition/train/Image_8169.jpg  \n",
            "  inflating: Human Action Recognition/train/Image_817.jpg  \n",
            "  inflating: Human Action Recognition/train/Image_8170.jpg  \n",
            "  inflating: Human Action Recognition/train/Image_8171.jpg  \n",
            "  inflating: Human Action Recognition/train/Image_8172.jpg  \n",
            "  inflating: Human Action Recognition/train/Image_8173.jpg  \n",
            "  inflating: Human Action Recognition/train/Image_8174.jpg  \n",
            "  inflating: Human Action Recognition/train/Image_8175.jpg  \n",
            "  inflating: Human Action Recognition/train/Image_8176.jpg  \n",
            "  inflating: Human Action Recognition/train/Image_8177.jpg  \n",
            "  inflating: Human Action Recognition/train/Image_8178.jpg  \n",
            "  inflating: Human Action Recognition/train/Image_8179.jpg  \n",
            "  inflating: Human Action Recognition/train/Image_818.jpg  \n",
            "  inflating: Human Action Recognition/train/Image_8180.jpg  \n",
            "  inflating: Human Action Recognition/train/Image_8181.jpg  \n",
            "  inflating: Human Action Recognition/train/Image_8182.jpg  \n",
            "  inflating: Human Action Recognition/train/Image_8183.jpg  \n",
            "  inflating: Human Action Recognition/train/Image_8184.jpg  \n",
            "  inflating: Human Action Recognition/train/Image_8185.jpg  \n",
            "  inflating: Human Action Recognition/train/Image_8186.jpg  \n",
            "  inflating: Human Action Recognition/train/Image_8187.jpg  \n",
            "  inflating: Human Action Recognition/train/Image_8188.jpg  \n",
            "  inflating: Human Action Recognition/train/Image_8189.jpg  \n",
            "  inflating: Human Action Recognition/train/Image_819.jpg  \n",
            "  inflating: Human Action Recognition/train/Image_8190.jpg  \n",
            "  inflating: Human Action Recognition/train/Image_8191.jpg  \n",
            "  inflating: Human Action Recognition/train/Image_8192.jpg  \n",
            "  inflating: Human Action Recognition/train/Image_8193.jpg  \n",
            "  inflating: Human Action Recognition/train/Image_8194.jpg  \n",
            "  inflating: Human Action Recognition/train/Image_8195.jpg  \n",
            "  inflating: Human Action Recognition/train/Image_8196.jpg  \n",
            "  inflating: Human Action Recognition/train/Image_8197.jpg  \n",
            "  inflating: Human Action Recognition/train/Image_8198.jpg  \n",
            "  inflating: Human Action Recognition/train/Image_8199.jpg  \n",
            "  inflating: Human Action Recognition/train/Image_82.jpg  \n",
            "  inflating: Human Action Recognition/train/Image_820.jpg  \n",
            "  inflating: Human Action Recognition/train/Image_8200.jpg  \n",
            "  inflating: Human Action Recognition/train/Image_8201.jpg  \n",
            "  inflating: Human Action Recognition/train/Image_8202.jpg  \n",
            "  inflating: Human Action Recognition/train/Image_8203.jpg  \n",
            "  inflating: Human Action Recognition/train/Image_8204.jpg  \n",
            "  inflating: Human Action Recognition/train/Image_8205.jpg  \n",
            "  inflating: Human Action Recognition/train/Image_8206.jpg  \n",
            "  inflating: Human Action Recognition/train/Image_8207.jpg  \n",
            "  inflating: Human Action Recognition/train/Image_8208.jpg  \n",
            "  inflating: Human Action Recognition/train/Image_8209.jpg  \n",
            "  inflating: Human Action Recognition/train/Image_821.jpg  \n",
            "  inflating: Human Action Recognition/train/Image_8210.jpg  \n",
            "  inflating: Human Action Recognition/train/Image_8211.jpg  \n",
            "  inflating: Human Action Recognition/train/Image_8212.jpg  \n",
            "  inflating: Human Action Recognition/train/Image_8213.jpg  \n",
            "  inflating: Human Action Recognition/train/Image_8214.jpg  \n",
            "  inflating: Human Action Recognition/train/Image_8215.jpg  \n",
            "  inflating: Human Action Recognition/train/Image_8216.jpg  \n",
            "  inflating: Human Action Recognition/train/Image_8217.jpg  \n",
            "  inflating: Human Action Recognition/train/Image_8218.jpg  \n",
            "  inflating: Human Action Recognition/train/Image_8219.jpg  \n",
            "  inflating: Human Action Recognition/train/Image_822.jpg  \n",
            "  inflating: Human Action Recognition/train/Image_8220.jpg  \n",
            "  inflating: Human Action Recognition/train/Image_8221.jpg  \n",
            "  inflating: Human Action Recognition/train/Image_8222.jpg  \n",
            "  inflating: Human Action Recognition/train/Image_8223.jpg  \n",
            "  inflating: Human Action Recognition/train/Image_8224.jpg  \n",
            "  inflating: Human Action Recognition/train/Image_8225.jpg  \n",
            "  inflating: Human Action Recognition/train/Image_8226.jpg  \n",
            "  inflating: Human Action Recognition/train/Image_8227.jpg  \n",
            "  inflating: Human Action Recognition/train/Image_8228.jpg  \n",
            "  inflating: Human Action Recognition/train/Image_8229.jpg  \n",
            "  inflating: Human Action Recognition/train/Image_823.jpg  \n",
            "  inflating: Human Action Recognition/train/Image_8230.jpg  \n",
            "  inflating: Human Action Recognition/train/Image_8231.jpg  \n",
            "  inflating: Human Action Recognition/train/Image_8232.jpg  \n",
            "  inflating: Human Action Recognition/train/Image_8233.jpg  \n",
            "  inflating: Human Action Recognition/train/Image_8234.jpg  \n",
            "  inflating: Human Action Recognition/train/Image_8235.jpg  \n",
            "  inflating: Human Action Recognition/train/Image_8236.jpg  \n",
            "  inflating: Human Action Recognition/train/Image_8237.jpg  \n",
            "  inflating: Human Action Recognition/train/Image_8238.jpg  \n",
            "  inflating: Human Action Recognition/train/Image_8239.jpg  \n",
            "  inflating: Human Action Recognition/train/Image_824.jpg  \n",
            "  inflating: Human Action Recognition/train/Image_8240.jpg  \n",
            "  inflating: Human Action Recognition/train/Image_8241.jpg  \n",
            "  inflating: Human Action Recognition/train/Image_8242.jpg  \n",
            "  inflating: Human Action Recognition/train/Image_8243.jpg  \n",
            "  inflating: Human Action Recognition/train/Image_8244.jpg  \n",
            "  inflating: Human Action Recognition/train/Image_8245.jpg  \n",
            "  inflating: Human Action Recognition/train/Image_8246.jpg  \n",
            "  inflating: Human Action Recognition/train/Image_8247.jpg  \n",
            "  inflating: Human Action Recognition/train/Image_8248.jpg  \n",
            "  inflating: Human Action Recognition/train/Image_8249.jpg  \n",
            "  inflating: Human Action Recognition/train/Image_825.jpg  \n",
            "  inflating: Human Action Recognition/train/Image_8250.jpg  \n",
            "  inflating: Human Action Recognition/train/Image_8251.jpg  \n",
            "  inflating: Human Action Recognition/train/Image_8252.jpg  \n",
            "  inflating: Human Action Recognition/train/Image_8253.jpg  \n",
            "  inflating: Human Action Recognition/train/Image_8254.jpg  \n",
            "  inflating: Human Action Recognition/train/Image_8255.jpg  \n",
            "  inflating: Human Action Recognition/train/Image_8256.jpg  \n",
            "  inflating: Human Action Recognition/train/Image_8257.jpg  \n",
            "  inflating: Human Action Recognition/train/Image_8258.jpg  \n",
            "  inflating: Human Action Recognition/train/Image_8259.jpg  \n",
            "  inflating: Human Action Recognition/train/Image_826.jpg  \n",
            "  inflating: Human Action Recognition/train/Image_8260.jpg  \n",
            "  inflating: Human Action Recognition/train/Image_8261.jpg  \n",
            "  inflating: Human Action Recognition/train/Image_8262.jpg  \n",
            "  inflating: Human Action Recognition/train/Image_8263.jpg  \n",
            "  inflating: Human Action Recognition/train/Image_8264.jpg  \n",
            "  inflating: Human Action Recognition/train/Image_8265.jpg  \n",
            "  inflating: Human Action Recognition/train/Image_8266.jpg  \n",
            "  inflating: Human Action Recognition/train/Image_8267.jpg  \n",
            "  inflating: Human Action Recognition/train/Image_8268.jpg  \n",
            "  inflating: Human Action Recognition/train/Image_8269.jpg  \n",
            "  inflating: Human Action Recognition/train/Image_827.jpg  \n",
            "  inflating: Human Action Recognition/train/Image_8270.jpg  \n",
            "  inflating: Human Action Recognition/train/Image_8271.jpg  \n",
            "  inflating: Human Action Recognition/train/Image_8272.jpg  \n",
            "  inflating: Human Action Recognition/train/Image_8273.jpg  \n",
            "  inflating: Human Action Recognition/train/Image_8274.jpg  \n",
            "  inflating: Human Action Recognition/train/Image_8275.jpg  \n",
            "  inflating: Human Action Recognition/train/Image_8276.jpg  \n",
            "  inflating: Human Action Recognition/train/Image_8277.jpg  \n",
            "  inflating: Human Action Recognition/train/Image_8278.jpg  \n",
            "  inflating: Human Action Recognition/train/Image_8279.jpg  \n",
            "  inflating: Human Action Recognition/train/Image_828.jpg  \n",
            "  inflating: Human Action Recognition/train/Image_8280.jpg  \n",
            "  inflating: Human Action Recognition/train/Image_8281.jpg  \n",
            "  inflating: Human Action Recognition/train/Image_8282.jpg  \n",
            "  inflating: Human Action Recognition/train/Image_8283.jpg  \n",
            "  inflating: Human Action Recognition/train/Image_8284.jpg  \n",
            "  inflating: Human Action Recognition/train/Image_8285.jpg  \n",
            "  inflating: Human Action Recognition/train/Image_8286.jpg  \n",
            "  inflating: Human Action Recognition/train/Image_8287.jpg  \n",
            "  inflating: Human Action Recognition/train/Image_8288.jpg  \n",
            "  inflating: Human Action Recognition/train/Image_8289.jpg  \n",
            "  inflating: Human Action Recognition/train/Image_829.jpg  \n",
            "  inflating: Human Action Recognition/train/Image_8290.jpg  \n",
            "  inflating: Human Action Recognition/train/Image_8291.jpg  \n",
            "  inflating: Human Action Recognition/train/Image_8292.jpg  \n",
            "  inflating: Human Action Recognition/train/Image_8293.jpg  \n",
            "  inflating: Human Action Recognition/train/Image_8294.jpg  \n",
            "  inflating: Human Action Recognition/train/Image_8295.jpg  \n",
            "  inflating: Human Action Recognition/train/Image_8296.jpg  \n",
            "  inflating: Human Action Recognition/train/Image_8297.jpg  \n",
            "  inflating: Human Action Recognition/train/Image_8298.jpg  \n",
            "  inflating: Human Action Recognition/train/Image_8299.jpg  \n",
            "  inflating: Human Action Recognition/train/Image_83.jpg  \n",
            "  inflating: Human Action Recognition/train/Image_830.jpg  \n",
            "  inflating: Human Action Recognition/train/Image_8300.jpg  \n",
            "  inflating: Human Action Recognition/train/Image_8301.jpg  \n",
            "  inflating: Human Action Recognition/train/Image_8302.jpg  \n",
            "  inflating: Human Action Recognition/train/Image_8303.jpg  \n",
            "  inflating: Human Action Recognition/train/Image_8304.jpg  \n",
            "  inflating: Human Action Recognition/train/Image_8305.jpg  \n",
            "  inflating: Human Action Recognition/train/Image_8306.jpg  \n",
            "  inflating: Human Action Recognition/train/Image_8307.jpg  \n",
            "  inflating: Human Action Recognition/train/Image_8308.jpg  \n",
            "  inflating: Human Action Recognition/train/Image_8309.jpg  \n",
            "  inflating: Human Action Recognition/train/Image_831.jpg  \n",
            "  inflating: Human Action Recognition/train/Image_8310.jpg  \n",
            "  inflating: Human Action Recognition/train/Image_8311.jpg  \n",
            "  inflating: Human Action Recognition/train/Image_8312.jpg  \n",
            "  inflating: Human Action Recognition/train/Image_8313.jpg  \n",
            "  inflating: Human Action Recognition/train/Image_8314.jpg  \n",
            "  inflating: Human Action Recognition/train/Image_8315.jpg  \n",
            "  inflating: Human Action Recognition/train/Image_8316.jpg  \n",
            "  inflating: Human Action Recognition/train/Image_8317.jpg  \n",
            "  inflating: Human Action Recognition/train/Image_8318.jpg  \n",
            "  inflating: Human Action Recognition/train/Image_8319.jpg  \n",
            "  inflating: Human Action Recognition/train/Image_832.jpg  \n",
            "  inflating: Human Action Recognition/train/Image_8320.jpg  \n",
            "  inflating: Human Action Recognition/train/Image_8321.jpg  \n",
            "  inflating: Human Action Recognition/train/Image_8322.jpg  \n",
            "  inflating: Human Action Recognition/train/Image_8323.jpg  \n",
            "  inflating: Human Action Recognition/train/Image_8324.jpg  \n",
            "  inflating: Human Action Recognition/train/Image_8325.jpg  \n",
            "  inflating: Human Action Recognition/train/Image_8326.jpg  \n",
            "  inflating: Human Action Recognition/train/Image_8327.jpg  \n",
            "  inflating: Human Action Recognition/train/Image_8328.jpg  \n",
            "  inflating: Human Action Recognition/train/Image_8329.jpg  \n",
            "  inflating: Human Action Recognition/train/Image_833.jpg  \n",
            "  inflating: Human Action Recognition/train/Image_8330.jpg  \n",
            "  inflating: Human Action Recognition/train/Image_8331.jpg  \n",
            "  inflating: Human Action Recognition/train/Image_8332.jpg  \n",
            "  inflating: Human Action Recognition/train/Image_8333.jpg  \n",
            "  inflating: Human Action Recognition/train/Image_8334.jpg  \n",
            "  inflating: Human Action Recognition/train/Image_8335.jpg  \n",
            "  inflating: Human Action Recognition/train/Image_8336.jpg  \n",
            "  inflating: Human Action Recognition/train/Image_8337.jpg  \n",
            "  inflating: Human Action Recognition/train/Image_8338.jpg  \n",
            "  inflating: Human Action Recognition/train/Image_8339.jpg  \n",
            "  inflating: Human Action Recognition/train/Image_834.jpg  \n",
            "  inflating: Human Action Recognition/train/Image_8340.jpg  \n",
            "  inflating: Human Action Recognition/train/Image_8341.jpg  \n",
            "  inflating: Human Action Recognition/train/Image_8342.jpg  \n",
            "  inflating: Human Action Recognition/train/Image_8343.jpg  \n",
            "  inflating: Human Action Recognition/train/Image_8344.jpg  \n",
            "  inflating: Human Action Recognition/train/Image_8345.jpg  \n",
            "  inflating: Human Action Recognition/train/Image_8346.jpg  \n",
            "  inflating: Human Action Recognition/train/Image_8347.jpg  \n",
            "  inflating: Human Action Recognition/train/Image_8348.jpg  \n",
            "  inflating: Human Action Recognition/train/Image_8349.jpg  \n",
            "  inflating: Human Action Recognition/train/Image_835.jpg  \n",
            "  inflating: Human Action Recognition/train/Image_8350.jpg  \n",
            "  inflating: Human Action Recognition/train/Image_8351.jpg  \n",
            "  inflating: Human Action Recognition/train/Image_8352.jpg  \n",
            "  inflating: Human Action Recognition/train/Image_8353.jpg  \n",
            "  inflating: Human Action Recognition/train/Image_8354.jpg  \n",
            "  inflating: Human Action Recognition/train/Image_8355.jpg  \n",
            "  inflating: Human Action Recognition/train/Image_8356.jpg  \n",
            "  inflating: Human Action Recognition/train/Image_8357.jpg  \n",
            "  inflating: Human Action Recognition/train/Image_8358.jpg  \n",
            "  inflating: Human Action Recognition/train/Image_8359.jpg  \n",
            "  inflating: Human Action Recognition/train/Image_836.jpg  \n",
            "  inflating: Human Action Recognition/train/Image_8360.jpg  \n",
            "  inflating: Human Action Recognition/train/Image_8361.jpg  \n",
            "  inflating: Human Action Recognition/train/Image_8362.jpg  \n",
            "  inflating: Human Action Recognition/train/Image_8363.jpg  \n",
            "  inflating: Human Action Recognition/train/Image_8364.jpg  \n",
            "  inflating: Human Action Recognition/train/Image_8365.jpg  \n",
            "  inflating: Human Action Recognition/train/Image_8366.jpg  \n",
            "  inflating: Human Action Recognition/train/Image_8367.jpg  \n",
            "  inflating: Human Action Recognition/train/Image_8368.jpg  \n",
            "  inflating: Human Action Recognition/train/Image_8369.jpg  \n",
            "  inflating: Human Action Recognition/train/Image_837.jpg  \n",
            "  inflating: Human Action Recognition/train/Image_8370.jpg  \n",
            "  inflating: Human Action Recognition/train/Image_8371.jpg  \n",
            "  inflating: Human Action Recognition/train/Image_8372.jpg  \n",
            "  inflating: Human Action Recognition/train/Image_8373.jpg  \n",
            "  inflating: Human Action Recognition/train/Image_8374.jpg  \n",
            "  inflating: Human Action Recognition/train/Image_8375.jpg  \n",
            "  inflating: Human Action Recognition/train/Image_8376.jpg  \n",
            "  inflating: Human Action Recognition/train/Image_8377.jpg  \n",
            "  inflating: Human Action Recognition/train/Image_8378.jpg  \n",
            "  inflating: Human Action Recognition/train/Image_8379.jpg  \n",
            "  inflating: Human Action Recognition/train/Image_838.jpg  \n",
            "  inflating: Human Action Recognition/train/Image_8380.jpg  \n",
            "  inflating: Human Action Recognition/train/Image_8381.jpg  \n",
            "  inflating: Human Action Recognition/train/Image_8382.jpg  \n",
            "  inflating: Human Action Recognition/train/Image_8383.jpg  \n",
            "  inflating: Human Action Recognition/train/Image_8384.jpg  \n",
            "  inflating: Human Action Recognition/train/Image_8385.jpg  \n",
            "  inflating: Human Action Recognition/train/Image_8386.jpg  \n",
            "  inflating: Human Action Recognition/train/Image_8387.jpg  \n",
            "  inflating: Human Action Recognition/train/Image_8388.jpg  \n",
            "  inflating: Human Action Recognition/train/Image_8389.jpg  \n",
            "  inflating: Human Action Recognition/train/Image_839.jpg  \n",
            "  inflating: Human Action Recognition/train/Image_8390.jpg  \n",
            "  inflating: Human Action Recognition/train/Image_8391.jpg  \n",
            "  inflating: Human Action Recognition/train/Image_8392.jpg  \n",
            "  inflating: Human Action Recognition/train/Image_8393.jpg  \n",
            "  inflating: Human Action Recognition/train/Image_8394.jpg  \n",
            "  inflating: Human Action Recognition/train/Image_8395.jpg  \n",
            "  inflating: Human Action Recognition/train/Image_8396.jpg  \n",
            "  inflating: Human Action Recognition/train/Image_8397.jpg  \n",
            "  inflating: Human Action Recognition/train/Image_8398.jpg  \n",
            "  inflating: Human Action Recognition/train/Image_8399.jpg  \n",
            "  inflating: Human Action Recognition/train/Image_84.jpg  \n",
            "  inflating: Human Action Recognition/train/Image_840.jpg  \n",
            "  inflating: Human Action Recognition/train/Image_8400.jpg  \n",
            "  inflating: Human Action Recognition/train/Image_8401.jpg  \n",
            "  inflating: Human Action Recognition/train/Image_8402.jpg  \n",
            "  inflating: Human Action Recognition/train/Image_8403.jpg  \n",
            "  inflating: Human Action Recognition/train/Image_8404.jpg  \n",
            "  inflating: Human Action Recognition/train/Image_8405.jpg  \n",
            "  inflating: Human Action Recognition/train/Image_8406.jpg  \n",
            "  inflating: Human Action Recognition/train/Image_8407.jpg  \n",
            "  inflating: Human Action Recognition/train/Image_8408.jpg  \n",
            "  inflating: Human Action Recognition/train/Image_8409.jpg  \n",
            "  inflating: Human Action Recognition/train/Image_841.jpg  \n",
            "  inflating: Human Action Recognition/train/Image_8410.jpg  \n",
            "  inflating: Human Action Recognition/train/Image_8411.jpg  \n",
            "  inflating: Human Action Recognition/train/Image_8412.jpg  \n",
            "  inflating: Human Action Recognition/train/Image_8413.jpg  \n",
            "  inflating: Human Action Recognition/train/Image_8414.jpg  \n",
            "  inflating: Human Action Recognition/train/Image_8415.jpg  \n",
            "  inflating: Human Action Recognition/train/Image_8416.jpg  \n",
            "  inflating: Human Action Recognition/train/Image_8417.jpg  \n",
            "  inflating: Human Action Recognition/train/Image_8418.jpg  \n",
            "  inflating: Human Action Recognition/train/Image_8419.jpg  \n",
            "  inflating: Human Action Recognition/train/Image_842.jpg  \n",
            "  inflating: Human Action Recognition/train/Image_8420.jpg  \n",
            "  inflating: Human Action Recognition/train/Image_8421.jpg  \n",
            "  inflating: Human Action Recognition/train/Image_8422.jpg  \n",
            "  inflating: Human Action Recognition/train/Image_8423.jpg  \n",
            "  inflating: Human Action Recognition/train/Image_8424.jpg  \n",
            "  inflating: Human Action Recognition/train/Image_8425.jpg  \n",
            "  inflating: Human Action Recognition/train/Image_8426.jpg  \n",
            "  inflating: Human Action Recognition/train/Image_8427.jpg  \n",
            "  inflating: Human Action Recognition/train/Image_8428.jpg  \n",
            "  inflating: Human Action Recognition/train/Image_8429.jpg  \n",
            "  inflating: Human Action Recognition/train/Image_843.jpg  \n",
            "  inflating: Human Action Recognition/train/Image_8430.jpg  \n",
            "  inflating: Human Action Recognition/train/Image_8431.jpg  \n",
            "  inflating: Human Action Recognition/train/Image_8432.jpg  \n",
            "  inflating: Human Action Recognition/train/Image_8433.jpg  \n",
            "  inflating: Human Action Recognition/train/Image_8434.jpg  \n",
            "  inflating: Human Action Recognition/train/Image_8435.jpg  \n",
            "  inflating: Human Action Recognition/train/Image_8436.jpg  \n",
            "  inflating: Human Action Recognition/train/Image_8437.jpg  \n",
            "  inflating: Human Action Recognition/train/Image_8438.jpg  \n",
            "  inflating: Human Action Recognition/train/Image_8439.jpg  \n",
            "  inflating: Human Action Recognition/train/Image_844.jpg  \n",
            "  inflating: Human Action Recognition/train/Image_8440.jpg  \n",
            "  inflating: Human Action Recognition/train/Image_8441.jpg  \n",
            "  inflating: Human Action Recognition/train/Image_8442.jpg  \n",
            "  inflating: Human Action Recognition/train/Image_8443.jpg  \n",
            "  inflating: Human Action Recognition/train/Image_8444.jpg  \n",
            "  inflating: Human Action Recognition/train/Image_8445.jpg  \n",
            "  inflating: Human Action Recognition/train/Image_8446.jpg  \n",
            "  inflating: Human Action Recognition/train/Image_8447.jpg  \n",
            "  inflating: Human Action Recognition/train/Image_8448.jpg  \n",
            "  inflating: Human Action Recognition/train/Image_8449.jpg  \n",
            "  inflating: Human Action Recognition/train/Image_845.jpg  \n",
            "  inflating: Human Action Recognition/train/Image_8450.jpg  \n",
            "  inflating: Human Action Recognition/train/Image_8451.jpg  \n",
            "  inflating: Human Action Recognition/train/Image_8452.jpg  \n",
            "  inflating: Human Action Recognition/train/Image_8453.jpg  \n",
            "  inflating: Human Action Recognition/train/Image_8454.jpg  \n",
            "  inflating: Human Action Recognition/train/Image_8455.jpg  \n",
            "  inflating: Human Action Recognition/train/Image_8456.jpg  \n",
            "  inflating: Human Action Recognition/train/Image_8457.jpg  \n",
            "  inflating: Human Action Recognition/train/Image_8458.jpg  \n",
            "  inflating: Human Action Recognition/train/Image_8459.jpg  \n",
            "  inflating: Human Action Recognition/train/Image_846.jpg  \n",
            "  inflating: Human Action Recognition/train/Image_8460.jpg  \n",
            "  inflating: Human Action Recognition/train/Image_8461.jpg  \n",
            "  inflating: Human Action Recognition/train/Image_8462.jpg  \n",
            "  inflating: Human Action Recognition/train/Image_8463.jpg  \n",
            "  inflating: Human Action Recognition/train/Image_8464.jpg  \n",
            "  inflating: Human Action Recognition/train/Image_8465.jpg  \n",
            "  inflating: Human Action Recognition/train/Image_8466.jpg  \n",
            "  inflating: Human Action Recognition/train/Image_8467.jpg  \n",
            "  inflating: Human Action Recognition/train/Image_8468.jpg  \n",
            "  inflating: Human Action Recognition/train/Image_8469.jpg  \n",
            "  inflating: Human Action Recognition/train/Image_847.jpg  \n",
            "  inflating: Human Action Recognition/train/Image_8470.jpg  \n",
            "  inflating: Human Action Recognition/train/Image_8471.jpg  \n",
            "  inflating: Human Action Recognition/train/Image_8472.jpg  \n",
            "  inflating: Human Action Recognition/train/Image_8473.jpg  \n",
            "  inflating: Human Action Recognition/train/Image_8474.jpg  \n",
            "  inflating: Human Action Recognition/train/Image_8475.jpg  \n",
            "  inflating: Human Action Recognition/train/Image_8476.jpg  \n",
            "  inflating: Human Action Recognition/train/Image_8477.jpg  \n",
            "  inflating: Human Action Recognition/train/Image_8478.jpg  \n",
            "  inflating: Human Action Recognition/train/Image_8479.jpg  \n",
            "  inflating: Human Action Recognition/train/Image_848.jpg  \n",
            "  inflating: Human Action Recognition/train/Image_8480.jpg  \n",
            "  inflating: Human Action Recognition/train/Image_8481.jpg  \n",
            "  inflating: Human Action Recognition/train/Image_8482.jpg  \n",
            "  inflating: Human Action Recognition/train/Image_8483.jpg  \n",
            "  inflating: Human Action Recognition/train/Image_8484.jpg  \n",
            "  inflating: Human Action Recognition/train/Image_8485.jpg  \n",
            "  inflating: Human Action Recognition/train/Image_8486.jpg  \n",
            "  inflating: Human Action Recognition/train/Image_8487.jpg  \n",
            "  inflating: Human Action Recognition/train/Image_8488.jpg  \n",
            "  inflating: Human Action Recognition/train/Image_8489.jpg  \n",
            "  inflating: Human Action Recognition/train/Image_849.jpg  \n",
            "  inflating: Human Action Recognition/train/Image_8490.jpg  \n",
            "  inflating: Human Action Recognition/train/Image_8491.jpg  \n",
            "  inflating: Human Action Recognition/train/Image_8492.jpg  \n",
            "  inflating: Human Action Recognition/train/Image_8493.jpg  \n",
            "  inflating: Human Action Recognition/train/Image_8494.jpg  \n",
            "  inflating: Human Action Recognition/train/Image_8495.jpg  \n",
            "  inflating: Human Action Recognition/train/Image_8496.jpg  \n",
            "  inflating: Human Action Recognition/train/Image_8497.jpg  \n",
            "  inflating: Human Action Recognition/train/Image_8498.jpg  \n",
            "  inflating: Human Action Recognition/train/Image_8499.jpg  \n",
            "  inflating: Human Action Recognition/train/Image_85.jpg  \n",
            "  inflating: Human Action Recognition/train/Image_850.jpg  \n",
            "  inflating: Human Action Recognition/train/Image_8500.jpg  \n",
            "  inflating: Human Action Recognition/train/Image_8501.jpg  \n",
            "  inflating: Human Action Recognition/train/Image_8502.jpg  \n",
            "  inflating: Human Action Recognition/train/Image_8503.jpg  \n",
            "  inflating: Human Action Recognition/train/Image_8504.jpg  \n",
            "  inflating: Human Action Recognition/train/Image_8505.jpg  \n",
            "  inflating: Human Action Recognition/train/Image_8506.jpg  \n",
            "  inflating: Human Action Recognition/train/Image_8507.jpg  \n",
            "  inflating: Human Action Recognition/train/Image_8508.jpg  \n",
            "  inflating: Human Action Recognition/train/Image_8509.jpg  \n",
            "  inflating: Human Action Recognition/train/Image_851.jpg  \n",
            "  inflating: Human Action Recognition/train/Image_8510.jpg  \n",
            "  inflating: Human Action Recognition/train/Image_8511.jpg  \n",
            "  inflating: Human Action Recognition/train/Image_8512.jpg  \n",
            "  inflating: Human Action Recognition/train/Image_8513.jpg  \n",
            "  inflating: Human Action Recognition/train/Image_8514.jpg  \n",
            "  inflating: Human Action Recognition/train/Image_8515.jpg  \n",
            "  inflating: Human Action Recognition/train/Image_8516.jpg  \n",
            "  inflating: Human Action Recognition/train/Image_8517.jpg  \n",
            "  inflating: Human Action Recognition/train/Image_8518.jpg  \n",
            "  inflating: Human Action Recognition/train/Image_8519.jpg  \n",
            "  inflating: Human Action Recognition/train/Image_852.jpg  \n",
            "  inflating: Human Action Recognition/train/Image_8520.jpg  \n",
            "  inflating: Human Action Recognition/train/Image_8521.jpg  \n",
            "  inflating: Human Action Recognition/train/Image_8522.jpg  \n",
            "  inflating: Human Action Recognition/train/Image_8523.jpg  \n",
            "  inflating: Human Action Recognition/train/Image_8524.jpg  \n",
            "  inflating: Human Action Recognition/train/Image_8525.jpg  \n",
            "  inflating: Human Action Recognition/train/Image_8526.jpg  \n",
            "  inflating: Human Action Recognition/train/Image_8527.jpg  \n",
            "  inflating: Human Action Recognition/train/Image_8528.jpg  \n",
            "  inflating: Human Action Recognition/train/Image_8529.jpg  \n",
            "  inflating: Human Action Recognition/train/Image_853.jpg  \n",
            "  inflating: Human Action Recognition/train/Image_8530.jpg  \n",
            "  inflating: Human Action Recognition/train/Image_8531.jpg  \n",
            "  inflating: Human Action Recognition/train/Image_8532.jpg  \n",
            "  inflating: Human Action Recognition/train/Image_8533.jpg  \n",
            "  inflating: Human Action Recognition/train/Image_8534.jpg  \n",
            "  inflating: Human Action Recognition/train/Image_8535.jpg  \n",
            "  inflating: Human Action Recognition/train/Image_8536.jpg  \n",
            "  inflating: Human Action Recognition/train/Image_8537.jpg  \n",
            "  inflating: Human Action Recognition/train/Image_8538.jpg  \n",
            "  inflating: Human Action Recognition/train/Image_8539.jpg  \n",
            "  inflating: Human Action Recognition/train/Image_854.jpg  \n",
            "  inflating: Human Action Recognition/train/Image_8540.jpg  \n",
            "  inflating: Human Action Recognition/train/Image_8541.jpg  \n",
            "  inflating: Human Action Recognition/train/Image_8542.jpg  \n",
            "  inflating: Human Action Recognition/train/Image_8543.jpg  \n",
            "  inflating: Human Action Recognition/train/Image_8544.jpg  \n",
            "  inflating: Human Action Recognition/train/Image_8545.jpg  \n",
            "  inflating: Human Action Recognition/train/Image_8546.jpg  \n",
            "  inflating: Human Action Recognition/train/Image_8547.jpg  \n",
            "  inflating: Human Action Recognition/train/Image_8548.jpg  \n",
            "  inflating: Human Action Recognition/train/Image_8549.jpg  \n",
            "  inflating: Human Action Recognition/train/Image_855.jpg  \n",
            "  inflating: Human Action Recognition/train/Image_8550.jpg  \n",
            "  inflating: Human Action Recognition/train/Image_8551.jpg  \n",
            "  inflating: Human Action Recognition/train/Image_8552.jpg  \n",
            "  inflating: Human Action Recognition/train/Image_8553.jpg  \n",
            "  inflating: Human Action Recognition/train/Image_8554.jpg  \n",
            "  inflating: Human Action Recognition/train/Image_8555.jpg  \n",
            "  inflating: Human Action Recognition/train/Image_8556.jpg  \n",
            "  inflating: Human Action Recognition/train/Image_8557.jpg  \n",
            "  inflating: Human Action Recognition/train/Image_8558.jpg  \n",
            "  inflating: Human Action Recognition/train/Image_8559.jpg  \n",
            "  inflating: Human Action Recognition/train/Image_856.jpg  \n",
            "  inflating: Human Action Recognition/train/Image_8560.jpg  \n",
            "  inflating: Human Action Recognition/train/Image_8561.jpg  \n",
            "  inflating: Human Action Recognition/train/Image_8562.jpg  \n",
            "  inflating: Human Action Recognition/train/Image_8563.jpg  \n",
            "  inflating: Human Action Recognition/train/Image_8564.jpg  \n",
            "  inflating: Human Action Recognition/train/Image_8565.jpg  \n",
            "  inflating: Human Action Recognition/train/Image_8566.jpg  \n",
            "  inflating: Human Action Recognition/train/Image_8567.jpg  \n",
            "  inflating: Human Action Recognition/train/Image_8568.jpg  \n",
            "  inflating: Human Action Recognition/train/Image_8569.jpg  \n",
            "  inflating: Human Action Recognition/train/Image_857.jpg  \n",
            "  inflating: Human Action Recognition/train/Image_8570.jpg  \n",
            "  inflating: Human Action Recognition/train/Image_8571.jpg  \n",
            "  inflating: Human Action Recognition/train/Image_8572.jpg  \n",
            "  inflating: Human Action Recognition/train/Image_8573.jpg  \n",
            "  inflating: Human Action Recognition/train/Image_8574.jpg  \n",
            "  inflating: Human Action Recognition/train/Image_8575.jpg  \n",
            "  inflating: Human Action Recognition/train/Image_8576.jpg  \n",
            "  inflating: Human Action Recognition/train/Image_8577.jpg  \n",
            "  inflating: Human Action Recognition/train/Image_8578.jpg  \n",
            "  inflating: Human Action Recognition/train/Image_8579.jpg  \n",
            "  inflating: Human Action Recognition/train/Image_858.jpg  \n",
            "  inflating: Human Action Recognition/train/Image_8580.jpg  \n",
            "  inflating: Human Action Recognition/train/Image_8581.jpg  \n",
            "  inflating: Human Action Recognition/train/Image_8582.jpg  \n",
            "  inflating: Human Action Recognition/train/Image_8583.jpg  \n",
            "  inflating: Human Action Recognition/train/Image_8584.jpg  \n",
            "  inflating: Human Action Recognition/train/Image_8585.jpg  \n",
            "  inflating: Human Action Recognition/train/Image_8586.jpg  \n",
            "  inflating: Human Action Recognition/train/Image_8587.jpg  \n",
            "  inflating: Human Action Recognition/train/Image_8588.jpg  \n",
            "  inflating: Human Action Recognition/train/Image_8589.jpg  \n",
            "  inflating: Human Action Recognition/train/Image_859.jpg  \n",
            "  inflating: Human Action Recognition/train/Image_8590.jpg  \n",
            "  inflating: Human Action Recognition/train/Image_8591.jpg  \n",
            "  inflating: Human Action Recognition/train/Image_8592.jpg  \n",
            "  inflating: Human Action Recognition/train/Image_8593.jpg  \n",
            "  inflating: Human Action Recognition/train/Image_8594.jpg  \n",
            "  inflating: Human Action Recognition/train/Image_8595.jpg  \n",
            "  inflating: Human Action Recognition/train/Image_8596.jpg  \n",
            "  inflating: Human Action Recognition/train/Image_8597.jpg  \n",
            "  inflating: Human Action Recognition/train/Image_8598.jpg  \n",
            "  inflating: Human Action Recognition/train/Image_8599.jpg  \n",
            "  inflating: Human Action Recognition/train/Image_86.jpg  \n",
            "  inflating: Human Action Recognition/train/Image_860.jpg  \n",
            "  inflating: Human Action Recognition/train/Image_8600.jpg  \n",
            "  inflating: Human Action Recognition/train/Image_8601.jpg  \n",
            "  inflating: Human Action Recognition/train/Image_8602.jpg  \n",
            "  inflating: Human Action Recognition/train/Image_8603.jpg  \n",
            "  inflating: Human Action Recognition/train/Image_8604.jpg  \n",
            "  inflating: Human Action Recognition/train/Image_8605.jpg  \n",
            "  inflating: Human Action Recognition/train/Image_8606.jpg  \n",
            "  inflating: Human Action Recognition/train/Image_8607.jpg  \n",
            "  inflating: Human Action Recognition/train/Image_8608.jpg  \n",
            "  inflating: Human Action Recognition/train/Image_8609.jpg  \n",
            "  inflating: Human Action Recognition/train/Image_861.jpg  \n",
            "  inflating: Human Action Recognition/train/Image_8610.jpg  \n",
            "  inflating: Human Action Recognition/train/Image_8611.jpg  \n",
            "  inflating: Human Action Recognition/train/Image_8612.jpg  \n",
            "  inflating: Human Action Recognition/train/Image_8613.jpg  \n",
            "  inflating: Human Action Recognition/train/Image_8614.jpg  \n",
            "  inflating: Human Action Recognition/train/Image_8615.jpg  \n",
            "  inflating: Human Action Recognition/train/Image_8616.jpg  \n",
            "  inflating: Human Action Recognition/train/Image_8617.jpg  \n",
            "  inflating: Human Action Recognition/train/Image_8618.jpg  \n",
            "  inflating: Human Action Recognition/train/Image_8619.jpg  \n",
            "  inflating: Human Action Recognition/train/Image_862.jpg  \n",
            "  inflating: Human Action Recognition/train/Image_8620.jpg  \n",
            "  inflating: Human Action Recognition/train/Image_8621.jpg  \n",
            "  inflating: Human Action Recognition/train/Image_8622.jpg  \n",
            "  inflating: Human Action Recognition/train/Image_8623.jpg  \n",
            "  inflating: Human Action Recognition/train/Image_8624.jpg  \n",
            "  inflating: Human Action Recognition/train/Image_8625.jpg  \n",
            "  inflating: Human Action Recognition/train/Image_8626.jpg  \n",
            "  inflating: Human Action Recognition/train/Image_8627.jpg  \n",
            "  inflating: Human Action Recognition/train/Image_8628.jpg  \n",
            "  inflating: Human Action Recognition/train/Image_8629.jpg  \n",
            "  inflating: Human Action Recognition/train/Image_863.jpg  \n",
            "  inflating: Human Action Recognition/train/Image_8630.jpg  \n",
            "  inflating: Human Action Recognition/train/Image_8631.jpg  \n",
            "  inflating: Human Action Recognition/train/Image_8632.jpg  \n",
            "  inflating: Human Action Recognition/train/Image_8633.jpg  \n",
            "  inflating: Human Action Recognition/train/Image_8634.jpg  \n",
            "  inflating: Human Action Recognition/train/Image_8635.jpg  \n",
            "  inflating: Human Action Recognition/train/Image_8636.jpg  \n",
            "  inflating: Human Action Recognition/train/Image_8637.jpg  \n",
            "  inflating: Human Action Recognition/train/Image_8638.jpg  \n",
            "  inflating: Human Action Recognition/train/Image_8639.jpg  \n",
            "  inflating: Human Action Recognition/train/Image_864.jpg  \n",
            "  inflating: Human Action Recognition/train/Image_8640.jpg  \n",
            "  inflating: Human Action Recognition/train/Image_8641.jpg  \n",
            "  inflating: Human Action Recognition/train/Image_8642.jpg  \n",
            "  inflating: Human Action Recognition/train/Image_8643.jpg  \n",
            "  inflating: Human Action Recognition/train/Image_8644.jpg  \n",
            "  inflating: Human Action Recognition/train/Image_8645.jpg  \n",
            "  inflating: Human Action Recognition/train/Image_8646.jpg  \n",
            "  inflating: Human Action Recognition/train/Image_8647.jpg  \n",
            "  inflating: Human Action Recognition/train/Image_8648.jpg  \n",
            "  inflating: Human Action Recognition/train/Image_8649.jpg  \n",
            "  inflating: Human Action Recognition/train/Image_865.jpg  \n",
            "  inflating: Human Action Recognition/train/Image_8650.jpg  \n",
            "  inflating: Human Action Recognition/train/Image_8651.jpg  \n",
            "  inflating: Human Action Recognition/train/Image_8652.jpg  \n",
            "  inflating: Human Action Recognition/train/Image_8653.jpg  \n",
            "  inflating: Human Action Recognition/train/Image_8654.jpg  \n",
            "  inflating: Human Action Recognition/train/Image_8655.jpg  \n",
            "  inflating: Human Action Recognition/train/Image_8656.jpg  \n",
            "  inflating: Human Action Recognition/train/Image_8657.jpg  \n",
            "  inflating: Human Action Recognition/train/Image_8658.jpg  \n",
            "  inflating: Human Action Recognition/train/Image_8659.jpg  \n",
            "  inflating: Human Action Recognition/train/Image_866.jpg  \n",
            "  inflating: Human Action Recognition/train/Image_8660.jpg  \n",
            "  inflating: Human Action Recognition/train/Image_8661.jpg  \n",
            "  inflating: Human Action Recognition/train/Image_8662.jpg  \n",
            "  inflating: Human Action Recognition/train/Image_8663.jpg  \n",
            "  inflating: Human Action Recognition/train/Image_8664.jpg  \n",
            "  inflating: Human Action Recognition/train/Image_8665.jpg  \n",
            "  inflating: Human Action Recognition/train/Image_8666.jpg  \n",
            "  inflating: Human Action Recognition/train/Image_8667.jpg  \n",
            "  inflating: Human Action Recognition/train/Image_8668.jpg  \n",
            "  inflating: Human Action Recognition/train/Image_8669.jpg  \n",
            "  inflating: Human Action Recognition/train/Image_867.jpg  \n",
            "  inflating: Human Action Recognition/train/Image_8670.jpg  \n",
            "  inflating: Human Action Recognition/train/Image_8671.jpg  \n",
            "  inflating: Human Action Recognition/train/Image_8672.jpg  \n",
            "  inflating: Human Action Recognition/train/Image_8673.jpg  \n",
            "  inflating: Human Action Recognition/train/Image_8674.jpg  \n",
            "  inflating: Human Action Recognition/train/Image_8675.jpg  \n",
            "  inflating: Human Action Recognition/train/Image_8676.jpg  \n",
            "  inflating: Human Action Recognition/train/Image_8677.jpg  \n",
            "  inflating: Human Action Recognition/train/Image_8678.jpg  \n",
            "  inflating: Human Action Recognition/train/Image_8679.jpg  \n",
            "  inflating: Human Action Recognition/train/Image_868.jpg  \n",
            "  inflating: Human Action Recognition/train/Image_8680.jpg  \n",
            "  inflating: Human Action Recognition/train/Image_8681.jpg  \n",
            "  inflating: Human Action Recognition/train/Image_8682.jpg  \n",
            "  inflating: Human Action Recognition/train/Image_8683.jpg  \n",
            "  inflating: Human Action Recognition/train/Image_8684.jpg  \n",
            "  inflating: Human Action Recognition/train/Image_8685.jpg  \n",
            "  inflating: Human Action Recognition/train/Image_8686.jpg  \n",
            "  inflating: Human Action Recognition/train/Image_8687.jpg  \n",
            "  inflating: Human Action Recognition/train/Image_8688.jpg  \n",
            "  inflating: Human Action Recognition/train/Image_8689.jpg  \n",
            "  inflating: Human Action Recognition/train/Image_869.jpg  \n",
            "  inflating: Human Action Recognition/train/Image_8690.jpg  \n",
            "  inflating: Human Action Recognition/train/Image_8691.jpg  \n",
            "  inflating: Human Action Recognition/train/Image_8692.jpg  \n",
            "  inflating: Human Action Recognition/train/Image_8693.jpg  \n",
            "  inflating: Human Action Recognition/train/Image_8694.jpg  \n",
            "  inflating: Human Action Recognition/train/Image_8695.jpg  \n",
            "  inflating: Human Action Recognition/train/Image_8696.jpg  \n",
            "  inflating: Human Action Recognition/train/Image_8697.jpg  \n",
            "  inflating: Human Action Recognition/train/Image_8698.jpg  \n",
            "  inflating: Human Action Recognition/train/Image_8699.jpg  \n",
            "  inflating: Human Action Recognition/train/Image_87.jpg  \n",
            "  inflating: Human Action Recognition/train/Image_870.jpg  \n",
            "  inflating: Human Action Recognition/train/Image_8700.jpg  \n",
            "  inflating: Human Action Recognition/train/Image_8701.jpg  \n",
            "  inflating: Human Action Recognition/train/Image_8702.jpg  \n",
            "  inflating: Human Action Recognition/train/Image_8703.jpg  \n",
            "  inflating: Human Action Recognition/train/Image_8704.jpg  \n",
            "  inflating: Human Action Recognition/train/Image_8705.jpg  \n",
            "  inflating: Human Action Recognition/train/Image_8706.jpg  \n",
            "  inflating: Human Action Recognition/train/Image_8707.jpg  \n",
            "  inflating: Human Action Recognition/train/Image_8708.jpg  \n",
            "  inflating: Human Action Recognition/train/Image_8709.jpg  \n",
            "  inflating: Human Action Recognition/train/Image_871.jpg  \n",
            "  inflating: Human Action Recognition/train/Image_8710.jpg  \n",
            "  inflating: Human Action Recognition/train/Image_8711.jpg  \n",
            "  inflating: Human Action Recognition/train/Image_8712.jpg  \n",
            "  inflating: Human Action Recognition/train/Image_8713.jpg  \n",
            "  inflating: Human Action Recognition/train/Image_8714.jpg  \n",
            "  inflating: Human Action Recognition/train/Image_8715.jpg  \n",
            "  inflating: Human Action Recognition/train/Image_8716.jpg  \n",
            "  inflating: Human Action Recognition/train/Image_8717.jpg  \n",
            "  inflating: Human Action Recognition/train/Image_8718.jpg  \n",
            "  inflating: Human Action Recognition/train/Image_8719.jpg  \n",
            "  inflating: Human Action Recognition/train/Image_872.jpg  \n",
            "  inflating: Human Action Recognition/train/Image_8720.jpg  \n",
            "  inflating: Human Action Recognition/train/Image_8721.jpg  \n",
            "  inflating: Human Action Recognition/train/Image_8722.jpg  \n",
            "  inflating: Human Action Recognition/train/Image_8723.jpg  \n",
            "  inflating: Human Action Recognition/train/Image_8724.jpg  \n",
            "  inflating: Human Action Recognition/train/Image_8725.jpg  \n",
            "  inflating: Human Action Recognition/train/Image_8726.jpg  \n",
            "  inflating: Human Action Recognition/train/Image_8727.jpg  \n",
            "  inflating: Human Action Recognition/train/Image_8728.jpg  \n",
            "  inflating: Human Action Recognition/train/Image_8729.jpg  \n",
            "  inflating: Human Action Recognition/train/Image_873.jpg  \n",
            "  inflating: Human Action Recognition/train/Image_8730.jpg  \n",
            "  inflating: Human Action Recognition/train/Image_8731.jpg  \n",
            "  inflating: Human Action Recognition/train/Image_8732.jpg  \n",
            "  inflating: Human Action Recognition/train/Image_8733.jpg  \n",
            "  inflating: Human Action Recognition/train/Image_8734.jpg  \n",
            "  inflating: Human Action Recognition/train/Image_8735.jpg  \n",
            "  inflating: Human Action Recognition/train/Image_8736.jpg  \n",
            "  inflating: Human Action Recognition/train/Image_8737.jpg  \n",
            "  inflating: Human Action Recognition/train/Image_8738.jpg  \n",
            "  inflating: Human Action Recognition/train/Image_8739.jpg  \n",
            "  inflating: Human Action Recognition/train/Image_874.jpg  \n",
            "  inflating: Human Action Recognition/train/Image_8740.jpg  \n",
            "  inflating: Human Action Recognition/train/Image_8741.jpg  \n",
            "  inflating: Human Action Recognition/train/Image_8742.jpg  \n",
            "  inflating: Human Action Recognition/train/Image_8743.jpg  \n",
            "  inflating: Human Action Recognition/train/Image_8744.jpg  \n",
            "  inflating: Human Action Recognition/train/Image_8745.jpg  \n",
            "  inflating: Human Action Recognition/train/Image_8746.jpg  \n",
            "  inflating: Human Action Recognition/train/Image_8747.jpg  \n",
            "  inflating: Human Action Recognition/train/Image_8748.jpg  \n",
            "  inflating: Human Action Recognition/train/Image_8749.jpg  \n",
            "  inflating: Human Action Recognition/train/Image_875.jpg  \n",
            "  inflating: Human Action Recognition/train/Image_8750.jpg  \n",
            "  inflating: Human Action Recognition/train/Image_8751.jpg  \n",
            "  inflating: Human Action Recognition/train/Image_8752.jpg  \n",
            "  inflating: Human Action Recognition/train/Image_8753.jpg  \n",
            "  inflating: Human Action Recognition/train/Image_8754.jpg  \n",
            "  inflating: Human Action Recognition/train/Image_8755.jpg  \n",
            "  inflating: Human Action Recognition/train/Image_8756.jpg  \n",
            "  inflating: Human Action Recognition/train/Image_8757.jpg  \n",
            "  inflating: Human Action Recognition/train/Image_8758.jpg  \n",
            "  inflating: Human Action Recognition/train/Image_8759.jpg  \n",
            "  inflating: Human Action Recognition/train/Image_876.jpg  \n",
            "  inflating: Human Action Recognition/train/Image_8760.jpg  \n",
            "  inflating: Human Action Recognition/train/Image_8761.jpg  \n",
            "  inflating: Human Action Recognition/train/Image_8762.jpg  \n",
            "  inflating: Human Action Recognition/train/Image_8763.jpg  \n",
            "  inflating: Human Action Recognition/train/Image_8764.jpg  \n",
            "  inflating: Human Action Recognition/train/Image_8765.jpg  \n",
            "  inflating: Human Action Recognition/train/Image_8766.jpg  \n",
            "  inflating: Human Action Recognition/train/Image_8767.jpg  \n",
            "  inflating: Human Action Recognition/train/Image_8768.jpg  \n",
            "  inflating: Human Action Recognition/train/Image_8769.jpg  \n",
            "  inflating: Human Action Recognition/train/Image_877.jpg  \n",
            "  inflating: Human Action Recognition/train/Image_8770.jpg  \n",
            "  inflating: Human Action Recognition/train/Image_8771.jpg  \n",
            "  inflating: Human Action Recognition/train/Image_8772.jpg  \n",
            "  inflating: Human Action Recognition/train/Image_8773.jpg  \n",
            "  inflating: Human Action Recognition/train/Image_8774.jpg  \n",
            "  inflating: Human Action Recognition/train/Image_8775.jpg  \n",
            "  inflating: Human Action Recognition/train/Image_8776.jpg  \n",
            "  inflating: Human Action Recognition/train/Image_8777.jpg  \n",
            "  inflating: Human Action Recognition/train/Image_8778.jpg  \n",
            "  inflating: Human Action Recognition/train/Image_8779.jpg  \n",
            "  inflating: Human Action Recognition/train/Image_878.jpg  \n",
            "  inflating: Human Action Recognition/train/Image_8780.jpg  \n",
            "  inflating: Human Action Recognition/train/Image_8781.jpg  \n",
            "  inflating: Human Action Recognition/train/Image_8782.jpg  \n",
            "  inflating: Human Action Recognition/train/Image_8783.jpg  \n",
            "  inflating: Human Action Recognition/train/Image_8784.jpg  \n",
            "  inflating: Human Action Recognition/train/Image_8785.jpg  \n",
            "  inflating: Human Action Recognition/train/Image_8786.jpg  \n",
            "  inflating: Human Action Recognition/train/Image_8787.jpg  \n",
            "  inflating: Human Action Recognition/train/Image_8788.jpg  \n",
            "  inflating: Human Action Recognition/train/Image_8789.jpg  \n",
            "  inflating: Human Action Recognition/train/Image_879.jpg  \n",
            "  inflating: Human Action Recognition/train/Image_8790.jpg  \n",
            "  inflating: Human Action Recognition/train/Image_8791.jpg  \n",
            "  inflating: Human Action Recognition/train/Image_8792.jpg  \n",
            "  inflating: Human Action Recognition/train/Image_8793.jpg  \n",
            "  inflating: Human Action Recognition/train/Image_8794.jpg  \n",
            "  inflating: Human Action Recognition/train/Image_8795.jpg  \n",
            "  inflating: Human Action Recognition/train/Image_8796.jpg  \n",
            "  inflating: Human Action Recognition/train/Image_8797.jpg  \n",
            "  inflating: Human Action Recognition/train/Image_8798.jpg  \n",
            "  inflating: Human Action Recognition/train/Image_8799.jpg  \n",
            "  inflating: Human Action Recognition/train/Image_88.jpg  \n",
            "  inflating: Human Action Recognition/train/Image_880.jpg  \n",
            "  inflating: Human Action Recognition/train/Image_8800.jpg  \n",
            "  inflating: Human Action Recognition/train/Image_8801.jpg  \n",
            "  inflating: Human Action Recognition/train/Image_8802.jpg  \n",
            "  inflating: Human Action Recognition/train/Image_8803.jpg  \n",
            "  inflating: Human Action Recognition/train/Image_8804.jpg  \n",
            "  inflating: Human Action Recognition/train/Image_8805.jpg  \n",
            "  inflating: Human Action Recognition/train/Image_8806.jpg  \n",
            "  inflating: Human Action Recognition/train/Image_8807.jpg  \n",
            "  inflating: Human Action Recognition/train/Image_8808.jpg  \n",
            "  inflating: Human Action Recognition/train/Image_8809.jpg  \n",
            "  inflating: Human Action Recognition/train/Image_881.jpg  \n",
            "  inflating: Human Action Recognition/train/Image_8810.jpg  \n",
            "  inflating: Human Action Recognition/train/Image_8811.jpg  \n",
            "  inflating: Human Action Recognition/train/Image_8812.jpg  \n",
            "  inflating: Human Action Recognition/train/Image_8813.jpg  \n",
            "  inflating: Human Action Recognition/train/Image_8814.jpg  \n",
            "  inflating: Human Action Recognition/train/Image_8815.jpg  \n",
            "  inflating: Human Action Recognition/train/Image_8816.jpg  \n",
            "  inflating: Human Action Recognition/train/Image_8817.jpg  \n",
            "  inflating: Human Action Recognition/train/Image_8818.jpg  \n",
            "  inflating: Human Action Recognition/train/Image_8819.jpg  \n",
            "  inflating: Human Action Recognition/train/Image_882.jpg  \n",
            "  inflating: Human Action Recognition/train/Image_8820.jpg  \n",
            "  inflating: Human Action Recognition/train/Image_8821.jpg  \n",
            "  inflating: Human Action Recognition/train/Image_8822.jpg  \n",
            "  inflating: Human Action Recognition/train/Image_8823.jpg  \n",
            "  inflating: Human Action Recognition/train/Image_8824.jpg  \n",
            "  inflating: Human Action Recognition/train/Image_8825.jpg  \n",
            "  inflating: Human Action Recognition/train/Image_8826.jpg  \n",
            "  inflating: Human Action Recognition/train/Image_8827.jpg  \n",
            "  inflating: Human Action Recognition/train/Image_8828.jpg  \n",
            "  inflating: Human Action Recognition/train/Image_8829.jpg  \n",
            "  inflating: Human Action Recognition/train/Image_883.jpg  \n",
            "  inflating: Human Action Recognition/train/Image_8830.jpg  \n",
            "  inflating: Human Action Recognition/train/Image_8831.jpg  \n",
            "  inflating: Human Action Recognition/train/Image_8832.jpg  \n",
            "  inflating: Human Action Recognition/train/Image_8833.jpg  \n",
            "  inflating: Human Action Recognition/train/Image_8834.jpg  \n",
            "  inflating: Human Action Recognition/train/Image_8835.jpg  \n",
            "  inflating: Human Action Recognition/train/Image_8836.jpg  \n",
            "  inflating: Human Action Recognition/train/Image_8837.jpg  \n",
            "  inflating: Human Action Recognition/train/Image_8838.jpg  \n",
            "  inflating: Human Action Recognition/train/Image_8839.jpg  \n",
            "  inflating: Human Action Recognition/train/Image_884.jpg  \n",
            "  inflating: Human Action Recognition/train/Image_8840.jpg  \n",
            "  inflating: Human Action Recognition/train/Image_8841.jpg  \n",
            "  inflating: Human Action Recognition/train/Image_8842.jpg  \n",
            "  inflating: Human Action Recognition/train/Image_8843.jpg  \n",
            "  inflating: Human Action Recognition/train/Image_8844.jpg  \n",
            "  inflating: Human Action Recognition/train/Image_8845.jpg  \n",
            "  inflating: Human Action Recognition/train/Image_8846.jpg  \n",
            "  inflating: Human Action Recognition/train/Image_8847.jpg  \n",
            "  inflating: Human Action Recognition/train/Image_8848.jpg  \n",
            "  inflating: Human Action Recognition/train/Image_8849.jpg  \n",
            "  inflating: Human Action Recognition/train/Image_885.jpg  \n",
            "  inflating: Human Action Recognition/train/Image_8850.jpg  \n",
            "  inflating: Human Action Recognition/train/Image_8851.jpg  \n",
            "  inflating: Human Action Recognition/train/Image_8852.jpg  \n",
            "  inflating: Human Action Recognition/train/Image_8853.jpg  \n",
            "  inflating: Human Action Recognition/train/Image_8854.jpg  \n",
            "  inflating: Human Action Recognition/train/Image_8855.jpg  \n",
            "  inflating: Human Action Recognition/train/Image_8856.jpg  \n",
            "  inflating: Human Action Recognition/train/Image_8857.jpg  \n",
            "  inflating: Human Action Recognition/train/Image_8858.jpg  \n",
            "  inflating: Human Action Recognition/train/Image_8859.jpg  \n",
            "  inflating: Human Action Recognition/train/Image_886.jpg  \n",
            "  inflating: Human Action Recognition/train/Image_8860.jpg  \n",
            "  inflating: Human Action Recognition/train/Image_8861.jpg  \n",
            "  inflating: Human Action Recognition/train/Image_8862.jpg  \n",
            "  inflating: Human Action Recognition/train/Image_8863.jpg  \n",
            "  inflating: Human Action Recognition/train/Image_8864.jpg  \n",
            "  inflating: Human Action Recognition/train/Image_8865.jpg  \n",
            "  inflating: Human Action Recognition/train/Image_8866.jpg  \n",
            "  inflating: Human Action Recognition/train/Image_8867.jpg  \n",
            "  inflating: Human Action Recognition/train/Image_8868.jpg  \n",
            "  inflating: Human Action Recognition/train/Image_8869.jpg  \n",
            "  inflating: Human Action Recognition/train/Image_887.jpg  \n",
            "  inflating: Human Action Recognition/train/Image_8870.jpg  \n",
            "  inflating: Human Action Recognition/train/Image_8871.jpg  \n",
            "  inflating: Human Action Recognition/train/Image_8872.jpg  \n",
            "  inflating: Human Action Recognition/train/Image_8873.jpg  \n",
            "  inflating: Human Action Recognition/train/Image_8874.jpg  \n",
            "  inflating: Human Action Recognition/train/Image_8875.jpg  \n",
            "  inflating: Human Action Recognition/train/Image_8876.jpg  \n",
            "  inflating: Human Action Recognition/train/Image_8877.jpg  \n",
            "  inflating: Human Action Recognition/train/Image_8878.jpg  \n",
            "  inflating: Human Action Recognition/train/Image_8879.jpg  \n",
            "  inflating: Human Action Recognition/train/Image_888.jpg  \n",
            "  inflating: Human Action Recognition/train/Image_8880.jpg  \n",
            "  inflating: Human Action Recognition/train/Image_8881.jpg  \n",
            "  inflating: Human Action Recognition/train/Image_8882.jpg  \n",
            "  inflating: Human Action Recognition/train/Image_8883.jpg  \n",
            "  inflating: Human Action Recognition/train/Image_8884.jpg  \n",
            "  inflating: Human Action Recognition/train/Image_8885.jpg  \n",
            "  inflating: Human Action Recognition/train/Image_8886.jpg  \n",
            "  inflating: Human Action Recognition/train/Image_8887.jpg  \n",
            "  inflating: Human Action Recognition/train/Image_8888.jpg  \n",
            "  inflating: Human Action Recognition/train/Image_8889.jpg  \n",
            "  inflating: Human Action Recognition/train/Image_889.jpg  \n",
            "  inflating: Human Action Recognition/train/Image_8890.jpg  \n",
            "  inflating: Human Action Recognition/train/Image_8891.jpg  \n",
            "  inflating: Human Action Recognition/train/Image_8892.jpg  \n",
            "  inflating: Human Action Recognition/train/Image_8893.jpg  \n",
            "  inflating: Human Action Recognition/train/Image_8894.jpg  \n",
            "  inflating: Human Action Recognition/train/Image_8895.jpg  \n",
            "  inflating: Human Action Recognition/train/Image_8896.jpg  \n",
            "  inflating: Human Action Recognition/train/Image_8897.jpg  \n",
            "  inflating: Human Action Recognition/train/Image_8898.jpg  \n",
            "  inflating: Human Action Recognition/train/Image_8899.jpg  \n",
            "  inflating: Human Action Recognition/train/Image_89.jpg  \n",
            "  inflating: Human Action Recognition/train/Image_890.jpg  \n",
            "  inflating: Human Action Recognition/train/Image_8900.jpg  \n",
            "  inflating: Human Action Recognition/train/Image_8901.jpg  \n",
            "  inflating: Human Action Recognition/train/Image_8902.jpg  \n",
            "  inflating: Human Action Recognition/train/Image_8903.jpg  \n",
            "  inflating: Human Action Recognition/train/Image_8904.jpg  \n",
            "  inflating: Human Action Recognition/train/Image_8905.jpg  \n",
            "  inflating: Human Action Recognition/train/Image_8906.jpg  \n",
            "  inflating: Human Action Recognition/train/Image_8907.jpg  \n",
            "  inflating: Human Action Recognition/train/Image_8908.jpg  \n",
            "  inflating: Human Action Recognition/train/Image_8909.jpg  \n",
            "  inflating: Human Action Recognition/train/Image_891.jpg  \n",
            "  inflating: Human Action Recognition/train/Image_8910.jpg  \n",
            "  inflating: Human Action Recognition/train/Image_8911.jpg  \n",
            "  inflating: Human Action Recognition/train/Image_8912.jpg  \n",
            "  inflating: Human Action Recognition/train/Image_8913.jpg  \n",
            "  inflating: Human Action Recognition/train/Image_8914.jpg  \n",
            "  inflating: Human Action Recognition/train/Image_8915.jpg  \n",
            "  inflating: Human Action Recognition/train/Image_8916.jpg  \n",
            "  inflating: Human Action Recognition/train/Image_8917.jpg  \n",
            "  inflating: Human Action Recognition/train/Image_8918.jpg  \n",
            "  inflating: Human Action Recognition/train/Image_8919.jpg  \n",
            "  inflating: Human Action Recognition/train/Image_892.jpg  \n",
            "  inflating: Human Action Recognition/train/Image_8920.jpg  \n",
            "  inflating: Human Action Recognition/train/Image_8921.jpg  \n",
            "  inflating: Human Action Recognition/train/Image_8922.jpg  \n",
            "  inflating: Human Action Recognition/train/Image_8923.jpg  \n",
            "  inflating: Human Action Recognition/train/Image_8924.jpg  \n",
            "  inflating: Human Action Recognition/train/Image_8925.jpg  \n",
            "  inflating: Human Action Recognition/train/Image_8926.jpg  \n",
            "  inflating: Human Action Recognition/train/Image_8927.jpg  \n",
            "  inflating: Human Action Recognition/train/Image_8928.jpg  \n",
            "  inflating: Human Action Recognition/train/Image_8929.jpg  \n",
            "  inflating: Human Action Recognition/train/Image_893.jpg  \n",
            "  inflating: Human Action Recognition/train/Image_8930.jpg  \n",
            "  inflating: Human Action Recognition/train/Image_8931.jpg  \n",
            "  inflating: Human Action Recognition/train/Image_8932.jpg  \n",
            "  inflating: Human Action Recognition/train/Image_8933.jpg  \n",
            "  inflating: Human Action Recognition/train/Image_8934.jpg  \n",
            "  inflating: Human Action Recognition/train/Image_8935.jpg  \n",
            "  inflating: Human Action Recognition/train/Image_8936.jpg  \n",
            "  inflating: Human Action Recognition/train/Image_8937.jpg  \n",
            "  inflating: Human Action Recognition/train/Image_8938.jpg  \n",
            "  inflating: Human Action Recognition/train/Image_8939.jpg  \n",
            "  inflating: Human Action Recognition/train/Image_894.jpg  \n",
            "  inflating: Human Action Recognition/train/Image_8940.jpg  \n",
            "  inflating: Human Action Recognition/train/Image_8941.jpg  \n",
            "  inflating: Human Action Recognition/train/Image_8942.jpg  \n",
            "  inflating: Human Action Recognition/train/Image_8943.jpg  \n",
            "  inflating: Human Action Recognition/train/Image_8944.jpg  \n",
            "  inflating: Human Action Recognition/train/Image_8945.jpg  \n",
            "  inflating: Human Action Recognition/train/Image_8946.jpg  \n",
            "  inflating: Human Action Recognition/train/Image_8947.jpg  \n",
            "  inflating: Human Action Recognition/train/Image_8948.jpg  \n",
            "  inflating: Human Action Recognition/train/Image_8949.jpg  \n",
            "  inflating: Human Action Recognition/train/Image_895.jpg  \n",
            "  inflating: Human Action Recognition/train/Image_8950.jpg  \n",
            "  inflating: Human Action Recognition/train/Image_8951.jpg  \n",
            "  inflating: Human Action Recognition/train/Image_8952.jpg  \n",
            "  inflating: Human Action Recognition/train/Image_8953.jpg  \n",
            "  inflating: Human Action Recognition/train/Image_8954.jpg  \n",
            "  inflating: Human Action Recognition/train/Image_8955.jpg  \n",
            "  inflating: Human Action Recognition/train/Image_8956.jpg  \n",
            "  inflating: Human Action Recognition/train/Image_8957.jpg  \n",
            "  inflating: Human Action Recognition/train/Image_8958.jpg  \n",
            "  inflating: Human Action Recognition/train/Image_8959.jpg  \n",
            "  inflating: Human Action Recognition/train/Image_896.jpg  \n",
            "  inflating: Human Action Recognition/train/Image_8960.jpg  \n",
            "  inflating: Human Action Recognition/train/Image_8961.jpg  \n",
            "  inflating: Human Action Recognition/train/Image_8962.jpg  \n",
            "  inflating: Human Action Recognition/train/Image_8963.jpg  \n",
            "  inflating: Human Action Recognition/train/Image_8964.jpg  \n",
            "  inflating: Human Action Recognition/train/Image_8965.jpg  \n",
            "  inflating: Human Action Recognition/train/Image_8966.jpg  \n",
            "  inflating: Human Action Recognition/train/Image_8967.jpg  \n",
            "  inflating: Human Action Recognition/train/Image_8968.jpg  \n",
            "  inflating: Human Action Recognition/train/Image_8969.jpg  \n",
            "  inflating: Human Action Recognition/train/Image_897.jpg  \n",
            "  inflating: Human Action Recognition/train/Image_8970.jpg  \n",
            "  inflating: Human Action Recognition/train/Image_8971.jpg  \n",
            "  inflating: Human Action Recognition/train/Image_8972.jpg  \n",
            "  inflating: Human Action Recognition/train/Image_8973.jpg  \n",
            "  inflating: Human Action Recognition/train/Image_8974.jpg  \n",
            "  inflating: Human Action Recognition/train/Image_8975.jpg  \n",
            "  inflating: Human Action Recognition/train/Image_8976.jpg  \n",
            "  inflating: Human Action Recognition/train/Image_8977.jpg  \n",
            "  inflating: Human Action Recognition/train/Image_8978.jpg  \n",
            "  inflating: Human Action Recognition/train/Image_8979.jpg  \n",
            "  inflating: Human Action Recognition/train/Image_898.jpg  \n",
            "  inflating: Human Action Recognition/train/Image_8980.jpg  \n",
            "  inflating: Human Action Recognition/train/Image_8981.jpg  \n",
            "  inflating: Human Action Recognition/train/Image_8982.jpg  \n",
            "  inflating: Human Action Recognition/train/Image_8983.jpg  \n",
            "  inflating: Human Action Recognition/train/Image_8984.jpg  \n",
            "  inflating: Human Action Recognition/train/Image_8985.jpg  \n",
            "  inflating: Human Action Recognition/train/Image_8986.jpg  \n",
            "  inflating: Human Action Recognition/train/Image_8987.jpg  \n",
            "  inflating: Human Action Recognition/train/Image_8988.jpg  \n",
            "  inflating: Human Action Recognition/train/Image_8989.jpg  \n",
            "  inflating: Human Action Recognition/train/Image_899.jpg  \n",
            "  inflating: Human Action Recognition/train/Image_8990.jpg  \n",
            "  inflating: Human Action Recognition/train/Image_8991.jpg  \n",
            "  inflating: Human Action Recognition/train/Image_8992.jpg  \n",
            "  inflating: Human Action Recognition/train/Image_8993.jpg  \n",
            "  inflating: Human Action Recognition/train/Image_8994.jpg  \n",
            "  inflating: Human Action Recognition/train/Image_8995.jpg  \n",
            "  inflating: Human Action Recognition/train/Image_8996.jpg  \n",
            "  inflating: Human Action Recognition/train/Image_8997.jpg  \n",
            "  inflating: Human Action Recognition/train/Image_8998.jpg  \n",
            "  inflating: Human Action Recognition/train/Image_8999.jpg  \n",
            "  inflating: Human Action Recognition/train/Image_9.jpg  \n",
            "  inflating: Human Action Recognition/train/Image_90.jpg  \n",
            "  inflating: Human Action Recognition/train/Image_900.jpg  \n",
            "  inflating: Human Action Recognition/train/Image_9000.jpg  \n",
            "  inflating: Human Action Recognition/train/Image_9001.jpg  \n",
            "  inflating: Human Action Recognition/train/Image_9002.jpg  \n",
            "  inflating: Human Action Recognition/train/Image_9003.jpg  \n",
            "  inflating: Human Action Recognition/train/Image_9004.jpg  \n",
            "  inflating: Human Action Recognition/train/Image_9005.jpg  \n",
            "  inflating: Human Action Recognition/train/Image_9006.jpg  \n",
            "  inflating: Human Action Recognition/train/Image_9007.jpg  \n",
            "  inflating: Human Action Recognition/train/Image_9008.jpg  \n",
            "  inflating: Human Action Recognition/train/Image_9009.jpg  \n",
            "  inflating: Human Action Recognition/train/Image_901.jpg  \n",
            "  inflating: Human Action Recognition/train/Image_9010.jpg  \n",
            "  inflating: Human Action Recognition/train/Image_9011.jpg  \n",
            "  inflating: Human Action Recognition/train/Image_9012.jpg  \n",
            "  inflating: Human Action Recognition/train/Image_9013.jpg  \n",
            "  inflating: Human Action Recognition/train/Image_9014.jpg  \n",
            "  inflating: Human Action Recognition/train/Image_9015.jpg  \n",
            "  inflating: Human Action Recognition/train/Image_9016.jpg  \n",
            "  inflating: Human Action Recognition/train/Image_9017.jpg  \n",
            "  inflating: Human Action Recognition/train/Image_9018.jpg  \n",
            "  inflating: Human Action Recognition/train/Image_9019.jpg  \n",
            "  inflating: Human Action Recognition/train/Image_902.jpg  \n",
            "  inflating: Human Action Recognition/train/Image_9020.jpg  \n",
            "  inflating: Human Action Recognition/train/Image_9021.jpg  \n",
            "  inflating: Human Action Recognition/train/Image_9022.jpg  \n",
            "  inflating: Human Action Recognition/train/Image_9023.jpg  \n",
            "  inflating: Human Action Recognition/train/Image_9024.jpg  \n",
            "  inflating: Human Action Recognition/train/Image_9025.jpg  \n",
            "  inflating: Human Action Recognition/train/Image_9026.jpg  \n",
            "  inflating: Human Action Recognition/train/Image_9027.jpg  \n",
            "  inflating: Human Action Recognition/train/Image_9028.jpg  \n",
            "  inflating: Human Action Recognition/train/Image_9029.jpg  \n",
            "  inflating: Human Action Recognition/train/Image_903.jpg  \n",
            "  inflating: Human Action Recognition/train/Image_9030.jpg  \n",
            "  inflating: Human Action Recognition/train/Image_9031.jpg  \n",
            "  inflating: Human Action Recognition/train/Image_9032.jpg  \n",
            "  inflating: Human Action Recognition/train/Image_9033.jpg  \n",
            "  inflating: Human Action Recognition/train/Image_9034.jpg  \n",
            "  inflating: Human Action Recognition/train/Image_9035.jpg  \n",
            "  inflating: Human Action Recognition/train/Image_9036.jpg  \n",
            "  inflating: Human Action Recognition/train/Image_9037.jpg  \n",
            "  inflating: Human Action Recognition/train/Image_9038.jpg  \n",
            "  inflating: Human Action Recognition/train/Image_9039.jpg  \n",
            "  inflating: Human Action Recognition/train/Image_904.jpg  \n",
            "  inflating: Human Action Recognition/train/Image_9040.jpg  \n",
            "  inflating: Human Action Recognition/train/Image_9041.jpg  \n",
            "  inflating: Human Action Recognition/train/Image_9042.jpg  \n",
            "  inflating: Human Action Recognition/train/Image_9043.jpg  \n",
            "  inflating: Human Action Recognition/train/Image_9044.jpg  \n",
            "  inflating: Human Action Recognition/train/Image_9045.jpg  \n",
            "  inflating: Human Action Recognition/train/Image_9046.jpg  \n",
            "  inflating: Human Action Recognition/train/Image_9047.jpg  \n",
            "  inflating: Human Action Recognition/train/Image_9048.jpg  \n",
            "  inflating: Human Action Recognition/train/Image_9049.jpg  \n",
            "  inflating: Human Action Recognition/train/Image_905.jpg  \n",
            "  inflating: Human Action Recognition/train/Image_9050.jpg  \n",
            "  inflating: Human Action Recognition/train/Image_9051.jpg  \n",
            "  inflating: Human Action Recognition/train/Image_9052.jpg  \n",
            "  inflating: Human Action Recognition/train/Image_9053.jpg  \n",
            "  inflating: Human Action Recognition/train/Image_9054.jpg  \n",
            "  inflating: Human Action Recognition/train/Image_9055.jpg  \n",
            "  inflating: Human Action Recognition/train/Image_9056.jpg  \n",
            "  inflating: Human Action Recognition/train/Image_9057.jpg  \n",
            "  inflating: Human Action Recognition/train/Image_9058.jpg  \n",
            "  inflating: Human Action Recognition/train/Image_9059.jpg  \n",
            "  inflating: Human Action Recognition/train/Image_906.jpg  \n",
            "  inflating: Human Action Recognition/train/Image_9060.jpg  \n",
            "  inflating: Human Action Recognition/train/Image_9061.jpg  \n",
            "  inflating: Human Action Recognition/train/Image_9062.jpg  \n",
            "  inflating: Human Action Recognition/train/Image_9063.jpg  \n",
            "  inflating: Human Action Recognition/train/Image_9064.jpg  \n",
            "  inflating: Human Action Recognition/train/Image_9065.jpg  \n",
            "  inflating: Human Action Recognition/train/Image_9066.jpg  \n",
            "  inflating: Human Action Recognition/train/Image_9067.jpg  \n",
            "  inflating: Human Action Recognition/train/Image_9068.jpg  \n",
            "  inflating: Human Action Recognition/train/Image_9069.jpg  \n",
            "  inflating: Human Action Recognition/train/Image_907.jpg  \n",
            "  inflating: Human Action Recognition/train/Image_9070.jpg  \n",
            "  inflating: Human Action Recognition/train/Image_9071.jpg  \n",
            "  inflating: Human Action Recognition/train/Image_9072.jpg  \n",
            "  inflating: Human Action Recognition/train/Image_9073.jpg  \n",
            "  inflating: Human Action Recognition/train/Image_9074.jpg  \n",
            "  inflating: Human Action Recognition/train/Image_9075.jpg  \n",
            "  inflating: Human Action Recognition/train/Image_9076.jpg  \n",
            "  inflating: Human Action Recognition/train/Image_9077.jpg  \n",
            "  inflating: Human Action Recognition/train/Image_9078.jpg  \n",
            "  inflating: Human Action Recognition/train/Image_9079.jpg  \n",
            "  inflating: Human Action Recognition/train/Image_908.jpg  \n",
            "  inflating: Human Action Recognition/train/Image_9080.jpg  \n",
            "  inflating: Human Action Recognition/train/Image_9081.jpg  \n",
            "  inflating: Human Action Recognition/train/Image_9082.jpg  \n",
            "  inflating: Human Action Recognition/train/Image_9083.jpg  \n",
            "  inflating: Human Action Recognition/train/Image_9084.jpg  \n",
            "  inflating: Human Action Recognition/train/Image_9085.jpg  \n",
            "  inflating: Human Action Recognition/train/Image_9086.jpg  \n",
            "  inflating: Human Action Recognition/train/Image_9087.jpg  \n",
            "  inflating: Human Action Recognition/train/Image_9088.jpg  \n",
            "  inflating: Human Action Recognition/train/Image_9089.jpg  \n",
            "  inflating: Human Action Recognition/train/Image_909.jpg  \n",
            "  inflating: Human Action Recognition/train/Image_9090.jpg  \n",
            "  inflating: Human Action Recognition/train/Image_9091.jpg  \n",
            "  inflating: Human Action Recognition/train/Image_9092.jpg  \n",
            "  inflating: Human Action Recognition/train/Image_9093.jpg  \n",
            "  inflating: Human Action Recognition/train/Image_9094.jpg  \n",
            "  inflating: Human Action Recognition/train/Image_9095.jpg  \n",
            "  inflating: Human Action Recognition/train/Image_9096.jpg  \n",
            "  inflating: Human Action Recognition/train/Image_9097.jpg  \n",
            "  inflating: Human Action Recognition/train/Image_9098.jpg  \n",
            "  inflating: Human Action Recognition/train/Image_9099.jpg  \n",
            "  inflating: Human Action Recognition/train/Image_91.jpg  \n",
            "  inflating: Human Action Recognition/train/Image_910.jpg  \n",
            "  inflating: Human Action Recognition/train/Image_9100.jpg  \n",
            "  inflating: Human Action Recognition/train/Image_9101.jpg  \n",
            "  inflating: Human Action Recognition/train/Image_9102.jpg  \n",
            "  inflating: Human Action Recognition/train/Image_9103.jpg  \n",
            "  inflating: Human Action Recognition/train/Image_9104.jpg  \n",
            "  inflating: Human Action Recognition/train/Image_9105.jpg  \n",
            "  inflating: Human Action Recognition/train/Image_9106.jpg  \n",
            "  inflating: Human Action Recognition/train/Image_9107.jpg  \n",
            "  inflating: Human Action Recognition/train/Image_9108.jpg  \n",
            "  inflating: Human Action Recognition/train/Image_9109.jpg  \n",
            "  inflating: Human Action Recognition/train/Image_911.jpg  \n",
            "  inflating: Human Action Recognition/train/Image_9110.jpg  \n",
            "  inflating: Human Action Recognition/train/Image_9111.jpg  \n",
            "  inflating: Human Action Recognition/train/Image_9112.jpg  \n",
            "  inflating: Human Action Recognition/train/Image_9113.jpg  \n",
            "  inflating: Human Action Recognition/train/Image_9114.jpg  \n",
            "  inflating: Human Action Recognition/train/Image_9115.jpg  \n",
            "  inflating: Human Action Recognition/train/Image_9116.jpg  \n",
            "  inflating: Human Action Recognition/train/Image_9117.jpg  \n",
            "  inflating: Human Action Recognition/train/Image_9118.jpg  \n",
            "  inflating: Human Action Recognition/train/Image_9119.jpg  \n",
            "  inflating: Human Action Recognition/train/Image_912.jpg  \n",
            "  inflating: Human Action Recognition/train/Image_9120.jpg  \n",
            "  inflating: Human Action Recognition/train/Image_9121.jpg  \n",
            "  inflating: Human Action Recognition/train/Image_9122.jpg  \n",
            "  inflating: Human Action Recognition/train/Image_9123.jpg  \n",
            "  inflating: Human Action Recognition/train/Image_9124.jpg  \n",
            "  inflating: Human Action Recognition/train/Image_9125.jpg  \n",
            "  inflating: Human Action Recognition/train/Image_9126.jpg  \n",
            "  inflating: Human Action Recognition/train/Image_9127.jpg  \n",
            "  inflating: Human Action Recognition/train/Image_9128.jpg  \n",
            "  inflating: Human Action Recognition/train/Image_9129.jpg  \n",
            "  inflating: Human Action Recognition/train/Image_913.jpg  \n",
            "  inflating: Human Action Recognition/train/Image_9130.jpg  \n",
            "  inflating: Human Action Recognition/train/Image_9131.jpg  \n",
            "  inflating: Human Action Recognition/train/Image_9132.jpg  \n",
            "  inflating: Human Action Recognition/train/Image_9133.jpg  \n",
            "  inflating: Human Action Recognition/train/Image_9134.jpg  \n",
            "  inflating: Human Action Recognition/train/Image_9135.jpg  \n",
            "  inflating: Human Action Recognition/train/Image_9136.jpg  \n",
            "  inflating: Human Action Recognition/train/Image_9137.jpg  \n",
            "  inflating: Human Action Recognition/train/Image_9138.jpg  \n",
            "  inflating: Human Action Recognition/train/Image_9139.jpg  \n",
            "  inflating: Human Action Recognition/train/Image_914.jpg  \n",
            "  inflating: Human Action Recognition/train/Image_9140.jpg  \n",
            "  inflating: Human Action Recognition/train/Image_9141.jpg  \n",
            "  inflating: Human Action Recognition/train/Image_9142.jpg  \n",
            "  inflating: Human Action Recognition/train/Image_9143.jpg  \n",
            "  inflating: Human Action Recognition/train/Image_9144.jpg  \n",
            "  inflating: Human Action Recognition/train/Image_9145.jpg  \n",
            "  inflating: Human Action Recognition/train/Image_9146.jpg  \n",
            "  inflating: Human Action Recognition/train/Image_9147.jpg  \n",
            "  inflating: Human Action Recognition/train/Image_9148.jpg  \n",
            "  inflating: Human Action Recognition/train/Image_9149.jpg  \n",
            "  inflating: Human Action Recognition/train/Image_915.jpg  \n",
            "  inflating: Human Action Recognition/train/Image_9150.jpg  \n",
            "  inflating: Human Action Recognition/train/Image_9151.jpg  \n",
            "  inflating: Human Action Recognition/train/Image_9152.jpg  \n",
            "  inflating: Human Action Recognition/train/Image_9153.jpg  \n",
            "  inflating: Human Action Recognition/train/Image_9154.jpg  \n",
            "  inflating: Human Action Recognition/train/Image_9155.jpg  \n",
            "  inflating: Human Action Recognition/train/Image_9156.jpg  \n",
            "  inflating: Human Action Recognition/train/Image_9157.jpg  \n",
            "  inflating: Human Action Recognition/train/Image_9158.jpg  \n",
            "  inflating: Human Action Recognition/train/Image_9159.jpg  \n",
            "  inflating: Human Action Recognition/train/Image_916.jpg  \n",
            "  inflating: Human Action Recognition/train/Image_9160.jpg  \n",
            "  inflating: Human Action Recognition/train/Image_9161.jpg  \n",
            "  inflating: Human Action Recognition/train/Image_9162.jpg  \n",
            "  inflating: Human Action Recognition/train/Image_9163.jpg  \n",
            "  inflating: Human Action Recognition/train/Image_9164.jpg  \n",
            "  inflating: Human Action Recognition/train/Image_9165.jpg  \n",
            "  inflating: Human Action Recognition/train/Image_9166.jpg  \n",
            "  inflating: Human Action Recognition/train/Image_9167.jpg  \n",
            "  inflating: Human Action Recognition/train/Image_9168.jpg  \n",
            "  inflating: Human Action Recognition/train/Image_9169.jpg  \n",
            "  inflating: Human Action Recognition/train/Image_917.jpg  \n",
            "  inflating: Human Action Recognition/train/Image_9170.jpg  \n",
            "  inflating: Human Action Recognition/train/Image_9171.jpg  \n",
            "  inflating: Human Action Recognition/train/Image_9172.jpg  \n",
            "  inflating: Human Action Recognition/train/Image_9173.jpg  \n",
            "  inflating: Human Action Recognition/train/Image_9174.jpg  \n",
            "  inflating: Human Action Recognition/train/Image_9175.jpg  \n",
            "  inflating: Human Action Recognition/train/Image_9176.jpg  \n",
            "  inflating: Human Action Recognition/train/Image_9177.jpg  \n",
            "  inflating: Human Action Recognition/train/Image_9178.jpg  \n",
            "  inflating: Human Action Recognition/train/Image_9179.jpg  \n",
            "  inflating: Human Action Recognition/train/Image_918.jpg  \n",
            "  inflating: Human Action Recognition/train/Image_9180.jpg  \n",
            "  inflating: Human Action Recognition/train/Image_9181.jpg  \n",
            "  inflating: Human Action Recognition/train/Image_9182.jpg  \n",
            "  inflating: Human Action Recognition/train/Image_9183.jpg  \n",
            "  inflating: Human Action Recognition/train/Image_9184.jpg  \n",
            "  inflating: Human Action Recognition/train/Image_9185.jpg  \n",
            "  inflating: Human Action Recognition/train/Image_9186.jpg  \n",
            "  inflating: Human Action Recognition/train/Image_9187.jpg  \n",
            "  inflating: Human Action Recognition/train/Image_9188.jpg  \n",
            "  inflating: Human Action Recognition/train/Image_9189.jpg  \n",
            "  inflating: Human Action Recognition/train/Image_919.jpg  \n",
            "  inflating: Human Action Recognition/train/Image_9190.jpg  \n",
            "  inflating: Human Action Recognition/train/Image_9191.jpg  \n",
            "  inflating: Human Action Recognition/train/Image_9192.jpg  \n",
            "  inflating: Human Action Recognition/train/Image_9193.jpg  \n",
            "  inflating: Human Action Recognition/train/Image_9194.jpg  \n",
            "  inflating: Human Action Recognition/train/Image_9195.jpg  \n",
            "  inflating: Human Action Recognition/train/Image_9196.jpg  \n",
            "  inflating: Human Action Recognition/train/Image_9197.jpg  \n",
            "  inflating: Human Action Recognition/train/Image_9198.jpg  \n",
            "  inflating: Human Action Recognition/train/Image_9199.jpg  \n",
            "  inflating: Human Action Recognition/train/Image_92.jpg  \n",
            "  inflating: Human Action Recognition/train/Image_920.jpg  \n",
            "  inflating: Human Action Recognition/train/Image_9200.jpg  \n",
            "  inflating: Human Action Recognition/train/Image_9201.jpg  \n",
            "  inflating: Human Action Recognition/train/Image_9202.jpg  \n",
            "  inflating: Human Action Recognition/train/Image_9203.jpg  \n",
            "  inflating: Human Action Recognition/train/Image_9204.jpg  \n",
            "  inflating: Human Action Recognition/train/Image_9205.jpg  \n",
            "  inflating: Human Action Recognition/train/Image_9206.jpg  \n",
            "  inflating: Human Action Recognition/train/Image_9207.jpg  \n",
            "  inflating: Human Action Recognition/train/Image_9208.jpg  \n",
            "  inflating: Human Action Recognition/train/Image_9209.jpg  \n",
            "  inflating: Human Action Recognition/train/Image_921.jpg  \n",
            "  inflating: Human Action Recognition/train/Image_9210.jpg  \n",
            "  inflating: Human Action Recognition/train/Image_9211.jpg  \n",
            "  inflating: Human Action Recognition/train/Image_9212.jpg  \n",
            "  inflating: Human Action Recognition/train/Image_9213.jpg  \n",
            "  inflating: Human Action Recognition/train/Image_9214.jpg  \n",
            "  inflating: Human Action Recognition/train/Image_9215.jpg  \n",
            "  inflating: Human Action Recognition/train/Image_9216.jpg  \n",
            "  inflating: Human Action Recognition/train/Image_9217.jpg  \n",
            "  inflating: Human Action Recognition/train/Image_9218.jpg  \n",
            "  inflating: Human Action Recognition/train/Image_9219.jpg  \n",
            "  inflating: Human Action Recognition/train/Image_922.jpg  \n",
            "  inflating: Human Action Recognition/train/Image_9220.jpg  \n",
            "  inflating: Human Action Recognition/train/Image_9221.jpg  \n",
            "  inflating: Human Action Recognition/train/Image_9222.jpg  \n",
            "  inflating: Human Action Recognition/train/Image_9223.jpg  \n",
            "  inflating: Human Action Recognition/train/Image_9224.jpg  \n",
            "  inflating: Human Action Recognition/train/Image_9225.jpg  \n",
            "  inflating: Human Action Recognition/train/Image_9226.jpg  \n",
            "  inflating: Human Action Recognition/train/Image_9227.jpg  \n",
            "  inflating: Human Action Recognition/train/Image_9228.jpg  \n",
            "  inflating: Human Action Recognition/train/Image_9229.jpg  \n",
            "  inflating: Human Action Recognition/train/Image_923.jpg  \n",
            "  inflating: Human Action Recognition/train/Image_9230.jpg  \n",
            "  inflating: Human Action Recognition/train/Image_9231.jpg  \n",
            "  inflating: Human Action Recognition/train/Image_9232.jpg  \n",
            "  inflating: Human Action Recognition/train/Image_9233.jpg  \n",
            "  inflating: Human Action Recognition/train/Image_9234.jpg  \n",
            "  inflating: Human Action Recognition/train/Image_9235.jpg  \n",
            "  inflating: Human Action Recognition/train/Image_9236.jpg  \n",
            "  inflating: Human Action Recognition/train/Image_9237.jpg  \n",
            "  inflating: Human Action Recognition/train/Image_9238.jpg  \n",
            "  inflating: Human Action Recognition/train/Image_9239.jpg  \n",
            "  inflating: Human Action Recognition/train/Image_924.jpg  \n",
            "  inflating: Human Action Recognition/train/Image_9240.jpg  \n",
            "  inflating: Human Action Recognition/train/Image_9241.jpg  \n",
            "  inflating: Human Action Recognition/train/Image_9242.jpg  \n",
            "  inflating: Human Action Recognition/train/Image_9243.jpg  \n",
            "  inflating: Human Action Recognition/train/Image_9244.jpg  \n",
            "  inflating: Human Action Recognition/train/Image_9245.jpg  \n",
            "  inflating: Human Action Recognition/train/Image_9246.jpg  \n",
            "  inflating: Human Action Recognition/train/Image_9247.jpg  \n",
            "  inflating: Human Action Recognition/train/Image_9248.jpg  \n",
            "  inflating: Human Action Recognition/train/Image_9249.jpg  \n",
            "  inflating: Human Action Recognition/train/Image_925.jpg  \n",
            "  inflating: Human Action Recognition/train/Image_9250.jpg  \n",
            "  inflating: Human Action Recognition/train/Image_9251.jpg  \n",
            "  inflating: Human Action Recognition/train/Image_9252.jpg  \n",
            "  inflating: Human Action Recognition/train/Image_9253.jpg  \n",
            "  inflating: Human Action Recognition/train/Image_9254.jpg  \n",
            "  inflating: Human Action Recognition/train/Image_9255.jpg  \n",
            "  inflating: Human Action Recognition/train/Image_9256.jpg  \n",
            "  inflating: Human Action Recognition/train/Image_9257.jpg  \n",
            "  inflating: Human Action Recognition/train/Image_9258.jpg  \n",
            "  inflating: Human Action Recognition/train/Image_9259.jpg  \n",
            "  inflating: Human Action Recognition/train/Image_926.jpg  \n",
            "  inflating: Human Action Recognition/train/Image_9260.jpg  \n",
            "  inflating: Human Action Recognition/train/Image_9261.jpg  \n",
            "  inflating: Human Action Recognition/train/Image_9262.jpg  \n",
            "  inflating: Human Action Recognition/train/Image_9263.jpg  \n",
            "  inflating: Human Action Recognition/train/Image_9264.jpg  \n",
            "  inflating: Human Action Recognition/train/Image_9265.jpg  \n",
            "  inflating: Human Action Recognition/train/Image_9266.jpg  \n",
            "  inflating: Human Action Recognition/train/Image_9267.jpg  \n",
            "  inflating: Human Action Recognition/train/Image_9268.jpg  \n",
            "  inflating: Human Action Recognition/train/Image_9269.jpg  \n",
            "  inflating: Human Action Recognition/train/Image_927.jpg  \n",
            "  inflating: Human Action Recognition/train/Image_9270.jpg  \n",
            "  inflating: Human Action Recognition/train/Image_9271.jpg  \n",
            "  inflating: Human Action Recognition/train/Image_9272.jpg  \n",
            "  inflating: Human Action Recognition/train/Image_9273.jpg  \n",
            "  inflating: Human Action Recognition/train/Image_9274.jpg  \n",
            "  inflating: Human Action Recognition/train/Image_9275.jpg  \n",
            "  inflating: Human Action Recognition/train/Image_9276.jpg  \n",
            "  inflating: Human Action Recognition/train/Image_9277.jpg  \n",
            "  inflating: Human Action Recognition/train/Image_9278.jpg  \n",
            "  inflating: Human Action Recognition/train/Image_9279.jpg  \n",
            "  inflating: Human Action Recognition/train/Image_928.jpg  \n",
            "  inflating: Human Action Recognition/train/Image_9280.jpg  \n",
            "  inflating: Human Action Recognition/train/Image_9281.jpg  \n",
            "  inflating: Human Action Recognition/train/Image_9282.jpg  \n",
            "  inflating: Human Action Recognition/train/Image_9283.jpg  \n",
            "  inflating: Human Action Recognition/train/Image_9284.jpg  \n",
            "  inflating: Human Action Recognition/train/Image_9285.jpg  \n",
            "  inflating: Human Action Recognition/train/Image_9286.jpg  \n",
            "  inflating: Human Action Recognition/train/Image_9287.jpg  \n",
            "  inflating: Human Action Recognition/train/Image_9288.jpg  \n",
            "  inflating: Human Action Recognition/train/Image_9289.jpg  \n",
            "  inflating: Human Action Recognition/train/Image_929.jpg  \n",
            "  inflating: Human Action Recognition/train/Image_9290.jpg  \n",
            "  inflating: Human Action Recognition/train/Image_9291.jpg  \n",
            "  inflating: Human Action Recognition/train/Image_9292.jpg  \n",
            "  inflating: Human Action Recognition/train/Image_9293.jpg  \n",
            "  inflating: Human Action Recognition/train/Image_9294.jpg  \n",
            "  inflating: Human Action Recognition/train/Image_9295.jpg  \n",
            "  inflating: Human Action Recognition/train/Image_9296.jpg  \n",
            "  inflating: Human Action Recognition/train/Image_9297.jpg  \n",
            "  inflating: Human Action Recognition/train/Image_9298.jpg  \n",
            "  inflating: Human Action Recognition/train/Image_9299.jpg  \n",
            "  inflating: Human Action Recognition/train/Image_93.jpg  \n",
            "  inflating: Human Action Recognition/train/Image_930.jpg  \n",
            "  inflating: Human Action Recognition/train/Image_9300.jpg  \n",
            "  inflating: Human Action Recognition/train/Image_9301.jpg  \n",
            "  inflating: Human Action Recognition/train/Image_9302.jpg  \n",
            "  inflating: Human Action Recognition/train/Image_9303.jpg  \n",
            "  inflating: Human Action Recognition/train/Image_9304.jpg  \n",
            "  inflating: Human Action Recognition/train/Image_9305.jpg  \n",
            "  inflating: Human Action Recognition/train/Image_9306.jpg  \n",
            "  inflating: Human Action Recognition/train/Image_9307.jpg  \n",
            "  inflating: Human Action Recognition/train/Image_9308.jpg  \n",
            "  inflating: Human Action Recognition/train/Image_9309.jpg  \n",
            "  inflating: Human Action Recognition/train/Image_931.jpg  \n",
            "  inflating: Human Action Recognition/train/Image_9310.jpg  \n",
            "  inflating: Human Action Recognition/train/Image_9311.jpg  \n",
            "  inflating: Human Action Recognition/train/Image_9312.jpg  \n",
            "  inflating: Human Action Recognition/train/Image_9313.jpg  \n",
            "  inflating: Human Action Recognition/train/Image_9314.jpg  \n",
            "  inflating: Human Action Recognition/train/Image_9315.jpg  \n",
            "  inflating: Human Action Recognition/train/Image_9316.jpg  \n",
            "  inflating: Human Action Recognition/train/Image_9317.jpg  \n",
            "  inflating: Human Action Recognition/train/Image_9318.jpg  \n",
            "  inflating: Human Action Recognition/train/Image_9319.jpg  \n",
            "  inflating: Human Action Recognition/train/Image_932.jpg  \n",
            "  inflating: Human Action Recognition/train/Image_9320.jpg  \n",
            "  inflating: Human Action Recognition/train/Image_9321.jpg  \n",
            "  inflating: Human Action Recognition/train/Image_9322.jpg  \n",
            "  inflating: Human Action Recognition/train/Image_9323.jpg  \n",
            "  inflating: Human Action Recognition/train/Image_9324.jpg  \n",
            "  inflating: Human Action Recognition/train/Image_9325.jpg  \n",
            "  inflating: Human Action Recognition/train/Image_9326.jpg  \n",
            "  inflating: Human Action Recognition/train/Image_9327.jpg  \n",
            "  inflating: Human Action Recognition/train/Image_9328.jpg  \n",
            "  inflating: Human Action Recognition/train/Image_9329.jpg  \n",
            "  inflating: Human Action Recognition/train/Image_933.jpg  \n",
            "  inflating: Human Action Recognition/train/Image_9330.jpg  \n",
            "  inflating: Human Action Recognition/train/Image_9331.jpg  \n",
            "  inflating: Human Action Recognition/train/Image_9332.jpg  \n",
            "  inflating: Human Action Recognition/train/Image_9333.jpg  \n",
            "  inflating: Human Action Recognition/train/Image_9334.jpg  \n",
            "  inflating: Human Action Recognition/train/Image_9335.jpg  \n",
            "  inflating: Human Action Recognition/train/Image_9336.jpg  \n",
            "  inflating: Human Action Recognition/train/Image_9337.jpg  \n",
            "  inflating: Human Action Recognition/train/Image_9338.jpg  \n",
            "  inflating: Human Action Recognition/train/Image_9339.jpg  \n",
            "  inflating: Human Action Recognition/train/Image_934.jpg  \n",
            "  inflating: Human Action Recognition/train/Image_9340.jpg  \n",
            "  inflating: Human Action Recognition/train/Image_9341.jpg  \n",
            "  inflating: Human Action Recognition/train/Image_9342.jpg  \n",
            "  inflating: Human Action Recognition/train/Image_9343.jpg  \n",
            "  inflating: Human Action Recognition/train/Image_9344.jpg  \n",
            "  inflating: Human Action Recognition/train/Image_9345.jpg  \n",
            "  inflating: Human Action Recognition/train/Image_9346.jpg  \n",
            "  inflating: Human Action Recognition/train/Image_9347.jpg  \n",
            "  inflating: Human Action Recognition/train/Image_9348.jpg  \n",
            "  inflating: Human Action Recognition/train/Image_9349.jpg  \n",
            "  inflating: Human Action Recognition/train/Image_935.jpg  \n",
            "  inflating: Human Action Recognition/train/Image_9350.jpg  \n",
            "  inflating: Human Action Recognition/train/Image_9351.jpg  \n",
            "  inflating: Human Action Recognition/train/Image_9352.jpg  \n",
            "  inflating: Human Action Recognition/train/Image_9353.jpg  \n",
            "  inflating: Human Action Recognition/train/Image_9354.jpg  \n",
            "  inflating: Human Action Recognition/train/Image_9355.jpg  \n",
            "  inflating: Human Action Recognition/train/Image_9356.jpg  \n",
            "  inflating: Human Action Recognition/train/Image_9357.jpg  \n",
            "  inflating: Human Action Recognition/train/Image_9358.jpg  \n",
            "  inflating: Human Action Recognition/train/Image_9359.jpg  \n",
            "  inflating: Human Action Recognition/train/Image_936.jpg  \n",
            "  inflating: Human Action Recognition/train/Image_9360.jpg  \n",
            "  inflating: Human Action Recognition/train/Image_9361.jpg  \n",
            "  inflating: Human Action Recognition/train/Image_9362.jpg  \n",
            "  inflating: Human Action Recognition/train/Image_9363.jpg  \n",
            "  inflating: Human Action Recognition/train/Image_9364.jpg  \n",
            "  inflating: Human Action Recognition/train/Image_9365.jpg  \n",
            "  inflating: Human Action Recognition/train/Image_9366.jpg  \n",
            "  inflating: Human Action Recognition/train/Image_9367.jpg  \n",
            "  inflating: Human Action Recognition/train/Image_9368.jpg  \n",
            "  inflating: Human Action Recognition/train/Image_9369.jpg  \n",
            "  inflating: Human Action Recognition/train/Image_937.jpg  \n",
            "  inflating: Human Action Recognition/train/Image_9370.jpg  \n",
            "  inflating: Human Action Recognition/train/Image_9371.jpg  \n",
            "  inflating: Human Action Recognition/train/Image_9372.jpg  \n",
            "  inflating: Human Action Recognition/train/Image_9373.jpg  \n",
            "  inflating: Human Action Recognition/train/Image_9374.jpg  \n",
            "  inflating: Human Action Recognition/train/Image_9375.jpg  \n",
            "  inflating: Human Action Recognition/train/Image_9376.jpg  \n",
            "  inflating: Human Action Recognition/train/Image_9377.jpg  \n",
            "  inflating: Human Action Recognition/train/Image_9378.jpg  \n",
            "  inflating: Human Action Recognition/train/Image_9379.jpg  \n",
            "  inflating: Human Action Recognition/train/Image_938.jpg  \n",
            "  inflating: Human Action Recognition/train/Image_9380.jpg  \n",
            "  inflating: Human Action Recognition/train/Image_9381.jpg  \n",
            "  inflating: Human Action Recognition/train/Image_9382.jpg  \n",
            "  inflating: Human Action Recognition/train/Image_9383.jpg  \n",
            "  inflating: Human Action Recognition/train/Image_9384.jpg  \n",
            "  inflating: Human Action Recognition/train/Image_9385.jpg  \n",
            "  inflating: Human Action Recognition/train/Image_9386.jpg  \n",
            "  inflating: Human Action Recognition/train/Image_9387.jpg  \n",
            "  inflating: Human Action Recognition/train/Image_9388.jpg  \n",
            "  inflating: Human Action Recognition/train/Image_9389.jpg  \n",
            "  inflating: Human Action Recognition/train/Image_939.jpg  \n",
            "  inflating: Human Action Recognition/train/Image_9390.jpg  \n",
            "  inflating: Human Action Recognition/train/Image_9391.jpg  \n",
            "  inflating: Human Action Recognition/train/Image_9392.jpg  \n",
            "  inflating: Human Action Recognition/train/Image_9393.jpg  \n",
            "  inflating: Human Action Recognition/train/Image_9394.jpg  \n",
            "  inflating: Human Action Recognition/train/Image_9395.jpg  \n",
            "  inflating: Human Action Recognition/train/Image_9396.jpg  \n",
            "  inflating: Human Action Recognition/train/Image_9397.jpg  \n",
            "  inflating: Human Action Recognition/train/Image_9398.jpg  \n",
            "  inflating: Human Action Recognition/train/Image_9399.jpg  \n",
            "  inflating: Human Action Recognition/train/Image_94.jpg  \n",
            "  inflating: Human Action Recognition/train/Image_940.jpg  \n",
            "  inflating: Human Action Recognition/train/Image_9400.jpg  \n",
            "  inflating: Human Action Recognition/train/Image_9401.jpg  \n",
            "  inflating: Human Action Recognition/train/Image_9402.jpg  \n",
            "  inflating: Human Action Recognition/train/Image_9403.jpg  \n",
            "  inflating: Human Action Recognition/train/Image_9404.jpg  \n",
            "  inflating: Human Action Recognition/train/Image_9405.jpg  \n",
            "  inflating: Human Action Recognition/train/Image_9406.jpg  \n",
            "  inflating: Human Action Recognition/train/Image_9407.jpg  \n",
            "  inflating: Human Action Recognition/train/Image_9408.jpg  \n",
            "  inflating: Human Action Recognition/train/Image_9409.jpg  \n",
            "  inflating: Human Action Recognition/train/Image_941.jpg  \n",
            "  inflating: Human Action Recognition/train/Image_9410.jpg  \n",
            "  inflating: Human Action Recognition/train/Image_9411.jpg  \n",
            "  inflating: Human Action Recognition/train/Image_9412.jpg  \n",
            "  inflating: Human Action Recognition/train/Image_9413.jpg  \n",
            "  inflating: Human Action Recognition/train/Image_9414.jpg  \n",
            "  inflating: Human Action Recognition/train/Image_9415.jpg  \n",
            "  inflating: Human Action Recognition/train/Image_9416.jpg  \n",
            "  inflating: Human Action Recognition/train/Image_9417.jpg  \n",
            "  inflating: Human Action Recognition/train/Image_9418.jpg  \n",
            "  inflating: Human Action Recognition/train/Image_9419.jpg  \n",
            "  inflating: Human Action Recognition/train/Image_942.jpg  \n",
            "  inflating: Human Action Recognition/train/Image_9420.jpg  \n",
            "  inflating: Human Action Recognition/train/Image_9421.jpg  \n",
            "  inflating: Human Action Recognition/train/Image_9422.jpg  \n",
            "  inflating: Human Action Recognition/train/Image_9423.jpg  \n",
            "  inflating: Human Action Recognition/train/Image_9424.jpg  \n",
            "  inflating: Human Action Recognition/train/Image_9425.jpg  \n",
            "  inflating: Human Action Recognition/train/Image_9426.jpg  \n",
            "  inflating: Human Action Recognition/train/Image_9427.jpg  \n",
            "  inflating: Human Action Recognition/train/Image_9428.jpg  \n",
            "  inflating: Human Action Recognition/train/Image_9429.jpg  \n",
            "  inflating: Human Action Recognition/train/Image_943.jpg  \n",
            "  inflating: Human Action Recognition/train/Image_9430.jpg  \n",
            "  inflating: Human Action Recognition/train/Image_9431.jpg  \n",
            "  inflating: Human Action Recognition/train/Image_9432.jpg  \n",
            "  inflating: Human Action Recognition/train/Image_9433.jpg  \n",
            "  inflating: Human Action Recognition/train/Image_9434.jpg  \n",
            "  inflating: Human Action Recognition/train/Image_9435.jpg  \n",
            "  inflating: Human Action Recognition/train/Image_9436.jpg  \n",
            "  inflating: Human Action Recognition/train/Image_9437.jpg  \n",
            "  inflating: Human Action Recognition/train/Image_9438.jpg  \n",
            "  inflating: Human Action Recognition/train/Image_9439.jpg  \n",
            "  inflating: Human Action Recognition/train/Image_944.jpg  \n",
            "  inflating: Human Action Recognition/train/Image_9440.jpg  \n",
            "  inflating: Human Action Recognition/train/Image_9441.jpg  \n",
            "  inflating: Human Action Recognition/train/Image_9442.jpg  \n",
            "  inflating: Human Action Recognition/train/Image_9443.jpg  \n",
            "  inflating: Human Action Recognition/train/Image_9444.jpg  \n",
            "  inflating: Human Action Recognition/train/Image_9445.jpg  \n",
            "  inflating: Human Action Recognition/train/Image_9446.jpg  \n",
            "  inflating: Human Action Recognition/train/Image_9447.jpg  \n",
            "  inflating: Human Action Recognition/train/Image_9448.jpg  \n",
            "  inflating: Human Action Recognition/train/Image_9449.jpg  \n",
            "  inflating: Human Action Recognition/train/Image_945.jpg  \n",
            "  inflating: Human Action Recognition/train/Image_9450.jpg  \n",
            "  inflating: Human Action Recognition/train/Image_9451.jpg  \n",
            "  inflating: Human Action Recognition/train/Image_9452.jpg  \n",
            "  inflating: Human Action Recognition/train/Image_9453.jpg  \n",
            "  inflating: Human Action Recognition/train/Image_9454.jpg  \n",
            "  inflating: Human Action Recognition/train/Image_9455.jpg  \n",
            "  inflating: Human Action Recognition/train/Image_9456.jpg  \n",
            "  inflating: Human Action Recognition/train/Image_9457.jpg  \n",
            "  inflating: Human Action Recognition/train/Image_9458.jpg  \n",
            "  inflating: Human Action Recognition/train/Image_9459.jpg  \n",
            "  inflating: Human Action Recognition/train/Image_946.jpg  \n",
            "  inflating: Human Action Recognition/train/Image_9460.jpg  \n",
            "  inflating: Human Action Recognition/train/Image_9461.jpg  \n",
            "  inflating: Human Action Recognition/train/Image_9462.jpg  \n",
            "  inflating: Human Action Recognition/train/Image_9463.jpg  \n",
            "  inflating: Human Action Recognition/train/Image_9464.jpg  \n",
            "  inflating: Human Action Recognition/train/Image_9465.jpg  \n",
            "  inflating: Human Action Recognition/train/Image_9466.jpg  \n",
            "  inflating: Human Action Recognition/train/Image_9467.jpg  \n",
            "  inflating: Human Action Recognition/train/Image_9468.jpg  \n",
            "  inflating: Human Action Recognition/train/Image_9469.jpg  \n",
            "  inflating: Human Action Recognition/train/Image_947.jpg  \n",
            "  inflating: Human Action Recognition/train/Image_9470.jpg  \n",
            "  inflating: Human Action Recognition/train/Image_9471.jpg  \n",
            "  inflating: Human Action Recognition/train/Image_9472.jpg  \n",
            "  inflating: Human Action Recognition/train/Image_9473.jpg  \n",
            "  inflating: Human Action Recognition/train/Image_9474.jpg  \n",
            "  inflating: Human Action Recognition/train/Image_9475.jpg  \n",
            "  inflating: Human Action Recognition/train/Image_9476.jpg  \n",
            "  inflating: Human Action Recognition/train/Image_9477.jpg  \n",
            "  inflating: Human Action Recognition/train/Image_9478.jpg  \n",
            "  inflating: Human Action Recognition/train/Image_9479.jpg  \n",
            "  inflating: Human Action Recognition/train/Image_948.jpg  \n",
            "  inflating: Human Action Recognition/train/Image_9480.jpg  \n",
            "  inflating: Human Action Recognition/train/Image_9481.jpg  \n",
            "  inflating: Human Action Recognition/train/Image_9482.jpg  \n",
            "  inflating: Human Action Recognition/train/Image_9483.jpg  \n",
            "  inflating: Human Action Recognition/train/Image_9484.jpg  \n",
            "  inflating: Human Action Recognition/train/Image_9485.jpg  \n",
            "  inflating: Human Action Recognition/train/Image_9486.jpg  \n",
            "  inflating: Human Action Recognition/train/Image_9487.jpg  \n",
            "  inflating: Human Action Recognition/train/Image_9488.jpg  \n",
            "  inflating: Human Action Recognition/train/Image_9489.jpg  \n",
            "  inflating: Human Action Recognition/train/Image_949.jpg  \n",
            "  inflating: Human Action Recognition/train/Image_9490.jpg  \n",
            "  inflating: Human Action Recognition/train/Image_9491.jpg  \n",
            "  inflating: Human Action Recognition/train/Image_9492.jpg  \n",
            "  inflating: Human Action Recognition/train/Image_9493.jpg  \n",
            "  inflating: Human Action Recognition/train/Image_9494.jpg  \n",
            "  inflating: Human Action Recognition/train/Image_9495.jpg  \n",
            "  inflating: Human Action Recognition/train/Image_9496.jpg  \n",
            "  inflating: Human Action Recognition/train/Image_9497.jpg  \n",
            "  inflating: Human Action Recognition/train/Image_9498.jpg  \n",
            "  inflating: Human Action Recognition/train/Image_9499.jpg  \n",
            "  inflating: Human Action Recognition/train/Image_95.jpg  \n",
            "  inflating: Human Action Recognition/train/Image_950.jpg  \n",
            "  inflating: Human Action Recognition/train/Image_9500.jpg  \n",
            "  inflating: Human Action Recognition/train/Image_9501.jpg  \n",
            "  inflating: Human Action Recognition/train/Image_9502.jpg  \n",
            "  inflating: Human Action Recognition/train/Image_9503.jpg  \n",
            "  inflating: Human Action Recognition/train/Image_9504.jpg  \n",
            "  inflating: Human Action Recognition/train/Image_9505.jpg  \n",
            "  inflating: Human Action Recognition/train/Image_9506.jpg  \n",
            "  inflating: Human Action Recognition/train/Image_9507.jpg  \n",
            "  inflating: Human Action Recognition/train/Image_9508.jpg  \n",
            "  inflating: Human Action Recognition/train/Image_9509.jpg  \n",
            "  inflating: Human Action Recognition/train/Image_951.jpg  \n",
            "  inflating: Human Action Recognition/train/Image_9510.jpg  \n",
            "  inflating: Human Action Recognition/train/Image_9511.jpg  \n",
            "  inflating: Human Action Recognition/train/Image_9512.jpg  \n",
            "  inflating: Human Action Recognition/train/Image_9513.jpg  \n",
            "  inflating: Human Action Recognition/train/Image_9514.jpg  \n",
            "  inflating: Human Action Recognition/train/Image_9515.jpg  \n",
            "  inflating: Human Action Recognition/train/Image_9516.jpg  \n",
            "  inflating: Human Action Recognition/train/Image_9517.jpg  \n",
            "  inflating: Human Action Recognition/train/Image_9518.jpg  \n",
            "  inflating: Human Action Recognition/train/Image_9519.jpg  \n",
            "  inflating: Human Action Recognition/train/Image_952.jpg  \n",
            "  inflating: Human Action Recognition/train/Image_9520.jpg  \n",
            "  inflating: Human Action Recognition/train/Image_9521.jpg  \n",
            "  inflating: Human Action Recognition/train/Image_9522.jpg  \n",
            "  inflating: Human Action Recognition/train/Image_9523.jpg  \n",
            "  inflating: Human Action Recognition/train/Image_9524.jpg  \n",
            "  inflating: Human Action Recognition/train/Image_9525.jpg  \n",
            "  inflating: Human Action Recognition/train/Image_9526.jpg  \n",
            "  inflating: Human Action Recognition/train/Image_9527.jpg  \n",
            "  inflating: Human Action Recognition/train/Image_9528.jpg  \n",
            "  inflating: Human Action Recognition/train/Image_9529.jpg  \n",
            "  inflating: Human Action Recognition/train/Image_953.jpg  \n",
            "  inflating: Human Action Recognition/train/Image_9530.jpg  \n",
            "  inflating: Human Action Recognition/train/Image_9531.jpg  \n",
            "  inflating: Human Action Recognition/train/Image_9532.jpg  \n",
            "  inflating: Human Action Recognition/train/Image_9533.jpg  \n",
            "  inflating: Human Action Recognition/train/Image_9534.jpg  \n",
            "  inflating: Human Action Recognition/train/Image_9535.jpg  \n",
            "  inflating: Human Action Recognition/train/Image_9536.jpg  \n",
            "  inflating: Human Action Recognition/train/Image_9537.jpg  \n",
            "  inflating: Human Action Recognition/train/Image_9538.jpg  \n",
            "  inflating: Human Action Recognition/train/Image_9539.jpg  \n",
            "  inflating: Human Action Recognition/train/Image_954.jpg  \n",
            "  inflating: Human Action Recognition/train/Image_9540.jpg  \n",
            "  inflating: Human Action Recognition/train/Image_9541.jpg  \n",
            "  inflating: Human Action Recognition/train/Image_9542.jpg  \n",
            "  inflating: Human Action Recognition/train/Image_9543.jpg  \n",
            "  inflating: Human Action Recognition/train/Image_9544.jpg  \n",
            "  inflating: Human Action Recognition/train/Image_9545.jpg  \n",
            "  inflating: Human Action Recognition/train/Image_9546.jpg  \n",
            "  inflating: Human Action Recognition/train/Image_9547.jpg  \n",
            "  inflating: Human Action Recognition/train/Image_9548.jpg  \n",
            "  inflating: Human Action Recognition/train/Image_9549.jpg  \n",
            "  inflating: Human Action Recognition/train/Image_955.jpg  \n",
            "  inflating: Human Action Recognition/train/Image_9550.jpg  \n",
            "  inflating: Human Action Recognition/train/Image_9551.jpg  \n",
            "  inflating: Human Action Recognition/train/Image_9552.jpg  \n",
            "  inflating: Human Action Recognition/train/Image_9553.jpg  \n",
            "  inflating: Human Action Recognition/train/Image_9554.jpg  \n",
            "  inflating: Human Action Recognition/train/Image_9555.jpg  \n",
            "  inflating: Human Action Recognition/train/Image_9556.jpg  \n",
            "  inflating: Human Action Recognition/train/Image_9557.jpg  \n",
            "  inflating: Human Action Recognition/train/Image_9558.jpg  \n",
            "  inflating: Human Action Recognition/train/Image_9559.jpg  \n",
            "  inflating: Human Action Recognition/train/Image_956.jpg  \n",
            "  inflating: Human Action Recognition/train/Image_9560.jpg  \n",
            "  inflating: Human Action Recognition/train/Image_9561.jpg  \n",
            "  inflating: Human Action Recognition/train/Image_9562.jpg  \n",
            "  inflating: Human Action Recognition/train/Image_9563.jpg  \n",
            "  inflating: Human Action Recognition/train/Image_9564.jpg  \n",
            "  inflating: Human Action Recognition/train/Image_9565.jpg  \n",
            "  inflating: Human Action Recognition/train/Image_9566.jpg  \n",
            "  inflating: Human Action Recognition/train/Image_9567.jpg  \n",
            "  inflating: Human Action Recognition/train/Image_9568.jpg  \n",
            "  inflating: Human Action Recognition/train/Image_9569.jpg  \n",
            "  inflating: Human Action Recognition/train/Image_957.jpg  \n",
            "  inflating: Human Action Recognition/train/Image_9570.jpg  \n",
            "  inflating: Human Action Recognition/train/Image_9571.jpg  \n",
            "  inflating: Human Action Recognition/train/Image_9572.jpg  \n",
            "  inflating: Human Action Recognition/train/Image_9573.jpg  \n",
            "  inflating: Human Action Recognition/train/Image_9574.jpg  \n",
            "  inflating: Human Action Recognition/train/Image_9575.jpg  \n",
            "  inflating: Human Action Recognition/train/Image_9576.jpg  \n",
            "  inflating: Human Action Recognition/train/Image_9577.jpg  \n",
            "  inflating: Human Action Recognition/train/Image_9578.jpg  \n",
            "  inflating: Human Action Recognition/train/Image_9579.jpg  \n",
            "  inflating: Human Action Recognition/train/Image_958.jpg  \n",
            "  inflating: Human Action Recognition/train/Image_9580.jpg  \n",
            "  inflating: Human Action Recognition/train/Image_9581.jpg  \n",
            "  inflating: Human Action Recognition/train/Image_9582.jpg  \n",
            "  inflating: Human Action Recognition/train/Image_9583.jpg  \n",
            "  inflating: Human Action Recognition/train/Image_9584.jpg  \n",
            "  inflating: Human Action Recognition/train/Image_9585.jpg  \n",
            "  inflating: Human Action Recognition/train/Image_9586.jpg  \n",
            "  inflating: Human Action Recognition/train/Image_9587.jpg  \n",
            "  inflating: Human Action Recognition/train/Image_9588.jpg  \n",
            "  inflating: Human Action Recognition/train/Image_9589.jpg  \n",
            "  inflating: Human Action Recognition/train/Image_959.jpg  \n",
            "  inflating: Human Action Recognition/train/Image_9590.jpg  \n",
            "  inflating: Human Action Recognition/train/Image_9591.jpg  \n",
            "  inflating: Human Action Recognition/train/Image_9592.jpg  \n",
            "  inflating: Human Action Recognition/train/Image_9593.jpg  \n",
            "  inflating: Human Action Recognition/train/Image_9594.jpg  \n",
            "  inflating: Human Action Recognition/train/Image_9595.jpg  \n",
            "  inflating: Human Action Recognition/train/Image_9596.jpg  \n",
            "  inflating: Human Action Recognition/train/Image_9597.jpg  \n",
            "  inflating: Human Action Recognition/train/Image_9598.jpg  \n",
            "  inflating: Human Action Recognition/train/Image_9599.jpg  \n",
            "  inflating: Human Action Recognition/train/Image_96.jpg  \n",
            "  inflating: Human Action Recognition/train/Image_960.jpg  \n",
            "  inflating: Human Action Recognition/train/Image_9600.jpg  \n",
            "  inflating: Human Action Recognition/train/Image_9601.jpg  \n",
            "  inflating: Human Action Recognition/train/Image_9602.jpg  \n",
            "  inflating: Human Action Recognition/train/Image_9603.jpg  \n",
            "  inflating: Human Action Recognition/train/Image_9604.jpg  \n",
            "  inflating: Human Action Recognition/train/Image_9605.jpg  \n",
            "  inflating: Human Action Recognition/train/Image_9606.jpg  \n",
            "  inflating: Human Action Recognition/train/Image_9607.jpg  \n",
            "  inflating: Human Action Recognition/train/Image_9608.jpg  \n",
            "  inflating: Human Action Recognition/train/Image_9609.jpg  \n",
            "  inflating: Human Action Recognition/train/Image_961.jpg  \n",
            "  inflating: Human Action Recognition/train/Image_9610.jpg  \n",
            "  inflating: Human Action Recognition/train/Image_9611.jpg  \n",
            "  inflating: Human Action Recognition/train/Image_9612.jpg  \n",
            "  inflating: Human Action Recognition/train/Image_9613.jpg  \n",
            "  inflating: Human Action Recognition/train/Image_9614.jpg  \n",
            "  inflating: Human Action Recognition/train/Image_9615.jpg  \n",
            "  inflating: Human Action Recognition/train/Image_9616.jpg  \n",
            "  inflating: Human Action Recognition/train/Image_9617.jpg  \n",
            "  inflating: Human Action Recognition/train/Image_9618.jpg  \n",
            "  inflating: Human Action Recognition/train/Image_9619.jpg  \n",
            "  inflating: Human Action Recognition/train/Image_962.jpg  \n",
            "  inflating: Human Action Recognition/train/Image_9620.jpg  \n",
            "  inflating: Human Action Recognition/train/Image_9621.jpg  \n",
            "  inflating: Human Action Recognition/train/Image_9622.jpg  \n",
            "  inflating: Human Action Recognition/train/Image_9623.jpg  \n",
            "  inflating: Human Action Recognition/train/Image_9624.jpg  \n",
            "  inflating: Human Action Recognition/train/Image_9625.jpg  \n",
            "  inflating: Human Action Recognition/train/Image_9626.jpg  \n",
            "  inflating: Human Action Recognition/train/Image_9627.jpg  \n",
            "  inflating: Human Action Recognition/train/Image_9628.jpg  \n",
            "  inflating: Human Action Recognition/train/Image_9629.jpg  \n",
            "  inflating: Human Action Recognition/train/Image_963.jpg  \n",
            "  inflating: Human Action Recognition/train/Image_9630.jpg  \n",
            "  inflating: Human Action Recognition/train/Image_9631.jpg  \n",
            "  inflating: Human Action Recognition/train/Image_9632.jpg  \n",
            "  inflating: Human Action Recognition/train/Image_9633.jpg  \n",
            "  inflating: Human Action Recognition/train/Image_9634.jpg  \n",
            "  inflating: Human Action Recognition/train/Image_9635.jpg  \n",
            "  inflating: Human Action Recognition/train/Image_9636.jpg  \n",
            "  inflating: Human Action Recognition/train/Image_9637.jpg  \n",
            "  inflating: Human Action Recognition/train/Image_9638.jpg  \n",
            "  inflating: Human Action Recognition/train/Image_9639.jpg  \n",
            "  inflating: Human Action Recognition/train/Image_964.jpg  \n",
            "  inflating: Human Action Recognition/train/Image_9640.jpg  \n",
            "  inflating: Human Action Recognition/train/Image_9641.jpg  \n",
            "  inflating: Human Action Recognition/train/Image_9642.jpg  \n",
            "  inflating: Human Action Recognition/train/Image_9643.jpg  \n",
            "  inflating: Human Action Recognition/train/Image_9644.jpg  \n",
            "  inflating: Human Action Recognition/train/Image_9645.jpg  \n",
            "  inflating: Human Action Recognition/train/Image_9646.jpg  \n",
            "  inflating: Human Action Recognition/train/Image_9647.jpg  \n",
            "  inflating: Human Action Recognition/train/Image_9648.jpg  \n",
            "  inflating: Human Action Recognition/train/Image_9649.jpg  \n",
            "  inflating: Human Action Recognition/train/Image_965.jpg  \n",
            "  inflating: Human Action Recognition/train/Image_9650.jpg  \n",
            "  inflating: Human Action Recognition/train/Image_9651.jpg  \n",
            "  inflating: Human Action Recognition/train/Image_9652.jpg  \n",
            "  inflating: Human Action Recognition/train/Image_9653.jpg  \n",
            "  inflating: Human Action Recognition/train/Image_9654.jpg  \n",
            "  inflating: Human Action Recognition/train/Image_9655.jpg  \n",
            "  inflating: Human Action Recognition/train/Image_9656.jpg  \n",
            "  inflating: Human Action Recognition/train/Image_9657.jpg  \n",
            "  inflating: Human Action Recognition/train/Image_9658.jpg  \n",
            "  inflating: Human Action Recognition/train/Image_9659.jpg  \n",
            "  inflating: Human Action Recognition/train/Image_966.jpg  \n",
            "  inflating: Human Action Recognition/train/Image_9660.jpg  \n",
            "  inflating: Human Action Recognition/train/Image_9661.jpg  \n",
            "  inflating: Human Action Recognition/train/Image_9662.jpg  \n",
            "  inflating: Human Action Recognition/train/Image_9663.jpg  \n",
            "  inflating: Human Action Recognition/train/Image_9664.jpg  \n",
            "  inflating: Human Action Recognition/train/Image_9665.jpg  \n",
            "  inflating: Human Action Recognition/train/Image_9666.jpg  \n",
            "  inflating: Human Action Recognition/train/Image_9667.jpg  \n",
            "  inflating: Human Action Recognition/train/Image_9668.jpg  \n",
            "  inflating: Human Action Recognition/train/Image_9669.jpg  \n",
            "  inflating: Human Action Recognition/train/Image_967.jpg  \n",
            "  inflating: Human Action Recognition/train/Image_9670.jpg  \n",
            "  inflating: Human Action Recognition/train/Image_9671.jpg  \n",
            "  inflating: Human Action Recognition/train/Image_9672.jpg  \n",
            "  inflating: Human Action Recognition/train/Image_9673.jpg  \n",
            "  inflating: Human Action Recognition/train/Image_9674.jpg  \n",
            "  inflating: Human Action Recognition/train/Image_9675.jpg  \n",
            "  inflating: Human Action Recognition/train/Image_9676.jpg  \n",
            "  inflating: Human Action Recognition/train/Image_9677.jpg  \n",
            "  inflating: Human Action Recognition/train/Image_9678.jpg  \n",
            "  inflating: Human Action Recognition/train/Image_9679.jpg  \n",
            "  inflating: Human Action Recognition/train/Image_968.jpg  \n",
            "  inflating: Human Action Recognition/train/Image_9680.jpg  \n",
            "  inflating: Human Action Recognition/train/Image_9681.jpg  \n",
            "  inflating: Human Action Recognition/train/Image_9682.jpg  \n",
            "  inflating: Human Action Recognition/train/Image_9683.jpg  \n",
            "  inflating: Human Action Recognition/train/Image_9684.jpg  \n",
            "  inflating: Human Action Recognition/train/Image_9685.jpg  \n",
            "  inflating: Human Action Recognition/train/Image_9686.jpg  \n",
            "  inflating: Human Action Recognition/train/Image_9687.jpg  \n",
            "  inflating: Human Action Recognition/train/Image_9688.jpg  \n",
            "  inflating: Human Action Recognition/train/Image_9689.jpg  \n",
            "  inflating: Human Action Recognition/train/Image_969.jpg  \n",
            "  inflating: Human Action Recognition/train/Image_9690.jpg  \n",
            "  inflating: Human Action Recognition/train/Image_9691.jpg  \n",
            "  inflating: Human Action Recognition/train/Image_9692.jpg  \n",
            "  inflating: Human Action Recognition/train/Image_9693.jpg  \n",
            "  inflating: Human Action Recognition/train/Image_9694.jpg  \n",
            "  inflating: Human Action Recognition/train/Image_9695.jpg  \n",
            "  inflating: Human Action Recognition/train/Image_9696.jpg  \n",
            "  inflating: Human Action Recognition/train/Image_9697.jpg  \n",
            "  inflating: Human Action Recognition/train/Image_9698.jpg  \n",
            "  inflating: Human Action Recognition/train/Image_9699.jpg  \n",
            "  inflating: Human Action Recognition/train/Image_97.jpg  \n",
            "  inflating: Human Action Recognition/train/Image_970.jpg  \n",
            "  inflating: Human Action Recognition/train/Image_9700.jpg  \n",
            "  inflating: Human Action Recognition/train/Image_9701.jpg  \n",
            "  inflating: Human Action Recognition/train/Image_9702.jpg  \n",
            "  inflating: Human Action Recognition/train/Image_9703.jpg  \n",
            "  inflating: Human Action Recognition/train/Image_9704.jpg  \n",
            "  inflating: Human Action Recognition/train/Image_9705.jpg  \n",
            "  inflating: Human Action Recognition/train/Image_9706.jpg  \n",
            "  inflating: Human Action Recognition/train/Image_9707.jpg  \n",
            "  inflating: Human Action Recognition/train/Image_9708.jpg  \n",
            "  inflating: Human Action Recognition/train/Image_9709.jpg  \n",
            "  inflating: Human Action Recognition/train/Image_971.jpg  \n",
            "  inflating: Human Action Recognition/train/Image_9710.jpg  \n",
            "  inflating: Human Action Recognition/train/Image_9711.jpg  \n",
            "  inflating: Human Action Recognition/train/Image_9712.jpg  \n",
            "  inflating: Human Action Recognition/train/Image_9713.jpg  \n",
            "  inflating: Human Action Recognition/train/Image_9714.jpg  \n",
            "  inflating: Human Action Recognition/train/Image_9715.jpg  \n",
            "  inflating: Human Action Recognition/train/Image_9716.jpg  \n",
            "  inflating: Human Action Recognition/train/Image_9717.jpg  \n",
            "  inflating: Human Action Recognition/train/Image_9718.jpg  \n",
            "  inflating: Human Action Recognition/train/Image_9719.jpg  \n",
            "  inflating: Human Action Recognition/train/Image_972.jpg  \n",
            "  inflating: Human Action Recognition/train/Image_9720.jpg  \n",
            "  inflating: Human Action Recognition/train/Image_9721.jpg  \n",
            "  inflating: Human Action Recognition/train/Image_9722.jpg  \n",
            "  inflating: Human Action Recognition/train/Image_9723.jpg  \n",
            "  inflating: Human Action Recognition/train/Image_9724.jpg  \n",
            "  inflating: Human Action Recognition/train/Image_9725.jpg  \n",
            "  inflating: Human Action Recognition/train/Image_9726.jpg  \n",
            "  inflating: Human Action Recognition/train/Image_9727.jpg  \n",
            "  inflating: Human Action Recognition/train/Image_9728.jpg  \n",
            "  inflating: Human Action Recognition/train/Image_9729.jpg  \n",
            "  inflating: Human Action Recognition/train/Image_973.jpg  \n",
            "  inflating: Human Action Recognition/train/Image_9730.jpg  \n",
            "  inflating: Human Action Recognition/train/Image_9731.jpg  \n",
            "  inflating: Human Action Recognition/train/Image_9732.jpg  \n",
            "  inflating: Human Action Recognition/train/Image_9733.jpg  \n",
            "  inflating: Human Action Recognition/train/Image_9734.jpg  \n",
            "  inflating: Human Action Recognition/train/Image_9735.jpg  \n",
            "  inflating: Human Action Recognition/train/Image_9736.jpg  \n",
            "  inflating: Human Action Recognition/train/Image_9737.jpg  \n",
            "  inflating: Human Action Recognition/train/Image_9738.jpg  \n",
            "  inflating: Human Action Recognition/train/Image_9739.jpg  \n",
            "  inflating: Human Action Recognition/train/Image_974.jpg  \n",
            "  inflating: Human Action Recognition/train/Image_9740.jpg  \n",
            "  inflating: Human Action Recognition/train/Image_9741.jpg  \n",
            "  inflating: Human Action Recognition/train/Image_9742.jpg  \n",
            "  inflating: Human Action Recognition/train/Image_9743.jpg  \n",
            "  inflating: Human Action Recognition/train/Image_9744.jpg  \n",
            "  inflating: Human Action Recognition/train/Image_9745.jpg  \n",
            "  inflating: Human Action Recognition/train/Image_9746.jpg  \n",
            "  inflating: Human Action Recognition/train/Image_9747.jpg  \n",
            "  inflating: Human Action Recognition/train/Image_9748.jpg  \n",
            "  inflating: Human Action Recognition/train/Image_9749.jpg  \n",
            "  inflating: Human Action Recognition/train/Image_975.jpg  \n",
            "  inflating: Human Action Recognition/train/Image_9750.jpg  \n",
            "  inflating: Human Action Recognition/train/Image_9751.jpg  \n",
            "  inflating: Human Action Recognition/train/Image_9752.jpg  \n",
            "  inflating: Human Action Recognition/train/Image_9753.jpg  \n",
            "  inflating: Human Action Recognition/train/Image_9754.jpg  \n",
            "  inflating: Human Action Recognition/train/Image_9755.jpg  \n",
            "  inflating: Human Action Recognition/train/Image_9756.jpg  \n",
            "  inflating: Human Action Recognition/train/Image_9757.jpg  \n",
            "  inflating: Human Action Recognition/train/Image_9758.jpg  \n",
            "  inflating: Human Action Recognition/train/Image_9759.jpg  \n",
            "  inflating: Human Action Recognition/train/Image_976.jpg  \n",
            "  inflating: Human Action Recognition/train/Image_9760.jpg  \n",
            "  inflating: Human Action Recognition/train/Image_9761.jpg  \n",
            "  inflating: Human Action Recognition/train/Image_9762.jpg  \n",
            "  inflating: Human Action Recognition/train/Image_9763.jpg  \n",
            "  inflating: Human Action Recognition/train/Image_9764.jpg  \n",
            "  inflating: Human Action Recognition/train/Image_9765.jpg  \n",
            "  inflating: Human Action Recognition/train/Image_9766.jpg  \n",
            "  inflating: Human Action Recognition/train/Image_9767.jpg  \n",
            "  inflating: Human Action Recognition/train/Image_9768.jpg  \n",
            "  inflating: Human Action Recognition/train/Image_9769.jpg  \n",
            "  inflating: Human Action Recognition/train/Image_977.jpg  \n",
            "  inflating: Human Action Recognition/train/Image_9770.jpg  \n",
            "  inflating: Human Action Recognition/train/Image_9771.jpg  \n",
            "  inflating: Human Action Recognition/train/Image_9772.jpg  \n",
            "  inflating: Human Action Recognition/train/Image_9773.jpg  \n",
            "  inflating: Human Action Recognition/train/Image_9774.jpg  \n",
            "  inflating: Human Action Recognition/train/Image_9775.jpg  \n",
            "  inflating: Human Action Recognition/train/Image_9776.jpg  \n",
            "  inflating: Human Action Recognition/train/Image_9777.jpg  \n",
            "  inflating: Human Action Recognition/train/Image_9778.jpg  \n",
            "  inflating: Human Action Recognition/train/Image_9779.jpg  \n",
            "  inflating: Human Action Recognition/train/Image_978.jpg  \n",
            "  inflating: Human Action Recognition/train/Image_9780.jpg  \n",
            "  inflating: Human Action Recognition/train/Image_9781.jpg  \n",
            "  inflating: Human Action Recognition/train/Image_9782.jpg  \n",
            "  inflating: Human Action Recognition/train/Image_9783.jpg  \n",
            "  inflating: Human Action Recognition/train/Image_9784.jpg  \n",
            "  inflating: Human Action Recognition/train/Image_9785.jpg  \n",
            "  inflating: Human Action Recognition/train/Image_9786.jpg  \n",
            "  inflating: Human Action Recognition/train/Image_9787.jpg  \n",
            "  inflating: Human Action Recognition/train/Image_9788.jpg  \n",
            "  inflating: Human Action Recognition/train/Image_9789.jpg  \n",
            "  inflating: Human Action Recognition/train/Image_979.jpg  \n",
            "  inflating: Human Action Recognition/train/Image_9790.jpg  \n",
            "  inflating: Human Action Recognition/train/Image_9791.jpg  \n",
            "  inflating: Human Action Recognition/train/Image_9792.jpg  \n",
            "  inflating: Human Action Recognition/train/Image_9793.jpg  \n",
            "  inflating: Human Action Recognition/train/Image_9794.jpg  \n",
            "  inflating: Human Action Recognition/train/Image_9795.jpg  \n",
            "  inflating: Human Action Recognition/train/Image_9796.jpg  \n",
            "  inflating: Human Action Recognition/train/Image_9797.jpg  \n",
            "  inflating: Human Action Recognition/train/Image_9798.jpg  \n",
            "  inflating: Human Action Recognition/train/Image_9799.jpg  \n",
            "  inflating: Human Action Recognition/train/Image_98.jpg  \n",
            "  inflating: Human Action Recognition/train/Image_980.jpg  \n",
            "  inflating: Human Action Recognition/train/Image_9800.jpg  \n",
            "  inflating: Human Action Recognition/train/Image_9801.jpg  \n",
            "  inflating: Human Action Recognition/train/Image_9802.jpg  \n",
            "  inflating: Human Action Recognition/train/Image_9803.jpg  \n",
            "  inflating: Human Action Recognition/train/Image_9804.jpg  \n",
            "  inflating: Human Action Recognition/train/Image_9805.jpg  \n",
            "  inflating: Human Action Recognition/train/Image_9806.jpg  \n",
            "  inflating: Human Action Recognition/train/Image_9807.jpg  \n",
            "  inflating: Human Action Recognition/train/Image_9808.jpg  \n",
            "  inflating: Human Action Recognition/train/Image_9809.jpg  \n",
            "  inflating: Human Action Recognition/train/Image_981.jpg  \n",
            "  inflating: Human Action Recognition/train/Image_9810.jpg  \n",
            "  inflating: Human Action Recognition/train/Image_9811.jpg  \n",
            "  inflating: Human Action Recognition/train/Image_9812.jpg  \n",
            "  inflating: Human Action Recognition/train/Image_9813.jpg  \n",
            "  inflating: Human Action Recognition/train/Image_9814.jpg  \n",
            "  inflating: Human Action Recognition/train/Image_9815.jpg  \n",
            "  inflating: Human Action Recognition/train/Image_9816.jpg  \n",
            "  inflating: Human Action Recognition/train/Image_9817.jpg  \n",
            "  inflating: Human Action Recognition/train/Image_9818.jpg  \n",
            "  inflating: Human Action Recognition/train/Image_9819.jpg  \n",
            "  inflating: Human Action Recognition/train/Image_982.jpg  \n",
            "  inflating: Human Action Recognition/train/Image_9820.jpg  \n",
            "  inflating: Human Action Recognition/train/Image_9821.jpg  \n",
            "  inflating: Human Action Recognition/train/Image_9822.jpg  \n",
            "  inflating: Human Action Recognition/train/Image_9823.jpg  \n",
            "  inflating: Human Action Recognition/train/Image_9824.jpg  \n",
            "  inflating: Human Action Recognition/train/Image_9825.jpg  \n",
            "  inflating: Human Action Recognition/train/Image_9826.jpg  \n",
            "  inflating: Human Action Recognition/train/Image_9827.jpg  \n",
            "  inflating: Human Action Recognition/train/Image_9828.jpg  \n",
            "  inflating: Human Action Recognition/train/Image_9829.jpg  \n",
            "  inflating: Human Action Recognition/train/Image_983.jpg  \n",
            "  inflating: Human Action Recognition/train/Image_9830.jpg  \n",
            "  inflating: Human Action Recognition/train/Image_9831.jpg  \n",
            "  inflating: Human Action Recognition/train/Image_9832.jpg  \n",
            "  inflating: Human Action Recognition/train/Image_9833.jpg  \n",
            "  inflating: Human Action Recognition/train/Image_9834.jpg  \n",
            "  inflating: Human Action Recognition/train/Image_9835.jpg  \n",
            "  inflating: Human Action Recognition/train/Image_9836.jpg  \n",
            "  inflating: Human Action Recognition/train/Image_9837.jpg  \n",
            "  inflating: Human Action Recognition/train/Image_9838.jpg  \n",
            "  inflating: Human Action Recognition/train/Image_9839.jpg  \n",
            "  inflating: Human Action Recognition/train/Image_984.jpg  \n",
            "  inflating: Human Action Recognition/train/Image_9840.jpg  \n",
            "  inflating: Human Action Recognition/train/Image_9841.jpg  \n",
            "  inflating: Human Action Recognition/train/Image_9842.jpg  \n",
            "  inflating: Human Action Recognition/train/Image_9843.jpg  \n",
            "  inflating: Human Action Recognition/train/Image_9844.jpg  \n",
            "  inflating: Human Action Recognition/train/Image_9845.jpg  \n",
            "  inflating: Human Action Recognition/train/Image_9846.jpg  \n",
            "  inflating: Human Action Recognition/train/Image_9847.jpg  \n",
            "  inflating: Human Action Recognition/train/Image_9848.jpg  \n",
            "  inflating: Human Action Recognition/train/Image_9849.jpg  \n",
            "  inflating: Human Action Recognition/train/Image_985.jpg  \n",
            "  inflating: Human Action Recognition/train/Image_9850.jpg  \n",
            "  inflating: Human Action Recognition/train/Image_9851.jpg  \n",
            "  inflating: Human Action Recognition/train/Image_9852.jpg  \n",
            "  inflating: Human Action Recognition/train/Image_9853.jpg  \n",
            "  inflating: Human Action Recognition/train/Image_9854.jpg  \n",
            "  inflating: Human Action Recognition/train/Image_9855.jpg  \n",
            "  inflating: Human Action Recognition/train/Image_9856.jpg  \n",
            "  inflating: Human Action Recognition/train/Image_9857.jpg  \n",
            "  inflating: Human Action Recognition/train/Image_9858.jpg  \n",
            "  inflating: Human Action Recognition/train/Image_9859.jpg  \n",
            "  inflating: Human Action Recognition/train/Image_986.jpg  \n",
            "  inflating: Human Action Recognition/train/Image_9860.jpg  \n",
            "  inflating: Human Action Recognition/train/Image_9861.jpg  \n",
            "  inflating: Human Action Recognition/train/Image_9862.jpg  \n",
            "  inflating: Human Action Recognition/train/Image_9863.jpg  \n",
            "  inflating: Human Action Recognition/train/Image_9864.jpg  \n",
            "  inflating: Human Action Recognition/train/Image_9865.jpg  \n",
            "  inflating: Human Action Recognition/train/Image_9866.jpg  \n",
            "  inflating: Human Action Recognition/train/Image_9867.jpg  \n",
            "  inflating: Human Action Recognition/train/Image_9868.jpg  \n",
            "  inflating: Human Action Recognition/train/Image_9869.jpg  \n",
            "  inflating: Human Action Recognition/train/Image_987.jpg  \n",
            "  inflating: Human Action Recognition/train/Image_9870.jpg  \n",
            "  inflating: Human Action Recognition/train/Image_9871.jpg  \n",
            "  inflating: Human Action Recognition/train/Image_9872.jpg  \n",
            "  inflating: Human Action Recognition/train/Image_9873.jpg  \n",
            "  inflating: Human Action Recognition/train/Image_9874.jpg  \n",
            "  inflating: Human Action Recognition/train/Image_9875.jpg  \n",
            "  inflating: Human Action Recognition/train/Image_9876.jpg  \n",
            "  inflating: Human Action Recognition/train/Image_9877.jpg  \n",
            "  inflating: Human Action Recognition/train/Image_9878.jpg  \n",
            "  inflating: Human Action Recognition/train/Image_9879.jpg  \n",
            "  inflating: Human Action Recognition/train/Image_988.jpg  \n",
            "  inflating: Human Action Recognition/train/Image_9880.jpg  \n",
            "  inflating: Human Action Recognition/train/Image_9881.jpg  \n",
            "  inflating: Human Action Recognition/train/Image_9882.jpg  \n",
            "  inflating: Human Action Recognition/train/Image_9883.jpg  \n",
            "  inflating: Human Action Recognition/train/Image_9884.jpg  \n",
            "  inflating: Human Action Recognition/train/Image_9885.jpg  \n",
            "  inflating: Human Action Recognition/train/Image_9886.jpg  \n",
            "  inflating: Human Action Recognition/train/Image_9887.jpg  \n",
            "  inflating: Human Action Recognition/train/Image_9888.jpg  \n",
            "  inflating: Human Action Recognition/train/Image_9889.jpg  \n",
            "  inflating: Human Action Recognition/train/Image_989.jpg  \n",
            "  inflating: Human Action Recognition/train/Image_9890.jpg  \n",
            "  inflating: Human Action Recognition/train/Image_9891.jpg  \n",
            "  inflating: Human Action Recognition/train/Image_9892.jpg  \n",
            "  inflating: Human Action Recognition/train/Image_9893.jpg  \n",
            "  inflating: Human Action Recognition/train/Image_9894.jpg  \n",
            "  inflating: Human Action Recognition/train/Image_9895.jpg  \n",
            "  inflating: Human Action Recognition/train/Image_9896.jpg  \n",
            "  inflating: Human Action Recognition/train/Image_9897.jpg  \n",
            "  inflating: Human Action Recognition/train/Image_9898.jpg  \n",
            "  inflating: Human Action Recognition/train/Image_9899.jpg  \n",
            "  inflating: Human Action Recognition/train/Image_99.jpg  \n",
            "  inflating: Human Action Recognition/train/Image_990.jpg  \n",
            "  inflating: Human Action Recognition/train/Image_9900.jpg  \n",
            "  inflating: Human Action Recognition/train/Image_9901.jpg  \n",
            "  inflating: Human Action Recognition/train/Image_9902.jpg  \n",
            "  inflating: Human Action Recognition/train/Image_9903.jpg  \n",
            "  inflating: Human Action Recognition/train/Image_9904.jpg  \n",
            "  inflating: Human Action Recognition/train/Image_9905.jpg  \n",
            "  inflating: Human Action Recognition/train/Image_9906.jpg  \n",
            "  inflating: Human Action Recognition/train/Image_9907.jpg  \n",
            "  inflating: Human Action Recognition/train/Image_9908.jpg  \n",
            "  inflating: Human Action Recognition/train/Image_9909.jpg  \n",
            "  inflating: Human Action Recognition/train/Image_991.jpg  \n",
            "  inflating: Human Action Recognition/train/Image_9910.jpg  \n",
            "  inflating: Human Action Recognition/train/Image_9911.jpg  \n",
            "  inflating: Human Action Recognition/train/Image_9912.jpg  \n",
            "  inflating: Human Action Recognition/train/Image_9913.jpg  \n",
            "  inflating: Human Action Recognition/train/Image_9914.jpg  \n",
            "  inflating: Human Action Recognition/train/Image_9915.jpg  \n",
            "  inflating: Human Action Recognition/train/Image_9916.jpg  \n",
            "  inflating: Human Action Recognition/train/Image_9917.jpg  \n",
            "  inflating: Human Action Recognition/train/Image_9918.jpg  \n",
            "  inflating: Human Action Recognition/train/Image_9919.jpg  \n",
            "  inflating: Human Action Recognition/train/Image_992.jpg  \n",
            "  inflating: Human Action Recognition/train/Image_9920.jpg  \n",
            "  inflating: Human Action Recognition/train/Image_9921.jpg  \n",
            "  inflating: Human Action Recognition/train/Image_9922.jpg  \n",
            "  inflating: Human Action Recognition/train/Image_9923.jpg  \n",
            "  inflating: Human Action Recognition/train/Image_9924.jpg  \n",
            "  inflating: Human Action Recognition/train/Image_9925.jpg  \n",
            "  inflating: Human Action Recognition/train/Image_9926.jpg  \n",
            "  inflating: Human Action Recognition/train/Image_9927.jpg  \n",
            "  inflating: Human Action Recognition/train/Image_9928.jpg  \n",
            "  inflating: Human Action Recognition/train/Image_9929.jpg  \n",
            "  inflating: Human Action Recognition/train/Image_993.jpg  \n",
            "  inflating: Human Action Recognition/train/Image_9930.jpg  \n",
            "  inflating: Human Action Recognition/train/Image_9931.jpg  \n",
            "  inflating: Human Action Recognition/train/Image_9932.jpg  \n",
            "  inflating: Human Action Recognition/train/Image_9933.jpg  \n",
            "  inflating: Human Action Recognition/train/Image_9934.jpg  \n",
            "  inflating: Human Action Recognition/train/Image_9935.jpg  \n",
            "  inflating: Human Action Recognition/train/Image_9936.jpg  \n",
            "  inflating: Human Action Recognition/train/Image_9937.jpg  \n",
            "  inflating: Human Action Recognition/train/Image_9938.jpg  \n",
            "  inflating: Human Action Recognition/train/Image_9939.jpg  \n",
            "  inflating: Human Action Recognition/train/Image_994.jpg  \n",
            "  inflating: Human Action Recognition/train/Image_9940.jpg  \n",
            "  inflating: Human Action Recognition/train/Image_9941.jpg  \n",
            "  inflating: Human Action Recognition/train/Image_9942.jpg  \n",
            "  inflating: Human Action Recognition/train/Image_9943.jpg  \n",
            "  inflating: Human Action Recognition/train/Image_9944.jpg  \n",
            "  inflating: Human Action Recognition/train/Image_9945.jpg  \n",
            "  inflating: Human Action Recognition/train/Image_9946.jpg  \n",
            "  inflating: Human Action Recognition/train/Image_9947.jpg  \n",
            "  inflating: Human Action Recognition/train/Image_9948.jpg  \n",
            "  inflating: Human Action Recognition/train/Image_9949.jpg  \n",
            "  inflating: Human Action Recognition/train/Image_995.jpg  \n",
            "  inflating: Human Action Recognition/train/Image_9950.jpg  \n",
            "  inflating: Human Action Recognition/train/Image_9951.jpg  \n",
            "  inflating: Human Action Recognition/train/Image_9952.jpg  \n",
            "  inflating: Human Action Recognition/train/Image_9953.jpg  \n",
            "  inflating: Human Action Recognition/train/Image_9954.jpg  \n",
            "  inflating: Human Action Recognition/train/Image_9955.jpg  \n",
            "  inflating: Human Action Recognition/train/Image_9956.jpg  \n",
            "  inflating: Human Action Recognition/train/Image_9957.jpg  \n",
            "  inflating: Human Action Recognition/train/Image_9958.jpg  \n",
            "  inflating: Human Action Recognition/train/Image_9959.jpg  \n",
            "  inflating: Human Action Recognition/train/Image_996.jpg  \n",
            "  inflating: Human Action Recognition/train/Image_9960.jpg  \n",
            "  inflating: Human Action Recognition/train/Image_9961.jpg  \n",
            "  inflating: Human Action Recognition/train/Image_9962.jpg  \n",
            "  inflating: Human Action Recognition/train/Image_9963.jpg  \n",
            "  inflating: Human Action Recognition/train/Image_9964.jpg  \n",
            "  inflating: Human Action Recognition/train/Image_9965.jpg  \n",
            "  inflating: Human Action Recognition/train/Image_9966.jpg  \n",
            "  inflating: Human Action Recognition/train/Image_9967.jpg  \n",
            "  inflating: Human Action Recognition/train/Image_9968.jpg  \n",
            "  inflating: Human Action Recognition/train/Image_9969.jpg  \n",
            "  inflating: Human Action Recognition/train/Image_997.jpg  \n",
            "  inflating: Human Action Recognition/train/Image_9970.jpg  \n",
            "  inflating: Human Action Recognition/train/Image_9971.jpg  \n",
            "  inflating: Human Action Recognition/train/Image_9972.jpg  \n",
            "  inflating: Human Action Recognition/train/Image_9973.jpg  \n",
            "  inflating: Human Action Recognition/train/Image_9974.jpg  \n",
            "  inflating: Human Action Recognition/train/Image_9975.jpg  \n",
            "  inflating: Human Action Recognition/train/Image_9976.jpg  \n",
            "  inflating: Human Action Recognition/train/Image_9977.jpg  \n",
            "  inflating: Human Action Recognition/train/Image_9978.jpg  \n",
            "  inflating: Human Action Recognition/train/Image_9979.jpg  \n",
            "  inflating: Human Action Recognition/train/Image_998.jpg  \n",
            "  inflating: Human Action Recognition/train/Image_9980.jpg  \n",
            "  inflating: Human Action Recognition/train/Image_9981.jpg  \n",
            "  inflating: Human Action Recognition/train/Image_9982.jpg  \n",
            "  inflating: Human Action Recognition/train/Image_9983.jpg  \n",
            "  inflating: Human Action Recognition/train/Image_9984.jpg  \n",
            "  inflating: Human Action Recognition/train/Image_9985.jpg  \n",
            "  inflating: Human Action Recognition/train/Image_9986.jpg  \n",
            "  inflating: Human Action Recognition/train/Image_9987.jpg  \n",
            "  inflating: Human Action Recognition/train/Image_9988.jpg  \n",
            "  inflating: Human Action Recognition/train/Image_9989.jpg  \n",
            "  inflating: Human Action Recognition/train/Image_999.jpg  \n",
            "  inflating: Human Action Recognition/train/Image_9990.jpg  \n",
            "  inflating: Human Action Recognition/train/Image_9991.jpg  \n",
            "  inflating: Human Action Recognition/train/Image_9992.jpg  \n",
            "  inflating: Human Action Recognition/train/Image_9993.jpg  \n",
            "  inflating: Human Action Recognition/train/Image_9994.jpg  \n",
            "  inflating: Human Action Recognition/train/Image_9995.jpg  \n",
            "  inflating: Human Action Recognition/train/Image_9996.jpg  \n",
            "  inflating: Human Action Recognition/train/Image_9997.jpg  \n",
            "  inflating: Human Action Recognition/train/Image_9998.jpg  \n",
            "  inflating: Human Action Recognition/train/Image_9999.jpg  \n"
          ]
        }
      ],
      "source": [
        "# change dataset path here\n",
        "#if you have already unzipped the dataset then skip this cell and change path in next cell\n",
        "!unzip /content/drive/MyDrive/archive.zip"
      ]
    },
    {
      "cell_type": "code",
      "source": [
        "import glob\n",
        "\n",
        "images_train = glob.glob(\"/content/Human Action Recognition/train/*.jpg\")"
      ],
      "metadata": {
        "id": "Cprpct3AZ_eM"
      },
      "execution_count": null,
      "outputs": []
    },
    {
      "cell_type": "code",
      "execution_count": null,
      "metadata": {
        "colab": {
          "base_uri": "https://localhost:8080/"
        },
        "id": "A7Vq7R3Si5vp",
        "outputId": "9835a88e-256f-441a-d7f4-8c767e14c938"
      },
      "outputs": [
        {
          "output_type": "stream",
          "name": "stdout",
          "text": [
            "                              label\n",
            "filename                           \n",
            "Image_1.jpg                 sitting\n",
            "Image_2.jpg            using_laptop\n",
            "Image_3.jpg                 hugging\n",
            "Image_4.jpg                sleeping\n",
            "Image_5.jpg            using_laptop\n",
            "...                             ...\n",
            "Image_12596.jpg             sitting\n",
            "Image_12597.jpg            clapping\n",
            "Image_12598.jpg             sitting\n",
            "Image_12599.jpg             dancing\n",
            "Image_12600.jpg  listening_to_music\n",
            "\n",
            "[12600 rows x 1 columns]\n"
          ]
        }
      ],
      "source": [
        "import pandas as pd\n",
        "image_label_map = pd.read_csv(\"/content/Human Action Recognition/Training_set.csv\",index_col=0)\n",
        "\n",
        "print(image_label_map)"
      ]
    },
    {
      "cell_type": "code",
      "execution_count": null,
      "metadata": {
        "id": "mhHWLRbMa8BH"
      },
      "outputs": [],
      "source": [
        "import mediapipe as mp\n",
        "# Initialize the MediaPipe Pose model\n",
        "mp_pose = mp.solutions.pose.Pose(\n",
        "    static_image_mode = True,\n",
        "    min_detection_confidence=0.7\n",
        ")"
      ]
    },
    {
      "cell_type": "code",
      "source": [
        "import random\n",
        "\n",
        "def augment_image(image, count = 3):\n",
        "  images = [image]\n",
        "  for i in range(count):\n",
        "    angle = random.choice([cv2.ROTATE_180,cv2.ROTATE_90_CLOCKWISE,cv2.ROTATE_90_COUNTERCLOCKWISE])\n",
        "    size = random.randint(200, 400)\n",
        "    flip = random.randint(0,1)\n",
        "    image = cv2.rotate(image, angle)\n",
        "    image = cv2.resize(image, (size, size))\n",
        "    if flip:\n",
        "      image = cv2.flip(image, 1)  #horizontal flip\n",
        "\n",
        "    images.append(image)\n",
        "\n",
        "  return images"
      ],
      "metadata": {
        "id": "Z7HsZoa1yQgq"
      },
      "execution_count": null,
      "outputs": []
    },
    {
      "cell_type": "code",
      "source": [
        "def draw_landmarks(image):\n",
        "  mp.solutions.drawing_utils.draw_landmarks(\n",
        "              image,\n",
        "              results.pose_landmarks,\n",
        "              mp.solutions.pose.POSE_CONNECTIONS)\n",
        "  return image"
      ],
      "metadata": {
        "id": "2Nw1eDnoz5kr"
      },
      "execution_count": null,
      "outputs": []
    },
    {
      "cell_type": "code",
      "execution_count": null,
      "metadata": {
        "colab": {
          "base_uri": "https://localhost:8080/"
        },
        "id": "Rc0yNNoObk4p",
        "outputId": "a276f22e-7095-4ad9-c3ad-4d99b82a9ff2"
      },
      "outputs": [
        {
          "output_type": "stream",
          "name": "stderr",
          "text": [
            "  1%|          | 68/12601 [00:10<30:29,  6.85it/s]"
          ]
        },
        {
          "output_type": "stream",
          "name": "stdout",
          "text": [
            "data saved\n"
          ]
        },
        {
          "output_type": "stream",
          "name": "stderr",
          "text": [
            "  1%|          | 140/12601 [00:20<36:35,  5.68it/s]"
          ]
        },
        {
          "output_type": "stream",
          "name": "stdout",
          "text": [
            "data saved\n"
          ]
        },
        {
          "output_type": "stream",
          "name": "stderr",
          "text": [
            "  2%|▏         | 216/12601 [00:30<27:16,  7.57it/s]"
          ]
        },
        {
          "output_type": "stream",
          "name": "stdout",
          "text": [
            "data saved\n"
          ]
        },
        {
          "output_type": "stream",
          "name": "stderr",
          "text": [
            "  2%|▏         | 272/12601 [00:40<45:00,  4.57it/s]"
          ]
        },
        {
          "output_type": "stream",
          "name": "stdout",
          "text": [
            "data saved\n"
          ]
        },
        {
          "output_type": "stream",
          "name": "stderr",
          "text": [
            "  3%|▎         | 336/12601 [00:50<31:31,  6.48it/s]"
          ]
        },
        {
          "output_type": "stream",
          "name": "stdout",
          "text": [
            "data saved\n"
          ]
        },
        {
          "output_type": "stream",
          "name": "stderr",
          "text": [
            "  3%|▎         | 397/12601 [01:00<30:58,  6.57it/s]"
          ]
        },
        {
          "output_type": "stream",
          "name": "stdout",
          "text": [
            "data saved\n"
          ]
        },
        {
          "output_type": "stream",
          "name": "stderr",
          "text": [
            "  4%|▍         | 473/12601 [01:10<36:33,  5.53it/s]"
          ]
        },
        {
          "output_type": "stream",
          "name": "stdout",
          "text": [
            "data saved\n"
          ]
        },
        {
          "output_type": "stream",
          "name": "stderr",
          "text": [
            "  4%|▍         | 542/12601 [01:20<29:25,  6.83it/s]"
          ]
        },
        {
          "output_type": "stream",
          "name": "stdout",
          "text": [
            "data saved\n"
          ]
        },
        {
          "output_type": "stream",
          "name": "stderr",
          "text": [
            "  5%|▍         | 609/12601 [01:30<42:39,  4.69it/s]"
          ]
        },
        {
          "output_type": "stream",
          "name": "stdout",
          "text": [
            "data saved\n"
          ]
        },
        {
          "output_type": "stream",
          "name": "stderr",
          "text": [
            "  5%|▌         | 677/12601 [01:40<25:46,  7.71it/s]"
          ]
        },
        {
          "output_type": "stream",
          "name": "stdout",
          "text": [
            "data saved\n"
          ]
        },
        {
          "output_type": "stream",
          "name": "stderr",
          "text": [
            "  6%|▌         | 732/12601 [01:50<31:36,  6.26it/s]"
          ]
        },
        {
          "output_type": "stream",
          "name": "stdout",
          "text": [
            "data saved\n"
          ]
        },
        {
          "output_type": "stream",
          "name": "stderr",
          "text": [
            "  6%|▋         | 808/12601 [02:00<22:54,  8.58it/s]"
          ]
        },
        {
          "output_type": "stream",
          "name": "stdout",
          "text": [
            "data saved\n"
          ]
        },
        {
          "output_type": "stream",
          "name": "stderr",
          "text": [
            "  7%|▋         | 869/12601 [02:11<26:42,  7.32it/s]"
          ]
        },
        {
          "output_type": "stream",
          "name": "stdout",
          "text": [
            "data saved\n"
          ]
        },
        {
          "output_type": "stream",
          "name": "stderr",
          "text": [
            "  7%|▋         | 944/12601 [02:21<40:48,  4.76it/s]"
          ]
        },
        {
          "output_type": "stream",
          "name": "stdout",
          "text": [
            "data saved\n"
          ]
        },
        {
          "output_type": "stream",
          "name": "stderr",
          "text": [
            "  8%|▊         | 1010/12601 [02:31<28:35,  6.76it/s]"
          ]
        },
        {
          "output_type": "stream",
          "name": "stdout",
          "text": [
            "data saved\n"
          ]
        },
        {
          "output_type": "stream",
          "name": "stderr",
          "text": [
            "  8%|▊         | 1070/12601 [02:41<41:54,  4.59it/s]"
          ]
        },
        {
          "output_type": "stream",
          "name": "stdout",
          "text": [
            "data saved\n"
          ]
        },
        {
          "output_type": "stream",
          "name": "stderr",
          "text": [
            "  9%|▉         | 1140/12601 [02:51<29:46,  6.42it/s]"
          ]
        },
        {
          "output_type": "stream",
          "name": "stdout",
          "text": [
            "data saved\n"
          ]
        },
        {
          "output_type": "stream",
          "name": "stderr",
          "text": [
            " 10%|▉         | 1200/12601 [03:01<35:46,  5.31it/s]"
          ]
        },
        {
          "output_type": "stream",
          "name": "stdout",
          "text": [
            "data saved\n"
          ]
        },
        {
          "output_type": "stream",
          "name": "stderr",
          "text": [
            " 10%|█         | 1283/12601 [03:11<23:33,  8.01it/s]"
          ]
        },
        {
          "output_type": "stream",
          "name": "stdout",
          "text": [
            "data saved\n"
          ]
        },
        {
          "output_type": "stream",
          "name": "stderr",
          "text": [
            " 11%|█         | 1349/12601 [03:22<23:18,  8.05it/s]"
          ]
        },
        {
          "output_type": "stream",
          "name": "stdout",
          "text": [
            "data saved\n"
          ]
        },
        {
          "output_type": "stream",
          "name": "stderr",
          "text": [
            " 11%|█▏        | 1419/12601 [03:32<39:39,  4.70it/s]"
          ]
        },
        {
          "output_type": "stream",
          "name": "stdout",
          "text": [
            "data saved\n"
          ]
        },
        {
          "output_type": "stream",
          "name": "stderr",
          "text": [
            " 12%|█▏        | 1487/12601 [03:42<26:50,  6.90it/s]"
          ]
        },
        {
          "output_type": "stream",
          "name": "stdout",
          "text": [
            "data saved\n"
          ]
        },
        {
          "output_type": "stream",
          "name": "stderr",
          "text": [
            " 12%|█▏        | 1551/12601 [03:52<32:21,  5.69it/s]"
          ]
        },
        {
          "output_type": "stream",
          "name": "stdout",
          "text": [
            "data saved\n"
          ]
        },
        {
          "output_type": "stream",
          "name": "stderr",
          "text": [
            " 13%|█▎        | 1626/12601 [04:02<25:23,  7.20it/s]"
          ]
        },
        {
          "output_type": "stream",
          "name": "stdout",
          "text": [
            "data saved\n"
          ]
        },
        {
          "output_type": "stream",
          "name": "stderr",
          "text": [
            " 13%|█▎        | 1689/12601 [04:12<27:49,  6.53it/s]"
          ]
        },
        {
          "output_type": "stream",
          "name": "stdout",
          "text": [
            "data saved\n"
          ]
        },
        {
          "output_type": "stream",
          "name": "stderr",
          "text": [
            " 14%|█▍        | 1770/12601 [04:22<29:51,  6.05it/s]"
          ]
        },
        {
          "output_type": "stream",
          "name": "stdout",
          "text": [
            "data saved\n"
          ]
        },
        {
          "output_type": "stream",
          "name": "stderr",
          "text": [
            " 15%|█▍        | 1834/12601 [04:32<27:54,  6.43it/s]"
          ]
        },
        {
          "output_type": "stream",
          "name": "stdout",
          "text": [
            "data saved\n"
          ]
        },
        {
          "output_type": "stream",
          "name": "stderr",
          "text": [
            " 15%|█▌        | 1905/12601 [04:42<27:51,  6.40it/s]"
          ]
        },
        {
          "output_type": "stream",
          "name": "stdout",
          "text": [
            "data saved\n"
          ]
        },
        {
          "output_type": "stream",
          "name": "stderr",
          "text": [
            " 16%|█▌        | 1976/12601 [04:53<23:53,  7.41it/s]"
          ]
        },
        {
          "output_type": "stream",
          "name": "stdout",
          "text": [
            "data saved\n"
          ]
        },
        {
          "output_type": "stream",
          "name": "stderr",
          "text": [
            " 16%|█▌        | 2041/12601 [05:03<38:20,  4.59it/s]"
          ]
        },
        {
          "output_type": "stream",
          "name": "stdout",
          "text": [
            "data saved\n"
          ]
        },
        {
          "output_type": "stream",
          "name": "stderr",
          "text": [
            " 17%|█▋        | 2113/12601 [05:13<25:36,  6.83it/s]"
          ]
        },
        {
          "output_type": "stream",
          "name": "stdout",
          "text": [
            "data saved\n"
          ]
        },
        {
          "output_type": "stream",
          "name": "stderr",
          "text": [
            " 17%|█▋        | 2176/12601 [05:23<23:43,  7.32it/s]"
          ]
        },
        {
          "output_type": "stream",
          "name": "stdout",
          "text": [
            "data saved\n"
          ]
        },
        {
          "output_type": "stream",
          "name": "stderr",
          "text": [
            " 18%|█▊        | 2256/12601 [05:33<33:02,  5.22it/s]"
          ]
        },
        {
          "output_type": "stream",
          "name": "stdout",
          "text": [
            "data saved\n"
          ]
        },
        {
          "output_type": "stream",
          "name": "stderr",
          "text": [
            " 18%|█▊        | 2322/12601 [05:43<23:35,  7.26it/s]"
          ]
        },
        {
          "output_type": "stream",
          "name": "stdout",
          "text": [
            "data saved\n"
          ]
        },
        {
          "output_type": "stream",
          "name": "stderr",
          "text": [
            " 19%|█▉        | 2394/12601 [05:53<37:18,  4.56it/s]"
          ]
        },
        {
          "output_type": "stream",
          "name": "stdout",
          "text": [
            "data saved\n"
          ]
        },
        {
          "output_type": "stream",
          "name": "stderr",
          "text": [
            " 20%|█▉        | 2467/12601 [06:04<23:17,  7.25it/s]"
          ]
        },
        {
          "output_type": "stream",
          "name": "stdout",
          "text": [
            "data saved\n"
          ]
        },
        {
          "output_type": "stream",
          "name": "stderr",
          "text": [
            " 20%|██        | 2530/12601 [06:13<29:13,  5.74it/s]"
          ]
        },
        {
          "output_type": "stream",
          "name": "stdout",
          "text": [
            "data saved\n"
          ]
        },
        {
          "output_type": "stream",
          "name": "stderr",
          "text": [
            " 21%|██        | 2606/12601 [06:24<23:55,  6.96it/s]"
          ]
        },
        {
          "output_type": "stream",
          "name": "stdout",
          "text": [
            "data saved\n"
          ]
        },
        {
          "output_type": "stream",
          "name": "stderr",
          "text": [
            " 21%|██        | 2667/12601 [06:34<22:11,  7.46it/s]"
          ]
        },
        {
          "output_type": "stream",
          "name": "stdout",
          "text": [
            "data saved\n"
          ]
        },
        {
          "output_type": "stream",
          "name": "stderr",
          "text": [
            " 22%|██▏       | 2741/12601 [06:44<31:38,  5.19it/s]"
          ]
        },
        {
          "output_type": "stream",
          "name": "stdout",
          "text": [
            "data saved\n"
          ]
        },
        {
          "output_type": "stream",
          "name": "stderr",
          "text": [
            " 22%|██▏       | 2806/12601 [06:54<21:07,  7.73it/s]"
          ]
        },
        {
          "output_type": "stream",
          "name": "stdout",
          "text": [
            "data saved\n"
          ]
        },
        {
          "output_type": "stream",
          "name": "stderr",
          "text": [
            " 23%|██▎       | 2879/12601 [07:04<36:27,  4.44it/s]"
          ]
        },
        {
          "output_type": "stream",
          "name": "stdout",
          "text": [
            "data saved\n"
          ]
        },
        {
          "output_type": "stream",
          "name": "stderr",
          "text": [
            " 23%|██▎       | 2951/12601 [07:14<23:56,  6.72it/s]"
          ]
        },
        {
          "output_type": "stream",
          "name": "stdout",
          "text": [
            "data saved\n"
          ]
        },
        {
          "output_type": "stream",
          "name": "stderr",
          "text": [
            " 24%|██▍       | 3015/12601 [07:24<25:37,  6.24it/s]"
          ]
        },
        {
          "output_type": "stream",
          "name": "stdout",
          "text": [
            "data saved\n"
          ]
        },
        {
          "output_type": "stream",
          "name": "stderr",
          "text": [
            " 25%|██▍       | 3093/12601 [07:34<21:18,  7.44it/s]"
          ]
        },
        {
          "output_type": "stream",
          "name": "stdout",
          "text": [
            "data saved\n"
          ]
        },
        {
          "output_type": "stream",
          "name": "stderr",
          "text": [
            " 25%|██▌       | 3156/12601 [07:44<21:34,  7.30it/s]"
          ]
        },
        {
          "output_type": "stream",
          "name": "stdout",
          "text": [
            "data saved\n"
          ]
        },
        {
          "output_type": "stream",
          "name": "stderr",
          "text": [
            " 26%|██▌       | 3221/12601 [07:55<36:25,  4.29it/s]"
          ]
        },
        {
          "output_type": "stream",
          "name": "stdout",
          "text": [
            "data saved\n"
          ]
        },
        {
          "output_type": "stream",
          "name": "stderr",
          "text": [
            " 26%|██▌       | 3257/12601 [08:05<31:04,  5.01it/s]"
          ]
        },
        {
          "output_type": "stream",
          "name": "stdout",
          "text": [
            "data saved\n"
          ]
        },
        {
          "output_type": "stream",
          "name": "stderr",
          "text": [
            " 26%|██▋       | 3334/12601 [08:15<22:11,  6.96it/s]"
          ]
        },
        {
          "output_type": "stream",
          "name": "stdout",
          "text": [
            "data saved\n"
          ]
        },
        {
          "output_type": "stream",
          "name": "stderr",
          "text": [
            " 27%|██▋       | 3395/12601 [08:25<23:22,  6.56it/s]"
          ]
        },
        {
          "output_type": "stream",
          "name": "stdout",
          "text": [
            "data saved\n"
          ]
        },
        {
          "output_type": "stream",
          "name": "stderr",
          "text": [
            " 27%|██▋       | 3465/12601 [08:35<35:45,  4.26it/s]"
          ]
        },
        {
          "output_type": "stream",
          "name": "stdout",
          "text": [
            "data saved\n"
          ]
        },
        {
          "output_type": "stream",
          "name": "stderr",
          "text": [
            " 28%|██▊       | 3538/12601 [08:46<19:45,  7.64it/s]"
          ]
        },
        {
          "output_type": "stream",
          "name": "stdout",
          "text": [
            "data saved\n"
          ]
        },
        {
          "output_type": "stream",
          "name": "stderr",
          "text": [
            " 29%|██▊       | 3608/12601 [08:56<27:48,  5.39it/s]"
          ]
        },
        {
          "output_type": "stream",
          "name": "stdout",
          "text": [
            "data saved\n"
          ]
        },
        {
          "output_type": "stream",
          "name": "stderr",
          "text": [
            " 29%|██▉       | 3683/12601 [09:06<22:17,  6.67it/s]"
          ]
        },
        {
          "output_type": "stream",
          "name": "stdout",
          "text": [
            "data saved\n"
          ]
        },
        {
          "output_type": "stream",
          "name": "stderr",
          "text": [
            " 30%|██▉       | 3740/12601 [09:16<23:43,  6.23it/s]"
          ]
        },
        {
          "output_type": "stream",
          "name": "stdout",
          "text": [
            "data saved\n"
          ]
        },
        {
          "output_type": "stream",
          "name": "stderr",
          "text": [
            " 30%|███       | 3815/12601 [09:26<29:02,  5.04it/s]"
          ]
        },
        {
          "output_type": "stream",
          "name": "stdout",
          "text": [
            "data saved\n"
          ]
        },
        {
          "output_type": "stream",
          "name": "stderr",
          "text": [
            " 31%|███       | 3882/12601 [09:36<20:14,  7.18it/s]"
          ]
        },
        {
          "output_type": "stream",
          "name": "stdout",
          "text": [
            "data saved\n"
          ]
        },
        {
          "output_type": "stream",
          "name": "stderr",
          "text": [
            " 31%|███▏      | 3953/12601 [09:47<26:01,  5.54it/s]"
          ]
        },
        {
          "output_type": "stream",
          "name": "stdout",
          "text": [
            "data saved\n"
          ]
        },
        {
          "output_type": "stream",
          "name": "stderr",
          "text": [
            " 32%|███▏      | 4024/12601 [09:57<21:02,  6.79it/s]"
          ]
        },
        {
          "output_type": "stream",
          "name": "stdout",
          "text": [
            "data saved\n"
          ]
        },
        {
          "output_type": "stream",
          "name": "stderr",
          "text": [
            " 32%|███▏      | 4086/12601 [10:07<31:56,  4.44it/s]"
          ]
        },
        {
          "output_type": "stream",
          "name": "stdout",
          "text": [
            "data saved\n"
          ]
        },
        {
          "output_type": "stream",
          "name": "stderr",
          "text": [
            " 33%|███▎      | 4166/12601 [10:17<18:36,  7.55it/s]"
          ]
        },
        {
          "output_type": "stream",
          "name": "stdout",
          "text": [
            "data saved\n"
          ]
        },
        {
          "output_type": "stream",
          "name": "stderr",
          "text": [
            " 34%|███▎      | 4230/12601 [10:27<17:25,  8.01it/s]"
          ]
        },
        {
          "output_type": "stream",
          "name": "stdout",
          "text": [
            "data saved\n"
          ]
        },
        {
          "output_type": "stream",
          "name": "stderr",
          "text": [
            " 34%|███▍      | 4310/12601 [10:37<27:32,  5.02it/s]"
          ]
        },
        {
          "output_type": "stream",
          "name": "stdout",
          "text": [
            "data saved\n"
          ]
        },
        {
          "output_type": "stream",
          "name": "stderr",
          "text": [
            " 35%|███▍      | 4376/12601 [10:47<17:36,  7.79it/s]"
          ]
        },
        {
          "output_type": "stream",
          "name": "stdout",
          "text": [
            "data saved\n"
          ]
        },
        {
          "output_type": "stream",
          "name": "stderr",
          "text": [
            " 35%|███▌      | 4447/12601 [10:57<25:41,  5.29it/s]"
          ]
        },
        {
          "output_type": "stream",
          "name": "stdout",
          "text": [
            "data saved\n"
          ]
        },
        {
          "output_type": "stream",
          "name": "stderr",
          "text": [
            " 36%|███▌      | 4514/12601 [11:07<22:00,  6.13it/s]"
          ]
        },
        {
          "output_type": "stream",
          "name": "stdout",
          "text": [
            "data saved\n"
          ]
        },
        {
          "output_type": "stream",
          "name": "stderr",
          "text": [
            " 36%|███▋      | 4577/12601 [11:18<27:40,  4.83it/s]"
          ]
        },
        {
          "output_type": "stream",
          "name": "stdout",
          "text": [
            "data saved\n"
          ]
        },
        {
          "output_type": "stream",
          "name": "stderr",
          "text": [
            " 37%|███▋      | 4649/12601 [11:28<17:25,  7.61it/s]"
          ]
        },
        {
          "output_type": "stream",
          "name": "stdout",
          "text": [
            "data saved\n"
          ]
        },
        {
          "output_type": "stream",
          "name": "stderr",
          "text": [
            " 37%|███▋      | 4713/12601 [11:38<18:12,  7.22it/s]"
          ]
        },
        {
          "output_type": "stream",
          "name": "stdout",
          "text": [
            "data saved\n"
          ]
        },
        {
          "output_type": "stream",
          "name": "stderr",
          "text": [
            " 38%|███▊      | 4791/12601 [11:48<26:38,  4.89it/s]"
          ]
        },
        {
          "output_type": "stream",
          "name": "stdout",
          "text": [
            "data saved\n"
          ]
        },
        {
          "output_type": "stream",
          "name": "stderr",
          "text": [
            " 39%|███▊      | 4860/12601 [11:58<18:41,  6.90it/s]"
          ]
        },
        {
          "output_type": "stream",
          "name": "stdout",
          "text": [
            "data saved\n"
          ]
        },
        {
          "output_type": "stream",
          "name": "stderr",
          "text": [
            " 39%|███▉      | 4925/12601 [12:09<32:00,  4.00it/s]"
          ]
        },
        {
          "output_type": "stream",
          "name": "stdout",
          "text": [
            "data saved\n"
          ]
        },
        {
          "output_type": "stream",
          "name": "stderr",
          "text": [
            " 40%|███▉      | 4993/12601 [12:19<18:25,  6.88it/s]"
          ]
        },
        {
          "output_type": "stream",
          "name": "stdout",
          "text": [
            "data saved\n"
          ]
        },
        {
          "output_type": "stream",
          "name": "stderr",
          "text": [
            " 40%|████      | 5052/12601 [12:29<19:38,  6.41it/s]"
          ]
        },
        {
          "output_type": "stream",
          "name": "stdout",
          "text": [
            "data saved\n"
          ]
        },
        {
          "output_type": "stream",
          "name": "stderr",
          "text": [
            " 41%|████      | 5129/12601 [12:39<14:16,  8.73it/s]"
          ]
        },
        {
          "output_type": "stream",
          "name": "stdout",
          "text": [
            "data saved\n"
          ]
        },
        {
          "output_type": "stream",
          "name": "stderr",
          "text": [
            " 41%|████      | 5193/12601 [12:49<18:15,  6.76it/s]"
          ]
        },
        {
          "output_type": "stream",
          "name": "stdout",
          "text": [
            "data saved\n"
          ]
        },
        {
          "output_type": "stream",
          "name": "stderr",
          "text": [
            " 42%|████▏     | 5269/12601 [12:59<27:58,  4.37it/s]"
          ]
        },
        {
          "output_type": "stream",
          "name": "stdout",
          "text": [
            "data saved\n"
          ]
        },
        {
          "output_type": "stream",
          "name": "stderr",
          "text": [
            " 42%|████▏     | 5337/12601 [13:10<16:01,  7.55it/s]"
          ]
        },
        {
          "output_type": "stream",
          "name": "stdout",
          "text": [
            "data saved\n"
          ]
        },
        {
          "output_type": "stream",
          "name": "stderr",
          "text": [
            " 43%|████▎     | 5399/12601 [13:20<26:57,  4.45it/s]"
          ]
        },
        {
          "output_type": "stream",
          "name": "stdout",
          "text": [
            "data saved\n"
          ]
        },
        {
          "output_type": "stream",
          "name": "stderr",
          "text": [
            " 43%|████▎     | 5473/12601 [13:30<16:24,  7.24it/s]"
          ]
        },
        {
          "output_type": "stream",
          "name": "stdout",
          "text": [
            "data saved\n"
          ]
        },
        {
          "output_type": "stream",
          "name": "stderr",
          "text": [
            " 44%|████▍     | 5532/12601 [13:40<22:07,  5.32it/s]"
          ]
        },
        {
          "output_type": "stream",
          "name": "stdout",
          "text": [
            "data saved\n"
          ]
        },
        {
          "output_type": "stream",
          "name": "stderr",
          "text": [
            " 45%|████▍     | 5616/12601 [13:50<20:48,  5.60it/s]"
          ]
        },
        {
          "output_type": "stream",
          "name": "stdout",
          "text": [
            "data saved\n"
          ]
        },
        {
          "output_type": "stream",
          "name": "stderr",
          "text": [
            " 45%|████▌     | 5678/12601 [14:00<16:46,  6.88it/s]"
          ]
        },
        {
          "output_type": "stream",
          "name": "stdout",
          "text": [
            "data saved\n"
          ]
        },
        {
          "output_type": "stream",
          "name": "stderr",
          "text": [
            " 46%|████▌     | 5747/12601 [14:11<26:10,  4.37it/s]"
          ]
        },
        {
          "output_type": "stream",
          "name": "stdout",
          "text": [
            "data saved\n"
          ]
        },
        {
          "output_type": "stream",
          "name": "stderr",
          "text": [
            " 46%|████▌     | 5824/12601 [14:21<13:44,  8.22it/s]"
          ]
        },
        {
          "output_type": "stream",
          "name": "stdout",
          "text": [
            "data saved\n"
          ]
        },
        {
          "output_type": "stream",
          "name": "stderr",
          "text": [
            " 47%|████▋     | 5889/12601 [14:31<20:35,  5.43it/s]"
          ]
        },
        {
          "output_type": "stream",
          "name": "stdout",
          "text": [
            "data saved\n"
          ]
        },
        {
          "output_type": "stream",
          "name": "stderr",
          "text": [
            " 47%|████▋     | 5965/12601 [14:41<18:09,  6.09it/s]"
          ]
        },
        {
          "output_type": "stream",
          "name": "stdout",
          "text": [
            "data saved\n"
          ]
        },
        {
          "output_type": "stream",
          "name": "stderr",
          "text": [
            " 48%|████▊     | 6030/12601 [14:51<17:22,  6.31it/s]"
          ]
        },
        {
          "output_type": "stream",
          "name": "stdout",
          "text": [
            "data saved\n"
          ]
        },
        {
          "output_type": "stream",
          "name": "stderr",
          "text": [
            " 48%|████▊     | 6101/12601 [15:01<27:14,  3.98it/s]"
          ]
        },
        {
          "output_type": "stream",
          "name": "stdout",
          "text": [
            "data saved\n"
          ]
        },
        {
          "output_type": "stream",
          "name": "stderr",
          "text": [
            " 49%|████▉     | 6165/12601 [15:12<12:40,  8.46it/s]"
          ]
        },
        {
          "output_type": "stream",
          "name": "stdout",
          "text": [
            "data saved\n"
          ]
        },
        {
          "output_type": "stream",
          "name": "stderr",
          "text": [
            " 49%|████▉     | 6235/12601 [15:22<20:22,  5.21it/s]"
          ]
        },
        {
          "output_type": "stream",
          "name": "stdout",
          "text": [
            "data saved\n"
          ]
        },
        {
          "output_type": "stream",
          "name": "stderr",
          "text": [
            " 50%|█████     | 6311/12601 [15:32<13:26,  7.80it/s]"
          ]
        },
        {
          "output_type": "stream",
          "name": "stdout",
          "text": [
            "data saved\n"
          ]
        },
        {
          "output_type": "stream",
          "name": "stderr",
          "text": [
            " 51%|█████     | 6376/12601 [15:42<17:39,  5.88it/s]"
          ]
        },
        {
          "output_type": "stream",
          "name": "stdout",
          "text": [
            "data saved\n"
          ]
        },
        {
          "output_type": "stream",
          "name": "stderr",
          "text": [
            " 51%|█████     | 6452/12601 [15:52<13:54,  7.37it/s]"
          ]
        },
        {
          "output_type": "stream",
          "name": "stdout",
          "text": [
            "data saved\n"
          ]
        },
        {
          "output_type": "stream",
          "name": "stderr",
          "text": [
            " 52%|█████▏    | 6513/12601 [16:03<15:55,  6.37it/s]"
          ]
        },
        {
          "output_type": "stream",
          "name": "stdout",
          "text": [
            "data saved\n"
          ]
        },
        {
          "output_type": "stream",
          "name": "stderr",
          "text": [
            " 52%|█████▏    | 6583/12601 [16:13<20:02,  5.00it/s]"
          ]
        },
        {
          "output_type": "stream",
          "name": "stdout",
          "text": [
            "data saved\n"
          ]
        },
        {
          "output_type": "stream",
          "name": "stderr",
          "text": [
            " 53%|█████▎    | 6650/12601 [16:23<15:02,  6.60it/s]"
          ]
        },
        {
          "output_type": "stream",
          "name": "stdout",
          "text": [
            "data saved\n"
          ]
        },
        {
          "output_type": "stream",
          "name": "stderr",
          "text": [
            " 53%|█████▎    | 6720/12601 [16:33<21:59,  4.46it/s]"
          ]
        },
        {
          "output_type": "stream",
          "name": "stdout",
          "text": [
            "data saved\n"
          ]
        },
        {
          "output_type": "stream",
          "name": "stderr",
          "text": [
            " 54%|█████▍    | 6790/12601 [16:43<16:01,  6.05it/s]"
          ]
        },
        {
          "output_type": "stream",
          "name": "stdout",
          "text": [
            "data saved\n"
          ]
        },
        {
          "output_type": "stream",
          "name": "stderr",
          "text": [
            " 54%|█████▍    | 6853/12601 [16:54<19:28,  4.92it/s]"
          ]
        },
        {
          "output_type": "stream",
          "name": "stdout",
          "text": [
            "data saved\n"
          ]
        },
        {
          "output_type": "stream",
          "name": "stderr",
          "text": [
            " 55%|█████▌    | 6932/12601 [17:04<13:26,  7.03it/s]"
          ]
        },
        {
          "output_type": "stream",
          "name": "stdout",
          "text": [
            "data saved\n"
          ]
        },
        {
          "output_type": "stream",
          "name": "stderr",
          "text": [
            " 56%|█████▌    | 7001/12601 [17:14<11:48,  7.90it/s]"
          ]
        },
        {
          "output_type": "stream",
          "name": "stdout",
          "text": [
            "data saved\n"
          ]
        },
        {
          "output_type": "stream",
          "name": "stderr",
          "text": [
            " 56%|█████▌    | 7074/12601 [17:24<23:15,  3.96it/s]"
          ]
        },
        {
          "output_type": "stream",
          "name": "stdout",
          "text": [
            "data saved\n"
          ]
        },
        {
          "output_type": "stream",
          "name": "stderr",
          "text": [
            " 57%|█████▋    | 7143/12601 [17:34<13:34,  6.70it/s]"
          ]
        },
        {
          "output_type": "stream",
          "name": "stdout",
          "text": [
            "data saved\n"
          ]
        },
        {
          "output_type": "stream",
          "name": "stderr",
          "text": [
            " 57%|█████▋    | 7209/12601 [17:44<20:03,  4.48it/s]"
          ]
        },
        {
          "output_type": "stream",
          "name": "stdout",
          "text": [
            "data saved\n"
          ]
        },
        {
          "output_type": "stream",
          "name": "stderr",
          "text": [
            " 58%|█████▊    | 7284/12601 [17:55<11:58,  7.40it/s]"
          ]
        },
        {
          "output_type": "stream",
          "name": "stdout",
          "text": [
            "data saved\n"
          ]
        },
        {
          "output_type": "stream",
          "name": "stderr",
          "text": [
            " 58%|█████▊    | 7341/12601 [18:05<23:26,  3.74it/s]"
          ]
        },
        {
          "output_type": "stream",
          "name": "stdout",
          "text": [
            "data saved\n"
          ]
        },
        {
          "output_type": "stream",
          "name": "stderr",
          "text": [
            " 59%|█████▊    | 7392/12601 [18:15<13:16,  6.54it/s]"
          ]
        },
        {
          "output_type": "stream",
          "name": "stdout",
          "text": [
            "data saved\n"
          ]
        },
        {
          "output_type": "stream",
          "name": "stderr",
          "text": [
            " 59%|█████▉    | 7451/12601 [18:25<12:53,  6.65it/s]"
          ]
        },
        {
          "output_type": "stream",
          "name": "stdout",
          "text": [
            "data saved\n"
          ]
        },
        {
          "output_type": "stream",
          "name": "stderr",
          "text": [
            " 60%|█████▉    | 7530/12601 [18:36<17:29,  4.83it/s]"
          ]
        },
        {
          "output_type": "stream",
          "name": "stdout",
          "text": [
            "data saved\n"
          ]
        },
        {
          "output_type": "stream",
          "name": "stderr",
          "text": [
            " 60%|██████    | 7594/12601 [18:46<13:02,  6.40it/s]"
          ]
        },
        {
          "output_type": "stream",
          "name": "stdout",
          "text": [
            "data saved\n"
          ]
        },
        {
          "output_type": "stream",
          "name": "stderr",
          "text": [
            " 61%|██████    | 7662/12601 [18:56<16:32,  4.97it/s]"
          ]
        },
        {
          "output_type": "stream",
          "name": "stdout",
          "text": [
            "data saved\n"
          ]
        },
        {
          "output_type": "stream",
          "name": "stderr",
          "text": [
            " 61%|██████▏   | 7735/12601 [19:06<12:33,  6.46it/s]"
          ]
        },
        {
          "output_type": "stream",
          "name": "stdout",
          "text": [
            "data saved\n"
          ]
        },
        {
          "output_type": "stream",
          "name": "stderr",
          "text": [
            " 62%|██████▏   | 7769/12601 [19:17<30:26,  2.65it/s]"
          ]
        },
        {
          "output_type": "stream",
          "name": "stdout",
          "text": [
            "data saved\n"
          ]
        },
        {
          "output_type": "stream",
          "name": "stderr",
          "text": [
            " 62%|██████▏   | 7811/12601 [19:27<40:22,  1.98it/s]"
          ]
        },
        {
          "output_type": "stream",
          "name": "stdout",
          "text": [
            "data saved\n"
          ]
        },
        {
          "output_type": "stream",
          "name": "stderr",
          "text": [
            " 62%|██████▏   | 7866/12601 [19:38<13:18,  5.93it/s]"
          ]
        },
        {
          "output_type": "stream",
          "name": "stdout",
          "text": [
            "data saved\n"
          ]
        },
        {
          "output_type": "stream",
          "name": "stderr",
          "text": [
            " 63%|██████▎   | 7939/12601 [19:48<17:03,  4.55it/s]"
          ]
        },
        {
          "output_type": "stream",
          "name": "stdout",
          "text": [
            "data saved\n"
          ]
        },
        {
          "output_type": "stream",
          "name": "stderr",
          "text": [
            " 64%|██████▎   | 8006/12601 [19:58<11:03,  6.93it/s]"
          ]
        },
        {
          "output_type": "stream",
          "name": "stdout",
          "text": [
            "data saved\n"
          ]
        },
        {
          "output_type": "stream",
          "name": "stderr",
          "text": [
            " 64%|██████▍   | 8072/12601 [20:08<14:17,  5.28it/s]"
          ]
        },
        {
          "output_type": "stream",
          "name": "stdout",
          "text": [
            "data saved\n"
          ]
        },
        {
          "output_type": "stream",
          "name": "stderr",
          "text": [
            " 65%|██████▍   | 8147/12601 [20:19<10:25,  7.12it/s]"
          ]
        },
        {
          "output_type": "stream",
          "name": "stdout",
          "text": [
            "data saved\n"
          ]
        },
        {
          "output_type": "stream",
          "name": "stderr",
          "text": [
            " 65%|██████▌   | 8208/12601 [20:29<10:55,  6.70it/s]"
          ]
        },
        {
          "output_type": "stream",
          "name": "stdout",
          "text": [
            "data saved\n"
          ]
        },
        {
          "output_type": "stream",
          "name": "stderr",
          "text": [
            " 66%|██████▌   | 8280/12601 [20:39<13:01,  5.53it/s]"
          ]
        },
        {
          "output_type": "stream",
          "name": "stdout",
          "text": [
            "data saved\n"
          ]
        },
        {
          "output_type": "stream",
          "name": "stderr",
          "text": [
            " 66%|██████▌   | 8345/12601 [20:49<11:36,  6.11it/s]"
          ]
        },
        {
          "output_type": "stream",
          "name": "stdout",
          "text": [
            "data saved\n"
          ]
        },
        {
          "output_type": "stream",
          "name": "stderr",
          "text": [
            " 67%|██████▋   | 8416/12601 [20:59<12:41,  5.50it/s]"
          ]
        },
        {
          "output_type": "stream",
          "name": "stdout",
          "text": [
            "data saved\n"
          ]
        },
        {
          "output_type": "stream",
          "name": "stderr",
          "text": [
            " 67%|██████▋   | 8481/12601 [21:10<09:07,  7.53it/s]"
          ]
        },
        {
          "output_type": "stream",
          "name": "stdout",
          "text": [
            "data saved\n"
          ]
        },
        {
          "output_type": "stream",
          "name": "stderr",
          "text": [
            " 68%|██████▊   | 8551/12601 [21:20<11:05,  6.08it/s]"
          ]
        },
        {
          "output_type": "stream",
          "name": "stdout",
          "text": [
            "data saved\n"
          ]
        },
        {
          "output_type": "stream",
          "name": "stderr",
          "text": [
            " 68%|██████▊   | 8624/12601 [21:30<10:53,  6.09it/s]"
          ]
        },
        {
          "output_type": "stream",
          "name": "stdout",
          "text": [
            "data saved\n"
          ]
        },
        {
          "output_type": "stream",
          "name": "stderr",
          "text": [
            " 69%|██████▉   | 8690/12601 [21:40<09:34,  6.81it/s]"
          ]
        },
        {
          "output_type": "stream",
          "name": "stdout",
          "text": [
            "data saved\n"
          ]
        },
        {
          "output_type": "stream",
          "name": "stderr",
          "text": [
            " 70%|██████▉   | 8761/12601 [21:50<13:30,  4.74it/s]"
          ]
        },
        {
          "output_type": "stream",
          "name": "stdout",
          "text": [
            "data saved\n"
          ]
        },
        {
          "output_type": "stream",
          "name": "stderr",
          "text": [
            " 70%|███████   | 8825/12601 [22:00<09:19,  6.75it/s]"
          ]
        },
        {
          "output_type": "stream",
          "name": "stdout",
          "text": [
            "data saved\n"
          ]
        },
        {
          "output_type": "stream",
          "name": "stderr",
          "text": [
            " 71%|███████   | 8894/12601 [22:10<13:45,  4.49it/s]"
          ]
        },
        {
          "output_type": "stream",
          "name": "stdout",
          "text": [
            "data saved\n"
          ]
        },
        {
          "output_type": "stream",
          "name": "stderr",
          "text": [
            " 71%|███████   | 8960/12601 [22:21<08:27,  7.18it/s]"
          ]
        },
        {
          "output_type": "stream",
          "name": "stdout",
          "text": [
            "data saved\n"
          ]
        },
        {
          "output_type": "stream",
          "name": "stderr",
          "text": [
            " 72%|███████▏  | 9019/12601 [22:31<15:40,  3.81it/s]"
          ]
        },
        {
          "output_type": "stream",
          "name": "stdout",
          "text": [
            "data saved\n"
          ]
        },
        {
          "output_type": "stream",
          "name": "stderr",
          "text": [
            " 72%|███████▏  | 9102/12601 [22:41<08:30,  6.85it/s]"
          ]
        },
        {
          "output_type": "stream",
          "name": "stdout",
          "text": [
            "data saved\n"
          ]
        },
        {
          "output_type": "stream",
          "name": "stderr",
          "text": [
            " 73%|███████▎  | 9165/12601 [22:51<08:12,  6.97it/s]"
          ]
        },
        {
          "output_type": "stream",
          "name": "stdout",
          "text": [
            "data saved\n"
          ]
        },
        {
          "output_type": "stream",
          "name": "stderr",
          "text": [
            " 73%|███████▎  | 9238/12601 [23:02<12:24,  4.52it/s]"
          ]
        },
        {
          "output_type": "stream",
          "name": "stdout",
          "text": [
            "data saved\n"
          ]
        },
        {
          "output_type": "stream",
          "name": "stderr",
          "text": [
            " 74%|███████▍  | 9302/12601 [23:12<08:03,  6.82it/s]"
          ]
        },
        {
          "output_type": "stream",
          "name": "stdout",
          "text": [
            "data saved\n"
          ]
        },
        {
          "output_type": "stream",
          "name": "stderr",
          "text": [
            " 74%|███████▍  | 9367/12601 [23:22<11:33,  4.66it/s]"
          ]
        },
        {
          "output_type": "stream",
          "name": "stdout",
          "text": [
            "data saved\n"
          ]
        },
        {
          "output_type": "stream",
          "name": "stderr",
          "text": [
            " 75%|███████▍  | 9441/12601 [23:32<08:18,  6.34it/s]"
          ]
        },
        {
          "output_type": "stream",
          "name": "stdout",
          "text": [
            "data saved\n"
          ]
        },
        {
          "output_type": "stream",
          "name": "stderr",
          "text": [
            " 75%|███████▌  | 9498/12601 [23:43<08:21,  6.19it/s]"
          ]
        },
        {
          "output_type": "stream",
          "name": "stdout",
          "text": [
            "data saved\n"
          ]
        },
        {
          "output_type": "stream",
          "name": "stderr",
          "text": [
            " 76%|███████▌  | 9570/12601 [23:53<08:31,  5.93it/s]"
          ]
        },
        {
          "output_type": "stream",
          "name": "stdout",
          "text": [
            "data saved\n"
          ]
        },
        {
          "output_type": "stream",
          "name": "stderr",
          "text": [
            " 76%|███████▋  | 9634/12601 [24:03<08:14,  6.00it/s]"
          ]
        },
        {
          "output_type": "stream",
          "name": "stdout",
          "text": [
            "data saved\n"
          ]
        },
        {
          "output_type": "stream",
          "name": "stderr",
          "text": [
            " 77%|███████▋  | 9712/12601 [24:13<09:14,  5.21it/s]"
          ]
        },
        {
          "output_type": "stream",
          "name": "stdout",
          "text": [
            "data saved\n"
          ]
        },
        {
          "output_type": "stream",
          "name": "stderr",
          "text": [
            " 78%|███████▊  | 9774/12601 [24:23<07:58,  5.91it/s]"
          ]
        },
        {
          "output_type": "stream",
          "name": "stdout",
          "text": [
            "data saved\n"
          ]
        },
        {
          "output_type": "stream",
          "name": "stderr",
          "text": [
            " 78%|███████▊  | 9842/12601 [24:33<10:03,  4.57it/s]"
          ]
        },
        {
          "output_type": "stream",
          "name": "stdout",
          "text": [
            "data saved\n"
          ]
        },
        {
          "output_type": "stream",
          "name": "stderr",
          "text": [
            " 79%|███████▊  | 9916/12601 [24:44<07:04,  6.33it/s]"
          ]
        },
        {
          "output_type": "stream",
          "name": "stdout",
          "text": [
            "data saved\n"
          ]
        },
        {
          "output_type": "stream",
          "name": "stderr",
          "text": [
            " 79%|███████▉  | 9981/12601 [24:54<07:29,  5.83it/s]"
          ]
        },
        {
          "output_type": "stream",
          "name": "stdout",
          "text": [
            "data saved\n"
          ]
        },
        {
          "output_type": "stream",
          "name": "stderr",
          "text": [
            " 80%|███████▉  | 10056/12601 [25:04<07:37,  5.57it/s]"
          ]
        },
        {
          "output_type": "stream",
          "name": "stdout",
          "text": [
            "data saved\n"
          ]
        },
        {
          "output_type": "stream",
          "name": "stderr",
          "text": [
            " 80%|████████  | 10116/12601 [25:14<06:36,  6.27it/s]"
          ]
        },
        {
          "output_type": "stream",
          "name": "stdout",
          "text": [
            "data saved\n"
          ]
        },
        {
          "output_type": "stream",
          "name": "stderr",
          "text": [
            " 81%|████████  | 10189/12601 [25:25<09:15,  4.34it/s]"
          ]
        },
        {
          "output_type": "stream",
          "name": "stdout",
          "text": [
            "data saved\n"
          ]
        },
        {
          "output_type": "stream",
          "name": "stderr",
          "text": [
            " 81%|████████▏ | 10258/12601 [25:35<06:25,  6.08it/s]"
          ]
        },
        {
          "output_type": "stream",
          "name": "stdout",
          "text": [
            "data saved\n"
          ]
        },
        {
          "output_type": "stream",
          "name": "stderr",
          "text": [
            " 82%|████████▏ | 10323/12601 [25:45<08:34,  4.43it/s]"
          ]
        },
        {
          "output_type": "stream",
          "name": "stdout",
          "text": [
            "data saved\n"
          ]
        },
        {
          "output_type": "stream",
          "name": "stderr",
          "text": [
            " 83%|████████▎ | 10400/12601 [25:55<04:56,  7.42it/s]"
          ]
        },
        {
          "output_type": "stream",
          "name": "stdout",
          "text": [
            "data saved\n"
          ]
        },
        {
          "output_type": "stream",
          "name": "stderr",
          "text": [
            " 83%|████████▎ | 10459/12601 [26:05<04:58,  7.17it/s]"
          ]
        },
        {
          "output_type": "stream",
          "name": "stdout",
          "text": [
            "data saved\n"
          ]
        },
        {
          "output_type": "stream",
          "name": "stderr",
          "text": [
            " 84%|████████▎ | 10538/12601 [26:16<06:26,  5.33it/s]"
          ]
        },
        {
          "output_type": "stream",
          "name": "stdout",
          "text": [
            "data saved\n"
          ]
        },
        {
          "output_type": "stream",
          "name": "stderr",
          "text": [
            " 84%|████████▍ | 10604/12601 [26:26<04:52,  6.82it/s]"
          ]
        },
        {
          "output_type": "stream",
          "name": "stdout",
          "text": [
            "data saved\n"
          ]
        },
        {
          "output_type": "stream",
          "name": "stderr",
          "text": [
            " 85%|████████▍ | 10669/12601 [26:36<07:28,  4.31it/s]"
          ]
        },
        {
          "output_type": "stream",
          "name": "stdout",
          "text": [
            "data saved\n"
          ]
        },
        {
          "output_type": "stream",
          "name": "stderr",
          "text": [
            " 85%|████████▌ | 10743/12601 [26:46<05:37,  5.50it/s]"
          ]
        },
        {
          "output_type": "stream",
          "name": "stdout",
          "text": [
            "data saved\n"
          ]
        },
        {
          "output_type": "stream",
          "name": "stderr",
          "text": [
            " 86%|████████▌ | 10807/12601 [26:57<06:30,  4.60it/s]"
          ]
        },
        {
          "output_type": "stream",
          "name": "stdout",
          "text": [
            "data saved\n"
          ]
        },
        {
          "output_type": "stream",
          "name": "stderr",
          "text": [
            " 86%|████████▋ | 10884/12601 [27:07<05:02,  5.68it/s]"
          ]
        },
        {
          "output_type": "stream",
          "name": "stdout",
          "text": [
            "data saved\n"
          ]
        },
        {
          "output_type": "stream",
          "name": "stderr",
          "text": [
            " 87%|████████▋ | 10951/12601 [27:17<04:59,  5.52it/s]"
          ]
        },
        {
          "output_type": "stream",
          "name": "stdout",
          "text": [
            "data saved\n"
          ]
        },
        {
          "output_type": "stream",
          "name": "stderr",
          "text": [
            " 88%|████████▊ | 11026/12601 [27:28<06:29,  4.05it/s]"
          ]
        },
        {
          "output_type": "stream",
          "name": "stdout",
          "text": [
            "data saved\n"
          ]
        },
        {
          "output_type": "stream",
          "name": "stderr",
          "text": [
            " 88%|████████▊ | 11091/12601 [27:38<04:16,  5.88it/s]"
          ]
        },
        {
          "output_type": "stream",
          "name": "stdout",
          "text": [
            "data saved\n"
          ]
        },
        {
          "output_type": "stream",
          "name": "stderr",
          "text": [
            " 89%|████████▊ | 11156/12601 [27:48<05:13,  4.62it/s]"
          ]
        },
        {
          "output_type": "stream",
          "name": "stdout",
          "text": [
            "data saved\n"
          ]
        },
        {
          "output_type": "stream",
          "name": "stderr",
          "text": [
            " 89%|████████▉ | 11228/12601 [27:58<04:16,  5.35it/s]"
          ]
        },
        {
          "output_type": "stream",
          "name": "stdout",
          "text": [
            "data saved\n"
          ]
        },
        {
          "output_type": "stream",
          "name": "stderr",
          "text": [
            " 90%|████████▉ | 11289/12601 [28:09<03:16,  6.68it/s]"
          ]
        },
        {
          "output_type": "stream",
          "name": "stdout",
          "text": [
            "data saved\n"
          ]
        },
        {
          "output_type": "stream",
          "name": "stderr",
          "text": [
            " 90%|█████████ | 11361/12601 [28:19<05:15,  3.93it/s]"
          ]
        },
        {
          "output_type": "stream",
          "name": "stdout",
          "text": [
            "data saved\n"
          ]
        },
        {
          "output_type": "stream",
          "name": "stderr",
          "text": [
            " 90%|█████████ | 11398/12601 [28:30<05:15,  3.81it/s]"
          ]
        },
        {
          "output_type": "stream",
          "name": "stdout",
          "text": [
            "data saved\n"
          ]
        },
        {
          "output_type": "stream",
          "name": "stderr",
          "text": [
            " 91%|█████████ | 11478/12601 [28:39<01:52,  9.96it/s]"
          ]
        },
        {
          "output_type": "stream",
          "name": "stdout",
          "text": [
            "data saved\n"
          ]
        },
        {
          "output_type": "stream",
          "name": "stderr",
          "text": [
            " 92%|█████████▏| 11542/12601 [28:50<02:31,  7.00it/s]"
          ]
        },
        {
          "output_type": "stream",
          "name": "stdout",
          "text": [
            "data saved\n"
          ]
        },
        {
          "output_type": "stream",
          "name": "stderr",
          "text": [
            " 92%|█████████▏| 11614/12601 [29:00<04:20,  3.79it/s]"
          ]
        },
        {
          "output_type": "stream",
          "name": "stdout",
          "text": [
            "data saved\n"
          ]
        },
        {
          "output_type": "stream",
          "name": "stderr",
          "text": [
            " 93%|█████████▎| 11681/12601 [29:11<02:52,  5.32it/s]"
          ]
        },
        {
          "output_type": "stream",
          "name": "stdout",
          "text": [
            "data saved\n"
          ]
        },
        {
          "output_type": "stream",
          "name": "stderr",
          "text": [
            " 93%|█████████▎| 11747/12601 [29:21<03:42,  3.84it/s]"
          ]
        },
        {
          "output_type": "stream",
          "name": "stdout",
          "text": [
            "data saved\n"
          ]
        },
        {
          "output_type": "stream",
          "name": "stderr",
          "text": [
            " 94%|█████████▍| 11820/12601 [29:31<02:01,  6.44it/s]"
          ]
        },
        {
          "output_type": "stream",
          "name": "stdout",
          "text": [
            "data saved\n"
          ]
        },
        {
          "output_type": "stream",
          "name": "stderr",
          "text": [
            " 94%|█████████▍| 11880/12601 [29:42<01:54,  6.32it/s]"
          ]
        },
        {
          "output_type": "stream",
          "name": "stdout",
          "text": [
            "data saved\n"
          ]
        },
        {
          "output_type": "stream",
          "name": "stderr",
          "text": [
            " 95%|█████████▍| 11955/12601 [29:52<03:02,  3.55it/s]"
          ]
        },
        {
          "output_type": "stream",
          "name": "stdout",
          "text": [
            "data saved\n"
          ]
        },
        {
          "output_type": "stream",
          "name": "stderr",
          "text": [
            " 95%|█████████▌| 12022/12601 [30:02<01:31,  6.35it/s]"
          ]
        },
        {
          "output_type": "stream",
          "name": "stdout",
          "text": [
            "data saved\n"
          ]
        },
        {
          "output_type": "stream",
          "name": "stderr",
          "text": [
            " 96%|█████████▌| 12091/12601 [30:12<02:01,  4.18it/s]"
          ]
        },
        {
          "output_type": "stream",
          "name": "stdout",
          "text": [
            "data saved\n"
          ]
        },
        {
          "output_type": "stream",
          "name": "stderr",
          "text": [
            " 97%|█████████▋| 12165/12601 [30:23<01:07,  6.44it/s]"
          ]
        },
        {
          "output_type": "stream",
          "name": "stdout",
          "text": [
            "data saved\n"
          ]
        },
        {
          "output_type": "stream",
          "name": "stderr",
          "text": [
            " 97%|█████████▋| 12225/12601 [30:33<01:23,  4.49it/s]"
          ]
        },
        {
          "output_type": "stream",
          "name": "stdout",
          "text": [
            "data saved\n"
          ]
        },
        {
          "output_type": "stream",
          "name": "stderr",
          "text": [
            " 98%|█████████▊| 12298/12601 [30:43<00:55,  5.47it/s]"
          ]
        },
        {
          "output_type": "stream",
          "name": "stdout",
          "text": [
            "data saved\n"
          ]
        },
        {
          "output_type": "stream",
          "name": "stderr",
          "text": [
            " 98%|█████████▊| 12359/12601 [30:53<00:42,  5.73it/s]"
          ]
        },
        {
          "output_type": "stream",
          "name": "stdout",
          "text": [
            "data saved\n"
          ]
        },
        {
          "output_type": "stream",
          "name": "stderr",
          "text": [
            " 99%|█████████▊| 12428/12601 [31:04<00:37,  4.60it/s]"
          ]
        },
        {
          "output_type": "stream",
          "name": "stdout",
          "text": [
            "data saved\n"
          ]
        },
        {
          "output_type": "stream",
          "name": "stderr",
          "text": [
            " 99%|█████████▉| 12495/12601 [31:14<00:15,  7.03it/s]"
          ]
        },
        {
          "output_type": "stream",
          "name": "stdout",
          "text": [
            "data saved\n"
          ]
        },
        {
          "output_type": "stream",
          "name": "stderr",
          "text": [
            "100%|█████████▉| 12558/12601 [31:24<00:10,  4.01it/s]"
          ]
        },
        {
          "output_type": "stream",
          "name": "stdout",
          "text": [
            "data saved\n"
          ]
        },
        {
          "output_type": "stream",
          "name": "stderr",
          "text": [
            "100%|██████████| 12601/12601 [31:31<00:00,  6.66it/s]\n"
          ]
        }
      ],
      "source": [
        "import cv2\n",
        "from tqdm import tqdm\n",
        "from google.colab.patches import cv2_imshow\n",
        "\n",
        "# Initialize a list to store the pose landmarks for each image\n",
        "X = []\n",
        "Y = []\n",
        "\n",
        "# Loop through each image and detect the pose landmarks using MediaPipe\n",
        "start_time = time.time()\n",
        "for image_file in tqdm(images_train):\n",
        "  filename = image_file.split(\"/\")[-1]\n",
        "  if filename not in image_label_map.index:\n",
        "    continue\n",
        "\n",
        "  # Load the image\n",
        "  image = cv2.imread(image_file)\n",
        "\n",
        "  # Convert the image from BGR to RGB\n",
        "  image = cv2.cvtColor(image, cv2.COLOR_BGR2RGB)\n",
        "\n",
        "  for augmented_image in augment_image(image, count=1):\n",
        "    # Detect the pose landmarks\n",
        "    results = mp_pose.process(augmented_image)\n",
        "\n",
        "    # Extract the 3D coordinates of all 33 landmarks and store them in a list\n",
        "    if results.pose_landmarks is not None:\n",
        "      # augmented_image = cv2.cvtColor(augmented_image, cv2.COLOR_RGB2BGR)\n",
        "      # image_with_landmarks = draw_landmarks(augmented_image)\n",
        "      # cv2_imshow(image_with_landmarks)\n",
        "      landmarks_3d = []\n",
        "      for landmark in results.pose_landmarks.landmark:\n",
        "          landmarks_3d.extend([landmark.x, landmark.y, landmark.z])\n",
        "      X.append(landmarks_3d)\n",
        "      Y.append([image_label_map.loc[filename]['label']])\n",
        "    else:\n",
        "      continue      #skip this image if mediapipe can't detect landmarks\n",
        "\n",
        "  if time.time() > start_time + 10:       #save extracted data every 30 seconds\n",
        "    np.save(\"/content/drive/My Drive/X.npy\",X)\n",
        "    np.save(\"/content/drive/My Drive/Y.npy\",Y)\n",
        "    print('data saved')\n",
        "    start_time = time.time()\n",
        "\n",
        "# Convert the list of landmarks into a NumPy array\n",
        "np.save(\"/content/drive/My Drive/X.npy\",X)\n",
        "np.save(\"/content/drive/My Drive/Y.npy\",Y)"
      ]
    },
    {
      "cell_type": "code",
      "source": [
        "X = np.load(\"/content/drive/My Drive/X.npy\",allow_pickle=True)\n",
        "Y = np.load(\"/content/drive/My Drive/Y.npy\",allow_pickle=True)\n",
        "print(X.shape,Y.shape)"
      ],
      "metadata": {
        "colab": {
          "base_uri": "https://localhost:8080/"
        },
        "id": "rKUxkBxu9pZD",
        "outputId": "5b0e7f3d-457c-4d12-8fd8-ae91fe297194"
      },
      "execution_count": null,
      "outputs": [
        {
          "output_type": "stream",
          "name": "stdout",
          "text": [
            "(14786, 99) (14786, 1)\n"
          ]
        }
      ]
    },
    {
      "cell_type": "code",
      "source": [
        "# label_map = {'calling': 'active',\n",
        "#              'clapping': 'active',\n",
        "#              'cycling': 'active',\n",
        "#              'dancing': 'active',\n",
        "#              'fighting': 'active',\n",
        "#              'running': 'active',\n",
        "#              'drinking': 'passive',\n",
        "#              'eating': 'passive',\n",
        "#              'hugging': 'passive',\n",
        "#              'laughing': 'passive',\n",
        "#              'listening_to_music': 'passive',\n",
        "#              'sitting': 'passive',\n",
        "#              'sleeping': 'passive',\n",
        "#              'texting': 'passive',\n",
        "#              'using_laptop': 'passive'}\n",
        "label_map = {'calling': 1,\n",
        "             'clapping': 1,\n",
        "             'cycling': 1,\n",
        "             'dancing': 1,\n",
        "             'fighting': 1,\n",
        "             'running': 1,\n",
        "             'drinking': 0,\n",
        "             'eating': 0,\n",
        "             'hugging': 0,\n",
        "             'laughing': 0,\n",
        "             'listening_to_music': 0,\n",
        "             'sitting': 0,\n",
        "             'sleeping': 0,\n",
        "             'texting': 0,\n",
        "             'using_laptop': 0}\n",
        "replace_func = np.vectorize(lambda x: label_map.get(x, x))\n",
        "\n",
        "Y[:, 0] = replace_func(Y[:, 0])\n",
        "Y = Y.astype('float32')\n",
        "print(Y[:10])"
      ],
      "metadata": {
        "colab": {
          "base_uri": "https://localhost:8080/"
        },
        "id": "Dn-M7_ldd8ES",
        "outputId": "2a44f18f-8733-4a15-8875-3f59b05bbca9"
      },
      "execution_count": null,
      "outputs": [
        {
          "output_type": "stream",
          "name": "stdout",
          "text": [
            "[[0.]\n",
            " [0.]\n",
            " [0.]\n",
            " [0.]\n",
            " [0.]\n",
            " [0.]\n",
            " [0.]\n",
            " [0.]\n",
            " [0.]\n",
            " [0.]]\n"
          ]
        }
      ]
    },
    {
      "cell_type": "code",
      "execution_count": null,
      "metadata": {
        "id": "PF5qoddB6EV7",
        "colab": {
          "base_uri": "https://localhost:8080/"
        },
        "outputId": "18109c19-704b-43e8-8223-4fd26b71b1c3"
      },
      "outputs": [
        {
          "output_type": "stream",
          "name": "stdout",
          "text": [
            "(11828, 99) (11828, 1) (2958, 99) (2958, 1)\n"
          ]
        }
      ],
      "source": [
        "X_train, X_test, Y_train, Y_test = train_test_split(X,Y, test_size=0.2)\n",
        "print(X_train.shape,Y_train.shape,X_test.shape,Y_test.shape)"
      ]
    },
    {
      "cell_type": "code",
      "execution_count": null,
      "metadata": {
        "colab": {
          "base_uri": "https://localhost:8080/"
        },
        "id": "m1pq2c7JDgcs",
        "outputId": "2617b4f1-d7bc-4a8b-f924-cb6fb7df285f"
      },
      "outputs": [
        {
          "output_type": "stream",
          "name": "stdout",
          "text": [
            "Epoch 1/100\n",
            "370/370 [==============================] - 3s 4ms/step - loss: 0.5928 - binary_accuracy: 0.6895 - precision_2: 0.6780 - recall_2: 0.4368 - val_loss: 0.5628 - val_binary_accuracy: 0.7228 - val_precision_2: 0.7822 - val_recall_2: 0.4597\n",
            "Epoch 2/100\n",
            "370/370 [==============================] - 1s 3ms/step - loss: 0.5359 - binary_accuracy: 0.7469 - precision_2: 0.7335 - recall_2: 0.5839 - val_loss: 0.5320 - val_binary_accuracy: 0.7563 - val_precision_2: 0.7756 - val_recall_2: 0.5803\n",
            "Epoch 3/100\n",
            "370/370 [==============================] - 2s 5ms/step - loss: 0.5122 - binary_accuracy: 0.7637 - precision_2: 0.7563 - recall_2: 0.6102 - val_loss: 0.5173 - val_binary_accuracy: 0.7569 - val_precision_2: 0.7193 - val_recall_2: 0.6789\n",
            "Epoch 4/100\n",
            "370/370 [==============================] - 2s 5ms/step - loss: 0.5035 - binary_accuracy: 0.7680 - precision_2: 0.7612 - recall_2: 0.6181 - val_loss: 0.5009 - val_binary_accuracy: 0.7688 - val_precision_2: 0.7564 - val_recall_2: 0.6528\n",
            "Epoch 5/100\n",
            "370/370 [==============================] - 2s 5ms/step - loss: 0.4946 - binary_accuracy: 0.7741 - precision_2: 0.7739 - recall_2: 0.6206 - val_loss: 0.5079 - val_binary_accuracy: 0.7661 - val_precision_2: 0.7989 - val_recall_2: 0.5827\n",
            "Epoch 6/100\n",
            "370/370 [==============================] - 2s 5ms/step - loss: 0.4841 - binary_accuracy: 0.7799 - precision_2: 0.7817 - recall_2: 0.6297 - val_loss: 0.4922 - val_binary_accuracy: 0.7776 - val_precision_2: 0.7998 - val_recall_2: 0.6186\n",
            "Epoch 7/100\n",
            "370/370 [==============================] - 1s 3ms/step - loss: 0.4782 - binary_accuracy: 0.7870 - precision_2: 0.7959 - recall_2: 0.6341 - val_loss: 0.4929 - val_binary_accuracy: 0.7803 - val_precision_2: 0.8174 - val_recall_2: 0.6055\n",
            "Epoch 8/100\n",
            "370/370 [==============================] - 2s 6ms/step - loss: 0.4736 - binary_accuracy: 0.7860 - precision_2: 0.7932 - recall_2: 0.6343 - val_loss: 0.4863 - val_binary_accuracy: 0.7840 - val_precision_2: 0.8372 - val_recall_2: 0.5949\n",
            "Epoch 9/100\n",
            "370/370 [==============================] - 1s 3ms/step - loss: 0.4690 - binary_accuracy: 0.7892 - precision_2: 0.7988 - recall_2: 0.6374 - val_loss: 0.4798 - val_binary_accuracy: 0.7836 - val_precision_2: 0.8215 - val_recall_2: 0.6112\n",
            "Epoch 10/100\n",
            "370/370 [==============================] - 1s 3ms/step - loss: 0.4673 - binary_accuracy: 0.7907 - precision_2: 0.8027 - recall_2: 0.6370 - val_loss: 0.4936 - val_binary_accuracy: 0.7718 - val_precision_2: 0.7537 - val_recall_2: 0.6683\n",
            "Epoch 11/100\n",
            "370/370 [==============================] - 1s 3ms/step - loss: 0.4649 - binary_accuracy: 0.7886 - precision_2: 0.7958 - recall_2: 0.6395 - val_loss: 0.4848 - val_binary_accuracy: 0.7779 - val_precision_2: 0.8476 - val_recall_2: 0.5664\n",
            "Epoch 12/100\n",
            "370/370 [==============================] - 1s 4ms/step - loss: 0.4605 - binary_accuracy: 0.7924 - precision_2: 0.8022 - recall_2: 0.6435 - val_loss: 0.4879 - val_binary_accuracy: 0.7789 - val_precision_2: 0.8559 - val_recall_2: 0.5615\n",
            "Epoch 13/100\n",
            "370/370 [==============================] - 1s 3ms/step - loss: 0.4605 - binary_accuracy: 0.7925 - precision_2: 0.8044 - recall_2: 0.6410 - val_loss: 0.4794 - val_binary_accuracy: 0.7860 - val_precision_2: 0.8221 - val_recall_2: 0.6178\n",
            "Epoch 14/100\n",
            "370/370 [==============================] - 2s 6ms/step - loss: 0.4519 - binary_accuracy: 0.7984 - precision_2: 0.8085 - recall_2: 0.6546 - val_loss: 0.4796 - val_binary_accuracy: 0.7894 - val_precision_2: 0.8304 - val_recall_2: 0.6186\n",
            "Epoch 15/100\n",
            "370/370 [==============================] - 4s 11ms/step - loss: 0.4521 - binary_accuracy: 0.7981 - precision_2: 0.8072 - recall_2: 0.6555 - val_loss: 0.4981 - val_binary_accuracy: 0.7728 - val_precision_2: 0.8647 - val_recall_2: 0.5363\n",
            "Epoch 16/100\n",
            "370/370 [==============================] - 2s 5ms/step - loss: 0.4476 - binary_accuracy: 0.7987 - precision_2: 0.8111 - recall_2: 0.6523 - val_loss: 0.4760 - val_binary_accuracy: 0.7833 - val_precision_2: 0.8439 - val_recall_2: 0.5860\n",
            "Epoch 17/100\n",
            "370/370 [==============================] - 2s 4ms/step - loss: 0.4513 - binary_accuracy: 0.7979 - precision_2: 0.8059 - recall_2: 0.6567 - val_loss: 0.4776 - val_binary_accuracy: 0.7880 - val_precision_2: 0.8580 - val_recall_2: 0.5860\n",
            "Epoch 18/100\n",
            "370/370 [==============================] - 1s 4ms/step - loss: 0.4429 - binary_accuracy: 0.8006 - precision_2: 0.8156 - recall_2: 0.6525 - val_loss: 0.4768 - val_binary_accuracy: 0.7904 - val_precision_2: 0.8469 - val_recall_2: 0.6039\n",
            "Epoch 19/100\n",
            "370/370 [==============================] - 1s 3ms/step - loss: 0.4421 - binary_accuracy: 0.8028 - precision_2: 0.8139 - recall_2: 0.6618 - val_loss: 0.4802 - val_binary_accuracy: 0.7813 - val_precision_2: 0.8215 - val_recall_2: 0.6039\n",
            "Epoch 20/100\n",
            "370/370 [==============================] - 1s 4ms/step - loss: 0.4390 - binary_accuracy: 0.8031 - precision_2: 0.8128 - recall_2: 0.6643 - val_loss: 0.4688 - val_binary_accuracy: 0.7887 - val_precision_2: 0.7894 - val_recall_2: 0.6691\n",
            "Epoch 21/100\n",
            "370/370 [==============================] - 1s 3ms/step - loss: 0.4369 - binary_accuracy: 0.8072 - precision_2: 0.8188 - recall_2: 0.6695 - val_loss: 0.4706 - val_binary_accuracy: 0.7853 - val_precision_2: 0.7891 - val_recall_2: 0.6585\n",
            "Epoch 22/100\n",
            "370/370 [==============================] - 1s 3ms/step - loss: 0.4342 - binary_accuracy: 0.8041 - precision_2: 0.8126 - recall_2: 0.6679 - val_loss: 0.4742 - val_binary_accuracy: 0.7874 - val_precision_2: 0.7810 - val_recall_2: 0.6773\n",
            "Epoch 23/100\n",
            "370/370 [==============================] - 1s 4ms/step - loss: 0.4328 - binary_accuracy: 0.8060 - precision_2: 0.8116 - recall_2: 0.6752 - val_loss: 0.4738 - val_binary_accuracy: 0.7850 - val_precision_2: 0.7994 - val_recall_2: 0.6430\n",
            "Epoch 24/100\n",
            "370/370 [==============================] - 1s 4ms/step - loss: 0.4315 - binary_accuracy: 0.8076 - precision_2: 0.8150 - recall_2: 0.6758 - val_loss: 0.4956 - val_binary_accuracy: 0.7752 - val_precision_2: 0.8747 - val_recall_2: 0.5346\n",
            "Epoch 25/100\n",
            "370/370 [==============================] - 2s 5ms/step - loss: 0.4261 - binary_accuracy: 0.8102 - precision_2: 0.8231 - recall_2: 0.6737 - val_loss: 0.4758 - val_binary_accuracy: 0.7904 - val_precision_2: 0.7915 - val_recall_2: 0.6716\n",
            "Epoch 25: early stopping\n",
            "training time=42.396239042282104\n"
          ]
        }
      ],
      "source": [
        "from keras.callbacks import EarlyStopping\n",
        "from keras import Sequential\n",
        "from keras.layers import Dense\n",
        "from keras.metrics import FalsePositives, FalseNegatives, Precision, Recall\n",
        "\n",
        "start = time.time()\n",
        "\n",
        "#Train Tensorflow\n",
        "model = Sequential()\n",
        "model.add( Dense(60, activation='relu', input_dim=X.shape[1]))\n",
        "model.add( Dense(40, activation='relu'))\n",
        "model.add( Dense(20, activation='relu'))\n",
        "model.add(Dense(Y.shape[1], activation='sigmoid'))\n",
        "model.compile(optimizer='adam', loss='binary_crossentropy', metrics=['binary_accuracy', Precision(),Recall()])\n",
        "\n",
        "\n",
        "# Train the model\n",
        "model.fit(\n",
        "    X_train, \n",
        "    Y_train, \n",
        "    epochs=100, \n",
        "    validation_data=(X_test,Y_test),\n",
        "    shuffle=True,\n",
        "    callbacks=EarlyStopping(monitor='val_loss', patience=5, verbose=1, mode='min'))\n",
        "\n",
        "model.save(f\"/content/drive/MyDrive/model.h5\")\n",
        "\n",
        "print(f\"training time={time.time()-start}\")"
      ]
    },
    {
      "cell_type": "code",
      "execution_count": null,
      "metadata": {
        "id": "vInrKn7pDkTK",
        "colab": {
          "base_uri": "https://localhost:8080/",
          "height": 675
        },
        "outputId": "a79831d6-fa06-4fc5-a737-ca30cb01fb63"
      },
      "outputs": [
        {
          "output_type": "stream",
          "name": "stdout",
          "text": [
            "93/93 [==============================] - 0s 2ms/step\n",
            "[[1514  217]\n",
            " [ 403  824]]\n"
          ]
        },
        {
          "output_type": "display_data",
          "data": {
            "text/plain": [
              "<Figure size 600x600 with 2 Axes>"
            ],
            "image/png": "[encoded data removed]"
          },
          "metadata": {}
        }
      ],
      "source": [
        "from sklearn.metrics import confusion_matrix\n",
        "import matplotlib.pyplot as plt\n",
        "import seaborn as sns\n",
        "\n",
        "#Print accuracy, confusion matrix, etc.\n",
        "def show_confusion_matrix(model,X_test,Y_test):\n",
        "    Y_pred = [y.round() for y in model.predict(X_test)]\n",
        "    Y_true = [y for y in Y_test]\n",
        "    con_mat = confusion_matrix(Y_true, Y_pred)\n",
        "    print(con_mat)\n",
        "    figure = plt.figure(figsize=(6, 6))\n",
        "    sns.set(font_scale=1.1)\n",
        "    sns.heatmap(con_mat, annot=True,cmap=plt.cm.Blues,fmt='d')\n",
        "    plt.tight_layout()\n",
        "    plt.xlabel('True label')\n",
        "    plt.ylabel('Predicted label')\n",
        "    # plt.xticks(np.arange(len(classes)), classes)\n",
        "    # plt.yticks(np.arange(len(classes)), classes)\n",
        "    plt.show()\n",
        "\n",
        "show_confusion_matrix(model,X_test,Y_test)"
      ]
    },
    {
      "cell_type": "code",
      "source": [
        "\n",
        "import cv2\n",
        "import mediapipe as mp\n",
        "import keras\n",
        "\n",
        "# Initialize the MediaPipe Pose model\n",
        "mp_pose = mp.solutions.pose.Pose(\n",
        "    static_image_mode = True,\n",
        "    min_detection_confidence=0.7\n",
        ")\n",
        "\n",
        "model = keras.models.load_model(\"model.h5\")\n",
        "\n",
        "\n",
        "def predict(features):\n",
        "    model = keras.models.load_model(\"model.h5\")\n",
        "\n",
        "    # Make predictions on new data\n",
        "    return model.predict([features])[0]\n",
        "\n",
        "# create OpenCV video capture object\n",
        "cap = cv2.VideoCapture('exercise_video_short.mp4')\n",
        "\n",
        "def draw_landmarks(image):\n",
        "  mp.solutions.drawing_utils.draw_landmarks(\n",
        "              image,\n",
        "              results.pose_landmarks,\n",
        "              mp.solutions.pose.POSE_CONNECTIONS)\n",
        "  return image\n",
        "\n",
        "fourcc = cv2.VideoWriter_fourcc(*'mp4v')\n",
        "fps = 25.0\n",
        "width = int(cap.get(cv2.CAP_PROP_FRAME_WIDTH))\n",
        "height = int(cap.get(cv2.CAP_PROP_FRAME_HEIGHT))\n",
        "out = cv2.VideoWriter(f'output.mp4', fourcc, fps, (width, height))\n",
        "\n",
        "video_size = 0\n",
        "while video_size<25*20:              #record 10s @ 25fps\n",
        "    ret, image = cap.read()\n",
        "    if ret:\n",
        "        image = cv2.cvtColor(image, cv2.COLOR_BGR2RGB)\n",
        "        results = mp_pose.process(image)\n",
        "        image = cv2.cvtColor(image, cv2.COLOR_RGB2BGR)\n",
        "\n",
        "        # Extract the 3D coordinates of all 33 landmarks and store them in a list\n",
        "        if results.pose_landmarks is not None:\n",
        "            image = draw_landmarks(image)\n",
        "            landmarks_3d = []\n",
        "            for landmark in results.pose_landmarks.landmark:\n",
        "                landmarks_3d.extend([landmark.x, landmark.y, landmark.z])\n",
        "\n",
        "            state = predict(landmarks_3d)\n",
        "            frame = cv2.putText(image, f'Class: {\"active\" if state>.5 else \"passive\"} ({state})', (25, 50), fontFace=cv2.FONT_HERSHEY_SIMPLEX,\n",
        "                                fontScale=2.0, color=(0, 255, 0), thickness=2)\n",
        "\n",
        "            cv2.imshow('video', image)\n",
        "            out.write(image)\n",
        "            video_size += 1\n",
        "            if cv2.waitKey(1) & 0xFF == ord('q'):\n",
        "                break\n",
        "    else:\n",
        "        break\n",
        "\n",
        "out.release()\n",
        "cap.release()\n",
        "cv2.destroyAllWindows()"
      ],
      "metadata": {
        "id": "f9MDlFa8MK3s"
      },
      "execution_count": null,
      "outputs": []
    }
  ],
  "metadata": {
    "colab": {
      "provenance": []
    },
    "kernelspec": {
      "display_name": "Python 3",
      "name": "python3"
    },
    "language_info": {
      "name": "python"
    },
    "accelerator": "TPU",
    "gpuClass": "standard"
  },
  "nbformat": 4,
  "nbformat_minor": 0
}