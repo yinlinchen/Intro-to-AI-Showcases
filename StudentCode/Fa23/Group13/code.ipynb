{
 "cells": [
  {
   "cell_type": "markdown",
   "id": "ce1691a8-cadf-4314-983a-d5ad0fa0a802",
   "metadata": {},
   "source": [
    "These imports are responsible for setting chess positions and querying the tablebase for win/loss/draw values. They can be downloaded with `pip install python-chess`."
   ]
  },
  {
   "cell_type": "code",
   "execution_count": null,
   "id": "5b29be9b-a769-4abf-9bb7-df59cb52d462",
   "metadata": {},
   "outputs": [],
   "source": [
    "import chess\n",
    "import chess.syzygy\n",
    "import chess.svg"
   ]
  },
  {
   "cell_type": "markdown",
   "id": "484b0277-70da-439d-943f-8e24a3c62787",
   "metadata": {},
   "source": [
    "These functions are used to create all of the board positions that the different pieces can occupy."
   ]
  },
  {
   "cell_type": "code",
   "execution_count": null,
   "id": "2bff01ad-cb08-436b-80ad-30b69bdb0c92",
   "metadata": {},
   "outputs": [],
   "source": [
    "def recursiveLoopNoDupes(takeValues, temp, currIndex, out):\n",
    "    \n",
    "    tempCopy = temp.copy()\n",
    "    \n",
    "    for i in range(0, len(takeValues)):\n",
    "        \n",
    "        tempCopy[currIndex] = takeValues[i]\n",
    "        \n",
    "        if len(set(tempCopy)) == len(tempCopy):\n",
    "            out.append(tempCopy.copy())\n",
    "        \n",
    "        if currIndex != len(tempCopy) - 1:\n",
    "            recursiveLoopNoDupes(takeValues, tempCopy, currIndex + 1, out)\n",
    "            \n",
    "def recursiveLoopAllowDupes(takeValues, temp, currIndex, out):\n",
    "    \n",
    "    tempCopy = temp.copy()\n",
    "    \n",
    "    for i in range(0, len(takeValues)):\n",
    "        \n",
    "        tempCopy[currIndex] = takeValues[i]\n",
    "        \n",
    "        out.append(tempCopy.copy())\n",
    "        \n",
    "        if currIndex != len(tempCopy) - 1:\n",
    "            recursiveLoopAllowDupes(takeValues, tempCopy, currIndex + 1, out)"
   ]
  },
  {
   "cell_type": "markdown",
   "id": "a942d780-2e69-406b-8412-ab30f055bc71",
   "metadata": {},
   "source": [
    "This runs the function to generate every combination of board positions for the number of pieces you specified. For example, with `pieceCount = 3`, it will generate `[[0, 1, 2], [0, 1, 3], [0, 1, 4], ..., [63, 62, 61]]`."
   ]
  },
  {
   "cell_type": "code",
   "execution_count": null,
   "id": "c078eecb-57d0-4441-b61a-82a5b5598d9f",
   "metadata": {},
   "outputs": [],
   "source": [
    "takeValues = range(0, 64) # 64 total squares on a chess board\n",
    "pieceCount = 3 # Change this if you'd like to generate combinations of more than just three pieces (it may take a long time above 4)\n",
    "squares = [0] * pieceCount\n",
    "pieceLocations = []\n",
    "recursiveLoopNoDupes(takeValues, squares, 0, pieceLocations)\n",
    "pieceLocations = [tuple(item) for item in pieceLocations] # Convert to list of tuples for next line\n",
    "pieceLocations = set(pieceLocations) # Convert to set to remove duplicates\n",
    "pieceLocations = [list(item) for item in pieceLocations] # Convert back to list of lists"
   ]
  },
  {
   "cell_type": "markdown",
   "id": "c1e8d867-4cc2-4dae-9043-f5a1a529f6f9",
   "metadata": {},
   "source": [
    "This will generate every permutation of pieces that you specified. For example, for KPvK, you'd have $3! = 6$ different lists for white king, black king, and white pawn, and six more lists for white king, black king, and black pawn."
   ]
  },
  {
   "cell_type": "code",
   "execution_count": null,
   "id": "b245809b-452f-4fa1-8ec6-b1a8e8d03c18",
   "metadata": {},
   "outputs": [],
   "source": [
    "kings = [(6, True), (6, False)] # 1 = pawn, 2 = knight, 3 = bishop, 4 = rook, 5 = queen, 6 = king | True = white, False = black\n",
    "allPieces = [(1, True), (1, False)] # This is for KPvK, change to the next line if you want to have access to all pieces\n",
    "#allPieces = [(1, True), (2, True), (3, True), (4, True), (5, True), (1, False), (2, False), (3, False), (4, False), (5, False)]\n",
    "\n",
    "# The rest of this code gets every permutation of the non-king pieces and then combines them with the kings after\n",
    "takeValues = allPieces\n",
    "temp = [()] * (pieceCount - 2)\n",
    "nonKings = []\n",
    "recursiveLoopAllowDupes(takeValues, temp, 0, nonKings)\n",
    "\n",
    "nonKings = [item for item in nonKings if () not in item]\n",
    "\n",
    "import itertools\n",
    "\n",
    "newNonKings = []\n",
    "for nonKing in nonKings:\n",
    "    \n",
    "    perms = itertools.permutations(nonKing)\n",
    "    \n",
    "    notIn = True\n",
    "    for perm in perms:\n",
    "        if list(perm) in newNonKings:\n",
    "            notIn = False\n",
    "            break\n",
    "            \n",
    "    if notIn:\n",
    "        newNonKings.append(nonKing)\n",
    "        \n",
    "nonKings = newNonKings\n",
    "\n",
    "for nonKing in nonKings:\n",
    "    nonKing.append(kings[0])\n",
    "    nonKing.append(kings[1])\n",
    "    \n",
    "if len(nonKings) == 0:\n",
    "    allPieceCombinations = [kings]\n",
    "    pieces = [kings]\n",
    "else:\n",
    "    allPieceCombinations = nonKings\n",
    "    pieces = allPieceCombinations\n",
    "    \n",
    "allPieceCombinations"
   ]
  },
  {
   "cell_type": "markdown",
   "id": "94990b20-2553-4794-ac2f-97754e2aa31a",
   "metadata": {},
   "source": [
    "This is the final step to generating all of the data. It will loop through every list of pieceLocations and place each permutation of pieces at those locations. In theory, for KPvK, there will be $64 \\times 63 \\times 62 \\times 2 \\times 6 = 2,999,808$ different positions. In practice, about a third of these are illegal (kings too close, kings starting in check, pawns on the very end or beginning of board). For each legal iteration, two matrices (layers) will be created, each one corresponding to a specific type of piece. The first matrix corresponds to the location of the pawn (in this case), and the second corresponds to the locations of the kings. White pieces have a `1` at their square, and black pieces have a `-1`, while all other squares get a `0`.\n",
    "\n",
    "***WARNING: The following code took more than 9 hours to run.*** The code prints roughly every 30 seconds with how far along it is and an estimate of how much longer is left. Each time, it prints, it also attempts to save everything. However, this doesn't actually work. The reason it is still kept is because you might need to pause the code. For some reason, trying to stop the kernel doesn't work, but with the `dump_session` command running, stopping the kernel causes an error and forces the kernel to stop. After it successfully stops ***make sure to run the next line of code***. This is another `dump_session` line, but this time it actually works. Stopping the kernel while saving corrupts the save file, so you won't be able to load it again if need be. ***Make sure to save it again after***. However, as the loop continues, the `dump_session` command will slowly start to take longer each iteration, since the file size is getting bigger. The best thing to do is stop the kernel, make sure to save once more, copy the save and rename it, print out and note the `currentIndex` variable, and restart the kernel to remove all variables. After restarting, replace the `0` in `currentIndex` with whatever value you noted, and start it again. Keep doing this process to keep the loop time fast, and at the end you can load all of them individually and combine them into one variable and perform one last save. Make sure to rename the `outMatrices` and `scores` variables each time you load a save when you're combining them, otherwise you'll overwrite them."
   ]
  },
  {
   "cell_type": "code",
   "execution_count": null,
   "id": "dcb04e1d-99da-463e-8dd2-f5e08078dcd0",
   "metadata": {},
   "outputs": [],
   "source": [
    "currentIndex = 0\n",
    "outMatrices = []\n",
    "scores = []"
   ]
  },
  {
   "cell_type": "code",
   "execution_count": null,
   "id": "b8bc7073-03ea-4b45-a8c0-ee57a0dff447",
   "metadata": {},
   "outputs": [],
   "source": [
    "import numpy as np\n",
    "import itertools\n",
    "import dill\n",
    "\n",
    "def removeIllegalPositions():\n",
    "    \n",
    "    board.turn = chess.WHITE\n",
    "    \n",
    "    global currentIndex\n",
    "    \n",
    "    for MAININDEX in range(currentIndex, len(pieceLocations)):\n",
    "        \n",
    "        currentIndex = MAININDEX\n",
    "        \n",
    "        locations = pieceLocations[MAININDEX]\n",
    "        \n",
    "        if currentIndex % 250 == 0:\n",
    "            print(currentIndex, \"/\", 249984, \"=\", currentIndex / 249984, \"%\")\n",
    "            print(\"Roughly\", (0.13 * (249984 - currentIndex)) / 60, \"minutes left\")\n",
    "            dill.dump_session('SAVEFILE.db')\n",
    "\n",
    "        currentIndex += 1\n",
    "        \n",
    "        for currPieces in allPieceCombinations:\n",
    "                \n",
    "            perms = itertools.permutations(currPieces)\n",
    "            for perm in perms:\n",
    "\n",
    "                board.clear()\n",
    "                continueLoop = False\n",
    "                for (i, location) in enumerate(locations):\n",
    "\n",
    "                    if perm[i][0] == 1:\n",
    "                        if (0 <= location and location <= 7) or (56 <= location and location <= 63):\n",
    "                            continueLoop = True\n",
    "                            break\n",
    "\n",
    "                    board.set_piece_at(location, chess.Piece(perm[i][0], perm[i][1]))\n",
    "                    \n",
    "                if continueLoop:\n",
    "                    continue\n",
    "\n",
    "                caughtException = False\n",
    "                try:\n",
    "                    with chess.syzygy.open_tablebase(\"tablebase/\") as tablebase:\n",
    "                        score = tablebase.probe_wdl(board)\n",
    "                        if score > 0:\n",
    "                            score = 1\n",
    "                        elif score < 0:\n",
    "                            score = -1\n",
    "                            \n",
    "                except:\n",
    "                    caughtException = True\n",
    "                    \n",
    "                if not caughtException:\n",
    "                    \n",
    "                    matrix = np.zeros((2, 8, 8))\n",
    "                    for i in range(0, 2):\n",
    "\n",
    "                        for (index, piece) in enumerate(perm):\n",
    "\n",
    "                            if i == 0 and piece[0] != 1:\n",
    "                                continue\n",
    "                            if i == 1 and piece[0] != 6:\n",
    "                                continue\n",
    "                            else:\n",
    "                                column = 7 - int(locations[index] / 8)\n",
    "                                row = locations[index] % 8\n",
    "                                matrix[i, column, row] = 1 if piece[1] is True else -1\n",
    "                    \n",
    "                    outMatrices.append(matrix)\n",
    "                    scores.append(score)\n",
    "                    \n",
    "removeIllegalPositions()"
   ]
  },
  {
   "cell_type": "markdown",
   "id": "64a9868c-4821-464b-922b-7c1b2c81a866",
   "metadata": {},
   "source": [
    "***MAKE SURE TO RUN THE FOLLOWING LINE AFTER STOPPING THE LOOP***."
   ]
  },
  {
   "cell_type": "code",
   "execution_count": null,
   "id": "9dbd3d3a-5beb-447c-81c7-89bd46a4a0ae",
   "metadata": {},
   "outputs": [],
   "source": [
    "import dill\n",
    "dill.dump_session('SAVEFILE.db')"
   ]
  },
  {
   "cell_type": "markdown",
   "id": "21fe6c02-5009-44be-b1ef-20d41bd4fc02",
   "metadata": {},
   "source": [
    "---\n",
    "\n",
    "At this point, you should have finished the generation process. If you restarted the kernel, the next line will load all of the generated positions (replace the name of the file if you changed it):"
   ]
  },
  {
   "cell_type": "code",
   "execution_count": null,
   "id": "d0e4c090-70c0-495e-b82b-d64cb4cc021b",
   "metadata": {},
   "outputs": [],
   "source": [
    "import dill\n",
    "dill.load_session('FINAL_SAVE.db')"
   ]
  },
  {
   "cell_type": "markdown",
   "id": "45cca4ae-b0e3-4afb-829d-fc724c1d54e9",
   "metadata": {},
   "source": [
    "Let's check out the number of legal positions (I renamed them to `ALL_POSITIONS` and `ALL_SCORES` on my last save):"
   ]
  },
  {
   "cell_type": "code",
   "execution_count": null,
   "id": "051d8d50-daa4-4643-83f3-7a865e3405bc",
   "metadata": {},
   "outputs": [],
   "source": [
    "len(ALL_POSITIONS)"
   ]
  },
  {
   "cell_type": "markdown",
   "id": "3490a0f0-eca4-4c99-987b-64bad99a76cb",
   "metadata": {},
   "source": [
    "This confirms that about one-third of the generated positions were illegal ($\\frac{1991184}{2999808} \\approx 66.4\\%$).\n",
    "\n",
    "Let's look at the proportions of the different outcomes for the scores:"
   ]
  },
  {
   "cell_type": "code",
   "execution_count": null,
   "id": "2aaf38e2-db28-4fd6-9fd3-5cd33e377ebb",
   "metadata": {},
   "outputs": [],
   "source": [
    "print(\"Wins:\", round((ALL_SCORES.count(1) / len(ALL_SCORES)) * 100, 2), \"%\")\n",
    "print(\"Draws:\", round((ALL_SCORES.count(0) / len(ALL_SCORES)) * 100, 2), \"%\")\n",
    "print(\"Losses:\", round((ALL_SCORES.count(-1) / len(ALL_SCORES)) * 100, 2), \"%\")"
   ]
  },
  {
   "cell_type": "markdown",
   "id": "4d4ac65c-fb0d-4162-b227-64df4a69c152",
   "metadata": {},
   "source": [
    "Looks like each outcome is almost exactly one-third of the entire data set. \n",
    "\n",
    "Now we can set up the CNN model:"
   ]
  },
  {
   "cell_type": "code",
   "execution_count": null,
   "id": "8f64c605-9540-4193-9a54-f95247d24c44",
   "metadata": {},
   "outputs": [],
   "source": [
    "import tensorflow as tf\n",
    "from sklearn.datasets import load_sample_images\n",
    "from functools import partial\n",
    "\n",
    "tf.compat.v1.enable_eager_execution()\n",
    "\n",
    "tf.random.set_seed(42)\n",
    "DefaultConv2D = partial(tf.keras.layers.Conv2D, kernel_size=3, padding=\"same\",\n",
    "                        activation=\"relu\", kernel_initializer=\"he_normal\")\n",
    "model = tf.keras.Sequential([\n",
    "    DefaultConv2D(filters=32, input_shape=[8, 8, 2]),\n",
    "    DefaultConv2D(filters=64),\n",
    "    DefaultConv2D(filters=128),\n",
    "    DefaultConv2D(filters=128, name=\"extract\"),\n",
    "    tf.keras.layers.Flatten(),\n",
    "    tf.keras.layers.Dense(units=64, activation=\"relu\",\n",
    "                          kernel_initializer=\"he_normal\"),\n",
    "    tf.keras.layers.Dropout(0.5),\n",
    "    tf.keras.layers.Dense(units=32, activation=\"relu\",\n",
    "                          kernel_initializer=\"he_normal\"),\n",
    "    tf.keras.layers.Dropout(0.5),\n",
    "    tf.keras.layers.Dense(units=16, activation=\"relu\",\n",
    "                          kernel_initializer=\"he_normal\"),\n",
    "    tf.keras.layers.Dropout(0.5),\n",
    "    tf.keras.layers.Dense(units=3, activation=\"softmax\")\n",
    "])\n",
    "model.summary()"
   ]
  },
  {
   "cell_type": "markdown",
   "id": "df6fb2a7-c8a7-47b8-ae90-f8deee57950c",
   "metadata": {},
   "source": [
    "This creates the training set. You can change the training size if you want to train on a smaller number of samples."
   ]
  },
  {
   "cell_type": "code",
   "execution_count": null,
   "id": "b66a8bbd-2504-4e13-8ce2-609f76d36f00",
   "metadata": {},
   "outputs": [],
   "source": [
    "training_size = len(ALL_POSITIONS)\n",
    "X_train = np.asarray(ALL_POSITIONS)\n",
    "X_train = X_train[0:training_size - 1]\n",
    "X_train = np.reshape(X_train, (training_size - 1, 8, 8, 2))\n",
    "y_train = np.asarray(ALL_SCORES)\n",
    "y_train = y_train[0:training_size - 1] + 1"
   ]
  },
  {
   "cell_type": "markdown",
   "id": "46dce197-6676-467c-9ff2-e25021322be8",
   "metadata": {},
   "source": [
    "Time to train the model."
   ]
  },
  {
   "cell_type": "code",
   "execution_count": null,
   "id": "e65665fd-9bb0-4953-9bbc-f9531e154135",
   "metadata": {},
   "outputs": [],
   "source": [
    "model.compile(loss=\"sparse_categorical_crossentropy\", optimizer=\"nadam\",\n",
    "              metrics=[\"accuracy\"])\n",
    "model.fit(X_train, y_train, epochs=1)"
   ]
  },
  {
   "cell_type": "markdown",
   "id": "17ba122e-f8a6-43d9-8ad3-166d88a504e2",
   "metadata": {},
   "source": [
    "This is the function that creates the grad-CAM."
   ]
  },
  {
   "cell_type": "code",
   "execution_count": null,
   "id": "d65bf621-9ba5-4988-a776-08d11a6de1e9",
   "metadata": {},
   "outputs": [],
   "source": [
    "def make_gradcam_heatmap(img_array, model, last_conv_layer_name, pred_index=None):\n",
    "    \n",
    "    grad_model = keras.models.Model(\n",
    "        model.inputs, [model.get_layer(last_conv_layer_name).output, model.output]\n",
    "    )\n",
    "\n",
    "    with tf.GradientTape() as tape:\n",
    "        last_conv_layer_output, preds = grad_model(img_array)\n",
    "        if pred_index is None:\n",
    "            pred_index = tf.argmax(preds[0])\n",
    "        class_channel = preds[:, pred_index]\n",
    "\n",
    "    grads = tape.gradient(class_channel, last_conv_layer_output)\n",
    "\n",
    "    pooled_grads = tf.reduce_mean(grads, axis=(0, 1, 2))\n",
    "\n",
    "    last_conv_layer_output = last_conv_layer_output[0]\n",
    "    heatmap = last_conv_layer_output @ pooled_grads[..., tf.newaxis]\n",
    "    heatmap = tf.squeeze(heatmap)\n",
    "\n",
    "    heatmap = tf.maximum(heatmap, 0) / tf.math.reduce_max(heatmap)\n",
    "    return heatmap.numpy()"
   ]
  },
  {
   "cell_type": "markdown",
   "id": "e54b3903-c786-4420-bb2d-ef3585d104d2",
   "metadata": {},
   "source": [
    "Finally, results can be displayed. This gets a random board position and converts it back from matrices into actual piece locations to use with the `python-chess` package. The CNN's guess of the score is displayed along with the correct score, and the position is displayed along with the Grad-CAM heatmap. Lastly, the training sample index is displayed for replication if need be."
   ]
  },
  {
   "cell_type": "code",
   "execution_count": null,
   "id": "6ffd2207-de27-4d5f-bd5b-cdd1fa41f0b8",
   "metadata": {},
   "outputs": [],
   "source": [
    "from IPython.display import display\n",
    "import matplotlib.pyplot as plt\n",
    "from PIL import Image\n",
    "import keras\n",
    "import random\n",
    "\n",
    "# Used in paper:\n",
    "# Wins: 911089, 400, 1421333\n",
    "# Draws: 776634, 778901, 1651605\n",
    "# Losses: 886, 766891, 1697761\n",
    "num_heatmap = random.randrange(0, training_size - 1)\n",
    "\n",
    "x = np.expand_dims(X_train[num_heatmap], axis=0)\n",
    "preprocess_input = keras.applications.xception.preprocess_input\n",
    "heatmap = make_gradcam_heatmap(x, model, \"extract\")\n",
    "\n",
    "board = chess.Board(\"8/4k3/8/4K3/5P2/8/8/8 w - - 0 1\")\n",
    "board.clear()\n",
    "\n",
    "pawnIndex = -1\n",
    "pawnColor = True\n",
    "for (i, row) in enumerate(ALL_POSITIONS[num_heatmap][0]):\n",
    "    trueIndex = 64 - (i * 8) - 1\n",
    "    for (j, element) in enumerate(row):\n",
    "        if element == 1:\n",
    "            pawnIndex = trueIndex - (7 - j)\n",
    "            break\n",
    "        elif element == -1:\n",
    "            pawnIndex = trueIndex - (7 - j)\n",
    "            pawnColor = False\n",
    "            break\n",
    "            \n",
    "whiteKingIndex = -1\n",
    "blackKingIndex = -1\n",
    "for (i, row) in enumerate(ALL_POSITIONS[num_heatmap][1]):\n",
    "    trueIndex = 64 - (i * 8) - 1\n",
    "    for (j, element) in enumerate(row):\n",
    "        if element == 1:\n",
    "            whiteKingIndex = trueIndex - (7 - j)\n",
    "        elif element == -1:\n",
    "            blackKingIndex = trueIndex - (7 - j)\n",
    "            \n",
    "board.set_piece_at(pawnIndex, chess.Piece(1, pawnColor))\n",
    "board.set_piece_at(whiteKingIndex, chess.Piece(6, True))\n",
    "board.set_piece_at(blackKingIndex, chess.Piece(6, False))\n",
    "boardImage = chess.svg.board(board, size=395)\n",
    "display(boardImage)\n",
    "\n",
    "plt.matshow(heatmap)\n",
    "plt.axis('off')\n",
    "plt.show()\n",
    "\n",
    "y_pred = model.predict(np.array([X_train[num_heatmap]]))[0]\n",
    "new_y_pred = y_pred.copy()\n",
    "\n",
    "for i in range(0, 3):\n",
    "     new_y_pred[i] = int(y_pred[i] / np.max(y_pred))\n",
    "        \n",
    "final_y_pred = [0] * len(y_pred)\n",
    "if new_y_pred[0] == 1:\n",
    "    final_y_pred = -1\n",
    "elif new_y_pred[1] == 1:\n",
    "    final_y_pred = 0\n",
    "else:\n",
    "    final_y_pred = 1\n",
    "        \n",
    "print(\"GUESS:\", final_y_pred)\n",
    "print(\"CORRECT:\", ALL_SCORES[num_heatmap])\n",
    "print(num_heatmap)"
   ]
  }
 ],
 "metadata": {
  "kernelspec": {
   "display_name": "Python 3 (ipykernel)",
   "language": "python",
   "name": "python3"
  },
  "language_info": {
   "codemirror_mode": {
    "name": "ipython",
    "version": 3
   },
   "file_extension": ".py",
   "mimetype": "text/x-python",
   "name": "python",
   "nbconvert_exporter": "python",
   "pygments_lexer": "ipython3",
   "version": "3.11.5"
  }
 },
 "nbformat": 4,
 "nbformat_minor": 5
}
