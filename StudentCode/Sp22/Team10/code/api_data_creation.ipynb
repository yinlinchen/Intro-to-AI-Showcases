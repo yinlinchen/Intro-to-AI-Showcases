{
 "cells": [
  {
   "cell_type": "code",
   "execution_count": 1,
   "id": "2ac555c1-1988-429e-82f0-211e5252e171",
   "metadata": {},
   "outputs": [],
   "source": [
    "import requests\n",
    "import json\n",
    "import time\n",
    "import numpy as np\n",
    "import pandas as pd\n",
    "from statistics import mean\n",
    "from sklearn import preprocessing, impute\n",
    "from collections import Counter"
   ]
  },
  {
   "cell_type": "code",
   "execution_count": 2,
   "id": "dbcc90af-4613-44cd-bf16-dec122632475",
   "metadata": {},
   "outputs": [],
   "source": [
    "api_url = \"https://api.opendota.com/api\""
   ]
  },
  {
   "cell_type": "code",
   "execution_count": 3,
   "id": "113bf9a3-6e74-4776-8f1c-1f9f1d8075ec",
   "metadata": {},
   "outputs": [],
   "source": [
    "rate_limit = {'count' : 0,\n",
    "            'curr_time' : time.time(),\n",
    "             'total_cnt': 0}"
   ]
  },
  {
   "cell_type": "code",
   "execution_count": 4,
   "id": "b6ff2f84-c25f-4c38-9092-069a0e4d7fbe",
   "metadata": {},
   "outputs": [],
   "source": [
    "def get_request(url_extensiton, rate_limit, params={}):\n",
    "    #Ensure rate limit of 60 calls/min is not exceeded\n",
    "    if rate_limit['count'] == 60:\n",
    "        rate_limit['count'] = 0\n",
    "        time_elapsed = time.time() - rate_limit['curr_time']\n",
    "        if time_elapsed < 60:\n",
    "            time.sleep(62 - time_elapsed)\n",
    "        rate_limit['curr_time'] = time.time()\n",
    "    \n",
    "    rate_limit['count'] += 1   \n",
    "    rate_limit['total_cnt'] += 1\n",
    "    if rate_limit['total_cnt'] == 50000:\n",
    "        print('monthly limit reached')\n",
    "    \n",
    "    # make get request\n",
    "    response = requests.get(api_url + url_extensiton, params=params)\n",
    "    if response.status_code != 200:\n",
    "        # if response.status_code == 429:\n",
    "        #     print(response.text)\n",
    "        return {'response_code': response.status_code,\n",
    "               'error': response.text}\n",
    "    else:\n",
    "        json_response = json.loads(response.text)\n",
    "        return {'response_code': 200,\n",
    "                'body': json_response}"
   ]
  },
  {
   "cell_type": "code",
   "execution_count": 5,
   "id": "71cb08c0-ebb6-42e8-b640-c3ed030022c4",
   "metadata": {},
   "outputs": [
    {
     "data": {
      "text/plain": [
       "122"
      ]
     },
     "execution_count": 5,
     "metadata": {},
     "output_type": "execute_result"
    }
   ],
   "source": [
    "# Retrieve all hero names\n",
    "heroes_json = get_request('/heroes', rate_limit)\n",
    "\n",
    "heroes = dict()\n",
    "for hero in heroes_json['body']:\n",
    "    heroes[hero['id']] = hero['localized_name']\n",
    "    \n",
    "len(heroes)"
   ]
  },
  {
   "cell_type": "markdown",
   "id": "f435644b-89b6-49b5-8023-afc9300ac22a",
   "metadata": {
    "tags": []
   },
   "source": [
    "## Large Instances and Small dimensionality"
   ]
  },
  {
   "cell_type": "markdown",
   "id": "2a191e32-9a31-4f79-85af-55774f5c3432",
   "metadata": {},
   "source": [
    "### Build the dataset with API SQL query"
   ]
  },
  {
   "cell_type": "markdown",
   "id": "1b0e1c3c-6079-412b-a7f7-7bac7de7f6e6",
   "metadata": {},
   "source": [
    "#### Create single SQL Query"
   ]
  },
  {
   "cell_type": "code",
   "execution_count": 30,
   "id": "d347eb73-8d3e-4c1d-a9ba-9a6008f2b2fb",
   "metadata": {},
   "outputs": [],
   "source": [
    "# Function that makes the full SQL query to the DOTA2 API\n",
    "def sql_query(match_id=None):\n",
    "    \n",
    "    # Define full query\n",
    "    query = \"\"\"\n",
    "    SELECT\n",
    "\n",
    "    matches.match_id,\n",
    "    matches.radiant_team_id,\n",
    "    matches.dire_team_id,\n",
    "    matches.game_mode,\n",
    "    matches.cluster,\n",
    "    matches.lobby_type,\n",
    "    matches.radiant_win,\n",
    "    dire_team.her_o_ids as dire_heros,\n",
    "    radiant_team.her_o_ids as radiant_heros,\n",
    "    leagues.tier,\n",
    "    tr1.rating as dire_rating,\n",
    "    tr1.wins as dire_wins,\n",
    "    tr1.losses as dire_losses,\n",
    "    tr2.rating as radiant_rating,\n",
    "    tr2.wins as radiant_wins,\n",
    "    tr2.losses as radiant_losses\n",
    "    FROM matches\n",
    "    JOIN (SELECT match_id, string_agg(pl.hero_id::text, ',') as her_o_ids FROM player_matches as pl where player_slot < 5 group by match_id) as dire_team using (match_id)\n",
    "    JOIN (SELECT match_id, string_agg(pl.hero_id::text, ',') as her_o_ids FROM player_matches as pl where player_slot > 5 group by match_id) as radiant_team using (match_id)\n",
    "    JOIN leagues using(leagueid)\n",
    "    JOIN team_rating as tr1 ON tr1.team_id = matches.dire_team_id\n",
    "    JOIN team_rating as tr2 ON tr2.team_id = matches.radiant_team_id\n",
    "    WHERE matches.human_players = 10\n",
    "    AND matches.radiant_team_id IS NOT NULL\n",
    "    AND matches.dire_team_id IS NOT NULL\n",
    "    %s\n",
    "    ORDER BY matches.match_id DESC\n",
    "    LIMIT 20000;\n",
    "    \"\"\" % (\"AND matches.match_id < {}\".format(match_id) if match_id else \"\")\n",
    "\n",
    "    # Request data matching query\n",
    "    response = get_request('/explorer', rate_limit, {'sql':query})\n",
    "\n",
    "    #ensure error is not returned\n",
    "    if response['response_code'] == 200:\n",
    "        df = pd.DataFrame(response['body']['rows'])\n",
    "    else:\n",
    "        df = None\n",
    "        print(\"{} {}\".format(response['response_code'], response['error']))\n",
    "\n",
    "    return df"
   ]
  },
  {
   "cell_type": "markdown",
   "id": "2bacb39b-5161-4f38-b25b-8c594da5f398",
   "metadata": {
    "tags": []
   },
   "source": [
    "#### Fetch all possible matches that fits the query"
   ]
  },
  {
   "cell_type": "markdown",
   "id": "b42a7954-b0ed-4b5d-a7df-2411cc137c05",
   "metadata": {},
   "source": [
    "THIS CODE MAY NEED TO BE RUN A COUPLE TIMES FOR IT TO WORK. (API is glitchy)"
   ]
  },
  {
   "cell_type": "code",
   "execution_count": 62,
   "id": "4d8fa4cf-b043-4384-80f4-0d9bde07b7b9",
   "metadata": {},
   "outputs": [
    {
     "name": "stdout",
     "output_type": "stream",
     "text": [
      "(20000, 16)\n",
      "5627655668\n",
      "(20000, 16)\n",
      "5068880258\n",
      "(20000, 16)\n",
      "3604296148\n",
      "(20000, 16)\n",
      "1943364461\n",
      "(20000, 16)\n",
      "357589264\n",
      "(4945, 16)\n",
      "19150047\n"
     ]
    },
    {
     "data": {
      "text/plain": [
       "(104945, 16)"
      ]
     },
     "execution_count": 62,
     "metadata": {},
     "output_type": "execute_result"
    }
   ],
   "source": [
    "# All instances cannot be retrieved at once, so it is done in batches of 20k\n",
    "\n",
    "# storage df\n",
    "df = pd.DataFrame()\n",
    "\n",
    "# Last ID that's retrieved\n",
    "min_id = None\n",
    "\n",
    "# Keep fetching until the maximum available matches have been found\n",
    "while True:\n",
    "    # Get a batch of matches\n",
    "    query_df = sql_query(min_id)\n",
    "    print(query_df.shape)\n",
    "    \n",
    "    #store the min match_id so next batch can be retrieve\n",
    "    min_id = min(query_df['match_id'])\n",
    "    print(min_id)\n",
    "    \n",
    "    # add batch to storage\n",
    "    df = pd.concat([df, query_df], ignore_index=False)\n",
    "    \n",
    "    if df.shape[0] > 103000: #manually found the max number of matches avialable\n",
    "        break\n",
    "\n",
    "df.shape"
   ]
  },
  {
   "cell_type": "code",
   "execution_count": 63,
   "id": "83e384ae-d4bc-465d-a6b7-9ac8697b2e72",
   "metadata": {},
   "outputs": [],
   "source": [
    "## Switch dire and radiant data to double the dataset\n",
    "df_inv = df.copy()\n",
    "df_inv['radiant_win'] = ~df_inv['radiant_win']\n",
    "    \n",
    "# Flip all columns with dire and radiant directly in them\n",
    "flip = ['heros', 'rating', 'wins', 'losses']\n",
    "dire_flip = ['dire_' + i for i in flip]\n",
    "radiant_flip = ['radiant_' + i for i in flip]\n",
    "\n",
    "df_inv[radiant_flip] = df[dire_flip]\n",
    "df_inv[dire_flip] = df[radiant_flip]\n",
    "\n",
    "# add the duplicated instances to the original df\n",
    "df = pd.concat([df, df_inv], ignore_index=True)\n"
   ]
  },
  {
   "cell_type": "markdown",
   "id": "1a9b5004-375f-45b2-afd1-ce5c3b493583",
   "metadata": {},
   "source": [
    "### Preprocess Dataset"
   ]
  },
  {
   "cell_type": "code",
   "execution_count": 64,
   "id": "b31c4f89-f9b9-4428-a08a-8622b8f7f45a",
   "metadata": {},
   "outputs": [],
   "source": [
    "#Apply one hot encoding to clusters and game_mode, as they are arbritary numbers relating to region\n",
    "le = preprocessing.LabelEncoder()\n",
    "df['tier'] = le.fit_transform(df['tier'])\n",
    "\n",
    "enc = preprocessing.OneHotEncoder()\n",
    "for column in ['cluster', 'game_mode', 'tier']:\n",
    "    encoded = enc.fit_transform(np.array(df[column]).reshape(-1,1))\n",
    "    encoded_names = [column + '_' + str(i) for i in range(len(encoded.toarray()[0]))]\n",
    "    df.loc[:, encoded_names] = encoded.toarray()"
   ]
  },
  {
   "cell_type": "code",
   "execution_count": 65,
   "id": "6d437fb7-04fe-4c81-a1af-a90cd5b3d32d",
   "metadata": {},
   "outputs": [],
   "source": [
    "dfe = df.copy()"
   ]
  },
  {
   "cell_type": "markdown",
   "id": "e8cf272a-b906-4c96-984a-2f656fd26178",
   "metadata": {},
   "source": [
    "#### Create dataset with one-hot encoding on heroes (dire and radiant separately)"
   ]
  },
  {
   "cell_type": "code",
   "execution_count": 66,
   "id": "670f412d-f22b-4537-a3d1-547edf18b88a",
   "metadata": {},
   "outputs": [
    {
     "name": "stderr",
     "output_type": "stream",
     "text": [
      "c:\\users\\suchi\\appdata\\local\\programs\\python\\python38\\lib\\site-packages\\pandas\\core\\frame.py:3678: PerformanceWarning: DataFrame is highly fragmented.  This is usually the result of calling `frame.insert` many times, which has poor performance.  Consider joining all columns at once using pd.concat(axis=1) instead.  To get a de-fragmented frame, use `newframe = frame.copy()`\n",
      "  self[col] = igetitem(value, i)\n"
     ]
    }
   ],
   "source": [
    "# Add one-hot encoding to heros, such that 121 heroes for both dire and radiant\n",
    "names = ['dire_{}'.format(str(i)) for i in heroes.values()]\n",
    "df[names] = [[1 if str(i) in j.split(',') else 0 for i in heroes.keys()] for j in df['dire_heros']]\n",
    "\n",
    "names = ['radiant_{}'.format(str(i)) for i in heroes.values()]\n",
    "df[names] = [[1 if str(i) in j.split(',') else 0 for i in heroes.keys()] for j in df['radiant_heros']]"
   ]
  },
  {
   "cell_type": "code",
   "execution_count": 67,
   "id": "5e4f1302-269d-458d-9692-eac18bd12931",
   "metadata": {},
   "outputs": [],
   "source": [
    "# Store the relevant columns\n",
    "skip = ['match_id', 'radiant_team_id', 'dire_team_id', 'dire_heros', 'radiant_heros', 'cluster', 'game_mode', 'tier']\n",
    "columns = [i for i in df.columns if i not in skip]\n",
    "df[columns].to_csv(\"../data/dota2_matches_large_encoded.csv\", index=False)"
   ]
  },
  {
   "cell_type": "code",
   "execution_count": 68,
   "id": "69afbcc2-ce20-4fd5-95e4-0e0ef1ca80ff",
   "metadata": {},
   "outputs": [
    {
     "data": {
      "text/plain": [
       "(209890, 326)"
      ]
     },
     "execution_count": 68,
     "metadata": {},
     "output_type": "execute_result"
    }
   ],
   "source": [
    "df[columns].shape"
   ]
  },
  {
   "cell_type": "markdown",
   "id": "e82005be-642e-47cc-84f2-9c747cb4697f",
   "metadata": {},
   "source": [
    "#### Create dataset without encoding"
   ]
  },
  {
   "cell_type": "code",
   "execution_count": 69,
   "id": "7cb58e1d-2b0f-43e3-bb42-a4ea4166d2d0",
   "metadata": {},
   "outputs": [],
   "source": [
    "df = dfe.copy()"
   ]
  },
  {
   "cell_type": "code",
   "execution_count": 70,
   "id": "39e2908b-5b9b-4d9e-aa59-0831f37054b3",
   "metadata": {},
   "outputs": [],
   "source": [
    "# Function to determine whether hero is chosen by a player in either team\n",
    "def hero_exists(hero, dires, radiants):\n",
    "    if hero in dires:\n",
    "        return 1\n",
    "    elif hero in radiants:\n",
    "        return 2\n",
    "    else:\n",
    "        return 0"
   ]
  },
  {
   "cell_type": "code",
   "execution_count": 71,
   "id": "91a395b7-64e2-41c0-9624-d07c95580ccb",
   "metadata": {},
   "outputs": [],
   "source": [
    "# Create all hero choice columns\n",
    "df[list(heroes.values())] = [[hero_exists(str(i), d, r) for i in heroes.keys()] for d, r in zip(df['dire_heros'], df['radiant_heros'])]"
   ]
  },
  {
   "cell_type": "code",
   "execution_count": 72,
   "id": "a59a0821-f3ff-4ea4-8036-242d8a6fd459",
   "metadata": {},
   "outputs": [],
   "source": [
    "# Store all the relevant features\n",
    "skip = ['match_id', 'radiant_team_id', 'dire_team_id', 'dire_heros', 'radiant_heros', 'cluster', 'game_mode', 'tier']\n",
    "columns = [i for i in df.columns if i not in skip]\n",
    "df[columns].to_csv(\"../data/dota2_matches_large.csv\", index=False)"
   ]
  },
  {
   "cell_type": "code",
   "execution_count": 73,
   "id": "61e51bf1-1629-46be-9975-fe84649cc91c",
   "metadata": {},
   "outputs": [
    {
     "data": {
      "text/plain": [
       "(209890, 204)"
      ]
     },
     "execution_count": 73,
     "metadata": {},
     "output_type": "execute_result"
    }
   ],
   "source": [
    "df[columns].shape"
   ]
  }
 ],
 "metadata": {
  "kernelspec": {
   "display_name": "Python 3 (ipykernel)",
   "language": "python",
   "name": "python3"
  },
  "language_info": {
   "codemirror_mode": {
    "name": "ipython",
    "version": 3
   },
   "file_extension": ".py",
   "mimetype": "text/x-python",
   "name": "python",
   "nbconvert_exporter": "python",
   "pygments_lexer": "ipython3",
   "version": "3.8.8"
  }
 },
 "nbformat": 4,
 "nbformat_minor": 5
}
